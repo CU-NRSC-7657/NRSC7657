{
 "cells": [
  {
   "cell_type": "markdown",
   "id": "d9f636a5-d283-4cf1-b978-2287025f4660",
   "metadata": {},
   "source": [
    "# Debugging\n",
    "### in a notebook\n",
    "##### mostly using `print()`\n",
    "25 June 2021<br>\n",
    "NRSC 7657<br>\n",
    "Daniel J Denman and John Thompson<br>\n",
    "University of Colorado Anschutz<br>\n",
    "<br>"
   ]
  },
  {
   "cell_type": "markdown",
   "id": "8c2ab2b9-eba8-4a9d-aa56-eef82002cc9c",
   "metadata": {},
   "source": [
    "## A syntax error:"
   ]
  },
  {
   "cell_type": "code",
   "execution_count": null,
   "id": "5113dbad-3563-408f-b6c4-2bf399b3c261",
   "metadata": {},
   "outputs": [],
   "source": [
    "a = 2\n",
    "print(2 + a)\n",
    "b = a + c"
   ]
  },
  {
   "cell_type": "code",
   "execution_count": null,
   "id": "62392850-ddfa-4cb4-9b7d-0290ff438f75",
   "metadata": {},
   "outputs": [],
   "source": []
  },
  {
   "cell_type": "markdown",
   "id": "63ad0245-4b03-44f1-8e07-d7ff9bc81a8e",
   "metadata": {},
   "source": [
    "`c` was never defined, so this is a simple one to fix:"
   ]
  },
  {
   "cell_type": "code",
   "execution_count": 2,
   "id": "1ee15147-f957-44cb-96ca-e79520705d20",
   "metadata": {},
   "outputs": [
    {
     "name": "stdout",
     "output_type": "stream",
     "text": [
      "4\n"
     ]
    }
   ],
   "source": [
    "a = 2\n",
    "c = 2\n",
    "print(2 + a)\n",
    "b = a + c"
   ]
  },
  {
   "cell_type": "code",
   "execution_count": 3,
   "id": "1bdbad1e-ffb9-4e3c-8850-e34bdb0399bc",
   "metadata": {},
   "outputs": [
    {
     "name": "stdout",
     "output_type": "stream",
     "text": [
      "4\n"
     ]
    }
   ],
   "source": [
    "print(b)"
   ]
  },
  {
   "cell_type": "markdown",
   "id": "74a26df1-9991-4f56-a985-80f9d07652a7",
   "metadata": {},
   "source": [
    "## Another syntax error:"
   ]
  },
  {
   "cell_type": "code",
   "execution_count": 4,
   "id": "6748ca38-f841-46c0-8e97-b1956346528f",
   "metadata": {},
   "outputs": [
    {
     "name": "stdout",
     "output_type": "stream",
     "text": [
      "4\n"
     ]
    },
    {
     "ename": "TypeError",
     "evalue": "unsupported operand type(s) for +: 'int' and 'str'",
     "output_type": "error",
     "traceback": [
      "\u001b[0;31m---------------------------------------------------------------------------\u001b[0m",
      "\u001b[0;31mTypeError\u001b[0m                                 Traceback (most recent call last)",
      "\u001b[0;32m<ipython-input-4-8828ef8b3799>\u001b[0m in \u001b[0;36m<module>\u001b[0;34m\u001b[0m\n\u001b[1;32m      2\u001b[0m \u001b[0mc\u001b[0m\u001b[0;34m=\u001b[0m \u001b[0;34m'2'\u001b[0m\u001b[0;34m\u001b[0m\u001b[0;34m\u001b[0m\u001b[0m\n\u001b[1;32m      3\u001b[0m \u001b[0mprint\u001b[0m\u001b[0;34m(\u001b[0m\u001b[0;36m2\u001b[0m \u001b[0;34m+\u001b[0m \u001b[0ma\u001b[0m\u001b[0;34m)\u001b[0m\u001b[0;34m\u001b[0m\u001b[0;34m\u001b[0m\u001b[0m\n\u001b[0;32m----> 4\u001b[0;31m \u001b[0mb\u001b[0m \u001b[0;34m=\u001b[0m \u001b[0ma\u001b[0m \u001b[0;34m+\u001b[0m \u001b[0mc\u001b[0m\u001b[0;34m\u001b[0m\u001b[0;34m\u001b[0m\u001b[0m\n\u001b[0m",
      "\u001b[0;31mTypeError\u001b[0m: unsupported operand type(s) for +: 'int' and 'str'"
     ]
    }
   ],
   "source": [
    "a = 2\n",
    "c= '2'\n",
    "print(2 + a)\n",
    "b = a + c"
   ]
  },
  {
   "cell_type": "code",
   "execution_count": 1,
   "id": "c8a811e7-a39d-4ed5-84b1-435d8a8b87ff",
   "metadata": {},
   "outputs": [],
   "source": [
    "import numpy as np"
   ]
  },
  {
   "cell_type": "code",
   "execution_count": 6,
   "id": "c43f33b6-484e-407b-abf8-0d5d766e53e6",
   "metadata": {},
   "outputs": [],
   "source": [
    "data = np.array([1,2,3,6,9,18,36,72])\n",
    "diffs = np.diff(data)"
   ]
  },
  {
   "cell_type": "code",
   "execution_count": 7,
   "id": "7724dff4-5186-4b6e-aa42-47ef8b1287db",
   "metadata": {},
   "outputs": [
    {
     "data": {
      "text/plain": [
       "array([ 1,  1,  3,  3,  9, 18, 36])"
      ]
     },
     "execution_count": 7,
     "metadata": {},
     "output_type": "execute_result"
    }
   ],
   "source": [
    "diffs"
   ]
  },
  {
   "cell_type": "markdown",
   "id": "72767e24-918a-47e9-ae98-e131926e3d8f",
   "metadata": {},
   "source": [
    "## A semantic error\n",
    "let's say we have these variables `a` and `b`"
   ]
  },
  {
   "cell_type": "code",
   "execution_count": 8,
   "id": "2253387a-96ac-4857-a034-f19dd71b42b9",
   "metadata": {},
   "outputs": [
    {
     "name": "stdout",
     "output_type": "stream",
     "text": [
      "2\n",
      "4\n"
     ]
    }
   ],
   "source": [
    "print(a)\n",
    "print(b)"
   ]
  },
  {
   "cell_type": "markdown",
   "id": "f2d8fe5b-b026-4a56-9726-ee80679ae868",
   "metadata": {},
   "source": [
    "let's also say, for the sake of explanation, we have this function:"
   ]
  },
  {
   "cell_type": "code",
   "execution_count": 9,
   "id": "a9d2513d-d9b8-401a-bea2-403f97767779",
   "metadata": {},
   "outputs": [],
   "source": [
    "def plus(a,b):\n",
    "    return np.sqrt(a**2+b**2)"
   ]
  },
  {
   "cell_type": "markdown",
   "id": "c0c31da1-da37-499d-a8d0-9131cc112522",
   "metadata": {},
   "source": [
    "if we are chugging along, and we use `plus` to add `a` and `b` together, we might go on thinkng that we have `6` when we do that. "
   ]
  },
  {
   "cell_type": "code",
   "execution_count": 10,
   "id": "b8b5dea5-45a9-4749-9f4d-cd1a90ffe8eb",
   "metadata": {},
   "outputs": [],
   "source": [
    "arr = np.array([6,6,7,8,9,6,4])\n",
    "added = plus(a,b)\n",
    "zeroed = arr - added"
   ]
  },
  {
   "cell_type": "code",
   "execution_count": 11,
   "id": "4491c944-ad47-47ae-9826-f4ed85d3f71f",
   "metadata": {},
   "outputs": [
    {
     "name": "stdout",
     "output_type": "stream",
     "text": [
      "[ 1.52786405  1.52786405  2.52786405  3.52786405  4.52786405  1.52786405\n",
      " -0.47213595]\n"
     ]
    }
   ],
   "source": [
    "print(zeroed)"
   ]
  },
  {
   "cell_type": "markdown",
   "id": "bd6ea62a-0093-4938-acc1-9a2ab3f8c07d",
   "metadata": {},
   "source": [
    "of course, we don't have `added = 6`. to figure out why our outputs aren't working, let's `print()`"
   ]
  },
  {
   "cell_type": "code",
   "execution_count": 12,
   "id": "64aa706b-977f-4e26-9915-9784c819c5bc",
   "metadata": {},
   "outputs": [
    {
     "name": "stdout",
     "output_type": "stream",
     "text": [
      "[6 6 7 8 9 6 4]\n"
     ]
    }
   ],
   "source": [
    "print(arr)"
   ]
  },
  {
   "cell_type": "code",
   "execution_count": 13,
   "id": "8a5ffe28-fcda-4950-8217-46c5c18041ba",
   "metadata": {},
   "outputs": [
    {
     "data": {
      "text/plain": [
       "4.47213595499958"
      ]
     },
     "execution_count": 13,
     "metadata": {},
     "output_type": "execute_result"
    }
   ],
   "source": [
    "added"
   ]
  },
  {
   "cell_type": "markdown",
   "id": "124c2d5e-959c-4774-8c8a-52e1af1c0824",
   "metadata": {},
   "source": [
    "## one of my favorite parts about jupyter: \n",
    "the ephemeral `print()` without `print()`"
   ]
  },
  {
   "cell_type": "code",
   "execution_count": 2,
   "id": "f512a615-ef7c-474e-8582-436a1f453926",
   "metadata": {},
   "outputs": [],
   "source": [
    "import numpy as np"
   ]
  },
  {
   "cell_type": "code",
   "execution_count": 3,
   "id": "17a99372-33f2-4fc1-af8f-cb0c9b3736ca",
   "metadata": {},
   "outputs": [],
   "source": [
    "data = np.array([0,1,2,3,6,9,12,24,48,96])\n",
    "diffs = np.diff(data)\n",
    "s = np.sum(data)\n",
    "csum = np.cumsum(data)"
   ]
  },
  {
   "cell_type": "code",
   "execution_count": null,
   "id": "3642a71b-19f7-4ca3-8408-34b072b790d5",
   "metadata": {},
   "outputs": [],
   "source": []
  },
  {
   "cell_type": "code",
   "execution_count": null,
   "id": "7c64c290-e276-4b38-8460-fca27f710b32",
   "metadata": {},
   "outputs": [],
   "source": [
    "diffs+s"
   ]
  },
  {
   "cell_type": "code",
   "execution_count": null,
   "id": "d16a1377-d922-43d8-b81d-70ddb0bc3715",
   "metadata": {},
   "outputs": [],
   "source": [
    "diffs + csum"
   ]
  },
  {
   "cell_type": "code",
   "execution_count": null,
   "id": "3a1e9944-3f8d-4831-a7db-1edd1cda153a",
   "metadata": {
    "jupyter": {
     "source_hidden": true
    },
    "tags": []
   },
   "outputs": [],
   "source": [
    "diffs + csum[:-1]"
   ]
  },
  {
   "cell_type": "markdown",
   "id": "19855b55-44d9-494a-93d6-86b65dcb6847",
   "metadata": {},
   "source": [
    "i consider this a form of semantic debugging. in some cases this is true semantic debugging - why is the output not what i expected? in other cases, like what we did with `diff` it is like \"preventative debugging\" - making sure you understand the outputs and the state of your notebook (i.e., the state of your namespace) as you go. <br>\n",
    "<br>\n",
    "and then it can just..._be gone_. and you (or anyone else) don't have to see you how you've checked your work as you flowed through."
   ]
  },
  {
   "cell_type": "code",
   "execution_count": 7,
   "id": "77d185e2-0870-4756-b913-0159147dc59a",
   "metadata": {},
   "outputs": [],
   "source": [
    "import matplotlib.pyplot as plt\n",
    "%matplotlib inline"
   ]
  },
  {
   "cell_type": "code",
   "execution_count": 8,
   "id": "3d043d9a-ca21-46f0-81d3-c752619fe0f2",
   "metadata": {},
   "outputs": [
    {
     "data": {
      "text/plain": [
       "[<matplotlib.lines.Line2D at 0x7fe2e8298910>]"
      ]
     },
     "execution_count": 8,
     "metadata": {},
     "output_type": "execute_result"
    },
    {
     "data": {
      "image/png": "[encoded data removed]",
      "text/plain": [
       "<Figure size 432x288 with 1 Axes>"
      ]
     },
     "metadata": {
      "needs_background": "light"
     },
     "output_type": "display_data"
    }
   ],
   "source": [
    "plt.plot(diffs)"
   ]
  },
  {
   "cell_type": "markdown",
   "id": "75b5e646-a8c6-4526-9d63-e8ffdd17027d",
   "metadata": {},
   "source": [
    "i consider this use of `matplotlib` a form of semantic debugging. \n",
    "<br>just make sure you put labels on things before you leave the narrative in your head and share your data with another person..."
   ]
  },
  {
   "cell_type": "markdown",
   "id": "498ba41e-c103-4d88-a072-9cd39e72071f",
   "metadata": {},
   "source": [
    "## Python standard debugger"
   ]
  },
  {
   "cell_type": "markdown",
   "id": "eef7018e-e015-4dac-b4c0-80629f0c2e6d",
   "metadata": {},
   "source": [
    "for those who want the line-by-line experience to get out of there head and on to the screen<br>\n",
    "_note: can go through jupyter lab or through finder/File Explorer to get to files_"
   ]
  },
  {
   "cell_type": "code",
   "execution_count": 5,
   "id": "544e8851-57d4-4ad0-ac87-47eed7628f8d",
   "metadata": {},
   "outputs": [],
   "source": [
    "import pdb"
   ]
  },
  {
   "cell_type": "code",
   "execution_count": 9,
   "id": "534b6d78-22c0-4e86-a83f-460c5ca3d732",
   "metadata": {},
   "outputs": [],
   "source": [
    "from djd import stuff as things"
   ]
  },
  {
   "cell_type": "code",
   "execution_count": null,
   "id": "fd20c3a1-8ef3-437c-8255-6d08ca357dd7",
   "metadata": {},
   "outputs": [],
   "source": [
    "t = things.ThingWeMade()"
   ]
  },
  {
   "cell_type": "code",
   "execution_count": null,
   "id": "a22c99ac-6b8b-4659-8d41-6ba78e6962d3",
   "metadata": {},
   "outputs": [],
   "source": [
    "t.fire()"
   ]
  },
  {
   "cell_type": "markdown",
   "id": "ef1d21fe-c2d4-4c5d-be0e-240164c622eb",
   "metadata": {},
   "source": [
    "## Visual debugger\n",
    "https://blog.jupyter.org/a-visual-debugger-for-jupyter-914e61716559"
   ]
  },
  {
   "cell_type": "code",
   "execution_count": null,
   "id": "7047c1d5-d7f9-407a-a567-5abd172f2749",
   "metadata": {},
   "outputs": [
    {
     "name": "stdout",
     "output_type": "stream",
     "text": []
    },
    {
     "name": "stdout",
     "output_type": "stream",
     "text": []
    },
    {
     "name": "stdout",
     "output_type": "stream",
     "text": [
      "Building jupyterlab assets (production, minimized)\n",
      "-"
     ]
    }
   ],
   "source": [
    "!jupyter labextension install @jupyterlab/debugger"
   ]
  },
  {
   "cell_type": "code",
   "execution_count": 49,
   "id": "8a548e96-bf80-4242-aaa8-84e4f87daa36",
   "metadata": {
    "collapsed": true,
    "jupyter": {
     "outputs_hidden": true
    },
    "tags": []
   },
   "outputs": [
    {
     "name": "stdout",
     "output_type": "stream",
     "text": [
      "Collecting package metadata (current_repodata.json): done\n",
      "Solving environment: done\n",
      "\n",
      "\n",
      "==> WARNING: A newer version of conda exists. <==\n",
      "  current version: 4.10.1\n",
      "  latest version: 4.10.3\n",
      "\n",
      "Please update conda by running\n",
      "\n",
      "    $ conda update -n base conda\n",
      "\n",
      "\n",
      "\n",
      "## Package Plan ##\n",
      "\n",
      "  environment location: /Users/danieljdenman/opt/anaconda3/envs/NRSC7657\n",
      "\n",
      "  added / updated specs:\n",
      "    - xeus-python\n",
      "\n",
      "\n",
      "The following packages will be downloaded:\n",
      "\n",
      "    package                    |            build\n",
      "    ---------------------------|-----------------\n",
      "    debugpy-1.3.0              |   py38ha048514_0         1.9 MB  conda-forge\n",
      "    libcxx-11.1.0              |       habf9029_0         1.0 MB  conda-forge\n",
      "    xeus-1.0.3                 |       hf09c4ce_1         641 KB  conda-forge\n",
      "    xeus-python-0.12.5         |   py38haab6f6e_2         669 KB  conda-forge\n",
      "    ------------------------------------------------------------\n",
      "                                           Total:         4.2 MB\n",
      "\n",
      "The following NEW packages will be INSTALLED:\n",
      "\n",
      "  debugpy            conda-forge/osx-64::debugpy-1.3.0-py38ha048514_0\n",
      "  python_abi         conda-forge/osx-64::python_abi-3.8-2_cp38\n",
      "  xeus               conda-forge/osx-64::xeus-1.0.3-hf09c4ce_1\n",
      "  xeus-python        conda-forge/osx-64::xeus-python-0.12.5-py38haab6f6e_2\n",
      "\n",
      "The following packages will be UPDATED:\n",
      "\n",
      "  ca-certificates    pkgs/main::ca-certificates-2021.5.25-~ --> conda-forge::ca-certificates-2021.5.30-h033912b_0\n",
      "  libcxx                         pkgs/main::libcxx-10.0.0-1 --> conda-forge::libcxx-11.1.0-habf9029_0\n",
      "\n",
      "The following packages will be SUPERSEDED by a higher-priority channel:\n",
      "\n",
      "  certifi            pkgs/main::certifi-2021.5.30-py38hecd~ --> conda-forge::certifi-2021.5.30-py38h50d1736_0\n",
      "  openssl              pkgs/main::openssl-1.1.1k-h9ed2024_0 --> conda-forge::openssl-1.1.1k-h0d85af4_0\n",
      "\n",
      "\n",
      "\n",
      "Downloading and Extracting Packages\n",
      "libcxx-11.1.0        | 1.0 MB    | ##################################### | 100% \n",
      "xeus-1.0.3           | 641 KB    | ##################################### | 100% \n",
      "xeus-python-0.12.5   | 669 KB    | ##################################### | 100% \n",
      "debugpy-1.3.0        | 1.9 MB    | ##################################### | 100% \n",
      "Preparing transaction: done\n",
      "Verifying transaction: done\n",
      "Executing transaction: done\n"
     ]
    }
   ],
   "source": [
    "!conda install xeus-python -c conda-forge -y"
   ]
  },
  {
   "cell_type": "code",
   "execution_count": 2,
   "id": "57506791-eb01-414d-9d6d-89c1f54b4266",
   "metadata": {},
   "outputs": [],
   "source": [
    "def long_function(a,b):\n",
    "    a2 = a +2\n",
    "    c = a2 + b\n",
    "    arr = np.array([a,a2,b,c])\n",
    "    arr2 = np.ones(4)*3\n",
    "    m = arr * arr2\n",
    "    s = np.sum(m)\n",
    "    return s"
   ]
  },
  {
   "cell_type": "code",
   "execution_count": 3,
   "id": "68fdefdb-2144-4395-9928-38ddb6c2e8f0",
   "metadata": {},
   "outputs": [
    {
     "data": {
      "text/plain": [
       "48.0"
      ]
     },
     "execution_count": 3,
     "metadata": {},
     "output_type": "execute_result"
    }
   ],
   "source": [
    "long_function(2,3)"
   ]
  },
  {
   "cell_type": "code",
   "execution_count": null,
   "id": "3fe84dc3-0699-4c47-b5a3-b1df15525a31",
   "metadata": {},
   "outputs": [],
   "source": []
  }
 ],
 "metadata": {
  "kernelspec": {
   "display_name": "Python 3",
   "language": "python",
   "name": "python3"
  },
  "language_info": {
   "codemirror_mode": {
    "name": "ipython",
    "version": 3
   },
   "file_extension": ".py",
   "mimetype": "text/x-python",
   "name": "python",
   "nbconvert_exporter": "python",
   "pygments_lexer": "ipython3",
   "version": "3.8.10"
  }
 },
 "nbformat": 4,
 "nbformat_minor": 5
}
