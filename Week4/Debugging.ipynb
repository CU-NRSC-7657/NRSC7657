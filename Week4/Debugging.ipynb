{
 "cells": [
  {
   "attachments": {},
   "cell_type": "markdown",
   "id": "d9f636a5-d283-4cf1-b978-2287025f4660",
   "metadata": {},
   "source": [
    "# Debugging\n",
    "### in a notebook\n",
    "##### mostly using `print()`\n",
    "10 July 2023<br>\n",
    "NRSC 7657<br>\n",
    "Daniel J Denman and John Thompson<br>\n",
    "University of Colorado Anschutz<br>\n",
    "<br>"
   ]
  },
  {
   "attachments": {},
   "cell_type": "markdown",
   "id": "8c2ab2b9-eba8-4a9d-aa56-eef82002cc9c",
   "metadata": {},
   "source": [
    "## A syntax error:"
   ]
  },
  {
   "cell_type": "code",
   "execution_count": null,
   "id": "5113dbad-3563-408f-b6c4-2bf399b3c261",
   "metadata": {},
   "outputs": [],
   "source": []
  },
  {
   "attachments": {},
   "cell_type": "markdown",
   "id": "63ad0245-4b03-44f1-8e07-d7ff9bc81a8e",
   "metadata": {},
   "source": [
    "`c` was never defined, so this is a simple one to fix:"
   ]
  },
  {
   "cell_type": "code",
   "execution_count": null,
   "id": "1ee15147-f957-44cb-96ca-e79520705d20",
   "metadata": {},
   "outputs": [],
   "source": []
  },
  {
   "cell_type": "code",
   "execution_count": null,
   "id": "1bdbad1e-ffb9-4e3c-8850-e34bdb0399bc",
   "metadata": {},
   "outputs": [],
   "source": []
  },
  {
   "attachments": {},
   "cell_type": "markdown",
   "id": "74a26df1-9991-4f56-a985-80f9d07652a7",
   "metadata": {},
   "source": [
    "## Another syntax error:"
   ]
  },
  {
   "cell_type": "code",
   "execution_count": null,
   "id": "6748ca38-f841-46c0-8e97-b1956346528f",
   "metadata": {},
   "outputs": [],
   "source": []
  },
  {
   "cell_type": "code",
   "execution_count": null,
   "id": "c8a811e7-a39d-4ed5-84b1-435d8a8b87ff",
   "metadata": {},
   "outputs": [],
   "source": []
  },
  {
   "cell_type": "code",
   "execution_count": 6,
   "id": "c43f33b6-484e-407b-abf8-0d5d766e53e6",
   "metadata": {},
   "outputs": [],
   "source": []
  },
  {
   "cell_type": "code",
   "execution_count": null,
   "id": "7724dff4-5186-4b6e-aa42-47ef8b1287db",
   "metadata": {},
   "outputs": [],
   "source": []
  },
  {
   "attachments": {},
   "cell_type": "markdown",
   "id": "72767e24-918a-47e9-ae98-e131926e3d8f",
   "metadata": {},
   "source": [
    "## A semantic error\n",
    "let's say we have these variables `a` and `b`"
   ]
  },
  {
   "cell_type": "code",
   "execution_count": null,
   "id": "2253387a-96ac-4857-a034-f19dd71b42b9",
   "metadata": {},
   "outputs": [],
   "source": []
  },
  {
   "attachments": {},
   "cell_type": "markdown",
   "id": "f2d8fe5b-b026-4a56-9726-ee80679ae868",
   "metadata": {},
   "source": [
    "let's also say, for the sake of explanation, we have this function:"
   ]
  },
  {
   "cell_type": "code",
   "execution_count": null,
   "id": "a9d2513d-d9b8-401a-bea2-403f97767779",
   "metadata": {},
   "outputs": [],
   "source": []
  },
  {
   "attachments": {},
   "cell_type": "markdown",
   "id": "c0c31da1-da37-499d-a8d0-9131cc112522",
   "metadata": {},
   "source": [
    "if we are chugging along, and we use `plus` to add `a` and `b` together, we might go on thinkng that we have `6` when we do that. "
   ]
  },
  {
   "cell_type": "code",
   "execution_count": null,
   "id": "b8b5dea5-45a9-4749-9f4d-cd1a90ffe8eb",
   "metadata": {},
   "outputs": [],
   "source": []
  },
  {
   "cell_type": "code",
   "execution_count": null,
   "id": "4491c944-ad47-47ae-9826-f4ed85d3f71f",
   "metadata": {},
   "outputs": [],
   "source": []
  },
  {
   "attachments": {},
   "cell_type": "markdown",
   "id": "bd6ea62a-0093-4938-acc1-9a2ab3f8c07d",
   "metadata": {},
   "source": [
    "of course, we don't have `added = 6`. to figure out why our outputs aren't working, let's `print()`"
   ]
  },
  {
   "cell_type": "code",
   "execution_count": null,
   "id": "64aa706b-977f-4e26-9915-9784c819c5bc",
   "metadata": {},
   "outputs": [],
   "source": []
  },
  {
   "cell_type": "code",
   "execution_count": null,
   "id": "8a5ffe28-fcda-4950-8217-46c5c18041ba",
   "metadata": {},
   "outputs": [],
   "source": []
  },
  {
   "attachments": {},
   "cell_type": "markdown",
   "id": "124c2d5e-959c-4774-8c8a-52e1af1c0824",
   "metadata": {},
   "source": [
    "## one of my favorite parts about jupyter: \n",
    "the ephemeral `print()` without `print()`"
   ]
  },
  {
   "cell_type": "code",
   "execution_count": 2,
   "id": "f512a615-ef7c-474e-8582-436a1f453926",
   "metadata": {},
   "outputs": [],
   "source": [
    "import numpy as np"
   ]
  },
  {
   "cell_type": "code",
   "execution_count": 3,
   "id": "17a99372-33f2-4fc1-af8f-cb0c9b3736ca",
   "metadata": {},
   "outputs": [],
   "source": [
    "data = np.array([0,1,2,3,6,9,12,24,48,96])\n",
    "diffs = np.diff(data)\n",
    "s = np.sum(data)\n",
    "csum = np.cumsum(data)"
   ]
  },
  {
   "cell_type": "code",
   "execution_count": null,
   "id": "3642a71b-19f7-4ca3-8408-34b072b790d5",
   "metadata": {},
   "outputs": [],
   "source": []
  },
  {
   "cell_type": "code",
   "execution_count": null,
   "id": "7c64c290-e276-4b38-8460-fca27f710b32",
   "metadata": {},
   "outputs": [],
   "source": []
  },
  {
   "cell_type": "code",
   "execution_count": null,
   "id": "d16a1377-d922-43d8-b81d-70ddb0bc3715",
   "metadata": {},
   "outputs": [],
   "source": []
  },
  {
   "cell_type": "code",
   "execution_count": null,
   "id": "3a1e9944-3f8d-4831-a7db-1edd1cda153a",
   "metadata": {
    "jupyter": {
     "source_hidden": true
    },
    "tags": []
   },
   "outputs": [],
   "source": [
    "diffs + csum[:-1]"
   ]
  },
  {
   "attachments": {},
   "cell_type": "markdown",
   "id": "19855b55-44d9-494a-93d6-86b65dcb6847",
   "metadata": {},
   "source": [
    "i consider this a form of semantic debugging. in some cases this is true semantic debugging - why is the output not what i expected? in other cases, like what we did with `diff` it is like \"preventative debugging\" - making sure you understand the outputs and the state of your notebook (i.e., the state of your namespace) as you go. <br>\n",
    "<br>\n",
    "and then it can just..._be gone_. and you (or anyone else) don't have to see you how you've checked your work as you flowed through."
   ]
  },
  {
   "cell_type": "code",
   "execution_count": 1,
   "id": "f9bbba1b-c5e0-4602-aac0-80bf37797719",
   "metadata": {},
   "outputs": [],
   "source": [
    "import matplotlib.pyplot as plt"
   ]
  },
  {
   "cell_type": "code",
   "execution_count": null,
   "id": "2a649734-b97f-4dee-a238-55ea68477c46",
   "metadata": {},
   "outputs": [],
   "source": []
  },
  {
   "attachments": {},
   "cell_type": "markdown",
   "id": "1ed5b3bb-bf18-406e-b6f7-c422c50773ae",
   "metadata": {},
   "source": [
    "i consider this use of `matplotlib` a form of semantic debugging. \n",
    "<br>just make sure you put labels on things before you leave the narrative in your head and share your data with another person..."
   ]
  },
  {
   "cell_type": "markdown",
   "id": "bfaee567",
   "metadata": {},
   "source": [
    "## VS Code debugging\n",
    "https://code.visualstudio.com/docs/python/jupyter-support-py"
   ]
  },
  {
   "cell_type": "markdown",
   "id": "a8ae2dc6",
   "metadata": {},
   "source": [
    "first: run one line at a time. nice to have the debugger for this"
   ]
  },
  {
   "cell_type": "code",
   "execution_count": null,
   "id": "d16c0109",
   "metadata": {},
   "outputs": [],
   "source": []
  },
  {
   "cell_type": "code",
   "execution_count": null,
   "id": "9e20871e",
   "metadata": {},
   "outputs": [],
   "source": []
  },
  {
   "cell_type": "markdown",
   "id": "5a155641",
   "metadata": {},
   "source": [
    "## non-VS Code visual debugger for jupyter\n",
    "https://blog.jupyter.org/a-visual-debugger-for-jupyter-914e61716559"
   ]
  },
  {
   "cell_type": "code",
   "execution_count": null,
   "id": "21b0df93",
   "metadata": {},
   "outputs": [
    {
     "name": "stdout",
     "output_type": "stream",
     "text": []
    },
    {
     "name": "stdout",
     "output_type": "stream",
     "text": []
    },
    {
     "name": "stdout",
     "output_type": "stream",
     "text": [
      "Building jupyterlab assets (production, minimized)\n",
      "-"
     ]
    }
   ],
   "source": [
    "!jupyter labextension install @jupyterlab/debugger"
   ]
  },
  {
   "cell_type": "code",
   "execution_count": null,
   "id": "16160f91",
   "metadata": {},
   "outputs": [
    {
     "name": "stdout",
     "output_type": "stream",
     "text": [
      "Collecting package metadata (current_repodata.json): done\n",
      "Solving environment: done\n",
      "\n",
      "\n",
      "==> WARNING: A newer version of conda exists. <==\n",
      "  current version: 4.10.1\n",
      "  latest version: 4.10.3\n",
      "\n",
      "Please update conda by running\n",
      "\n",
      "    $ conda update -n base conda\n",
      "\n",
      "\n",
      "\n",
      "## Package Plan ##\n",
      "\n",
      "  environment location: /Users/danieljdenman/opt/anaconda3/envs/NRSC7657\n",
      "\n",
      "  added / updated specs:\n",
      "    - xeus-python\n",
      "\n",
      "\n",
      "The following packages will be downloaded:\n",
      "\n",
      "    package                    |            build\n",
      "    ---------------------------|-----------------\n",
      "    debugpy-1.3.0              |   py38ha048514_0         1.9 MB  conda-forge\n",
      "    libcxx-11.1.0              |       habf9029_0         1.0 MB  conda-forge\n",
      "    xeus-1.0.3                 |       hf09c4ce_1         641 KB  conda-forge\n",
      "    xeus-python-0.12.5         |   py38haab6f6e_2         669 KB  conda-forge\n",
      "    ------------------------------------------------------------\n",
      "                                           Total:         4.2 MB\n",
      "\n",
      "The following NEW packages will be INSTALLED:\n",
      "\n",
      "  debugpy            conda-forge/osx-64::debugpy-1.3.0-py38ha048514_0\n",
      "  python_abi         conda-forge/osx-64::python_abi-3.8-2_cp38\n",
      "  xeus               conda-forge/osx-64::xeus-1.0.3-hf09c4ce_1\n",
      "  xeus-python        conda-forge/osx-64::xeus-python-0.12.5-py38haab6f6e_2\n",
      "\n",
      "The following packages will be UPDATED:\n",
      "\n",
      "  ca-certificates    pkgs/main::ca-certificates-2021.5.25-~ --> conda-forge::ca-certificates-2021.5.30-h033912b_0\n",
      "  libcxx                         pkgs/main::libcxx-10.0.0-1 --> conda-forge::libcxx-11.1.0-habf9029_0\n",
      "\n",
      "The following packages will be SUPERSEDED by a higher-priority channel:\n",
      "\n",
      "  certifi            pkgs/main::certifi-2021.5.30-py38hecd~ --> conda-forge::certifi-2021.5.30-py38h50d1736_0\n",
      "  openssl              pkgs/main::openssl-1.1.1k-h9ed2024_0 --> conda-forge::openssl-1.1.1k-h0d85af4_0\n",
      "\n",
      "\n",
      "\n",
      "Downloading and Extracting Packages\n",
      "libcxx-11.1.0        | 1.0 MB    | ##################################### | 100% \n",
      "xeus-1.0.3           | 641 KB    | ##################################### | 100% \n",
      "xeus-python-0.12.5   | 669 KB    | ##################################### | 100% \n",
      "debugpy-1.3.0        | 1.9 MB    | ##################################### | 100% \n",
      "Preparing transaction: done\n",
      "Verifying transaction: done\n",
      "Executing transaction: done\n"
     ]
    }
   ],
   "source": [
    "!conda install xeus-python -c conda-forge -y"
   ]
  },
  {
   "cell_type": "code",
   "execution_count": null,
   "id": "a57aa68d",
   "metadata": {},
   "outputs": [],
   "source": [
    "def long_function(a,b):\n",
    "    a2 = a +2\n",
    "    c = a2 + b\n",
    "    arr = np.array([a,a2,b,c])\n",
    "    arr2 = np.ones(4)*3\n",
    "    m = arr * arr2\n",
    "    s = np.sum(m)\n",
    "    return s"
   ]
  },
  {
   "cell_type": "code",
   "execution_count": null,
   "id": "3600c577",
   "metadata": {},
   "outputs": [
    {
     "data": {
      "text/plain": [
       "48.0"
      ]
     },
     "metadata": {},
     "output_type": "display_data"
    }
   ],
   "source": [
    "long_function(2,3)"
   ]
  },
  {
   "cell_type": "markdown",
   "id": "af8975f1",
   "metadata": {},
   "source": [
    "## Writing your own `Exceptions` and `AssertionErrors`\n",
    "or, helping your future self"
   ]
  },
  {
   "cell_type": "code",
   "execution_count": 2,
   "id": "57506791-eb01-414d-9d6d-89c1f54b4266",
   "metadata": {},
   "outputs": [],
   "source": []
  },
  {
   "cell_type": "code",
   "execution_count": null,
   "id": "68fdefdb-2144-4395-9928-38ddb6c2e8f0",
   "metadata": {},
   "outputs": [],
   "source": []
  },
  {
   "cell_type": "code",
   "execution_count": null,
   "id": "3fe84dc3-0699-4c47-b5a3-b1df15525a31",
   "metadata": {},
   "outputs": [],
   "source": []
  }
 ],
 "metadata": {
  "kernelspec": {
   "display_name": "Python 3.8 (XPython)",
   "language": "python",
   "name": "xpython"
  },
  "language_info": {
   "file_extension": ".py",
   "mimetype": "text/x-python",
   "name": "python",
   "version": "3.8.10"
  }
 },
 "nbformat": 4,
 "nbformat_minor": 5
}
