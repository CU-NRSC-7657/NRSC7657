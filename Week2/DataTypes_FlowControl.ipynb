{
 "cells": [
  {
   "attachments": {},
   "cell_type": "markdown",
   "id": "56435ab0-7540-4551-87e3-7055f44af354",
   "metadata": {},
   "source": [
    "# Data types and flow control\n",
    "### as commonly used in neuroscience\n",
    "19 June 2023<br>\n",
    "NRSC 7657<br>\n",
    "Daniel J Denman and John Thompson<br>\n",
    "University of Colorado Anschutz<br>\n",
    "<br>"
   ]
  },
  {
   "attachments": {},
   "cell_type": "markdown",
   "id": "196ee0d1-aa43-4995-931a-1aa71d2fed74",
   "metadata": {},
   "source": [
    "## whether defined in native python (`str`, `int`, ...) or by a package `numpy.int16`,`numpy.ndarray`):\n",
    "#### many data types are straighforward. for example"
   ]
  },
  {
   "cell_type": "code",
   "execution_count": 1,
   "id": "3f145b83-9fb9-4eb8-96b5-4dea0e8bba9e",
   "metadata": {},
   "outputs": [],
   "source": [
    "#float: any number with decimals\n",
    "_float = 16.0\n",
    "_float2 = 16.2\n",
    "\n",
    "#int: any number without decimals. \n",
    "_int = 16\n",
    "_float_fancy_saving_characters = 16.\n",
    "\n",
    "#complex number are also a type but we won't have to use them much if ever in the normal course oof things:\n",
    "_complex = complex(16,1)"
   ]
  },
  {
   "cell_type": "code",
   "execution_count": 3,
   "id": "0e168131-e290-4d30-abd4-192bc04f5272",
   "metadata": {},
   "outputs": [
    {
     "data": {
      "text/plain": [
       "16.2"
      ]
     },
     "execution_count": 3,
     "metadata": {},
     "output_type": "execute_result"
    }
   ],
   "source": [
    "_float2"
   ]
  },
  {
   "attachments": {},
   "cell_type": "markdown",
   "id": "23eb4eb0",
   "metadata": {},
   "source": [
    "Q: why am i naming these `_float` and not `float`?"
   ]
  },
  {
   "attachments": {},
   "cell_type": "markdown",
   "id": "2c6ffef2-5326-41e6-bb6d-04268b780415",
   "metadata": {},
   "source": [
    "strings are the way to do things with letters"
   ]
  },
  {
   "cell_type": "code",
   "execution_count": null,
   "id": "f1646ff3-37db-4122-9ce6-6f69709a7d59",
   "metadata": {},
   "outputs": [],
   "source": [
    "_string = 'letters'"
   ]
  },
  {
   "attachments": {},
   "cell_type": "markdown",
   "id": "856bab6a",
   "metadata": {},
   "source": [
    "Q: why are these called \"string\"? "
   ]
  },
  {
   "attachments": {},
   "cell_type": "markdown",
   "id": "e64ce609-3546-441f-894f-7e7be241dc91",
   "metadata": {},
   "source": [
    "finally, native python has several ways to group things: lists and dictionaries. "
   ]
  },
  {
   "cell_type": "code",
   "execution_count": 5,
   "id": "c7a8328a-ef04-4d4d-9a51-5d58c8ea45d9",
   "metadata": {},
   "outputs": [],
   "source": [
    "_list = [1,2,3,'STRING',_string,12.0]\n",
    "_dict = {'key1':1,\n",
    "         'key2':2.,\n",
    "         'key3':'three'}"
   ]
  },
  {
   "cell_type": "code",
   "execution_count": null,
   "id": "764c99a4-e24f-4cc9-ae2a-f14ab4faf083",
   "metadata": {},
   "outputs": [],
   "source": [
    "_list[4]"
   ]
  },
  {
   "attachments": {},
   "cell_type": "markdown",
   "id": "4bf95893-5d93-44dd-a6df-a418fc5bf26e",
   "metadata": {},
   "source": [
    "note that strings can be indexed like lists"
   ]
  },
  {
   "cell_type": "code",
   "execution_count": null,
   "id": "8e3e9a88-fb2c-48b9-bdd9-f8d7a818eb52",
   "metadata": {},
   "outputs": [
    {
     "data": {
      "text/plain": [
       "'t'"
      ]
     },
     "execution_count": 10,
     "metadata": {},
     "output_type": "execute_result"
    }
   ],
   "source": [
    "_string[2]"
   ]
  },
  {
   "attachments": {},
   "cell_type": "markdown",
   "id": "8353c25b-b687-43e1-839d-2aaf9d57fcb0",
   "metadata": {},
   "source": [
    "another important native type: `bool`:"
   ]
  },
  {
   "cell_type": "code",
   "execution_count": 26,
   "id": "77933842-5196-4b28-83e8-c57aab03ba9a",
   "metadata": {},
   "outputs": [],
   "source": [
    "_bool = True\n",
    "_bool2 = False"
   ]
  },
  {
   "cell_type": "code",
   "execution_count": 18,
   "id": "63e353d4-1382-414d-aacd-3a0871846617",
   "metadata": {},
   "outputs": [],
   "source": [
    "if _bool2:\n",
    "    print('something')"
   ]
  },
  {
   "attachments": {},
   "cell_type": "markdown",
   "id": "ba489302-65e4-4430-ae75-2516b47573b7",
   "metadata": {},
   "source": [
    "let's return to why i put underscores in the variable names. \n",
    "<br> let's use `type()`, the python function for checking type, and comparison `==` to see why again"
   ]
  },
  {
   "cell_type": "code",
   "execution_count": null,
   "id": "0c6c37a8-5058-4bdf-af89-37aa9373db5a",
   "metadata": {},
   "outputs": [],
   "source": [
    "type(_bool)"
   ]
  },
  {
   "cell_type": "code",
   "execution_count": null,
   "id": "1adc9f6d-2971-459d-bfc1-a68e79eed6de",
   "metadata": {},
   "outputs": [],
   "source": [
    "float == type(_float)"
   ]
  },
  {
   "cell_type": "code",
   "execution_count": 32,
   "id": "0fd38ee7-0c5e-42e6-8806-419ad35ec3f4",
   "metadata": {},
   "outputs": [],
   "source": [
    "float = type(float)"
   ]
  },
  {
   "cell_type": "code",
   "execution_count": 29,
   "id": "86f456a6-3191-428e-860f-f7479bd5e6eb",
   "metadata": {},
   "outputs": [],
   "source": [
    "#bad\n",
    "float = 16.8"
   ]
  },
  {
   "attachments": {},
   "cell_type": "markdown",
   "id": "341087c5-062c-4845-9597-222a14e7f31a",
   "metadata": {},
   "source": [
    "finally, floating point numbers have precision of encoding in computers, and this precision can matter (but usually won't). numpy has all the [numerical types](https://numpy.org/doc/stable/user/basics.types.html) you will need. "
   ]
  },
  {
   "cell_type": "code",
   "execution_count": 33,
   "id": "8bbd4a84-d2f9-4f8d-95c5-f3508c88c665",
   "metadata": {},
   "outputs": [],
   "source": [
    "import numpy as np"
   ]
  },
  {
   "cell_type": "code",
   "execution_count": 34,
   "id": "3c355436-2946-497d-82d7-dea0a4021d2a",
   "metadata": {},
   "outputs": [
    {
     "name": "stdout",
     "output_type": "stream",
     "text": [
      "16\n",
      "16\n",
      "16\n",
      "16.2\n",
      "16.2\n"
     ]
    }
   ],
   "source": [
    "print(np.int16(_float2))\n",
    "print(np.uint16(_float2))\n",
    "print(np.uint8(_float2))\n",
    "print(np.single(_float2))\n",
    "print(np.double(_float2))"
   ]
  },
  {
   "attachments": {},
   "cell_type": "markdown",
   "id": "47da58cb-b0ff-4008-8f4a-6bf347bc3b9f",
   "metadata": {},
   "source": [
    "### This brings up namespaces - the way that variable names are defined. \n",
    "when you define something it lives in a *namespace* and has a *scope*. <br>\n",
    "the kernel namespace is, in fact, a dictionary in the kernel. this fact that it is a dictinary is itself not important, but that it is a simple mapping is important.\n",
    "<br>\n",
    "in the notebook, variables go in the kernal namespace, but they could also be in a function or classes's namespace. we will return to this as we make functions and classes today."
   ]
  },
  {
   "cell_type": "code",
   "execution_count": null,
   "id": "9e6e1743-b7d7-40e1-a5c8-a8e335b76dd3",
   "metadata": {},
   "outputs": [],
   "source": [
    "#in ipython (like jupyter, or like in vscode) green things have a meaning in the namespace that you didn't define"
   ]
  },
  {
   "cell_type": "code",
   "execution_count": null,
   "id": "3ac63479",
   "metadata": {},
   "outputs": [],
   "source": [
    "np"
   ]
  },
  {
   "cell_type": "code",
   "execution_count": null,
   "id": "dd8bf45c",
   "metadata": {},
   "outputs": [],
   "source": [
    "float"
   ]
  },
  {
   "attachments": {},
   "cell_type": "markdown",
   "id": "fe5bcb70-ec13-4859-984a-59e460f0bed1",
   "metadata": {},
   "source": [
    "## Everything in python is an object. \n",
    "This means that everything (...just about everything) has associated _properties_ and _methods_ <br>\n",
    "_properties_ are values"
   ]
  },
  {
   "cell_type": "code",
   "execution_count": 40,
   "id": "f9d84717-847a-44c2-be38-e1f920821c90",
   "metadata": {},
   "outputs": [
    {
     "data": {
      "text/plain": [
       "16.0"
      ]
     },
     "execution_count": 40,
     "metadata": {},
     "output_type": "execute_result"
    }
   ],
   "source": [
    "_complex.real"
   ]
  },
  {
   "attachments": {},
   "cell_type": "markdown",
   "id": "4974e62a-66f6-4935-9d9b-9ff83c292ff9",
   "metadata": {},
   "source": [
    "_methods_ are code, generally functions"
   ]
  },
  {
   "cell_type": "code",
   "execution_count": 46,
   "id": "a87ca563-6786-47b8-b327-79efe84e556a",
   "metadata": {},
   "outputs": [
    {
     "data": {
      "text/plain": [
       "False"
      ]
     },
     "execution_count": 46,
     "metadata": {},
     "output_type": "execute_result"
    }
   ],
   "source": [
    "_string.startswith('et',2)"
   ]
  },
  {
   "attachments": {},
   "cell_type": "markdown",
   "id": "b80c813c-1179-431c-8197-f0198e57fcde",
   "metadata": {},
   "source": [
    "we will come back to this object-associated code, (functions and assets), and how it becomes associated with some object, but here are some examples:"
   ]
  },
  {
   "cell_type": "code",
   "execution_count": null,
   "id": "b1db4d43-1b6f-4690-9a62-15f49ea70ec6",
   "metadata": {},
   "outputs": [],
   "source": [
    "_string.startswith()"
   ]
  },
  {
   "cell_type": "code",
   "execution_count": null,
   "id": "843d1dbf-05b6-4a42-b526-da0f0e23752e",
   "metadata": {},
   "outputs": [],
   "source": []
  },
  {
   "cell_type": "code",
   "execution_count": null,
   "id": "c1a88030-42ac-4058-b927-9b398b20a7dc",
   "metadata": {},
   "outputs": [],
   "source": []
  },
  {
   "attachments": {},
   "cell_type": "markdown",
   "id": "0c275b4b-68e0-4e8f-a1e7-476584a9797b",
   "metadata": {},
   "source": [
    "### Functions are ways to repeat code snippets that you have validated, without copying and pasting. \n",
    "A function can be thought of as a program that operates on input. Functions can have zero input argumnets, taking there inputs from a dynamic source, but more typically have 1+ input arguments which are passed in `()`. Functions only run when they are called. <br><br>\n",
    "Let's recreate `startswith()` as our own function. We'll also go through some python flow control as we do. this will include `for`, `if-else`, `pass` and `break`, and `while` statements"
   ]
  },
  {
   "cell_type": "code",
   "execution_count": 47,
   "id": "76d6df4e-660b-499b-9258-c835af4bc99e",
   "metadata": {},
   "outputs": [
    {
     "ename": "NameError",
     "evalue": "name 'startswith' is not defined",
     "output_type": "error",
     "traceback": [
      "\u001b[0;31m---------------------------------------------------------------------------\u001b[0m",
      "\u001b[0;31mNameError\u001b[0m                                 Traceback (most recent call last)",
      "\u001b[0;32m<ipython-input-47-db8cb27d8943>\u001b[0m in \u001b[0;36m<module>\u001b[0;34m\u001b[0m\n\u001b[0;32m----> 1\u001b[0;31m \u001b[0mstartswith\u001b[0m\u001b[0;34m(\u001b[0m\u001b[0;34m)\u001b[0m\u001b[0;34m\u001b[0m\u001b[0;34m\u001b[0m\u001b[0m\n\u001b[0m",
      "\u001b[0;31mNameError\u001b[0m: name 'startswith' is not defined"
     ]
    }
   ],
   "source": [
    "startswith()"
   ]
  },
  {
   "attachments": {},
   "cell_type": "markdown",
   "id": "392cf665-37fb-4e49-9007-9c9ca7376c42",
   "metadata": {},
   "source": [
    "** --> we just used `_string.startswith('l')`, why didn't this work? **"
   ]
  },
  {
   "attachments": {},
   "cell_type": "markdown",
   "id": "73f14055-9959-4c05-9b58-12442b2b2f56",
   "metadata": {},
   "source": [
    "first, let's prototype what we want to accomplish in a cell or some cells"
   ]
  },
  {
   "cell_type": "code",
   "execution_count": null,
   "id": "000381f2-23ea-4536-bd43-351beaa6c219",
   "metadata": {},
   "outputs": [],
   "source": []
  },
  {
   "cell_type": "code",
   "execution_count": null,
   "id": "3c7eefdf-5c37-4a26-b5da-44c7e4cfe341",
   "metadata": {},
   "outputs": [],
   "source": []
  },
  {
   "attachments": {},
   "cell_type": "markdown",
   "id": "76a87776",
   "metadata": {},
   "source": [
    "now, let's put it in a function so it's easier to reuse\n",
    "<br> \n",
    "<br>\n",
    "_note here: this concept of repeating code by putting it in function is definitely language agnostic and is a nice step towards writing cleaner and easier to maintain code._"
   ]
  },
  {
   "cell_type": "code",
   "execution_count": 80,
   "id": "e5f54981-1a77-4808-a613-0d43fdc56a27",
   "metadata": {},
   "outputs": [],
   "source": []
  },
  {
   "cell_type": "code",
   "execution_count": null,
   "id": "73ca631c-abbb-42ea-ac57-74f3580b3c99",
   "metadata": {},
   "outputs": [],
   "source": []
  },
  {
   "cell_type": "code",
   "execution_count": null,
   "id": "f4f4e327-6a90-4382-b6b8-75a2fe132c55",
   "metadata": {},
   "outputs": [],
   "source": []
  },
  {
   "attachments": {},
   "cell_type": "markdown",
   "id": "541a8fe5-2bea-4acb-a60b-651f51cac76c",
   "metadata": {},
   "source": [
    "don't forget default arguments"
   ]
  },
  {
   "attachments": {},
   "cell_type": "markdown",
   "id": "da2af89b-004a-4006-89f0-6843ada2d616",
   "metadata": {},
   "source": [
    "functions can be defined in a notebook, or imported from a .py file or package. "
   ]
  },
  {
   "attachments": {},
   "cell_type": "markdown",
   "id": "3ca1989e-f363-40e4-a4cc-430bd0c3b800",
   "metadata": {},
   "source": [
    "other flow control: `try-except`, `while`\n",
    "<br>also `switch-case` for MATLAB (and now python)"
   ]
  },
  {
   "cell_type": "code",
   "execution_count": 1,
   "id": "5ba47db2",
   "metadata": {},
   "outputs": [
    {
     "name": "stdout",
     "output_type": "stream",
     "text": [
      "You are too old to party, granny.\n"
     ]
    }
   ],
   "source": [
    "age = 120\n",
    "\n",
    "if age > 90:\n",
    "    print(\"You are too old to party, granny.\")\n",
    "elif age < 0:\n",
    "    print(\"You're yet to be born\")\n",
    "elif age >= 18:\n",
    "    print(\"You are allowed to party\")\n",
    "else: \n",
    "    \"You're too young to party\""
   ]
  },
  {
   "attachments": {},
   "cell_type": "markdown",
   "id": "a3e0569f-55e0-41ce-ae2b-03f92e41becb",
   "metadata": {},
   "source": [
    "## Classes: making your own objects\n",
    "Classes are a way to make bundles of your own objects, entities with their own properties and methods that you define. "
   ]
  },
  {
   "cell_type": "code",
   "execution_count": 101,
   "id": "439704f6-4d87-425e-9ae4-3127ecbc2d84",
   "metadata": {},
   "outputs": [],
   "source": []
  },
  {
   "attachments": {},
   "cell_type": "markdown",
   "id": "1ad500ee-bf3a-45ac-9f2c-0f23af2f2ec3",
   "metadata": {},
   "source": [
    "when you use your class the first time, you are creating a new *instance* of that class. that instance has all of the* attributes*(*properties* and *methods* of the parent )"
   ]
  },
  {
   "cell_type": "code",
   "execution_count": 102,
   "id": "eec0a820-b2c3-4cbe-9209-2ec37fb471d8",
   "metadata": {},
   "outputs": [],
   "source": [
    "t = ThingWeMade()"
   ]
  },
  {
   "cell_type": "code",
   "execution_count": 104,
   "id": "2d38bf88-e34e-44c2-a732-893afb6ddc31",
   "metadata": {},
   "outputs": [
    {
     "name": "stdout",
     "output_type": "stream",
     "text": [
      "neuron fires an cannon\n"
     ]
    }
   ],
   "source": [
    "t.fire_a_thing('cannon')"
   ]
  },
  {
   "attachments": {},
   "cell_type": "markdown",
   "id": "74797312-28d0-4290-8f1e-6b749aab1f0b",
   "metadata": {},
   "source": [
    "notice that i capitalized and camelcased or CapWords'd `ThingWeMade`. this is the convention according to [PEP8](https://www.python.org/dev/peps/pep-0008/#class-names). it is not required, but it might help you understand someone else's code if that person is following convention. (also PEP means Python Enhancement Proposal and it is where the core python developers propose, debate, and make rules and changes to how core python works.)"
   ]
  },
  {
   "attachments": {},
   "cell_type": "markdown",
   "id": "34c3ddcd-f2e1-4314-a3ff-65006f3a18a8",
   "metadata": {},
   "source": [
    "Finally, an example of inheritance:"
   ]
  },
  {
   "cell_type": "code",
   "execution_count": 105,
   "id": "9a9124f9-fdbb-4385-90e8-88abd78b5a3e",
   "metadata": {},
   "outputs": [],
   "source": []
  },
  {
   "cell_type": "code",
   "execution_count": 106,
   "id": "bd265b3f-922a-41b4-9cbb-66ead72e0570",
   "metadata": {},
   "outputs": [],
   "source": []
  },
  {
   "cell_type": "code",
   "execution_count": 107,
   "id": "5753cfee-7650-4b47-a3dc-a8f05210647c",
   "metadata": {},
   "outputs": [
    {
     "name": "stdout",
     "output_type": "stream",
     "text": [
      "neuron  better\n"
     ]
    }
   ],
   "source": [
    "b.make_it_better()"
   ]
  },
  {
   "cell_type": "code",
   "execution_count": 109,
   "id": "17333832-ccfd-48b6-98dc-e57fcbcfd7cd",
   "metadata": {},
   "outputs": [
    {
     "name": "stdout",
     "output_type": "stream",
     "text": [
      "neuron fires an employee\n"
     ]
    }
   ],
   "source": [
    "b.fire_a_thing('employee')"
   ]
  },
  {
   "attachments": {},
   "cell_type": "markdown",
   "id": "edcac0eb",
   "metadata": {},
   "source": []
  },
  {
   "attachments": {},
   "cell_type": "markdown",
   "id": "265ff688-5af0-4973-b75d-064ded5a6e36",
   "metadata": {},
   "source": [
    "Classes are generally not something you'd create in a notebook workflow, although you could. You will find classes in more complete codebases especially in packages, where you will make an instance of a class and then pass it your data, so you can then use the class methods to do whatever it is (`scikit-learn`, the most popular and flexible ML codebase, works like this, where many of it's analyses are classes that you train and then you can use that trained class to test on other data.). One of my lab's behavioral paradigms is also a monster class. "
   ]
  },
  {
   "attachments": {},
   "cell_type": "markdown",
   "id": "ce6698d7-8b6f-4cab-beeb-b1cb0a1b3775",
   "metadata": {},
   "source": [
    "### Summary:\n",
    "Why classes and functions? \n",
    "- organization: if you need to fix a bit of code, and it is in a function, you fix it once and then it works wherever it is called. if you copy pastaed...\n",
    "- reproducability: your function does the thing it is expected to (if it is correct), and not some slighly different thing than the copy pastaed v4 of the code snippet\n",
    "- readability: one line of a function call with a descriptive name is a lot more readable than a bunch of code. same for classes, ABetterThing.thing is more readable than many many variables with names like thing_for_ABetterThing. "
   ]
  },
  {
   "attachments": {},
   "cell_type": "markdown",
   "id": "c87671e2-af2b-4af0-a82d-eb9585aa408a",
   "metadata": {},
   "source": [
    "# some more commonly encountered data structures\n",
    "\n",
    "## numpy: ndarray\n",
    "this is almost so ubiquitous it belongs above, in the basic data types section. the ndarray is the matrix of python, the n-dimensional data structure where most any data are stored and transformed."
   ]
  },
  {
   "cell_type": "code",
   "execution_count": 110,
   "id": "637beb37-f2f5-4462-b646-104570363cf2",
   "metadata": {},
   "outputs": [],
   "source": [
    "import numpy as np"
   ]
  },
  {
   "cell_type": "code",
   "execution_count": 115,
   "id": "7b4197be-50cc-46de-976b-aa78327a40d6",
   "metadata": {},
   "outputs": [],
   "source": [
    "a = np.array([4,1,2,3])"
   ]
  },
  {
   "cell_type": "code",
   "execution_count": 116,
   "id": "cae0f4d5-db96-4309-b4da-273f4488c646",
   "metadata": {},
   "outputs": [
    {
     "data": {
      "text/plain": [
       "numpy.ndarray"
      ]
     },
     "execution_count": 116,
     "metadata": {},
     "output_type": "execute_result"
    }
   ],
   "source": [
    "type(a)"
   ]
  },
  {
   "cell_type": "code",
   "execution_count": 117,
   "id": "078d7cc3-f045-4662-b4fa-d7764e5ee885",
   "metadata": {},
   "outputs": [
    {
     "data": {
      "text/plain": [
       "0"
      ]
     },
     "execution_count": 117,
     "metadata": {},
     "output_type": "execute_result"
    }
   ],
   "source": [
    "a.argmax()"
   ]
  },
  {
   "attachments": {},
   "cell_type": "markdown",
   "id": "2a8eaeb8-2784-455e-92f6-d850d61ad84e",
   "metadata": {},
   "source": [
    "why not just use embedded `list`s?\n",
    "<br><br>\n",
    "note that `list`s can be \"ragged\" (sometimes also called \"jagged\"), where as `ndarray`s (like matrices) are always rectangular"
   ]
  },
  {
   "cell_type": "code",
   "execution_count": null,
   "id": "d55fbf92",
   "metadata": {},
   "outputs": [],
   "source": []
  },
  {
   "attachments": {},
   "cell_type": "markdown",
   "id": "a8589518-7a5f-4d5f-a675-e78cb0e21882",
   "metadata": {},
   "source": [
    "time series are 1D; images are 2D (or potentially 3D if color); movies are 3D (or potentially 4D if color). \n",
    "<br><br>\n",
    "let's do some image work that will also help reinforce indexing"
   ]
  },
  {
   "cell_type": "code",
   "execution_count": null,
   "id": "2b5a9394-7ca5-4099-a6b7-a4b385dd95d3",
   "metadata": {},
   "outputs": [],
   "source": []
  },
  {
   "cell_type": "code",
   "execution_count": null,
   "id": "2df1da9b",
   "metadata": {},
   "outputs": [],
   "source": []
  },
  {
   "cell_type": "code",
   "execution_count": null,
   "id": "b939782f",
   "metadata": {},
   "outputs": [],
   "source": []
  },
  {
   "attachments": {},
   "cell_type": "markdown",
   "id": "6a09d74e-dd21-458b-81b0-8df7945ad442",
   "metadata": {},
   "source": [
    "## pandas and .csv / .xlsx files\n",
    "#### tables for your tabular data needs\n",
    "if you were going to do that in Excel, you can do it with pandas. faster, and powerful filtering and data selection. "
   ]
  },
  {
   "cell_type": "code",
   "execution_count": 155,
   "id": "db3b7bec-ace9-4e5d-9c95-f3fe910f3172",
   "metadata": {},
   "outputs": [],
   "source": [
    "import pandas as pd"
   ]
  },
  {
   "cell_type": "code",
   "execution_count": 156,
   "id": "3b2a18ac-ac06-4b13-a9e7-225cd23087ac",
   "metadata": {},
   "outputs": [],
   "source": [
    "df = pd.read_csv('iris.csv') # this is a classic ML toy data set for "
   ]
  },
  {
   "cell_type": "code",
   "execution_count": null,
   "id": "db9b6bee-2fd2-4659-b620-1297ea823f41",
   "metadata": {},
   "outputs": [],
   "source": []
  },
  {
   "cell_type": "code",
   "execution_count": null,
   "id": "294dd275-7336-4fb8-9335-102419582510",
   "metadata": {},
   "outputs": [],
   "source": []
  },
  {
   "cell_type": "code",
   "execution_count": 159,
   "id": "7a644715-3b89-404c-88b6-0bf7b2501f3c",
   "metadata": {},
   "outputs": [],
   "source": []
  },
  {
   "cell_type": "code",
   "execution_count": null,
   "id": "cd2bcbf8-7cb3-4e3b-a450-53e71771288d",
   "metadata": {},
   "outputs": [],
   "source": []
  },
  {
   "attachments": {},
   "cell_type": "markdown",
   "id": "60e9d6e6-4728-4a9c-b7b5-80f6d1f25381",
   "metadata": {},
   "source": [
    "### HDF5 and .mat files\n",
    "hdf5 is a Heirarchical Data Format, which has several nice features: good metadata, fast I/O (if implemented well), and good cross-platform portability. <br>\n",
    "several data formats commonly used in neuroscience are in fact based on hdf5, including .mat files and NWB files (to be talked about later). for MATLAB .mat files, there are several options for loading into python:"
   ]
  },
  {
   "cell_type": "code",
   "execution_count": 7,
   "id": "805469ec-dbef-471a-b012-eb4549278fed",
   "metadata": {},
   "outputs": [],
   "source": [
    "from scipy.io import loadmat"
   ]
  },
  {
   "cell_type": "code",
   "execution_count": null,
   "id": "70f87ece-bd66-4dd8-8426-10886b15f00f",
   "metadata": {},
   "outputs": [],
   "source": [
    "rez = loadmat('rez.mat')"
   ]
  },
  {
   "cell_type": "code",
   "execution_count": 5,
   "id": "0fe9ec07-7348-46ac-9d5d-89cdb9f18dc6",
   "metadata": {},
   "outputs": [],
   "source": [
    "import h5py"
   ]
  },
  {
   "cell_type": "code",
   "execution_count": null,
   "id": "a626c8e7-094b-4a48-962e-97068d1c345a",
   "metadata": {},
   "outputs": [],
   "source": [
    "rez = h5py.File('rez.mat')"
   ]
  },
  {
   "cell_type": "code",
   "execution_count": null,
   "id": "fed9aecb-15e4-4b45-a947-0619e0f2b50b",
   "metadata": {},
   "outputs": [],
   "source": [
    "type(rez)"
   ]
  },
  {
   "attachments": {},
   "cell_type": "markdown",
   "id": "4de74a9f-b38a-4a83-9985-3bbc060b41fc",
   "metadata": {},
   "source": [
    "you can think of hdf5 filles as nested dictionaries, with keys that take you down levels in the heirarchy of the heirarchical data format:"
   ]
  },
  {
   "cell_type": "code",
   "execution_count": null,
   "id": "c93e8ca6-5b1b-461e-a30d-c089262b2454",
   "metadata": {},
   "outputs": [],
   "source": []
  },
  {
   "attachments": {},
   "cell_type": "markdown",
   "id": "8c1e3070",
   "metadata": {},
   "source": [
    "once we hit something in that structure, we can work with it based on the data type that it is. for example, a 2D array we can plot like an image"
   ]
  },
  {
   "cell_type": "code",
   "execution_count": null,
   "id": "6a7004c8-d8c4-4e71-9275-87930d600533",
   "metadata": {},
   "outputs": [],
   "source": []
  },
  {
   "attachments": {},
   "cell_type": "markdown",
   "id": "3eaa382e-fb6a-4452-8480-1aa181745e98",
   "metadata": {},
   "source": [
    "## Neurodata Without Borders\n",
    "#### a unified format for neuroscience data\n",
    "![nwb_schematic](https://www.nwb.org/wp-content/uploads/2020/02/nwb_datatypes_overview-1024x491.png)\n",
    "<br>\n",
    "the point is to have a useful cross-platform data format that has metadata in specific places, so that analysis tools and data are easier to share across labs. this is what file format is, same as .xlsx or .jpeg or .tiff, for example. "
   ]
  },
  {
   "attachments": {},
   "cell_type": "markdown",
   "id": "302434bd",
   "metadata": {},
   "source": [
    "<br>\n",
    "data from DANDI set [000006](https://dandiarchive.org/dandiset/000006?search=svoboda&page=2&sortOption=0&sortDir=-1&showDrafts=true&showEmpty=false&pos=11)\n"
   ]
  },
  {
   "cell_type": "code",
   "execution_count": null,
   "id": "5c454cc1",
   "metadata": {},
   "outputs": [],
   "source": []
  },
  {
   "cell_type": "code",
   "execution_count": null,
   "id": "b6cf304b-0703-4f47-872e-69dd1d144057",
   "metadata": {},
   "outputs": [],
   "source": []
  },
  {
   "cell_type": "code",
   "execution_count": 1,
   "id": "1b7c57a3-c8bc-4114-abee-f215902752c7",
   "metadata": {},
   "outputs": [],
   "source": []
  },
  {
   "cell_type": "code",
   "execution_count": 7,
   "id": "88d41db6-b2c5-49c8-85b0-313d6f00166c",
   "metadata": {},
   "outputs": [
    {
     "data": {
      "text/plain": [
       "<KeysViewHDF5 ['acquisition', 'analysis', 'file_create_date', 'general', 'identifier', 'intervals', 'processing', 'session_description', 'session_start_time', 'specifications', 'stimulus', 'timestamps_reference_time', 'units']>"
      ]
     },
     "execution_count": 7,
     "metadata": {},
     "output_type": "execute_result"
    }
   ],
   "source": []
  },
  {
   "cell_type": "code",
   "execution_count": 2,
   "id": "9a5c4260-4d64-4dd2-bf1e-1bf77f8ecde3",
   "metadata": {},
   "outputs": [],
   "source": []
  },
  {
   "cell_type": "code",
   "execution_count": null,
   "id": "1f205a84-62dd-429c-b3c8-ea672ce7f911",
   "metadata": {},
   "outputs": [],
   "source": []
  },
  {
   "attachments": {},
   "cell_type": "markdown",
   "id": "343998fa-7861-418f-8ab3-36848a1e7948",
   "metadata": {},
   "source": [
    "finally, note that both John's lab and my lab are using this format, as are many labs (known at Allen, UCSF, NYU, Janelia)"
   ]
  },
  {
   "attachments": {},
   "cell_type": "markdown",
   "id": "c5e86d9f-edc4-40a8-be13-d69221cb304d",
   "metadata": {},
   "source": [
    "note: there is also a set of tools for MATLAB: [MATNWB](https://neurodatawithoutborders.github.io/matnwb/)"
   ]
  },
  {
   "attachments": {},
   "cell_type": "markdown",
   "id": "caa316e4-be33-4d8f-9ebb-fa1b9ab774c8",
   "metadata": {},
   "source": [
    "## xarray\n",
    "#### pandas functionality with more dimensions. alternatively, ndarrrays with labels"
   ]
  },
  {
   "cell_type": "code",
   "execution_count": null,
   "id": "4d74ca44-a35a-4305-a12c-c0fc4295e189",
   "metadata": {},
   "outputs": [],
   "source": [
    "import xarray as xr\n",
    "\n",
    "np.random.seed(123)\n",
    "\n",
    "xr.set_options(display_style=\"html\")\n",
    "\n",
    "times = pd.date_range(\"2000-01-01\", \"2001-12-31\", name=\"time\")\n",
    "annual_cycle = np.sin(2 * np.pi * (times.dayofyear.values / 365.25 - 0.28))\n",
    "\n",
    "base = 10 + 15 * annual_cycle.reshape(-1, 1)\n",
    "tmin_values = base + 3 * np.random.randn(annual_cycle.size, 3)\n",
    "tmax_values = base + 10 + 3 * np.random.randn(annual_cycle.size, 3)\n",
    "\n",
    "ds = xr.Dataset(\n",
    "    {\n",
    "        \"tmin\": ((\"time\", \"location\"), tmin_values),\n",
    "        \"tmax\": ((\"time\", \"location\"), tmax_values),\n",
    "    },\n",
    "    {\"time\": times, \"location\": [\"IA\", \"IN\", \"IL\"]},\n",
    ")\n",
    "\n",
    "ds"
   ]
  },
  {
   "cell_type": "code",
   "execution_count": null,
   "id": "a2f9f708-7310-446b-8a7d-0268e7c72261",
   "metadata": {},
   "outputs": [],
   "source": [
    "df = ds.to_dataframe()\n",
    "df.head()"
   ]
  },
  {
   "attachments": {},
   "cell_type": "markdown",
   "id": "3c11e0c0-f1b1-456d-9642-e516b32d8d26",
   "metadata": {},
   "source": [
    "### JSON\n",
    "another common format, kind of like hdf5 but way more general and not for large data. this is often configuration files or something that requires lots of nicely organized metadata. <br>\n",
    "the `json` package comes with base python and is what to use to interact with JSON type data. like hdf5, it is basically a dictionary, so you can load it into a dictionary and if you have a dictionary you can dumps (save) it it into a JSON file"
   ]
  },
  {
   "cell_type": "code",
   "execution_count": 119,
   "id": "33eef400-0f00-414b-914c-a5fa7ee543a9",
   "metadata": {},
   "outputs": [],
   "source": [
    "import json"
   ]
  },
  {
   "cell_type": "code",
   "execution_count": null,
   "id": "cd135ed8-14bf-4a2a-be90-7532d41ae4bd",
   "metadata": {},
   "outputs": [],
   "source": []
  },
  {
   "cell_type": "code",
   "execution_count": null,
   "id": "b61d44f7-58da-4799-8f92-2dc1af68d496",
   "metadata": {},
   "outputs": [],
   "source": []
  },
  {
   "cell_type": "code",
   "execution_count": null,
   "id": "a85b7dea-f66b-412a-8017-b75526808971",
   "metadata": {},
   "outputs": [],
   "source": []
  },
  {
   "cell_type": "code",
   "execution_count": null,
   "id": "26e0e07b-0e05-4bdc-a7b0-2d1a0aa39755",
   "metadata": {},
   "outputs": [],
   "source": []
  }
 ],
 "metadata": {
  "kernelspec": {
   "display_name": "Python 3",
   "language": "python",
   "name": "python3"
  },
  "language_info": {
   "codemirror_mode": {
    "name": "ipython",
    "version": 3
   },
   "file_extension": ".py",
   "mimetype": "text/x-python",
   "name": "python",
   "nbconvert_exporter": "python",
   "pygments_lexer": "ipython3",
   "version": "3.8.10"
  },
  "toc-autonumbering": false,
  "toc-showcode": false,
  "toc-showmarkdowntxt": false
 },
 "nbformat": 4,
 "nbformat_minor": 5
}
