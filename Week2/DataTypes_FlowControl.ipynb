{
 "cells": [
  {
   "cell_type": "markdown",
   "id": "56435ab0-7540-4551-87e3-7055f44af354",
   "metadata": {},
   "source": [
    "# Data types and flow control\n",
    "### as commonly used in neuroscience\n",
    "18 June 2021<br>\n",
    "NRSC 7657<br>\n",
    "Daniel J Denman and John Thompson<br>\n",
    "University of Colorado Anschutz<br>\n",
    "<br>"
   ]
  },
  {
   "cell_type": "markdown",
   "id": "196ee0d1-aa43-4995-931a-1aa71d2fed74",
   "metadata": {},
   "source": [
    "whether defined in native python (`str`, `int`, ...) or by a package `numpy.int16`,`numpy.ndarray`),\n",
    "#### many data types are straighforward:"
   ]
  },
  {
   "cell_type": "code",
   "execution_count": 2,
   "id": "3f145b83-9fb9-4eb8-96b5-4dea0e8bba9e",
   "metadata": {},
   "outputs": [],
   "source": [
    "#float: any number with decimals\n",
    "_float = 16.0\n",
    "_float2 = 16.2\n",
    "\n",
    "#int: any number without decimals. \n",
    "_int = 16\n",
    "_float_fancy_saving_characters = 16.\n",
    "\n",
    "#complex number are also a type but we won't have to use them much if ever in the normal course oof things:\n",
    "_complex = complex(16,1)"
   ]
  },
  {
   "cell_type": "markdown",
   "id": "2c6ffef2-5326-41e6-bb6d-04268b780415",
   "metadata": {},
   "source": [
    "strings are the way to do things with letters"
   ]
  },
  {
   "cell_type": "code",
   "execution_count": 14,
   "id": "f1646ff3-37db-4122-9ce6-6f69709a7d59",
   "metadata": {},
   "outputs": [],
   "source": [
    "_string = 'letters'"
   ]
  },
  {
   "cell_type": "markdown",
   "id": "e64ce609-3546-441f-894f-7e7be241dc91",
   "metadata": {},
   "source": [
    "finally, native python ways to group things: lists and dictionaries. "
   ]
  },
  {
   "cell_type": "code",
   "execution_count": 10,
   "id": "c7a8328a-ef04-4d4d-9a51-5d58c8ea45d9",
   "metadata": {},
   "outputs": [],
   "source": [
    "_list = [1,2,3]\n",
    "_dict = {'key1':1,\n",
    "         'key2':2.,\n",
    "         'key3':'three'}"
   ]
  },
  {
   "cell_type": "markdown",
   "id": "4bf95893-5d93-44dd-a6df-a418fc5bf26e",
   "metadata": {},
   "source": [
    "note that strings can be indexed like lists"
   ]
  },
  {
   "cell_type": "code",
   "execution_count": 15,
   "id": "8e3e9a88-fb2c-48b9-bdd9-f8d7a818eb52",
   "metadata": {},
   "outputs": [
    {
     "data": {
      "text/plain": [
       "'l'"
      ]
     },
     "execution_count": 15,
     "metadata": {},
     "output_type": "execute_result"
    }
   ],
   "source": [
    "_string[0]"
   ]
  },
  {
   "cell_type": "markdown",
   "id": "8353c25b-b687-43e1-839d-2aaf9d57fcb0",
   "metadata": {},
   "source": [
    "another important native type: `bool`:"
   ]
  },
  {
   "cell_type": "code",
   "execution_count": 20,
   "id": "77933842-5196-4b28-83e8-c57aab03ba9a",
   "metadata": {},
   "outputs": [],
   "source": [
    "_bool = True"
   ]
  },
  {
   "cell_type": "markdown",
   "id": "ba489302-65e4-4430-ae75-2516b47573b7",
   "metadata": {},
   "source": [
    "why did i put underscores? let's use `type()`, the python function for checkingcomparison `==` to see why"
   ]
  },
  {
   "cell_type": "code",
   "execution_count": 9,
   "id": "0c6c37a8-5058-4bdf-af89-37aa9373db5a",
   "metadata": {},
   "outputs": [
    {
     "data": {
      "text/plain": [
       "float"
      ]
     },
     "execution_count": 9,
     "metadata": {},
     "output_type": "execute_result"
    }
   ],
   "source": [
    "type(_float)"
   ]
  },
  {
   "cell_type": "code",
   "execution_count": 3,
   "id": "1adc9f6d-2971-459d-bfc1-a68e79eed6de",
   "metadata": {},
   "outputs": [
    {
     "data": {
      "text/plain": [
       "True"
      ]
     },
     "execution_count": 3,
     "metadata": {},
     "output_type": "execute_result"
    }
   ],
   "source": [
    "float == type(_float)"
   ]
  },
  {
   "cell_type": "markdown",
   "id": "47da58cb-b0ff-4008-8f4a-6bf347bc3b9f",
   "metadata": {},
   "source": [
    "### This brings up namespaces - the way that variable names are defined. \n",
    "when you define something it lives in a *namespace* and has a *scope*. <br>\n",
    "the kernel namespace is, in fact, a dictionary in the kernel. this fact that it is a dictinary is itself not important, but that it is a simple mapping is <br>\n",
    "in the notebook, variables go in the kernal namespace, but they could also be in a function or classes's namespace. we will return to this as we make functions and classes today."
   ]
  },
  {
   "cell_type": "markdown",
   "id": "fe5bcb70-ec13-4859-984a-59e460f0bed1",
   "metadata": {},
   "source": [
    "## Everything in python is an object. \n",
    "This means that everything (...just about everything) has associated _properties_ and _methods_ <br>\n",
    "_properties_ are values"
   ]
  },
  {
   "cell_type": "code",
   "execution_count": null,
   "id": "f9d84717-847a-44c2-be38-e1f920821c90",
   "metadata": {},
   "outputs": [],
   "source": []
  },
  {
   "cell_type": "markdown",
   "id": "4974e62a-66f6-4935-9d9b-9ff83c292ff9",
   "metadata": {},
   "source": [
    "_methods_ are code, generally functions"
   ]
  },
  {
   "cell_type": "code",
   "execution_count": null,
   "id": "a87ca563-6786-47b8-b327-79efe84e556a",
   "metadata": {},
   "outputs": [],
   "source": []
  },
  {
   "cell_type": "markdown",
   "id": "b80c813c-1179-431c-8197-f0198e57fcde",
   "metadata": {},
   "source": [
    "we will come back to this object-associated code, and how it becomes associated with some object, but here are some examples:"
   ]
  },
  {
   "cell_type": "code",
   "execution_count": 18,
   "id": "b1db4d43-1b6f-4690-9a62-15f49ea70ec6",
   "metadata": {},
   "outputs": [
    {
     "data": {
      "text/plain": [
       "False"
      ]
     },
     "execution_count": 18,
     "metadata": {},
     "output_type": "execute_result"
    }
   ],
   "source": [
    "_float2.is_integer()"
   ]
  },
  {
   "cell_type": "code",
   "execution_count": 17,
   "id": "843d1dbf-05b6-4a42-b526-da0f0e23752e",
   "metadata": {},
   "outputs": [
    {
     "data": {
      "text/plain": [
       "True"
      ]
     },
     "execution_count": 17,
     "metadata": {},
     "output_type": "execute_result"
    }
   ],
   "source": [
    "_string.startswith('l')"
   ]
  },
  {
   "cell_type": "code",
   "execution_count": 26,
   "id": "c1a88030-42ac-4058-b927-9b398b20a7dc",
   "metadata": {},
   "outputs": [
    {
     "data": {
      "text/plain": [
       "\u001b[0;31mDocstring:\u001b[0m\n",
       "S.startswith(prefix[, start[, end]]) -> bool\n",
       "\n",
       "Return True if S starts with the specified prefix, False otherwise.\n",
       "With optional start, test S beginning at that position.\n",
       "With optional end, stop comparing S at that position.\n",
       "prefix can also be a tuple of strings to try.\n",
       "\u001b[0;31mType:\u001b[0m      builtin_function_or_method\n"
      ]
     },
     "metadata": {},
     "output_type": "display_data"
    }
   ],
   "source": [
    "_string.startswith?"
   ]
  },
  {
   "cell_type": "markdown",
   "id": "0c275b4b-68e0-4e8f-a1e7-476584a9797b",
   "metadata": {},
   "source": [
    "### Functions are ways to repeat code snippets that you have validated, without copying and pasting. \n",
    "A function can be thought of as a program that operates on input. Functions can have zero input argumnets, taking there inputs from a dynamic source, but more typically have 1+ input arguments which are passed in `()`. Functions only run when they are called. <br><br>\n",
    "Let's recreate `startswith()` as our own function. We'll also go through some python flow control as we do. this will include `for`, `if-else`, `pass` and `break`, and `while` statements"
   ]
  },
  {
   "cell_type": "code",
   "execution_count": null,
   "id": "76d6df4e-660b-499b-9258-c835af4bc99e",
   "metadata": {},
   "outputs": [],
   "source": [
    "startswith()"
   ]
  },
  {
   "cell_type": "markdown",
   "id": "392cf665-37fb-4e49-9007-9c9ca7376c42",
   "metadata": {},
   "source": [
    "** --> we just used `_string.startswith('l')`, why didn't this work? **"
   ]
  },
  {
   "cell_type": "markdown",
   "id": "73f14055-9959-4c05-9b58-12442b2b2f56",
   "metadata": {},
   "source": [
    "first, let's prototype what we want to accomplish in a cell or some cells"
   ]
  },
  {
   "cell_type": "code",
   "execution_count": null,
   "id": "000381f2-23ea-4536-bd43-351beaa6c219",
   "metadata": {},
   "outputs": [],
   "source": []
  },
  {
   "cell_type": "code",
   "execution_count": null,
   "id": "e5f54981-1a77-4808-a613-0d43fdc56a27",
   "metadata": {},
   "outputs": [],
   "source": [
    "def startswith():\n",
    "    return "
   ]
  },
  {
   "cell_type": "markdown",
   "id": "541a8fe5-2bea-4acb-a60b-651f51cac76c",
   "metadata": {},
   "source": [
    "don't forget default arguments"
   ]
  },
  {
   "cell_type": "markdown",
   "id": "da2af89b-004a-4006-89f0-6843ada2d616",
   "metadata": {},
   "source": [
    "functions can be defined in a notebook, or imported from a .py file or package. "
   ]
  },
  {
   "cell_type": "markdown",
   "id": "3ca1989e-f363-40e4-a4cc-430bd0c3b800",
   "metadata": {},
   "source": [
    "other flow control: `try-except`, `while`\n",
    "<br>also `switch-case` for MATLAB (and soon python)"
   ]
  },
  {
   "cell_type": "markdown",
   "id": "a3e0569f-55e0-41ce-ae2b-03f92e41becb",
   "metadata": {},
   "source": [
    "## Classes: making your own objects\n",
    "Classes are a way to make bundles of your own objects, entities with their own properties and methods that you define. "
   ]
  },
  {
   "cell_type": "code",
   "execution_count": null,
   "id": "439704f6-4d87-425e-9ae4-3127ecbc2d84",
   "metadata": {},
   "outputs": [],
   "source": [
    "class "
   ]
  },
  {
   "cell_type": "code",
   "execution_count": null,
   "id": "74397264-a95a-4600-b7c1-3934edb9ad6c",
   "metadata": {},
   "outputs": [],
   "source": []
  },
  {
   "cell_type": "markdown",
   "id": "c87671e2-af2b-4af0-a82d-eb9585aa408a",
   "metadata": {},
   "source": [
    "# some commonly encountered data structures\n",
    "\n",
    "## numpy: ndarray\n",
    "this is almost so ubiquitous it belongs above, in the basic data types section. the ndarray is the matrix of python, the n-dimensional data structure where most any data are stored and transformed."
   ]
  },
  {
   "cell_type": "code",
   "execution_count": 21,
   "id": "637beb37-f2f5-4462-b646-104570363cf2",
   "metadata": {},
   "outputs": [],
   "source": [
    "import numpy as np"
   ]
  },
  {
   "cell_type": "code",
   "execution_count": 22,
   "id": "7b4197be-50cc-46de-976b-aa78327a40d6",
   "metadata": {},
   "outputs": [
    {
     "data": {
      "text/plain": [
       "array([1, 2, 3])"
      ]
     },
     "execution_count": 22,
     "metadata": {},
     "output_type": "execute_result"
    }
   ],
   "source": [
    "np.array([1,2,3])"
   ]
  },
  {
   "cell_type": "markdown",
   "id": "2a8eaeb8-2784-455e-92f6-d850d61ad84e",
   "metadata": {},
   "source": [
    "note that lists can be \"ragged\" (sometimes also called \"jagged\"), where as nddarrays (like matrices) are always rectangular"
   ]
  },
  {
   "cell_type": "code",
   "execution_count": null,
   "id": "8043700d-089e-4d72-9422-a939ffbbcd73",
   "metadata": {},
   "outputs": [],
   "source": []
  },
  {
   "cell_type": "markdown",
   "id": "a8589518-7a5f-4d5f-a675-e78cb0e21882",
   "metadata": {},
   "source": [
    "time series are 1D; images are 2D (or potentially 3D if color); movies are 3D (or potentially 4D if color). "
   ]
  },
  {
   "cell_type": "code",
   "execution_count": null,
   "id": "8ff8dc5a-ed4b-4764-b551-5dd34041ab14",
   "metadata": {},
   "outputs": [],
   "source": []
  },
  {
   "cell_type": "markdown",
   "id": "6a09d74e-dd21-458b-81b0-8df7945ad442",
   "metadata": {},
   "source": [
    "## pandas\n",
    "#### tables for your tabular data needs\n",
    "if you were going to do that in Excel, you can do it with pandas. probably faster, and then you can do more stuff with the results"
   ]
  },
  {
   "cell_type": "code",
   "execution_count": 23,
   "id": "db3b7bec-ace9-4e5d-9c95-f3fe910f3172",
   "metadata": {},
   "outputs": [],
   "source": [
    "import pandas as pd"
   ]
  },
  {
   "cell_type": "code",
   "execution_count": 24,
   "id": "3b2a18ac-ac06-4b13-a9e7-225cd23087ac",
   "metadata": {},
   "outputs": [
    {
     "data": {
      "text/html": [
       "<div>\n",
       "<style scoped>\n",
       "    .dataframe tbody tr th:only-of-type {\n",
       "        vertical-align: middle;\n",
       "    }\n",
       "\n",
       "    .dataframe tbody tr th {\n",
       "        vertical-align: top;\n",
       "    }\n",
       "\n",
       "    .dataframe thead th {\n",
       "        text-align: right;\n",
       "    }\n",
       "</style>\n",
       "<table border=\"1\" class=\"dataframe\">\n",
       "  <thead>\n",
       "    <tr style=\"text-align: right;\">\n",
       "      <th></th>\n",
       "      <th>sepal.length</th>\n",
       "      <th>sepal.width</th>\n",
       "      <th>petal.length</th>\n",
       "      <th>petal.width</th>\n",
       "      <th>variety</th>\n",
       "    </tr>\n",
       "  </thead>\n",
       "  <tbody>\n",
       "    <tr>\n",
       "      <th>0</th>\n",
       "      <td>5.1</td>\n",
       "      <td>3.5</td>\n",
       "      <td>1.4</td>\n",
       "      <td>0.2</td>\n",
       "      <td>Setosa</td>\n",
       "    </tr>\n",
       "    <tr>\n",
       "      <th>1</th>\n",
       "      <td>4.9</td>\n",
       "      <td>3.0</td>\n",
       "      <td>1.4</td>\n",
       "      <td>0.2</td>\n",
       "      <td>Setosa</td>\n",
       "    </tr>\n",
       "    <tr>\n",
       "      <th>2</th>\n",
       "      <td>4.7</td>\n",
       "      <td>3.2</td>\n",
       "      <td>1.3</td>\n",
       "      <td>0.2</td>\n",
       "      <td>Setosa</td>\n",
       "    </tr>\n",
       "    <tr>\n",
       "      <th>3</th>\n",
       "      <td>4.6</td>\n",
       "      <td>3.1</td>\n",
       "      <td>1.5</td>\n",
       "      <td>0.2</td>\n",
       "      <td>Setosa</td>\n",
       "    </tr>\n",
       "    <tr>\n",
       "      <th>4</th>\n",
       "      <td>5.0</td>\n",
       "      <td>3.6</td>\n",
       "      <td>1.4</td>\n",
       "      <td>0.2</td>\n",
       "      <td>Setosa</td>\n",
       "    </tr>\n",
       "    <tr>\n",
       "      <th>...</th>\n",
       "      <td>...</td>\n",
       "      <td>...</td>\n",
       "      <td>...</td>\n",
       "      <td>...</td>\n",
       "      <td>...</td>\n",
       "    </tr>\n",
       "    <tr>\n",
       "      <th>145</th>\n",
       "      <td>6.7</td>\n",
       "      <td>3.0</td>\n",
       "      <td>5.2</td>\n",
       "      <td>2.3</td>\n",
       "      <td>Virginica</td>\n",
       "    </tr>\n",
       "    <tr>\n",
       "      <th>146</th>\n",
       "      <td>6.3</td>\n",
       "      <td>2.5</td>\n",
       "      <td>5.0</td>\n",
       "      <td>1.9</td>\n",
       "      <td>Virginica</td>\n",
       "    </tr>\n",
       "    <tr>\n",
       "      <th>147</th>\n",
       "      <td>6.5</td>\n",
       "      <td>3.0</td>\n",
       "      <td>5.2</td>\n",
       "      <td>2.0</td>\n",
       "      <td>Virginica</td>\n",
       "    </tr>\n",
       "    <tr>\n",
       "      <th>148</th>\n",
       "      <td>6.2</td>\n",
       "      <td>3.4</td>\n",
       "      <td>5.4</td>\n",
       "      <td>2.3</td>\n",
       "      <td>Virginica</td>\n",
       "    </tr>\n",
       "    <tr>\n",
       "      <th>149</th>\n",
       "      <td>5.9</td>\n",
       "      <td>3.0</td>\n",
       "      <td>5.1</td>\n",
       "      <td>1.8</td>\n",
       "      <td>Virginica</td>\n",
       "    </tr>\n",
       "  </tbody>\n",
       "</table>\n",
       "<p>150 rows × 5 columns</p>\n",
       "</div>"
      ],
      "text/plain": [
       "     sepal.length  sepal.width  petal.length  petal.width    variety\n",
       "0             5.1          3.5           1.4          0.2     Setosa\n",
       "1             4.9          3.0           1.4          0.2     Setosa\n",
       "2             4.7          3.2           1.3          0.2     Setosa\n",
       "3             4.6          3.1           1.5          0.2     Setosa\n",
       "4             5.0          3.6           1.4          0.2     Setosa\n",
       "..            ...          ...           ...          ...        ...\n",
       "145           6.7          3.0           5.2          2.3  Virginica\n",
       "146           6.3          2.5           5.0          1.9  Virginica\n",
       "147           6.5          3.0           5.2          2.0  Virginica\n",
       "148           6.2          3.4           5.4          2.3  Virginica\n",
       "149           5.9          3.0           5.1          1.8  Virginica\n",
       "\n",
       "[150 rows x 5 columns]"
      ]
     },
     "execution_count": 24,
     "metadata": {},
     "output_type": "execute_result"
    }
   ],
   "source": [
    "pd.read_csv('iris.csv')"
   ]
  },
  {
   "cell_type": "markdown",
   "id": "3eaa382e-fb6a-4452-8480-1aa181745e98",
   "metadata": {},
   "source": [
    "## Neurodata Without Borders\n",
    "#### a unified format for neuroscience data"
   ]
  },
  {
   "cell_type": "code",
   "execution_count": null,
   "id": "b6cf304b-0703-4f47-872e-69dd1d144057",
   "metadata": {},
   "outputs": [],
   "source": []
  },
  {
   "cell_type": "markdown",
   "id": "caa316e4-be33-4d8f-9ebb-fa1b9ab774c8",
   "metadata": {},
   "source": [
    "## xarray\n",
    "#### pandas functionality with more dimensions. alternatively, ndarrrays with labels"
   ]
  },
  {
   "cell_type": "code",
   "execution_count": null,
   "id": "4d74ca44-a35a-4305-a12c-c0fc4295e189",
   "metadata": {},
   "outputs": [],
   "source": []
  }
 ],
 "metadata": {
  "kernelspec": {
   "display_name": "Python 3",
   "language": "python",
   "name": "python3"
  },
  "language_info": {
   "codemirror_mode": {
    "name": "ipython",
    "version": 3
   },
   "file_extension": ".py",
   "mimetype": "text/x-python",
   "name": "python",
   "nbconvert_exporter": "python",
   "pygments_lexer": "ipython3",
   "version": "3.8.10"
  },
  "toc-autonumbering": false,
  "toc-showcode": false,
  "toc-showmarkdowntxt": false
 },
 "nbformat": 4,
 "nbformat_minor": 5
}
