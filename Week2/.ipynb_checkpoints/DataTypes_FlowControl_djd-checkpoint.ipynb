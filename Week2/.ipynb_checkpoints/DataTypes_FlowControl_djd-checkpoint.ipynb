{
 "cells": [
  {
   "cell_type": "markdown",
   "id": "56435ab0-7540-4551-87e3-7055f44af354",
   "metadata": {},
   "source": [
    "# Data types and flow control\n",
    "### as commonly used in neuroscience\n",
    "18 June 2021<br>\n",
    "NRSC 7657<br>\n",
    "Daniel J Denman and John Thompson<br>\n",
    "University of Colorado Anschutz<br>\n",
    "<br>"
   ]
  },
  {
   "cell_type": "markdown",
   "id": "196ee0d1-aa43-4995-931a-1aa71d2fed74",
   "metadata": {},
   "source": [
    "whether defined in native python (`str`, `int`, ...) or by a package `numpy.int16`,`numpy.ndarray`),\n",
    "#### many data types are straighforward:"
   ]
  },
  {
   "cell_type": "code",
   "execution_count": 62,
   "id": "3f145b83-9fb9-4eb8-96b5-4dea0e8bba9e",
   "metadata": {},
   "outputs": [],
   "source": [
    "#float: any number with decimals\n",
    "_float = 16.0\n",
    "_float2 = 16.2\n",
    "\n",
    "#int: any number without decimals. \n",
    "_int = 16\n",
    "_float_fancy_saving_characters = 16.\n",
    "\n",
    "#complex number are also a type but we won't have to use them much if ever in the normal course oof things:\n",
    "_complex = complex(16,1)"
   ]
  },
  {
   "cell_type": "markdown",
   "id": "2c6ffef2-5326-41e6-bb6d-04268b780415",
   "metadata": {},
   "source": [
    "strings are the way to do things with letters"
   ]
  },
  {
   "cell_type": "code",
   "execution_count": 14,
   "id": "f1646ff3-37db-4122-9ce6-6f69709a7d59",
   "metadata": {},
   "outputs": [],
   "source": [
    "_string = 'letters'"
   ]
  },
  {
   "cell_type": "markdown",
   "id": "e64ce609-3546-441f-894f-7e7be241dc91",
   "metadata": {},
   "source": [
    "finally, native python ways to group things: lists and dictionaries. "
   ]
  },
  {
   "cell_type": "code",
   "execution_count": 10,
   "id": "c7a8328a-ef04-4d4d-9a51-5d58c8ea45d9",
   "metadata": {},
   "outputs": [],
   "source": [
    "_list = [1,2,3]\n",
    "_dict = {'key1':1,\n",
    "         'key2':2.,\n",
    "         'key3':'three'}"
   ]
  },
  {
   "cell_type": "markdown",
   "id": "4bf95893-5d93-44dd-a6df-a418fc5bf26e",
   "metadata": {},
   "source": [
    "note that strings can be indexed like lists"
   ]
  },
  {
   "cell_type": "code",
   "execution_count": 15,
   "id": "8e3e9a88-fb2c-48b9-bdd9-f8d7a818eb52",
   "metadata": {},
   "outputs": [
    {
     "data": {
      "text/plain": [
       "'l'"
      ]
     },
     "execution_count": 15,
     "metadata": {},
     "output_type": "execute_result"
    }
   ],
   "source": [
    "_string[0]"
   ]
  },
  {
   "cell_type": "markdown",
   "id": "8353c25b-b687-43e1-839d-2aaf9d57fcb0",
   "metadata": {},
   "source": [
    "another important native type: `bool`:"
   ]
  },
  {
   "cell_type": "code",
   "execution_count": 20,
   "id": "77933842-5196-4b28-83e8-c57aab03ba9a",
   "metadata": {},
   "outputs": [],
   "source": [
    "_bool = True"
   ]
  },
  {
   "cell_type": "markdown",
   "id": "ba489302-65e4-4430-ae75-2516b47573b7",
   "metadata": {},
   "source": [
    "why did i put underscores? let's use `type()`, the python function for checkingcomparison `==` to see why"
   ]
  },
  {
   "cell_type": "code",
   "execution_count": 9,
   "id": "0c6c37a8-5058-4bdf-af89-37aa9373db5a",
   "metadata": {},
   "outputs": [
    {
     "data": {
      "text/plain": [
       "float"
      ]
     },
     "execution_count": 9,
     "metadata": {},
     "output_type": "execute_result"
    }
   ],
   "source": [
    "type(_float)"
   ]
  },
  {
   "cell_type": "code",
   "execution_count": 3,
   "id": "1adc9f6d-2971-459d-bfc1-a68e79eed6de",
   "metadata": {},
   "outputs": [
    {
     "data": {
      "text/plain": [
       "True"
      ]
     },
     "execution_count": 3,
     "metadata": {},
     "output_type": "execute_result"
    }
   ],
   "source": [
    "float == type(_float)"
   ]
  },
  {
   "cell_type": "markdown",
   "id": "341087c5-062c-4845-9597-222a14e7f31a",
   "metadata": {},
   "source": [
    "finally, floating point numbers have precision of encoding in computers, and this precision can matter (but usually won't). numpy as all the [numerical types](https://numpy.org/doc/stable/user/basics.types.html) you will need. "
   ]
  },
  {
   "cell_type": "code",
   "execution_count": 61,
   "id": "8bbd4a84-d2f9-4f8d-95c5-f3508c88c665",
   "metadata": {},
   "outputs": [],
   "source": [
    "import numpy as np"
   ]
  },
  {
   "cell_type": "code",
   "execution_count": 67,
   "id": "3c355436-2946-497d-82d7-dea0a4021d2a",
   "metadata": {},
   "outputs": [
    {
     "name": "stdout",
     "output_type": "stream",
     "text": [
      "16\n",
      "16\n",
      "16\n",
      "16.2\n",
      "16.2\n"
     ]
    }
   ],
   "source": [
    "print(np.int16(_float2))\n",
    "print(np.uint16(_float2))\n",
    "print(np.uint8(_float2))\n",
    "print(np.single(_float2))\n",
    "print(np.double(_float2))"
   ]
  },
  {
   "cell_type": "markdown",
   "id": "47da58cb-b0ff-4008-8f4a-6bf347bc3b9f",
   "metadata": {},
   "source": [
    "### This brings up namespaces - the way that variable names are defined. \n",
    "when you define something it lives in a *namespace* and has a *scope*. <br>\n",
    "the kernel namespace is, in fact, a dictionary in the kernel. this fact that it is a dictinary is itself not important, but that it is a simple mapping is <br>\n",
    "in the notebook, variables go in the kernal namespace, but they could also be in a function or classes's namespace. we will return to this as we make functions and classes today."
   ]
  },
  {
   "cell_type": "code",
   "execution_count": null,
   "id": "9e6e1743-b7d7-40e1-a5c8-a8e335b76dd3",
   "metadata": {},
   "outputs": [],
   "source": [
    "#in ipython (like jupyter, or like in vscode) green things have a meaning in the namespace that you didn't define"
   ]
  },
  {
   "cell_type": "markdown",
   "id": "fe5bcb70-ec13-4859-984a-59e460f0bed1",
   "metadata": {},
   "source": [
    "## Everything in python is an object. \n",
    "This means that everything (...just about everything) has associated _properties_ and _methods_ <br>\n",
    "_properties_ are values"
   ]
  },
  {
   "cell_type": "code",
   "execution_count": null,
   "id": "f9d84717-847a-44c2-be38-e1f920821c90",
   "metadata": {},
   "outputs": [],
   "source": []
  },
  {
   "cell_type": "markdown",
   "id": "4974e62a-66f6-4935-9d9b-9ff83c292ff9",
   "metadata": {},
   "source": [
    "_methods_ are code, generally functions"
   ]
  },
  {
   "cell_type": "code",
   "execution_count": null,
   "id": "a87ca563-6786-47b8-b327-79efe84e556a",
   "metadata": {},
   "outputs": [],
   "source": []
  },
  {
   "cell_type": "markdown",
   "id": "b80c813c-1179-431c-8197-f0198e57fcde",
   "metadata": {},
   "source": [
    "we will come back to this object-associated code, and how it becomes associated with some object, but here are some examples:"
   ]
  },
  {
   "cell_type": "code",
   "execution_count": 18,
   "id": "b1db4d43-1b6f-4690-9a62-15f49ea70ec6",
   "metadata": {},
   "outputs": [
    {
     "data": {
      "text/plain": [
       "False"
      ]
     },
     "execution_count": 18,
     "metadata": {},
     "output_type": "execute_result"
    }
   ],
   "source": [
    "_float2.is_integer()"
   ]
  },
  {
   "cell_type": "code",
   "execution_count": 17,
   "id": "843d1dbf-05b6-4a42-b526-da0f0e23752e",
   "metadata": {},
   "outputs": [
    {
     "data": {
      "text/plain": [
       "True"
      ]
     },
     "execution_count": 17,
     "metadata": {},
     "output_type": "execute_result"
    }
   ],
   "source": [
    "_string.startswith('l')"
   ]
  },
  {
   "cell_type": "code",
   "execution_count": 26,
   "id": "c1a88030-42ac-4058-b927-9b398b20a7dc",
   "metadata": {},
   "outputs": [
    {
     "data": {
      "text/plain": [
       "\u001b[0;31mDocstring:\u001b[0m\n",
       "S.startswith(prefix[, start[, end]]) -> bool\n",
       "\n",
       "Return True if S starts with the specified prefix, False otherwise.\n",
       "With optional start, test S beginning at that position.\n",
       "With optional end, stop comparing S at that position.\n",
       "prefix can also be a tuple of strings to try.\n",
       "\u001b[0;31mType:\u001b[0m      builtin_function_or_method\n"
      ]
     },
     "metadata": {},
     "output_type": "display_data"
    }
   ],
   "source": [
    "_string.startswith?"
   ]
  },
  {
   "cell_type": "markdown",
   "id": "0c275b4b-68e0-4e8f-a1e7-476584a9797b",
   "metadata": {},
   "source": [
    "### Functions are ways to repeat code snippets that you have validated, without copying and pasting. \n",
    "A function can be thought of as a program that operates on input. Functions can have zero input argumnets, taking there inputs from a dynamic source, but more typically have 1+ input arguments which are passed in `()`. Functions only run when they are called. <br><br>\n",
    "Let's recreate `startswith()` as our own function. We'll also go through some python flow control as we do. this will include `for`, `if-else`, `pass` and `break`, and `while` statements"
   ]
  },
  {
   "cell_type": "code",
   "execution_count": null,
   "id": "76d6df4e-660b-499b-9258-c835af4bc99e",
   "metadata": {},
   "outputs": [],
   "source": [
    "startswith()"
   ]
  },
  {
   "cell_type": "markdown",
   "id": "392cf665-37fb-4e49-9007-9c9ca7376c42",
   "metadata": {},
   "source": [
    "** --> we just used `_string.startswith('l')`, why didn't this work? **"
   ]
  },
  {
   "cell_type": "markdown",
   "id": "73f14055-9959-4c05-9b58-12442b2b2f56",
   "metadata": {},
   "source": [
    "first, let's prototype what we want to accomplish in a cell or some cells"
   ]
  },
  {
   "cell_type": "code",
   "execution_count": null,
   "id": "000381f2-23ea-4536-bd43-351beaa6c219",
   "metadata": {},
   "outputs": [],
   "source": []
  },
  {
   "cell_type": "code",
   "execution_count": null,
   "id": "e5f54981-1a77-4808-a613-0d43fdc56a27",
   "metadata": {},
   "outputs": [],
   "source": [
    "def startswith():\n",
    "    return "
   ]
  },
  {
   "cell_type": "markdown",
   "id": "541a8fe5-2bea-4acb-a60b-651f51cac76c",
   "metadata": {},
   "source": [
    "don't forget default arguments"
   ]
  },
  {
   "cell_type": "markdown",
   "id": "da2af89b-004a-4006-89f0-6843ada2d616",
   "metadata": {},
   "source": [
    "functions can be defined in a notebook, or imported from a .py file or package. "
   ]
  },
  {
   "cell_type": "markdown",
   "id": "3ca1989e-f363-40e4-a4cc-430bd0c3b800",
   "metadata": {},
   "source": [
    "other flow control: `try-except`, `while`\n",
    "<br>also `switch-case` for MATLAB (and soon python)"
   ]
  },
  {
   "cell_type": "markdown",
   "id": "a3e0569f-55e0-41ce-ae2b-03f92e41becb",
   "metadata": {},
   "source": [
    "## Classes: making your own objects\n",
    "Classes are a way to make bundles of your own objects, entities with their own properties and methods that you define. "
   ]
  },
  {
   "cell_type": "code",
   "execution_count": 41,
   "id": "439704f6-4d87-425e-9ae4-3127ecbc2d84",
   "metadata": {},
   "outputs": [],
   "source": [
    "class ThingWeMade:\n",
    "    def __init__(self):\n",
    "        self.thing='neuron'\n",
    "        \n",
    "        self.start()\n",
    "    \n",
    "    def start(self):\n",
    "        self.thing2='neuron'\n",
    "        \n",
    "    def fire(self):\n",
    "        self.spike = self.thing+' fires an action potential'\n",
    "        print(self.spike)\n",
    "        \n",
    "    def fire_a_thing(self,input_string):\n",
    "        self.spike = self.thing+' fires an '+input_string\n",
    "        print(self.spike)"
   ]
  },
  {
   "cell_type": "code",
   "execution_count": 46,
   "id": "17bff1f2-9dc6-4357-bc8f-3d9a2edf5bcb",
   "metadata": {},
   "outputs": [],
   "source": [
    "t = ThingWeMade()"
   ]
  },
  {
   "cell_type": "markdown",
   "id": "1ad500ee-bf3a-45ac-9f2c-0f23af2f2ec3",
   "metadata": {},
   "source": [
    "when you use your class the first time, you are creating a new *instance* of that class. that instance has all of the* attributes*(*properties* and *methods* of the parent )"
   ]
  },
  {
   "cell_type": "code",
   "execution_count": null,
   "id": "eec0a820-b2c3-4cbe-9209-2ec37fb471d8",
   "metadata": {},
   "outputs": [],
   "source": [
    "t2 = "
   ]
  },
  {
   "cell_type": "markdown",
   "id": "74797312-28d0-4290-8f1e-6b749aab1f0b",
   "metadata": {},
   "source": [
    "notice that i capitalized and camelcased or CapWords'd `ThingWeMade`. this is the convention according to [PEP8](https://www.python.org/dev/peps/pep-0008/#class-names). it is not required, but it might help you understand someone else's code if that person is following convention. (also PEP means Python Enhancement Proposal and it is where the core python developers propose, debate, and make rules and changes to how core python works.)"
   ]
  },
  {
   "cell_type": "markdown",
   "id": "34c3ddcd-f2e1-4314-a3ff-65006f3a18a8",
   "metadata": {},
   "source": [
    "Finally, an example of inheritance:"
   ]
  },
  {
   "cell_type": "code",
   "execution_count": 52,
   "id": "9a9124f9-fdbb-4385-90e8-88abd78b5a3e",
   "metadata": {},
   "outputs": [],
   "source": [
    "class ABetterThing(ThingWeMade):\n",
    "    def __init__(self):\n",
    "        self.newthing='better'\n",
    "        ThingWeMade.__init__(self)\n",
    "        \n",
    "    def make_it_better(self):\n",
    "        print(self.thing+' '+self.newthing)"
   ]
  },
  {
   "cell_type": "code",
   "execution_count": 55,
   "id": "bd265b3f-922a-41b4-9cbb-66ead72e0570",
   "metadata": {},
   "outputs": [],
   "source": [
    "b = ABetterThing()"
   ]
  },
  {
   "cell_type": "code",
   "execution_count": 57,
   "id": "5753cfee-7650-4b47-a3dc-a8f05210647c",
   "metadata": {},
   "outputs": [
    {
     "name": "stdout",
     "output_type": "stream",
     "text": [
      "neuron better\n"
     ]
    }
   ],
   "source": [
    "b.make_it_better()"
   ]
  },
  {
   "cell_type": "code",
   "execution_count": 60,
   "id": "17333832-ccfd-48b6-98dc-e57fcbcfd7cd",
   "metadata": {},
   "outputs": [
    {
     "name": "stdout",
     "output_type": "stream",
     "text": [
      "neuron fires an gin\n"
     ]
    }
   ],
   "source": [
    "b.fire_a_thing('gin')"
   ]
  },
  {
   "cell_type": "markdown",
   "id": "265ff688-5af0-4973-b75d-064ded5a6e36",
   "metadata": {},
   "source": [
    "Classes are generally not something you'd create in a notebook workflow, although you could. You will find classes in more complete codebases especially in packages, where you will make an instance of a class and then pass it your data, so you can then use the class methods to do whatever it is (`scikit-learn`, the most popular and flexible ML codebase, works like this, where many of it's analyses are classes that you train and then you can use that trained class to test on other data.). One of my lab's behavioral paradigms is also a monster class. "
   ]
  },
  {
   "cell_type": "markdown",
   "id": "ce6698d7-8b6f-4cab-beeb-b1cb0a1b3775",
   "metadata": {},
   "source": [
    "### Summary:\n",
    "Why classes and functions? \n",
    "- organization: if you need to fix a bit of code, and it is in a function, you fix it once and then it works wherever it is called. if you copy pastaed...\n",
    "- reproducability: your function does the thing it is expected to (if it is correct), and not some slighly different thing than the copy pastaed v4 of the code snippet\n",
    "- readability: one line of a function call with a descriptive name is a lot more readable than a bunch of code. same for classes, ABetterThing.thing is more readable than many many variables with names like thing_for_ABetterThing. "
   ]
  },
  {
   "cell_type": "markdown",
   "id": "c87671e2-af2b-4af0-a82d-eb9585aa408a",
   "metadata": {},
   "source": [
    "# some commonly encountered data structures\n",
    "\n",
    "## numpy: ndarray\n",
    "this is almost so ubiquitous it belongs above, in the basic data types section. the ndarray is the matrix of python, the n-dimensional data structure where most any data are stored and transformed."
   ]
  },
  {
   "cell_type": "code",
   "execution_count": 21,
   "id": "637beb37-f2f5-4462-b646-104570363cf2",
   "metadata": {},
   "outputs": [],
   "source": [
    "import numpy as np"
   ]
  },
  {
   "cell_type": "code",
   "execution_count": 22,
   "id": "7b4197be-50cc-46de-976b-aa78327a40d6",
   "metadata": {},
   "outputs": [
    {
     "data": {
      "text/plain": [
       "array([1, 2, 3])"
      ]
     },
     "execution_count": 22,
     "metadata": {},
     "output_type": "execute_result"
    }
   ],
   "source": [
    "a = np.array([1,2,3])"
   ]
  },
  {
   "cell_type": "code",
   "execution_count": null,
   "id": "cae0f4d5-db96-4309-b4da-273f4488c646",
   "metadata": {},
   "outputs": [],
   "source": [
    "type(a)"
   ]
  },
  {
   "cell_type": "markdown",
   "id": "2a8eaeb8-2784-455e-92f6-d850d61ad84e",
   "metadata": {},
   "source": [
    "note that lists can be \"ragged\" (sometimes also called \"jagged\"), where as ndarrays (like matrices) are always rectangular"
   ]
  },
  {
   "cell_type": "code",
   "execution_count": null,
   "id": "8043700d-089e-4d72-9422-a939ffbbcd73",
   "metadata": {},
   "outputs": [],
   "source": []
  },
  {
   "cell_type": "markdown",
   "id": "a8589518-7a5f-4d5f-a675-e78cb0e21882",
   "metadata": {},
   "source": [
    "time series are 1D; images are 2D (or potentially 3D if color); movies are 3D (or potentially 4D if color). "
   ]
  },
  {
   "cell_type": "code",
   "execution_count": 80,
   "id": "8ff8dc5a-ed4b-4764-b551-5dd34041ab14",
   "metadata": {},
   "outputs": [],
   "source": [
    "import matplotlib.pyplot as plt\n",
    "im=plt.imread('for_NRSC7657.png')"
   ]
  },
  {
   "cell_type": "code",
   "execution_count": 73,
   "id": "8b51baab-b017-4ca2-9f44-29ec86053f3b",
   "metadata": {},
   "outputs": [
    {
     "data": {
      "text/plain": [
       "<matplotlib.image.AxesImage at 0x7fb8b88ed220>"
      ]
     },
     "execution_count": 73,
     "metadata": {},
     "output_type": "execute_result"
    },
    {
     "data": {
      "image/png": "[encoded data removed]",
      "text/plain": [
       "<Figure size 432x288 with 1 Axes>"
      ]
     },
     "metadata": {
      "needs_background": "light"
     },
     "output_type": "display_data"
    }
   ],
   "source": [
    "plt.imshow(im[:100,:200])"
   ]
  },
  {
   "cell_type": "code",
   "execution_count": 74,
   "id": "6a474caa-b15f-4b56-ba74-0e4e476b99ec",
   "metadata": {},
   "outputs": [],
   "source": [
    "im[:100,:200]=12"
   ]
  },
  {
   "cell_type": "code",
   "execution_count": 78,
   "id": "2b5a9394-7ca5-4099-a6b7-a4b385dd95d3",
   "metadata": {},
   "outputs": [
    {
     "data": {
      "text/plain": [
       "<matplotlib.image.AxesImage at 0x7fb878067700>"
      ]
     },
     "execution_count": 78,
     "metadata": {},
     "output_type": "execute_result"
    },
    {
     "data": {
      "image/png": "[encoded data removed]",
      "text/plain": [
       "<Figure size 432x288 with 1 Axes>"
      ]
     },
     "metadata": {
      "needs_background": "light"
     },
     "output_type": "display_data"
    }
   ],
   "source": [
    "plt.imshow(np.array(im))"
   ]
  },
  {
   "cell_type": "markdown",
   "id": "6a09d74e-dd21-458b-81b0-8df7945ad442",
   "metadata": {},
   "source": [
    "## pandas and .csv / .xlsx files\n",
    "#### tables for your tabular data needs\n",
    "if you were going to do that in Excel, you can do it with pandas. probably faster, and then you can do more stuff with the results"
   ]
  },
  {
   "cell_type": "code",
   "execution_count": 84,
   "id": "db3b7bec-ace9-4e5d-9c95-f3fe910f3172",
   "metadata": {},
   "outputs": [],
   "source": [
    "import pandas as pd"
   ]
  },
  {
   "cell_type": "code",
   "execution_count": 84,
   "id": "fe60d10a-99e0-4ecb-8a26-f73e8b831f37",
   "metadata": {},
   "outputs": [],
   "source": [
    "import pandas as pd"
   ]
  },
  {
   "cell_type": "code",
   "execution_count": 159,
   "id": "cf7da00c-8781-4645-91ff-4a46523ecc2b",
   "metadata": {},
   "outputs": [],
   "source": [
    "df = pd.read_csv('iris.csv')"
   ]
  },
  {
   "cell_type": "code",
   "execution_count": 169,
   "id": "6aa9f89f-4ede-4748-be18-6c441b7296bf",
   "metadata": {},
   "outputs": [
    {
     "data": {
      "text/html": [
       "<div>\n",
       "<style scoped>\n",
       "    .dataframe tbody tr th:only-of-type {\n",
       "        vertical-align: middle;\n",
       "    }\n",
       "\n",
       "    .dataframe tbody tr th {\n",
       "        vertical-align: top;\n",
       "    }\n",
       "\n",
       "    .dataframe thead th {\n",
       "        text-align: right;\n",
       "    }\n",
       "</style>\n",
       "<table border=\"1\" class=\"dataframe\">\n",
       "  <thead>\n",
       "    <tr style=\"text-align: right;\">\n",
       "      <th></th>\n",
       "      <th>sepal.length</th>\n",
       "      <th>sepal.width</th>\n",
       "      <th>petal.length</th>\n",
       "      <th>petal.width</th>\n",
       "      <th>variety</th>\n",
       "    </tr>\n",
       "  </thead>\n",
       "  <tbody>\n",
       "    <tr>\n",
       "      <th>0</th>\n",
       "      <td>5.1</td>\n",
       "      <td>3.5</td>\n",
       "      <td>1.4</td>\n",
       "      <td>0.2</td>\n",
       "      <td>Setosa</td>\n",
       "    </tr>\n",
       "    <tr>\n",
       "      <th>1</th>\n",
       "      <td>4.9</td>\n",
       "      <td>3.0</td>\n",
       "      <td>1.4</td>\n",
       "      <td>0.2</td>\n",
       "      <td>Setosa</td>\n",
       "    </tr>\n",
       "    <tr>\n",
       "      <th>2</th>\n",
       "      <td>4.7</td>\n",
       "      <td>3.2</td>\n",
       "      <td>1.3</td>\n",
       "      <td>0.2</td>\n",
       "      <td>Setosa</td>\n",
       "    </tr>\n",
       "    <tr>\n",
       "      <th>3</th>\n",
       "      <td>4.6</td>\n",
       "      <td>3.1</td>\n",
       "      <td>1.5</td>\n",
       "      <td>0.2</td>\n",
       "      <td>Setosa</td>\n",
       "    </tr>\n",
       "    <tr>\n",
       "      <th>4</th>\n",
       "      <td>5.0</td>\n",
       "      <td>3.6</td>\n",
       "      <td>1.4</td>\n",
       "      <td>0.2</td>\n",
       "      <td>Setosa</td>\n",
       "    </tr>\n",
       "  </tbody>\n",
       "</table>\n",
       "</div>"
      ],
      "text/plain": [
       "   sepal.length  sepal.width  petal.length  petal.width variety\n",
       "0           5.1          3.5           1.4          0.2  Setosa\n",
       "1           4.9          3.0           1.4          0.2  Setosa\n",
       "2           4.7          3.2           1.3          0.2  Setosa\n",
       "3           4.6          3.1           1.5          0.2  Setosa\n",
       "4           5.0          3.6           1.4          0.2  Setosa"
      ]
     },
     "execution_count": 169,
     "metadata": {},
     "output_type": "execute_result"
    }
   ],
   "source": [
    "df.head()"
   ]
  },
  {
   "cell_type": "code",
   "execution_count": 170,
   "id": "7d24f05f-c006-4114-8bc1-ec6be47ea41c",
   "metadata": {},
   "outputs": [
    {
     "data": {
      "text/plain": [
       "<AxesSubplot:xlabel='variety', ylabel='sepal.length'>"
      ]
     },
     "execution_count": 170,
     "metadata": {},
     "output_type": "execute_result"
    },
    {
     "data": {
      "image/png": "[encoded data removed]",
      "text/plain": [
       "<Figure size 432x288 with 1 Axes>"
      ]
     },
     "metadata": {
      "needs_background": "light"
     },
     "output_type": "display_data"
    }
   ],
   "source": [
    "import seaborn as sns\n",
    "sns.boxplot(data=df,x='variety',y='sepal.length')"
   ]
  },
  {
   "cell_type": "code",
   "execution_count": 88,
   "id": "294dd275-7336-4fb8-9335-102419582510",
   "metadata": {},
   "outputs": [
    {
     "data": {
      "text/plain": [
       "array([5.1, 4.9, 4.7, 4.6, 5. , 5.4, 4.6, 5. , 4.4, 4.9, 5.4, 4.8, 4.8,\n",
       "       4.3, 5.8, 5.7, 5.4, 5.1, 5.7, 5.1, 5.4, 5.1, 4.6, 5.1, 4.8, 5. ,\n",
       "       5. , 5.2, 5.2, 4.7, 4.8, 5.4, 5.2, 5.5, 4.9, 5. , 5.5, 4.9, 4.4,\n",
       "       5.1, 5. , 4.5, 4.4, 5. , 5.1, 4.8, 5.1, 4.6, 5.3, 5. ])"
      ]
     },
     "execution_count": 88,
     "metadata": {},
     "output_type": "execute_result"
    }
   ],
   "source": [
    "df['sepal.length'][df.variety=='Setosa'].values"
   ]
  },
  {
   "cell_type": "markdown",
   "id": "60e9d6e6-4728-4a9c-b7b5-80f6d1f25381",
   "metadata": {},
   "source": [
    "### HDF5 and .mat files\n",
    "hdf5 is a Heirarchical Data Format, which has several nice features: good metadata, fast I/O (if implemented well), and good cross-platform portability. <br>\n",
    "several data formates commonly used in neuroscience are in fact based on hdf5, including .mat files and NWB files (to be talked about later). for MATLAB .mat files, there are several options for loading into python:"
   ]
  },
  {
   "cell_type": "code",
   "execution_count": 90,
   "id": "805469ec-dbef-471a-b012-eb4549278fed",
   "metadata": {},
   "outputs": [],
   "source": [
    "from scipy.io import loadmat"
   ]
  },
  {
   "cell_type": "code",
   "execution_count": 116,
   "id": "70f87ece-bd66-4dd8-8426-10886b15f00f",
   "metadata": {},
   "outputs": [
    {
     "ename": "NotImplementedError",
     "evalue": "Please use HDF reader for matlab v7.3 files",
     "output_type": "error",
     "traceback": [
      "\u001b[0;31m---------------------------------------------------------------------------\u001b[0m",
      "\u001b[0;31mNotImplementedError\u001b[0m                       Traceback (most recent call last)",
      "\u001b[0;32m<ipython-input-116-852d7d6a9435>\u001b[0m in \u001b[0;36m<module>\u001b[0;34m\u001b[0m\n\u001b[0;32m----> 1\u001b[0;31m \u001b[0mrez\u001b[0m \u001b[0;34m=\u001b[0m \u001b[0mloadmat\u001b[0m\u001b[0;34m(\u001b[0m\u001b[0;34m'rez.mat'\u001b[0m\u001b[0;34m)\u001b[0m\u001b[0;34m\u001b[0m\u001b[0;34m\u001b[0m\u001b[0m\n\u001b[0m",
      "\u001b[0;32m~/opt/anaconda3/envs/NRSC7657/lib/python3.8/site-packages/scipy/io/matlab/mio.py\u001b[0m in \u001b[0;36mloadmat\u001b[0;34m(file_name, mdict, appendmat, **kwargs)\u001b[0m\n\u001b[1;32m    223\u001b[0m     \u001b[0mvariable_names\u001b[0m \u001b[0;34m=\u001b[0m \u001b[0mkwargs\u001b[0m\u001b[0;34m.\u001b[0m\u001b[0mpop\u001b[0m\u001b[0;34m(\u001b[0m\u001b[0;34m'variable_names'\u001b[0m\u001b[0;34m,\u001b[0m \u001b[0;32mNone\u001b[0m\u001b[0;34m)\u001b[0m\u001b[0;34m\u001b[0m\u001b[0;34m\u001b[0m\u001b[0m\n\u001b[1;32m    224\u001b[0m     \u001b[0;32mwith\u001b[0m \u001b[0m_open_file_context\u001b[0m\u001b[0;34m(\u001b[0m\u001b[0mfile_name\u001b[0m\u001b[0;34m,\u001b[0m \u001b[0mappendmat\u001b[0m\u001b[0;34m)\u001b[0m \u001b[0;32mas\u001b[0m \u001b[0mf\u001b[0m\u001b[0;34m:\u001b[0m\u001b[0;34m\u001b[0m\u001b[0;34m\u001b[0m\u001b[0m\n\u001b[0;32m--> 225\u001b[0;31m         \u001b[0mMR\u001b[0m\u001b[0;34m,\u001b[0m \u001b[0m_\u001b[0m \u001b[0;34m=\u001b[0m \u001b[0mmat_reader_factory\u001b[0m\u001b[0;34m(\u001b[0m\u001b[0mf\u001b[0m\u001b[0;34m,\u001b[0m \u001b[0;34m**\u001b[0m\u001b[0mkwargs\u001b[0m\u001b[0;34m)\u001b[0m\u001b[0;34m\u001b[0m\u001b[0;34m\u001b[0m\u001b[0m\n\u001b[0m\u001b[1;32m    226\u001b[0m         \u001b[0mmatfile_dict\u001b[0m \u001b[0;34m=\u001b[0m \u001b[0mMR\u001b[0m\u001b[0;34m.\u001b[0m\u001b[0mget_variables\u001b[0m\u001b[0;34m(\u001b[0m\u001b[0mvariable_names\u001b[0m\u001b[0;34m)\u001b[0m\u001b[0;34m\u001b[0m\u001b[0;34m\u001b[0m\u001b[0m\n\u001b[1;32m    227\u001b[0m \u001b[0;34m\u001b[0m\u001b[0m\n",
      "\u001b[0;32m~/opt/anaconda3/envs/NRSC7657/lib/python3.8/site-packages/scipy/io/matlab/mio.py\u001b[0m in \u001b[0;36mmat_reader_factory\u001b[0;34m(file_name, appendmat, **kwargs)\u001b[0m\n\u001b[1;32m     78\u001b[0m         \u001b[0;32mreturn\u001b[0m \u001b[0mMatFile5Reader\u001b[0m\u001b[0;34m(\u001b[0m\u001b[0mbyte_stream\u001b[0m\u001b[0;34m,\u001b[0m \u001b[0;34m**\u001b[0m\u001b[0mkwargs\u001b[0m\u001b[0;34m)\u001b[0m\u001b[0;34m,\u001b[0m \u001b[0mfile_opened\u001b[0m\u001b[0;34m\u001b[0m\u001b[0;34m\u001b[0m\u001b[0m\n\u001b[1;32m     79\u001b[0m     \u001b[0;32melif\u001b[0m \u001b[0mmjv\u001b[0m \u001b[0;34m==\u001b[0m \u001b[0;36m2\u001b[0m\u001b[0;34m:\u001b[0m\u001b[0;34m\u001b[0m\u001b[0;34m\u001b[0m\u001b[0m\n\u001b[0;32m---> 80\u001b[0;31m         \u001b[0;32mraise\u001b[0m \u001b[0mNotImplementedError\u001b[0m\u001b[0;34m(\u001b[0m\u001b[0;34m'Please use HDF reader for matlab v7.3 files'\u001b[0m\u001b[0;34m)\u001b[0m\u001b[0;34m\u001b[0m\u001b[0;34m\u001b[0m\u001b[0m\n\u001b[0m\u001b[1;32m     81\u001b[0m     \u001b[0;32melse\u001b[0m\u001b[0;34m:\u001b[0m\u001b[0;34m\u001b[0m\u001b[0;34m\u001b[0m\u001b[0m\n\u001b[1;32m     82\u001b[0m         \u001b[0;32mraise\u001b[0m \u001b[0mTypeError\u001b[0m\u001b[0;34m(\u001b[0m\u001b[0;34m'Did not recognize version %s'\u001b[0m \u001b[0;34m%\u001b[0m \u001b[0mmjv\u001b[0m\u001b[0;34m)\u001b[0m\u001b[0;34m\u001b[0m\u001b[0;34m\u001b[0m\u001b[0m\n",
      "\u001b[0;31mNotImplementedError\u001b[0m: Please use HDF reader for matlab v7.3 files"
     ]
    }
   ],
   "source": [
    "rez = loadmat('rez.mat')"
   ]
  },
  {
   "cell_type": "code",
   "execution_count": 93,
   "id": "0fe9ec07-7348-46ac-9d5d-89cdb9f18dc6",
   "metadata": {},
   "outputs": [
    {
     "name": "stdout",
     "output_type": "stream",
     "text": [
      "Collecting package metadata (current_repodata.json): done\n",
      "Solving environment: done\n",
      "\n",
      "## Package Plan ##\n",
      "\n",
      "  environment location: /Users/danieljdenman/opt/anaconda3/envs/NRSC7657\n",
      "\n",
      "  added / updated specs:\n",
      "    - h5py\n",
      "\n",
      "\n",
      "The following packages will be downloaded:\n",
      "\n",
      "    package                    |            build\n",
      "    ---------------------------|-----------------\n",
      "    cached-property-1.5.2      |             py_0          11 KB\n",
      "    h5py-3.2.1                 |   py38h90fc2a2_0         923 KB\n",
      "    hdf5-1.10.6                |       hdbbcd12_0         3.0 MB\n",
      "    ------------------------------------------------------------\n",
      "                                           Total:         3.9 MB\n",
      "\n",
      "The following NEW packages will be INSTALLED:\n",
      "\n",
      "  cached-property    pkgs/main/noarch::cached-property-1.5.2-py_0\n",
      "  h5py               pkgs/main/osx-64::h5py-3.2.1-py38h90fc2a2_0\n",
      "  hdf5               pkgs/main/osx-64::hdf5-1.10.6-hdbbcd12_0\n",
      "\n",
      "\n",
      "\n",
      "Downloading and Extracting Packages\n",
      "cached-property-1.5. | 11 KB     | ##################################### | 100% \n",
      "hdf5-1.10.6          | 3.0 MB    | ##################################### | 100% \n",
      "h5py-3.2.1           | 923 KB    | ##################################### | 100% \n",
      "Preparing transaction: done\n",
      "Verifying transaction: done\n",
      "Executing transaction: done\n"
     ]
    }
   ],
   "source": [
    "!conda install h5py -y"
   ]
  },
  {
   "cell_type": "code",
   "execution_count": 2,
   "id": "a626c8e7-094b-4a48-962e-97068d1c345a",
   "metadata": {},
   "outputs": [],
   "source": [
    "import h5py"
   ]
  },
  {
   "cell_type": "code",
   "execution_count": 95,
   "id": "fed9aecb-15e4-4b45-a947-0619e0f2b50b",
   "metadata": {},
   "outputs": [],
   "source": [
    "rez = h5py.File('rez.mat')"
   ]
  },
  {
   "cell_type": "markdown",
   "id": "4de74a9f-b38a-4a83-9985-3bbc060b41fc",
   "metadata": {},
   "source": [
    "you can think of hdf5 filles as nested dictionaries, with keys that take you down levels in the heirarchy of the heirarchical data format:"
   ]
  },
  {
   "cell_type": "code",
   "execution_count": 115,
   "id": "c93e8ca6-5b1b-461e-a30d-c089262b2454",
   "metadata": {},
   "outputs": [
    {
     "data": {
      "text/plain": [
       "<matplotlib.image.AxesImage at 0x7fb8b8a92280>"
      ]
     },
     "execution_count": 115,
     "metadata": {},
     "output_type": "execute_result"
    },
    {
     "data": {
      "image/png": "[encoded data removed]",
      "text/plain": [
       "<Figure size 432x288 with 1 Axes>"
      ]
     },
     "metadata": {
      "needs_background": "light"
     },
     "output_type": "display_data"
    }
   ],
   "source": [
    "plt.imshow(np.array(rez['rez']['ccbsort']))"
   ]
  },
  {
   "cell_type": "code",
   "execution_count": 109,
   "id": "64f6dc06-12bd-4caa-9319-46214baab4d2",
   "metadata": {},
   "outputs": [
    {
     "data": {
      "text/plain": [
       "3.0"
      ]
     },
     "execution_count": 109,
     "metadata": {},
     "output_type": "execute_result"
    }
   ],
   "source": [
    "np.array(rez['rez']['ops']['nPCs'])[0][0]"
   ]
  },
  {
   "cell_type": "markdown",
   "id": "3eaa382e-fb6a-4452-8480-1aa181745e98",
   "metadata": {},
   "source": [
    "## Neurodata Without Borders\n",
    "#### a unified format for neuroscience data\n",
    "![nwb_schematic](https://www.nwb.org/wp-content/uploads/2020/02/nwb_datatypes_overview-1024x491.png)\n",
    "<br>\n",
    "the point is to have a useful cross-platform data format that has metadata in specific places, so that analysis tools and data are easier to share across labs. this is what file format is, same as .xlsx or .jpeg or .tiff, for example. "
   ]
  },
  {
   "cell_type": "code",
   "execution_count": 144,
   "id": "b6cf304b-0703-4f47-872e-69dd1d144057",
   "metadata": {},
   "outputs": [
    {
     "name": "stdout",
     "output_type": "stream",
     "text": [
      "Collecting package metadata (current_repodata.json): done\n",
      "Solving environment: done\n",
      "\n",
      "## Package Plan ##\n",
      "\n",
      "  environment location: /Users/danieljdenman/opt/anaconda3/envs/NRSC7657\n",
      "\n",
      "  added / updated specs:\n",
      "    - pynwb\n",
      "\n",
      "\n",
      "The following packages will be downloaded:\n",
      "\n",
      "    package                    |            build\n",
      "    ---------------------------|-----------------\n",
      "    ca-certificates-2021.5.30  |       h033912b_0         136 KB  conda-forge\n",
      "    certifi-2021.5.30          |   py38h50d1736_0         141 KB  conda-forge\n",
      "    openssl-1.1.1k             |       h0d85af4_0         1.9 MB  conda-forge\n",
      "    ruamel.yaml-0.17.9         |   py38h96a0964_0         170 KB  conda-forge\n",
      "    ruamel.yaml.clib-0.2.2     |   py38h5406a74_2         145 KB  conda-forge\n",
      "    ------------------------------------------------------------\n",
      "                                           Total:         2.5 MB\n",
      "\n",
      "The following NEW packages will be INSTALLED:\n",
      "\n",
      "  hdmf               conda-forge/noarch::hdmf-1.5.4-py_0\n",
      "  pynwb              conda-forge/noarch::pynwb-1.2.1-py_0\n",
      "  python_abi         conda-forge/osx-64::python_abi-3.8-1_cp38\n",
      "  ruamel.yaml        conda-forge/osx-64::ruamel.yaml-0.17.9-py38h96a0964_0\n",
      "  ruamel.yaml.clib   conda-forge/osx-64::ruamel.yaml.clib-0.2.2-py38h5406a74_2\n",
      "\n",
      "The following packages will be UPDATED:\n",
      "\n",
      "  ca-certificates    pkgs/main::ca-certificates-2021.5.25-~ --> conda-forge::ca-certificates-2021.5.30-h033912b_0\n",
      "\n",
      "The following packages will be SUPERSEDED by a higher-priority channel:\n",
      "\n",
      "  certifi            pkgs/main::certifi-2021.5.30-py38hecd~ --> conda-forge::certifi-2021.5.30-py38h50d1736_0\n",
      "  openssl              pkgs/main::openssl-1.1.1k-h9ed2024_0 --> conda-forge::openssl-1.1.1k-h0d85af4_0\n",
      "\n",
      "\n",
      "\n",
      "Downloading and Extracting Packages\n",
      "ca-certificates-2021 | 136 KB    | ##################################### | 100% \n",
      "ruamel.yaml.clib-0.2 | 145 KB    | ##################################### | 100% \n",
      "certifi-2021.5.30    | 141 KB    | ##################################### | 100% \n",
      "openssl-1.1.1k       | 1.9 MB    | ##################################### | 100% \n",
      "ruamel.yaml-0.17.9   | 170 KB    | ##################################### | 100% \n",
      "Preparing transaction: done\n",
      "Verifying transaction: done\n",
      "Executing transaction: done\n"
     ]
    }
   ],
   "source": [
    "!conda install -c conda-forge pynwb -y"
   ]
  },
  {
   "cell_type": "code",
   "execution_count": 1,
   "id": "1b7c57a3-c8bc-4114-abee-f215902752c7",
   "metadata": {},
   "outputs": [],
   "source": [
    "import pynwb"
   ]
  },
  {
   "cell_type": "code",
   "execution_count": 3,
   "id": "815ae489-5e52-48f8-8ecc-0b1684c7b057",
   "metadata": {},
   "outputs": [
    {
     "name": "stderr",
     "output_type": "stream",
     "text": [
      "<ipython-input-3-3b420ab8d451>:1: H5pyDeprecationWarning: The default file mode will change to 'r' (read-only) in h5py 3.0. To suppress this warning, pass the mode you need to h5py.File(), or set the global default h5.get_config().default_file_mode, or set the environment variable H5PY_DEFAULT_READONLY=1. Available modes are: 'r', 'r+', 'w', 'w-'/'x', 'a'. See the docs for details.\n",
      "  f = h5py.File('/Users/danieljdenman/github/NRSC7657/Week2/session_719161530/ecephys_session_719161530.nwb')\n"
     ]
    }
   ],
   "source": [
    "f = h5py.File('/Users/danieljdenman/github/NRSC7657/Week2/session_719161530/ecephys_session_719161530.nwb')"
   ]
  },
  {
   "cell_type": "code",
   "execution_count": 4,
   "id": "88d41db6-b2c5-49c8-85b0-313d6f00166c",
   "metadata": {},
   "outputs": [
    {
     "data": {
      "text/plain": [
       "<KeysViewHDF5 ['acquisition', 'analysis', 'file_create_date', 'general', 'identifier', 'intervals', 'processing', 'session_description', 'session_start_time', 'specifications', 'stimulus', 'timestamps_reference_time', 'units']>"
      ]
     },
     "execution_count": 4,
     "metadata": {},
     "output_type": "execute_result"
    }
   ],
   "source": [
    "f.keys()"
   ]
  },
  {
   "cell_type": "code",
   "execution_count": 10,
   "id": "20c8a7c2-8b60-4c98-8e81-ac280d2b4099",
   "metadata": {},
   "outputs": [
    {
     "ename": "TypeError",
     "evalue": "function missing required argument 'year' (pos 1)",
     "output_type": "error",
     "traceback": [
      "\u001b[0;31m---------------------------------------------------------------------------\u001b[0m",
      "\u001b[0;31mTypeError\u001b[0m                                 Traceback (most recent call last)",
      "\u001b[0;32m<ipython-input-10-e26a50a39dfd>\u001b[0m in \u001b[0;36m<module>\u001b[0;34m\u001b[0m\n\u001b[0;32m----> 1\u001b[0;31m \u001b[0mf2\u001b[0m \u001b[0;34m=\u001b[0m \u001b[0mpynwb\u001b[0m\u001b[0;34m.\u001b[0m\u001b[0mNWBFile\u001b[0m\u001b[0;34m(\u001b[0m\u001b[0;34m'/Users/danieljdenman/github/NRSC7657/Week2/session_719161530/ecephys_session_719161530.nwb'\u001b[0m\u001b[0;34m,\u001b[0m\u001b[0msession_start_time\u001b[0m\u001b[0;34m=\u001b[0m\u001b[0mdatetime\u001b[0m\u001b[0;34m.\u001b[0m\u001b[0mdatetime\u001b[0m\u001b[0;34m(\u001b[0m\u001b[0;34m)\u001b[0m\u001b[0;34m)\u001b[0m\u001b[0;34m\u001b[0m\u001b[0;34m\u001b[0m\u001b[0m\n\u001b[0m",
      "\u001b[0;31mTypeError\u001b[0m: function missing required argument 'year' (pos 1)"
     ]
    }
   ],
   "source": [
    "f2 = pynwb.NWBFile('/Users/danieljdenman/github/NRSC7657/Week2/session_719161530/ecephys_session_719161530.nwb',session_start_time=datetime.datetime())"
   ]
  },
  {
   "cell_type": "code",
   "execution_count": 12,
   "id": "59d16aea-c02e-4407-8d5a-b71080ad07d5",
   "metadata": {},
   "outputs": [],
   "source": [
    "io = pynwb.NWBHDF5IO('/Users/danieljdenman/github/NRSC7657/Week2/session_719161530/sub-anm190963_ses-20130408_behavior+icephys+ogen.nwb', 'r')\n",
    "nwbfile_in = io.read()"
   ]
  },
  {
   "cell_type": "code",
   "execution_count": 15,
   "id": "e8b561c1-9128-465f-9f2e-c19226956d96",
   "metadata": {},
   "outputs": [
    {
     "data": {
      "text/html": [
       "<div>\n",
       "<style scoped>\n",
       "    .dataframe tbody tr th:only-of-type {\n",
       "        vertical-align: middle;\n",
       "    }\n",
       "\n",
       "    .dataframe tbody tr th {\n",
       "        vertical-align: top;\n",
       "    }\n",
       "\n",
       "    .dataframe thead th {\n",
       "        text-align: right;\n",
       "    }\n",
       "</style>\n",
       "<table border=\"1\" class=\"dataframe\">\n",
       "  <thead>\n",
       "    <tr style=\"text-align: right;\">\n",
       "      <th></th>\n",
       "      <th>start_time</th>\n",
       "      <th>stop_time</th>\n",
       "      <th>type</th>\n",
       "      <th>response</th>\n",
       "      <th>stim_present</th>\n",
       "      <th>pole_position</th>\n",
       "      <th>photo_stim_mode</th>\n",
       "      <th>photo_stim_power</th>\n",
       "      <th>first_lick_time</th>\n",
       "      <th>first_touch_time</th>\n",
       "      <th>pole_in_time</th>\n",
       "      <th>pole_out_time</th>\n",
       "      <th>pole_pos_time</th>\n",
       "    </tr>\n",
       "    <tr>\n",
       "      <th>id</th>\n",
       "      <th></th>\n",
       "      <th></th>\n",
       "      <th></th>\n",
       "      <th></th>\n",
       "      <th></th>\n",
       "      <th></th>\n",
       "      <th></th>\n",
       "      <th></th>\n",
       "      <th></th>\n",
       "      <th></th>\n",
       "      <th></th>\n",
       "      <th></th>\n",
       "      <th></th>\n",
       "    </tr>\n",
       "  </thead>\n",
       "  <tbody>\n",
       "    <tr>\n",
       "      <th>150</th>\n",
       "      <td>0.00000</td>\n",
       "      <td>8.40414</td>\n",
       "      <td>Go</td>\n",
       "      <td>Hit</td>\n",
       "      <td>0</td>\n",
       "      <td>2.0</td>\n",
       "      <td></td>\n",
       "      <td>NaN</td>\n",
       "      <td>1.80150</td>\n",
       "      <td>0.001544</td>\n",
       "      <td>1.08233</td>\n",
       "      <td>3.08583</td>\n",
       "      <td>1.08233</td>\n",
       "    </tr>\n",
       "    <tr>\n",
       "      <th>151</th>\n",
       "      <td>8.40414</td>\n",
       "      <td>16.74830</td>\n",
       "      <td>Nogo</td>\n",
       "      <td>CR</td>\n",
       "      <td>0</td>\n",
       "      <td>12.0</td>\n",
       "      <td></td>\n",
       "      <td>NaN</td>\n",
       "      <td>8.53464</td>\n",
       "      <td>NaN</td>\n",
       "      <td>9.48630</td>\n",
       "      <td>11.48763</td>\n",
       "      <td>9.48630</td>\n",
       "    </tr>\n",
       "    <tr>\n",
       "      <th>152</th>\n",
       "      <td>16.74830</td>\n",
       "      <td>24.48660</td>\n",
       "      <td>Nogo</td>\n",
       "      <td>CR</td>\n",
       "      <td>0</td>\n",
       "      <td>12.0</td>\n",
       "      <td></td>\n",
       "      <td>NaN</td>\n",
       "      <td>NaN</td>\n",
       "      <td>NaN</td>\n",
       "      <td>17.83080</td>\n",
       "      <td>19.83213</td>\n",
       "      <td>17.83080</td>\n",
       "    </tr>\n",
       "    <tr>\n",
       "      <th>153</th>\n",
       "      <td>24.48660</td>\n",
       "      <td>32.26420</td>\n",
       "      <td>Go</td>\n",
       "      <td>Hit</td>\n",
       "      <td>0</td>\n",
       "      <td>2.0</td>\n",
       "      <td></td>\n",
       "      <td>NaN</td>\n",
       "      <td>26.14010</td>\n",
       "      <td>NaN</td>\n",
       "      <td>25.56927</td>\n",
       "      <td>27.62892</td>\n",
       "      <td>25.56927</td>\n",
       "    </tr>\n",
       "    <tr>\n",
       "      <th>154</th>\n",
       "      <td>32.26420</td>\n",
       "      <td>40.61000</td>\n",
       "      <td>Go</td>\n",
       "      <td>Hit</td>\n",
       "      <td>1</td>\n",
       "      <td>2.0</td>\n",
       "      <td>5ms_grid</td>\n",
       "      <td>NaN</td>\n",
       "      <td>33.65820</td>\n",
       "      <td>32.265679</td>\n",
       "      <td>33.34620</td>\n",
       "      <td>35.36852</td>\n",
       "      <td>33.34620</td>\n",
       "    </tr>\n",
       "    <tr>\n",
       "      <th>...</th>\n",
       "      <td>...</td>\n",
       "      <td>...</td>\n",
       "      <td>...</td>\n",
       "      <td>...</td>\n",
       "      <td>...</td>\n",
       "      <td>...</td>\n",
       "      <td>...</td>\n",
       "      <td>...</td>\n",
       "      <td>...</td>\n",
       "      <td>...</td>\n",
       "      <td>...</td>\n",
       "      <td>...</td>\n",
       "      <td>...</td>\n",
       "    </tr>\n",
       "    <tr>\n",
       "      <th>305</th>\n",
       "      <td>1306.43000</td>\n",
       "      <td>1314.32000</td>\n",
       "      <td>Nogo</td>\n",
       "      <td>CR</td>\n",
       "      <td>1</td>\n",
       "      <td>10.0</td>\n",
       "      <td>5ms_pulse</td>\n",
       "      <td>NaN</td>\n",
       "      <td>NaN</td>\n",
       "      <td>NaN</td>\n",
       "      <td>1307.51199</td>\n",
       "      <td>1309.51332</td>\n",
       "      <td>1307.51199</td>\n",
       "    </tr>\n",
       "    <tr>\n",
       "      <th>306</th>\n",
       "      <td>1314.32000</td>\n",
       "      <td>1330.00000</td>\n",
       "      <td>Nogo</td>\n",
       "      <td>CR</td>\n",
       "      <td>0</td>\n",
       "      <td>10.0</td>\n",
       "      <td></td>\n",
       "      <td>NaN</td>\n",
       "      <td>NaN</td>\n",
       "      <td>NaN</td>\n",
       "      <td>1315.40249</td>\n",
       "      <td>1317.40399</td>\n",
       "      <td>1315.40249</td>\n",
       "    </tr>\n",
       "    <tr>\n",
       "      <th>308</th>\n",
       "      <td>1330.00000</td>\n",
       "      <td>1337.86000</td>\n",
       "      <td>Nogo</td>\n",
       "      <td>CR</td>\n",
       "      <td>1</td>\n",
       "      <td>10.0</td>\n",
       "      <td>5ms_pulse</td>\n",
       "      <td>NaN</td>\n",
       "      <td>NaN</td>\n",
       "      <td>NaN</td>\n",
       "      <td>1331.08200</td>\n",
       "      <td>1333.08333</td>\n",
       "      <td>1331.08200</td>\n",
       "    </tr>\n",
       "    <tr>\n",
       "      <th>309</th>\n",
       "      <td>1337.86000</td>\n",
       "      <td>1345.66000</td>\n",
       "      <td>Nogo</td>\n",
       "      <td>CR</td>\n",
       "      <td>1</td>\n",
       "      <td>10.0</td>\n",
       "      <td>5ms_pulse</td>\n",
       "      <td>NaN</td>\n",
       "      <td>NaN</td>\n",
       "      <td>NaN</td>\n",
       "      <td>1338.94233</td>\n",
       "      <td>1340.94365</td>\n",
       "      <td>1338.94233</td>\n",
       "    </tr>\n",
       "    <tr>\n",
       "      <th>310</th>\n",
       "      <td>1345.66000</td>\n",
       "      <td>1365.16000</td>\n",
       "      <td>Nogo</td>\n",
       "      <td>CR</td>\n",
       "      <td>0</td>\n",
       "      <td>10.0</td>\n",
       "      <td></td>\n",
       "      <td>NaN</td>\n",
       "      <td>NaN</td>\n",
       "      <td>NaN</td>\n",
       "      <td>1346.74216</td>\n",
       "      <td>1348.74366</td>\n",
       "      <td>1346.74216</td>\n",
       "    </tr>\n",
       "  </tbody>\n",
       "</table>\n",
       "<p>139 rows × 13 columns</p>\n",
       "</div>"
      ],
      "text/plain": [
       "     start_time   stop_time  type response  stim_present  pole_position  \\\n",
       "id                                                                        \n",
       "150     0.00000     8.40414    Go      Hit             0            2.0   \n",
       "151     8.40414    16.74830  Nogo       CR             0           12.0   \n",
       "152    16.74830    24.48660  Nogo       CR             0           12.0   \n",
       "153    24.48660    32.26420    Go      Hit             0            2.0   \n",
       "154    32.26420    40.61000    Go      Hit             1            2.0   \n",
       "..          ...         ...   ...      ...           ...            ...   \n",
       "305  1306.43000  1314.32000  Nogo       CR             1           10.0   \n",
       "306  1314.32000  1330.00000  Nogo       CR             0           10.0   \n",
       "308  1330.00000  1337.86000  Nogo       CR             1           10.0   \n",
       "309  1337.86000  1345.66000  Nogo       CR             1           10.0   \n",
       "310  1345.66000  1365.16000  Nogo       CR             0           10.0   \n",
       "\n",
       "    photo_stim_mode  photo_stim_power  first_lick_time  first_touch_time  \\\n",
       "id                                                                         \n",
       "150                               NaN          1.80150          0.001544   \n",
       "151                               NaN          8.53464               NaN   \n",
       "152                               NaN              NaN               NaN   \n",
       "153                               NaN         26.14010               NaN   \n",
       "154        5ms_grid               NaN         33.65820         32.265679   \n",
       "..              ...               ...              ...               ...   \n",
       "305       5ms_pulse               NaN              NaN               NaN   \n",
       "306                               NaN              NaN               NaN   \n",
       "308       5ms_pulse               NaN              NaN               NaN   \n",
       "309       5ms_pulse               NaN              NaN               NaN   \n",
       "310                               NaN              NaN               NaN   \n",
       "\n",
       "     pole_in_time  pole_out_time  pole_pos_time  \n",
       "id                                               \n",
       "150       1.08233        3.08583        1.08233  \n",
       "151       9.48630       11.48763        9.48630  \n",
       "152      17.83080       19.83213       17.83080  \n",
       "153      25.56927       27.62892       25.56927  \n",
       "154      33.34620       35.36852       33.34620  \n",
       "..            ...            ...            ...  \n",
       "305    1307.51199     1309.51332     1307.51199  \n",
       "306    1315.40249     1317.40399     1315.40249  \n",
       "308    1331.08200     1333.08333     1331.08200  \n",
       "309    1338.94233     1340.94365     1338.94233  \n",
       "310    1346.74216     1348.74366     1346.74216  \n",
       "\n",
       "[139 rows x 13 columns]"
      ]
     },
     "execution_count": 15,
     "metadata": {},
     "output_type": "execute_result"
    }
   ],
   "source": [
    "nwbfile_in.trials.to_dataframe()"
   ]
  },
  {
   "cell_type": "markdown",
   "id": "343998fa-7861-418f-8ab3-36848a1e7948",
   "metadata": {},
   "source": [
    "finally, note that both John's lab and my lab are using this format, as are many labs (known at Allen, UCSF, NYU, Janelia)"
   ]
  },
  {
   "cell_type": "markdown",
   "id": "c5e86d9f-edc4-40a8-be13-d69221cb304d",
   "metadata": {},
   "source": [
    "note: there is also a set of tools for MATLAB: [MATNWB](https://neurodatawithoutborders.github.io/matnwb/)"
   ]
  },
  {
   "cell_type": "markdown",
   "id": "caa316e4-be33-4d8f-9ebb-fa1b9ab774c8",
   "metadata": {},
   "source": [
    "## xarray\n",
    "#### pandas functionality with more dimensions. alternatively, ndarrrays with labels"
   ]
  },
  {
   "cell_type": "code",
   "execution_count": 151,
   "id": "4d74ca44-a35a-4305-a12c-c0fc4295e189",
   "metadata": {},
   "outputs": [
    {
     "data": {
      "text/html": [
       "<div><svg style=\"position: absolute; width: 0; height: 0; overflow: hidden\">\n",
       "<defs>\n",
       "<symbol id=\"icon-database\" viewBox=\"0 0 32 32\">\n",
       "<title>Show/Hide data repr</title>\n",
       "<path d=\"M16 0c-8.837 0-16 2.239-16 5v4c0 2.761 7.163 5 16 5s16-2.239 16-5v-4c0-2.761-7.163-5-16-5z\"></path>\n",
       "<path d=\"M16 17c-8.837 0-16-2.239-16-5v6c0 2.761 7.163 5 16 5s16-2.239 16-5v-6c0 2.761-7.163 5-16 5z\"></path>\n",
       "<path d=\"M16 26c-8.837 0-16-2.239-16-5v6c0 2.761 7.163 5 16 5s16-2.239 16-5v-6c0 2.761-7.163 5-16 5z\"></path>\n",
       "</symbol>\n",
       "<symbol id=\"icon-file-text2\" viewBox=\"0 0 32 32\">\n",
       "<title>Show/Hide attributes</title>\n",
       "<path d=\"M28.681 7.159c-0.694-0.947-1.662-2.053-2.724-3.116s-2.169-2.030-3.116-2.724c-1.612-1.182-2.393-1.319-2.841-1.319h-15.5c-1.378 0-2.5 1.121-2.5 2.5v27c0 1.378 1.122 2.5 2.5 2.5h23c1.378 0 2.5-1.122 2.5-2.5v-19.5c0-0.448-0.137-1.23-1.319-2.841zM24.543 5.457c0.959 0.959 1.712 1.825 2.268 2.543h-4.811v-4.811c0.718 0.556 1.584 1.309 2.543 2.268zM28 29.5c0 0.271-0.229 0.5-0.5 0.5h-23c-0.271 0-0.5-0.229-0.5-0.5v-27c0-0.271 0.229-0.5 0.5-0.5 0 0 15.499-0 15.5 0v7c0 0.552 0.448 1 1 1h7v19.5z\"></path>\n",
       "<path d=\"M23 26h-14c-0.552 0-1-0.448-1-1s0.448-1 1-1h14c0.552 0 1 0.448 1 1s-0.448 1-1 1z\"></path>\n",
       "<path d=\"M23 22h-14c-0.552 0-1-0.448-1-1s0.448-1 1-1h14c0.552 0 1 0.448 1 1s-0.448 1-1 1z\"></path>\n",
       "<path d=\"M23 18h-14c-0.552 0-1-0.448-1-1s0.448-1 1-1h14c0.552 0 1 0.448 1 1s-0.448 1-1 1z\"></path>\n",
       "</symbol>\n",
       "</defs>\n",
       "</svg>\n",
       "<style>/* CSS stylesheet for displaying xarray objects in jupyterlab.\n",
       " *\n",
       " */\n",
       "\n",
       ":root {\n",
       "  --xr-font-color0: var(--jp-content-font-color0, rgba(0, 0, 0, 1));\n",
       "  --xr-font-color2: var(--jp-content-font-color2, rgba(0, 0, 0, 0.54));\n",
       "  --xr-font-color3: var(--jp-content-font-color3, rgba(0, 0, 0, 0.38));\n",
       "  --xr-border-color: var(--jp-border-color2, #e0e0e0);\n",
       "  --xr-disabled-color: var(--jp-layout-color3, #bdbdbd);\n",
       "  --xr-background-color: var(--jp-layout-color0, white);\n",
       "  --xr-background-color-row-even: var(--jp-layout-color1, white);\n",
       "  --xr-background-color-row-odd: var(--jp-layout-color2, #eeeeee);\n",
       "}\n",
       "\n",
       ".xr-wrap {\n",
       "  min-width: 300px;\n",
       "  max-width: 700px;\n",
       "}\n",
       "\n",
       ".xr-header {\n",
       "  padding-top: 6px;\n",
       "  padding-bottom: 6px;\n",
       "  margin-bottom: 4px;\n",
       "  border-bottom: solid 1px var(--xr-border-color);\n",
       "}\n",
       "\n",
       ".xr-header > div,\n",
       ".xr-header > ul {\n",
       "  display: inline;\n",
       "  margin-top: 0;\n",
       "  margin-bottom: 0;\n",
       "}\n",
       "\n",
       ".xr-obj-type,\n",
       ".xr-array-name {\n",
       "  margin-left: 2px;\n",
       "  margin-right: 10px;\n",
       "}\n",
       "\n",
       ".xr-obj-type {\n",
       "  color: var(--xr-font-color2);\n",
       "}\n",
       "\n",
       ".xr-sections {\n",
       "  padding-left: 0 !important;\n",
       "  display: grid;\n",
       "  grid-template-columns: 150px auto auto 1fr 20px 20px;\n",
       "}\n",
       "\n",
       ".xr-section-item {\n",
       "  display: contents;\n",
       "}\n",
       "\n",
       ".xr-section-item input {\n",
       "  display: none;\n",
       "}\n",
       "\n",
       ".xr-section-item input + label {\n",
       "  color: var(--xr-disabled-color);\n",
       "}\n",
       "\n",
       ".xr-section-item input:enabled + label {\n",
       "  cursor: pointer;\n",
       "  color: var(--xr-font-color2);\n",
       "}\n",
       "\n",
       ".xr-section-item input:enabled + label:hover {\n",
       "  color: var(--xr-font-color0);\n",
       "}\n",
       "\n",
       ".xr-section-summary {\n",
       "  grid-column: 1;\n",
       "  color: var(--xr-font-color2);\n",
       "  font-weight: 500;\n",
       "}\n",
       "\n",
       ".xr-section-summary > span {\n",
       "  display: inline-block;\n",
       "  padding-left: 0.5em;\n",
       "}\n",
       "\n",
       ".xr-section-summary-in:disabled + label {\n",
       "  color: var(--xr-font-color2);\n",
       "}\n",
       "\n",
       ".xr-section-summary-in + label:before {\n",
       "  display: inline-block;\n",
       "  content: '►';\n",
       "  font-size: 11px;\n",
       "  width: 15px;\n",
       "  text-align: center;\n",
       "}\n",
       "\n",
       ".xr-section-summary-in:disabled + label:before {\n",
       "  color: var(--xr-disabled-color);\n",
       "}\n",
       "\n",
       ".xr-section-summary-in:checked + label:before {\n",
       "  content: '▼';\n",
       "}\n",
       "\n",
       ".xr-section-summary-in:checked + label > span {\n",
       "  display: none;\n",
       "}\n",
       "\n",
       ".xr-section-summary,\n",
       ".xr-section-inline-details {\n",
       "  padding-top: 4px;\n",
       "  padding-bottom: 4px;\n",
       "}\n",
       "\n",
       ".xr-section-inline-details {\n",
       "  grid-column: 2 / -1;\n",
       "}\n",
       "\n",
       ".xr-section-details {\n",
       "  display: none;\n",
       "  grid-column: 1 / -1;\n",
       "  margin-bottom: 5px;\n",
       "}\n",
       "\n",
       ".xr-section-summary-in:checked ~ .xr-section-details {\n",
       "  display: contents;\n",
       "}\n",
       "\n",
       ".xr-array-wrap {\n",
       "  grid-column: 1 / -1;\n",
       "  display: grid;\n",
       "  grid-template-columns: 20px auto;\n",
       "}\n",
       "\n",
       ".xr-array-wrap > label {\n",
       "  grid-column: 1;\n",
       "  vertical-align: top;\n",
       "}\n",
       "\n",
       ".xr-preview {\n",
       "  color: var(--xr-font-color3);\n",
       "}\n",
       "\n",
       ".xr-array-preview,\n",
       ".xr-array-data {\n",
       "  padding: 0 5px !important;\n",
       "  grid-column: 2;\n",
       "}\n",
       "\n",
       ".xr-array-data,\n",
       ".xr-array-in:checked ~ .xr-array-preview {\n",
       "  display: none;\n",
       "}\n",
       "\n",
       ".xr-array-in:checked ~ .xr-array-data,\n",
       ".xr-array-preview {\n",
       "  display: inline-block;\n",
       "}\n",
       "\n",
       ".xr-dim-list {\n",
       "  display: inline-block !important;\n",
       "  list-style: none;\n",
       "  padding: 0 !important;\n",
       "  margin: 0;\n",
       "}\n",
       "\n",
       ".xr-dim-list li {\n",
       "  display: inline-block;\n",
       "  padding: 0;\n",
       "  margin: 0;\n",
       "}\n",
       "\n",
       ".xr-dim-list:before {\n",
       "  content: '(';\n",
       "}\n",
       "\n",
       ".xr-dim-list:after {\n",
       "  content: ')';\n",
       "}\n",
       "\n",
       ".xr-dim-list li:not(:last-child):after {\n",
       "  content: ',';\n",
       "  padding-right: 5px;\n",
       "}\n",
       "\n",
       ".xr-has-index {\n",
       "  font-weight: bold;\n",
       "}\n",
       "\n",
       ".xr-var-list,\n",
       ".xr-var-item {\n",
       "  display: contents;\n",
       "}\n",
       "\n",
       ".xr-var-item > div,\n",
       ".xr-var-item label,\n",
       ".xr-var-item > .xr-var-name span {\n",
       "  background-color: var(--xr-background-color-row-even);\n",
       "  margin-bottom: 0;\n",
       "}\n",
       "\n",
       ".xr-var-item > .xr-var-name:hover span {\n",
       "  padding-right: 5px;\n",
       "}\n",
       "\n",
       ".xr-var-list > li:nth-child(odd) > div,\n",
       ".xr-var-list > li:nth-child(odd) > label,\n",
       ".xr-var-list > li:nth-child(odd) > .xr-var-name span {\n",
       "  background-color: var(--xr-background-color-row-odd);\n",
       "}\n",
       "\n",
       ".xr-var-name {\n",
       "  grid-column: 1;\n",
       "}\n",
       "\n",
       ".xr-var-dims {\n",
       "  grid-column: 2;\n",
       "}\n",
       "\n",
       ".xr-var-dtype {\n",
       "  grid-column: 3;\n",
       "  text-align: right;\n",
       "  color: var(--xr-font-color2);\n",
       "}\n",
       "\n",
       ".xr-var-preview {\n",
       "  grid-column: 4;\n",
       "}\n",
       "\n",
       ".xr-var-name,\n",
       ".xr-var-dims,\n",
       ".xr-var-dtype,\n",
       ".xr-preview,\n",
       ".xr-attrs dt {\n",
       "  white-space: nowrap;\n",
       "  overflow: hidden;\n",
       "  text-overflow: ellipsis;\n",
       "  padding-right: 10px;\n",
       "}\n",
       "\n",
       ".xr-var-name:hover,\n",
       ".xr-var-dims:hover,\n",
       ".xr-var-dtype:hover,\n",
       ".xr-attrs dt:hover {\n",
       "  overflow: visible;\n",
       "  width: auto;\n",
       "  z-index: 1;\n",
       "}\n",
       "\n",
       ".xr-var-attrs,\n",
       ".xr-var-data {\n",
       "  display: none;\n",
       "  background-color: var(--xr-background-color) !important;\n",
       "  padding-bottom: 5px !important;\n",
       "}\n",
       "\n",
       ".xr-var-attrs-in:checked ~ .xr-var-attrs,\n",
       ".xr-var-data-in:checked ~ .xr-var-data {\n",
       "  display: block;\n",
       "}\n",
       "\n",
       ".xr-var-data > table {\n",
       "  float: right;\n",
       "}\n",
       "\n",
       ".xr-var-name span,\n",
       ".xr-var-data,\n",
       ".xr-attrs {\n",
       "  padding-left: 25px !important;\n",
       "}\n",
       "\n",
       ".xr-attrs,\n",
       ".xr-var-attrs,\n",
       ".xr-var-data {\n",
       "  grid-column: 1 / -1;\n",
       "}\n",
       "\n",
       "dl.xr-attrs {\n",
       "  padding: 0;\n",
       "  margin: 0;\n",
       "  display: grid;\n",
       "  grid-template-columns: 125px auto;\n",
       "}\n",
       "\n",
       ".xr-attrs dt, dd {\n",
       "  padding: 0;\n",
       "  margin: 0;\n",
       "  float: left;\n",
       "  padding-right: 10px;\n",
       "  width: auto;\n",
       "}\n",
       "\n",
       ".xr-attrs dt {\n",
       "  font-weight: normal;\n",
       "  grid-column: 1;\n",
       "}\n",
       "\n",
       ".xr-attrs dt:hover span {\n",
       "  display: inline-block;\n",
       "  background: var(--xr-background-color);\n",
       "  padding-right: 10px;\n",
       "}\n",
       "\n",
       ".xr-attrs dd {\n",
       "  grid-column: 2;\n",
       "  white-space: pre-wrap;\n",
       "  word-break: break-all;\n",
       "}\n",
       "\n",
       ".xr-icon-database,\n",
       ".xr-icon-file-text2 {\n",
       "  display: inline-block;\n",
       "  vertical-align: middle;\n",
       "  width: 1em;\n",
       "  height: 1.5em !important;\n",
       "  stroke-width: 0;\n",
       "  stroke: currentColor;\n",
       "  fill: currentColor;\n",
       "}\n",
       "</style><div class='xr-wrap'><div class='xr-header'><div class='xr-obj-type'>xarray.Dataset</div></div><ul class='xr-sections'><li class='xr-section-item'><input id='section-468c7320-bf23-43aa-be72-ef10d055942e' class='xr-section-summary-in' type='checkbox' disabled ><label for='section-468c7320-bf23-43aa-be72-ef10d055942e' class='xr-section-summary'  title='Expand/collapse section'>Dimensions:</label><div class='xr-section-inline-details'><ul class='xr-dim-list'><li><span class='xr-has-index'>location</span>: 3</li><li><span class='xr-has-index'>time</span>: 731</li></ul></div><div class='xr-section-details'></div></li><li class='xr-section-item'><input id='section-60237c07-e1fb-4eef-831c-b369a9e3a9d6' class='xr-section-summary-in' type='checkbox'  checked><label for='section-60237c07-e1fb-4eef-831c-b369a9e3a9d6' class='xr-section-summary' >Coordinates: <span>(2)</span></label><div class='xr-section-inline-details'></div><div class='xr-section-details'><ul class='xr-var-list'><li class='xr-var-item'><div class='xr-var-name'><span class='xr-has-index'>time</span></div><div class='xr-var-dims'>(time)</div><div class='xr-var-dtype'>datetime64[ns]</div><div class='xr-var-preview xr-preview'>2000-01-01 ... 2001-12-31</div><input id='attrs-5ea40bd1-82d5-4de0-9ba5-d7b393e0131b' class='xr-var-attrs-in' type='checkbox' disabled><label for='attrs-5ea40bd1-82d5-4de0-9ba5-d7b393e0131b' title='Show/Hide attributes'><svg class='icon xr-icon-file-text2'><use xlink:href='#icon-file-text2'></use></svg></label><input id='data-e1c661bf-a516-4442-b4c3-dc62b8156385' class='xr-var-data-in' type='checkbox'><label for='data-e1c661bf-a516-4442-b4c3-dc62b8156385' title='Show/Hide data repr'><svg class='icon xr-icon-database'><use xlink:href='#icon-database'></use></svg></label><div class='xr-var-attrs'><dl class='xr-attrs'></dl></div><pre class='xr-var-data'>array([&#x27;2000-01-01T00:00:00.000000000&#x27;, &#x27;2000-01-02T00:00:00.000000000&#x27;,\n",
       "       &#x27;2000-01-03T00:00:00.000000000&#x27;, ..., &#x27;2001-12-29T00:00:00.000000000&#x27;,\n",
       "       &#x27;2001-12-30T00:00:00.000000000&#x27;, &#x27;2001-12-31T00:00:00.000000000&#x27;],\n",
       "      dtype=&#x27;datetime64[ns]&#x27;)</pre></li><li class='xr-var-item'><div class='xr-var-name'><span class='xr-has-index'>location</span></div><div class='xr-var-dims'>(location)</div><div class='xr-var-dtype'>&lt;U2</div><div class='xr-var-preview xr-preview'>&#x27;IA&#x27; &#x27;IN&#x27; &#x27;IL&#x27;</div><input id='attrs-77450f2f-a0f6-4396-affe-af96d4ee825d' class='xr-var-attrs-in' type='checkbox' disabled><label for='attrs-77450f2f-a0f6-4396-affe-af96d4ee825d' title='Show/Hide attributes'><svg class='icon xr-icon-file-text2'><use xlink:href='#icon-file-text2'></use></svg></label><input id='data-10267d9f-4809-440b-b6b5-1b3c9271c5e4' class='xr-var-data-in' type='checkbox'><label for='data-10267d9f-4809-440b-b6b5-1b3c9271c5e4' title='Show/Hide data repr'><svg class='icon xr-icon-database'><use xlink:href='#icon-database'></use></svg></label><div class='xr-var-attrs'><dl class='xr-attrs'></dl></div><pre class='xr-var-data'>array([&#x27;IA&#x27;, &#x27;IN&#x27;, &#x27;IL&#x27;], dtype=&#x27;&lt;U2&#x27;)</pre></li></ul></div></li><li class='xr-section-item'><input id='section-d3185d45-5754-4433-97b1-d2e27d0ec5ac' class='xr-section-summary-in' type='checkbox'  checked><label for='section-d3185d45-5754-4433-97b1-d2e27d0ec5ac' class='xr-section-summary' >Data variables: <span>(2)</span></label><div class='xr-section-inline-details'></div><div class='xr-section-details'><ul class='xr-var-list'><li class='xr-var-item'><div class='xr-var-name'><span>tmin</span></div><div class='xr-var-dims'>(time, location)</div><div class='xr-var-dtype'>float64</div><div class='xr-var-preview xr-preview'>-8.037 -1.788 ... -1.346 -4.544</div><input id='attrs-f45def66-9408-4855-b483-ce8b052e5c07' class='xr-var-attrs-in' type='checkbox' disabled><label for='attrs-f45def66-9408-4855-b483-ce8b052e5c07' title='Show/Hide attributes'><svg class='icon xr-icon-file-text2'><use xlink:href='#icon-file-text2'></use></svg></label><input id='data-afc8605c-6ad3-444a-addc-b125e24e5c86' class='xr-var-data-in' type='checkbox'><label for='data-afc8605c-6ad3-444a-addc-b125e24e5c86' title='Show/Hide data repr'><svg class='icon xr-icon-database'><use xlink:href='#icon-database'></use></svg></label><div class='xr-var-attrs'><dl class='xr-attrs'></dl></div><pre class='xr-var-data'>array([[ -8.03736932,  -1.78844117,  -3.93154201],\n",
       "       [ -9.34115662,  -6.55807323,   0.13203714],\n",
       "       [-12.13971902,  -6.14641918,  -1.06187252],\n",
       "       ...,\n",
       "       [ -5.34723825, -13.37459826,  -4.93221199],\n",
       "       [ -2.67283594,  -5.18072141,  -4.11567869],\n",
       "       [  2.06327582,  -1.34576404,  -4.54392729]])</pre></li><li class='xr-var-item'><div class='xr-var-name'><span>tmax</span></div><div class='xr-var-dims'>(time, location)</div><div class='xr-var-dtype'>float64</div><div class='xr-var-preview xr-preview'>12.98 3.31 6.779 ... 3.343 3.805</div><input id='attrs-4669e707-ea27-42bf-a6be-a2a722256384' class='xr-var-attrs-in' type='checkbox' disabled><label for='attrs-4669e707-ea27-42bf-a6be-a2a722256384' title='Show/Hide attributes'><svg class='icon xr-icon-file-text2'><use xlink:href='#icon-file-text2'></use></svg></label><input id='data-dd9c2788-6f46-442d-8883-151466ee0bc2' class='xr-var-data-in' type='checkbox'><label for='data-dd9c2788-6f46-442d-8883-151466ee0bc2' title='Show/Hide data repr'><svg class='icon xr-icon-database'><use xlink:href='#icon-database'></use></svg></label><div class='xr-var-attrs'><dl class='xr-attrs'></dl></div><pre class='xr-var-data'>array([[12.98054898,  3.31040942,  6.77855382],\n",
       "       [ 0.44785582,  6.37271154,  4.8434966 ],\n",
       "       [ 5.32269851,  6.25176289,  5.98033045],\n",
       "       ...,\n",
       "       [ 6.73078492,  7.74795302,  8.04569651],\n",
       "       [ 6.46376911,  6.31695352,  1.55799171],\n",
       "       [ 6.63593435,  3.34271537,  3.80527925]])</pre></li></ul></div></li><li class='xr-section-item'><input id='section-538aa896-b13a-465e-b2ce-8ccd494c5050' class='xr-section-summary-in' type='checkbox' disabled ><label for='section-538aa896-b13a-465e-b2ce-8ccd494c5050' class='xr-section-summary'  title='Expand/collapse section'>Attributes: <span>(0)</span></label><div class='xr-section-inline-details'></div><div class='xr-section-details'><dl class='xr-attrs'></dl></div></li></ul></div></div>"
      ],
      "text/plain": [
       "<xarray.Dataset>\n",
       "Dimensions:   (location: 3, time: 731)\n",
       "Coordinates:\n",
       "  * time      (time) datetime64[ns] 2000-01-01 2000-01-02 ... 2001-12-31\n",
       "  * location  (location) <U2 'IA' 'IN' 'IL'\n",
       "Data variables:\n",
       "    tmin      (time, location) float64 -8.037 -1.788 -3.932 ... -1.346 -4.544\n",
       "    tmax      (time, location) float64 12.98 3.31 6.779 ... 6.636 3.343 3.805"
      ]
     },
     "execution_count": 151,
     "metadata": {},
     "output_type": "execute_result"
    }
   ],
   "source": [
    "import xarray as xr\n",
    "\n",
    "np.random.seed(123)\n",
    "\n",
    "xr.set_options(display_style=\"html\")\n",
    "\n",
    "times = pd.date_range(\"2000-01-01\", \"2001-12-31\", name=\"time\")\n",
    "annual_cycle = np.sin(2 * np.pi * (times.dayofyear.values / 365.25 - 0.28))\n",
    "\n",
    "base = 10 + 15 * annual_cycle.reshape(-1, 1)\n",
    "tmin_values = base + 3 * np.random.randn(annual_cycle.size, 3)\n",
    "tmax_values = base + 10 + 3 * np.random.randn(annual_cycle.size, 3)\n",
    "\n",
    "ds = xr.Dataset(\n",
    "    {\n",
    "        \"tmin\": ((\"time\", \"location\"), tmin_values),\n",
    "        \"tmax\": ((\"time\", \"location\"), tmax_values),\n",
    "    },\n",
    "    {\"time\": times, \"location\": [\"IA\", \"IN\", \"IL\"]},\n",
    ")\n",
    "\n",
    "ds"
   ]
  },
  {
   "cell_type": "code",
   "execution_count": 153,
   "id": "a2f9f708-7310-446b-8a7d-0268e7c72261",
   "metadata": {},
   "outputs": [
    {
     "data": {
      "text/html": [
       "<div>\n",
       "<style scoped>\n",
       "    .dataframe tbody tr th:only-of-type {\n",
       "        vertical-align: middle;\n",
       "    }\n",
       "\n",
       "    .dataframe tbody tr th {\n",
       "        vertical-align: top;\n",
       "    }\n",
       "\n",
       "    .dataframe thead th {\n",
       "        text-align: right;\n",
       "    }\n",
       "</style>\n",
       "<table border=\"1\" class=\"dataframe\">\n",
       "  <thead>\n",
       "    <tr style=\"text-align: right;\">\n",
       "      <th></th>\n",
       "      <th></th>\n",
       "      <th>tmin</th>\n",
       "      <th>tmax</th>\n",
       "    </tr>\n",
       "    <tr>\n",
       "      <th>location</th>\n",
       "      <th>time</th>\n",
       "      <th></th>\n",
       "      <th></th>\n",
       "    </tr>\n",
       "  </thead>\n",
       "  <tbody>\n",
       "    <tr>\n",
       "      <th rowspan=\"5\" valign=\"top\">IA</th>\n",
       "      <th>2000-01-01</th>\n",
       "      <td>-8.037369</td>\n",
       "      <td>12.980549</td>\n",
       "    </tr>\n",
       "    <tr>\n",
       "      <th>2000-01-02</th>\n",
       "      <td>-9.341157</td>\n",
       "      <td>0.447856</td>\n",
       "    </tr>\n",
       "    <tr>\n",
       "      <th>2000-01-03</th>\n",
       "      <td>-12.139719</td>\n",
       "      <td>5.322699</td>\n",
       "    </tr>\n",
       "    <tr>\n",
       "      <th>2000-01-04</th>\n",
       "      <td>-7.492914</td>\n",
       "      <td>1.889425</td>\n",
       "    </tr>\n",
       "    <tr>\n",
       "      <th>2000-01-05</th>\n",
       "      <td>-0.447129</td>\n",
       "      <td>0.791176</td>\n",
       "    </tr>\n",
       "  </tbody>\n",
       "</table>\n",
       "</div>"
      ],
      "text/plain": [
       "                          tmin       tmax\n",
       "location time                            \n",
       "IA       2000-01-01  -8.037369  12.980549\n",
       "         2000-01-02  -9.341157   0.447856\n",
       "         2000-01-03 -12.139719   5.322699\n",
       "         2000-01-04  -7.492914   1.889425\n",
       "         2000-01-05  -0.447129   0.791176"
      ]
     },
     "execution_count": 153,
     "metadata": {},
     "output_type": "execute_result"
    }
   ],
   "source": [
    "df = ds.to_dataframe()\n",
    "df.head()"
   ]
  },
  {
   "cell_type": "markdown",
   "id": "3c11e0c0-f1b1-456d-9642-e516b32d8d26",
   "metadata": {},
   "source": [
    "### JSON\n",
    "another common format, kind of like hdf5 but way more general and not for large data. this is often configuration files or something that requires lots of nicely organized metadata. <br>\n",
    "the `json` package comes with base python and is what to use to interact with JSON type data. like hdf5, it is basically a dictionary, so you can load it into a dictionary and if you have a dictionary you can dumps (save) it it into a JSON file"
   ]
  },
  {
   "cell_type": "code",
   "execution_count": 119,
   "id": "33eef400-0f00-414b-914c-a5fa7ee543a9",
   "metadata": {},
   "outputs": [],
   "source": [
    "import json"
   ]
  },
  {
   "cell_type": "code",
   "execution_count": 133,
   "id": "cd135ed8-14bf-4a2a-be90-7532d41ae4bd",
   "metadata": {},
   "outputs": [],
   "source": [
    "DICT = {'key1':'value',\n",
    "        'key2':12}"
   ]
  },
  {
   "cell_type": "code",
   "execution_count": 137,
   "id": "b61d44f7-58da-4799-8f92-2dc1af68d496",
   "metadata": {},
   "outputs": [],
   "source": [
    "json.dump(DICT, open('file.json','w'),ensure_ascii=False)"
   ]
  },
  {
   "cell_type": "code",
   "execution_count": 138,
   "id": "a85b7dea-f66b-412a-8017-b75526808971",
   "metadata": {},
   "outputs": [],
   "source": [
    "d = json.load(open('file.json','r'))"
   ]
  },
  {
   "cell_type": "code",
   "execution_count": 139,
   "id": "26e0e07b-0e05-4bdc-a7b0-2d1a0aa39755",
   "metadata": {},
   "outputs": [
    {
     "data": {
      "text/plain": [
       "{'key1': 'value', 'key2': 12}"
      ]
     },
     "execution_count": 139,
     "metadata": {},
     "output_type": "execute_result"
    }
   ],
   "source": [
    "d"
   ]
  }
 ],
 "metadata": {
  "kernelspec": {
   "display_name": "Python 3",
   "language": "python",
   "name": "python3"
  },
  "language_info": {
   "codemirror_mode": {
    "name": "ipython",
    "version": 3
   },
   "file_extension": ".py",
   "mimetype": "text/x-python",
   "name": "python",
   "nbconvert_exporter": "python",
   "pygments_lexer": "ipython3",
   "version": "3.8.10"
  },
  "toc-autonumbering": false,
  "toc-showcode": false,
  "toc-showmarkdowntxt": false
 },
 "nbformat": 4,
 "nbformat_minor": 5
}
