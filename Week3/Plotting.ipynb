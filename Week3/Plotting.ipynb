{
 "cells": [
  {
   "cell_type": "markdown",
   "id": "82171f8d-a4b5-4560-b5eb-284b7fdba526",
   "metadata": {},
   "source": [
    "# Plotting\n",
    "### some neuroscience data\n",
    "26 June 2023<br>\n",
    "NRSC 7657<br>\n",
    "Daniel J Denman and John Thompson<br>\n",
    "University of Colorado Anschutz<br>\n",
    "<br>"
   ]
  },
  {
   "cell_type": "markdown",
   "id": "9b66e022-5bc6-4a1c-b9d9-3d3d264a17e8",
   "metadata": {},
   "source": [
    "We'll start with the workhorse of plotting, matplotlib. It has flexibility and deep functionality, and many other packages rely on it in some way. If they don't they are going to end up doing the drawing, managing what your graphics card does directly, often then relying on `PyQt`. All of these have to eventually converge there, as all things that have a graphical component do.[This is mostly trivia, but may come in handdy] "
   ]
  },
  {
   "cell_type": "markdown",
   "id": "3cba4928-2b99-4f46-8dd9-05f3e4b57cae",
   "metadata": {},
   "source": [
    "import syntax:"
   ]
  },
  {
   "cell_type": "code",
   "execution_count": 1,
   "id": "befc1f81-f3b0-402d-ab68-c5356d246580",
   "metadata": {},
   "outputs": [],
   "source": [
    "import matplotlib.pyplot as plt"
   ]
  },
  {
   "cell_type": "markdown",
   "id": "7150cd1b-f68c-48ed-8c31-4fa7e0bbe882",
   "metadata": {},
   "source": [
    "The terminology:"
   ]
  },
  {
   "cell_type": "markdown",
   "id": "92b82db8-d8a8-4661-ba67-c0ab48c6e319",
   "metadata": {},
   "source": [
    "![matplotlib anatomy](https://matplotlib.org/stable/_images/anatomy.png)\n",
    "<br>\n",
    "https://matplotlib.org/stable/tutorials/introductory/usage.html#sphx-glr-tutorials-introductory-usage-py"
   ]
  },
  {
   "cell_type": "markdown",
   "id": "6d7c56ea-d8d9-446c-84a8-d3156db27dd7",
   "metadata": {},
   "source": [
    "https://matplotlib.org/stable/gallery/index.html\n",
    "<br>let's grab some data first"
   ]
  },
  {
   "cell_type": "code",
   "execution_count": null,
   "id": "24b84110-060a-42d6-8b0b-4b2c16bd19d8",
   "metadata": {},
   "outputs": [],
   "source": []
  },
  {
   "cell_type": "code",
   "execution_count": 4,
   "id": "a5408800-c07c-48d8-a2c5-671f34fe3c65",
   "metadata": {},
   "outputs": [],
   "source": []
  },
  {
   "cell_type": "code",
   "execution_count": null,
   "id": "3f4645ff-b7c1-47b0-adcb-5299bfbfe80d",
   "metadata": {},
   "outputs": [],
   "source": []
  },
  {
   "cell_type": "markdown",
   "id": "f31708d2-adca-4b76-80a6-113e909fa093",
   "metadata": {},
   "source": [
    "## Figures and Axes\n"
   ]
  },
  {
   "cell_type": "code",
   "execution_count": null,
   "id": "1783e441-8d92-4101-8821-dd16f771ac32",
   "metadata": {},
   "outputs": [],
   "source": []
  },
  {
   "cell_type": "markdown",
   "id": "cf1ee39a-e5d4-46a4-b536-a3fee625839b",
   "metadata": {},
   "source": [
    "## Axis"
   ]
  },
  {
   "cell_type": "code",
   "execution_count": null,
   "id": "fce3fcc5-e229-4ca0-ae50-eb609f434737",
   "metadata": {},
   "outputs": [],
   "source": []
  },
  {
   "cell_type": "markdown",
   "id": "d79d4754-61a8-4723-b024-bf9dd2ff29ca",
   "metadata": {},
   "source": [
    "## Artist\n",
    "everything is an Artist, these are the entities that get drawn. `Figures` and `Axes` are Artists; other things (lines, shapes, labels, text) are associated with a particular axis"
   ]
  },
  {
   "cell_type": "code",
   "execution_count": null,
   "id": "1e158f75-6df9-44ba-b258-c44bbfeb339e",
   "metadata": {},
   "outputs": [],
   "source": []
  },
  {
   "cell_type": "markdown",
   "id": "d2cc9258-0a62-4d5c-9af4-7bfb82cef783",
   "metadata": {},
   "source": [
    "### The plot object"
   ]
  },
  {
   "cell_type": "code",
   "execution_count": null,
   "id": "57c71d05-4542-447c-9653-d1b80d26a59c",
   "metadata": {},
   "outputs": [],
   "source": []
  },
  {
   "cell_type": "code",
   "execution_count": null,
   "id": "5dc15164-f098-419d-83f6-cb0ba9f3f409",
   "metadata": {},
   "outputs": [],
   "source": []
  },
  {
   "cell_type": "code",
   "execution_count": null,
   "id": "1e0a3e67-accd-453f-8197-26f30ad877de",
   "metadata": {},
   "outputs": [],
   "source": []
  },
  {
   "cell_type": "code",
   "execution_count": null,
   "id": "3fa956db-8fa5-407e-b56e-a5a6e06d1dc5",
   "metadata": {},
   "outputs": [],
   "source": []
  },
  {
   "cell_type": "code",
   "execution_count": null,
   "id": "2a52cdba-7754-49eb-ba74-8aef86f66300",
   "metadata": {},
   "outputs": [],
   "source": []
  },
  {
   "cell_type": "markdown",
   "id": "00ed2d16-4ada-45b7-8fae-38c5bce4831f",
   "metadata": {},
   "source": [
    "## a note on backends"
   ]
  },
  {
   "cell_type": "code",
   "execution_count": 55,
   "id": "d3e6e1ae-c4ac-417a-8c52-9bb353f6ece7",
   "metadata": {},
   "outputs": [],
   "source": [
    "import matplotlib"
   ]
  },
  {
   "cell_type": "code",
   "execution_count": 56,
   "id": "f934b1b2-64fd-48b7-b491-7bba6da0bc44",
   "metadata": {},
   "outputs": [
    {
     "data": {
      "text/plain": [
       "'module://matplotlib_inline.backend_inline'"
      ]
     },
     "execution_count": 56,
     "metadata": {},
     "output_type": "execute_result"
    }
   ],
   "source": [
    "matplotlib.get_backend()"
   ]
  },
  {
   "cell_type": "code",
   "execution_count": 57,
   "id": "0f7a3250-9e89-4cbc-8322-bfe91e08d7c8",
   "metadata": {},
   "outputs": [
    {
     "name": "stdout",
     "output_type": "stream",
     "text": [
      "Available matplotlib backends: ['tk', 'gtk', 'gtk3', 'gtk4', 'wx', 'qt4', 'qt5', 'qt6', 'qt', 'osx', 'nbagg', 'webagg', 'notebook', 'agg', 'svg', 'pdf', 'ps', 'inline', 'ipympl', 'widget']\n"
     ]
    }
   ],
   "source": [
    "%matplotlib --list"
   ]
  },
  {
   "cell_type": "code",
   "execution_count": 62,
   "id": "915a4090-4f76-40bd-b8f8-338fc682b487",
   "metadata": {},
   "outputs": [],
   "source": [
    "%matplotlib ___"
   ]
  },
  {
   "cell_type": "code",
   "execution_count": null,
   "id": "2d28c5c6-d52f-4d6e-a355-2d5f061ccc15",
   "metadata": {},
   "outputs": [],
   "source": []
  },
  {
   "cell_type": "markdown",
   "id": "27d21422-b560-446e-b608-53bee6aa24df",
   "metadata": {},
   "source": [
    "### changing plot parameters"
   ]
  },
  {
   "cell_type": "code",
   "execution_count": null,
   "id": "fbe7cfce-4831-42ea-a000-d84aaf2d9a5a",
   "metadata": {},
   "outputs": [],
   "source": []
  },
  {
   "cell_type": "code",
   "execution_count": null,
   "id": "fc1e0d3f-97af-43bf-acf5-cd5f4a51fb22",
   "metadata": {},
   "outputs": [],
   "source": []
  },
  {
   "cell_type": "markdown",
   "id": "f662139f-bba2-47b7-a5df-45cf750b690e",
   "metadata": {},
   "source": [
    "### multiple plots at once"
   ]
  },
  {
   "cell_type": "markdown",
   "id": "ccff7962-c2d9-44e0-8ff9-b51c6bb836d1",
   "metadata": {},
   "source": [
    "separate plots for each set of axes"
   ]
  },
  {
   "cell_type": "code",
   "execution_count": null,
   "id": "e8bc056e-1391-4502-89a0-c0a25d78946f",
   "metadata": {},
   "outputs": [],
   "source": []
  },
  {
   "cell_type": "markdown",
   "id": "01d9ef1d-0698-4e54-9332-75542491e6d3",
   "metadata": {},
   "source": [
    "plots on the same axes:"
   ]
  },
  {
   "cell_type": "code",
   "execution_count": null,
   "id": "8e562dd3-3a47-4263-b65a-7650385d3660",
   "metadata": {},
   "outputs": [],
   "source": []
  },
  {
   "cell_type": "markdown",
   "id": "1539c200-f9bf-42f6-933f-a5cc8ad6f440",
   "metadata": {},
   "source": [
    "one plot figure with multiple axes"
   ]
  },
  {
   "cell_type": "code",
   "execution_count": null,
   "id": "64adb99f-ea2d-45e7-bc88-05bcc360f305",
   "metadata": {},
   "outputs": [],
   "source": []
  },
  {
   "cell_type": "code",
   "execution_count": null,
   "id": "dcf5492d-1ade-4623-b00c-68c66c66be0e",
   "metadata": {},
   "outputs": [],
   "source": []
  },
  {
   "cell_type": "code",
   "execution_count": null,
   "id": "d202ff22-5a3d-48fd-b97b-56e2130c82c3",
   "metadata": {},
   "outputs": [],
   "source": []
  },
  {
   "cell_type": "markdown",
   "id": "721da7a0-c22c-449d-bde9-06600cf8d0d6",
   "metadata": {},
   "source": [
    "### image, or any 2D plotting"
   ]
  },
  {
   "cell_type": "code",
   "execution_count": 26,
   "id": "88abbfa3-c6f5-4493-857a-3790dd413bd5",
   "metadata": {},
   "outputs": [],
   "source": [
    "import numpy as np"
   ]
  },
  {
   "cell_type": "code",
   "execution_count": 27,
   "id": "85280a75-cea6-4bed-a39a-1b0040a8f1ce",
   "metadata": {},
   "outputs": [],
   "source": [
    "im = np.array([[1,2],[3,4]])"
   ]
  },
  {
   "cell_type": "code",
   "execution_count": 28,
   "id": "5c674597-3c45-40cb-b955-3283a11d337f",
   "metadata": {},
   "outputs": [
    {
     "data": {
      "text/plain": [
       "array([[1, 2],\n",
       "       [3, 4]])"
      ]
     },
     "execution_count": 28,
     "metadata": {},
     "output_type": "execute_result"
    }
   ],
   "source": [
    "im"
   ]
  },
  {
   "cell_type": "code",
   "execution_count": null,
   "id": "b121cb94-73c2-44e5-8250-64328166cf5b",
   "metadata": {},
   "outputs": [],
   "source": []
  },
  {
   "cell_type": "code",
   "execution_count": 30,
   "id": "ac55fedc-bc99-467c-8f18-712800b11343",
   "metadata": {},
   "outputs": [],
   "source": [
    "im2 = plt.imread('../Week2/forNRSC7657.png')"
   ]
  },
  {
   "cell_type": "code",
   "execution_count": null,
   "id": "51e06c10-c452-4b37-9ff3-a8f1d1312916",
   "metadata": {},
   "outputs": [],
   "source": []
  },
  {
   "cell_type": "code",
   "execution_count": null,
   "id": "2641f63c-6488-48fb-a321-1736cbfb85af",
   "metadata": {},
   "outputs": [],
   "source": []
  },
  {
   "cell_type": "markdown",
   "id": "68a4743c-4ebb-44f8-afd8-a019261c8d52",
   "metadata": {},
   "source": [
    "## matplotlib 3d plots"
   ]
  },
  {
   "cell_type": "code",
   "execution_count": null,
   "id": "5e17cfeb-fe1c-4379-bb78-24b8daf2d25f",
   "metadata": {},
   "outputs": [],
   "source": []
  },
  {
   "cell_type": "code",
   "execution_count": null,
   "id": "a61da236-9a03-41fc-9a0c-3ee63d465341",
   "metadata": {},
   "outputs": [],
   "source": []
  },
  {
   "cell_type": "markdown",
   "id": "28ea2528-9117-477b-8ce1-d962b23cf55e",
   "metadata": {},
   "source": [
    "## Seaborn\n",
    "built on top of matplotib, makes nice plots and works natively with `pandas` `DataFrame`s"
   ]
  },
  {
   "cell_type": "code",
   "execution_count": 36,
   "id": "97c29f04-70b8-4473-a0df-d5a3551ec0cc",
   "metadata": {},
   "outputs": [],
   "source": [
    "import seaborn as sns"
   ]
  },
  {
   "cell_type": "code",
   "execution_count": 37,
   "id": "87a8b71f-280c-4e39-a819-617b320176b7",
   "metadata": {},
   "outputs": [
    {
     "data": {
      "text/html": [
       "<div>\n",
       "<style scoped>\n",
       "    .dataframe tbody tr th:only-of-type {\n",
       "        vertical-align: middle;\n",
       "    }\n",
       "\n",
       "    .dataframe tbody tr th {\n",
       "        vertical-align: top;\n",
       "    }\n",
       "\n",
       "    .dataframe thead th {\n",
       "        text-align: right;\n",
       "    }\n",
       "</style>\n",
       "<table border=\"1\" class=\"dataframe\">\n",
       "  <thead>\n",
       "    <tr style=\"text-align: right;\">\n",
       "      <th></th>\n",
       "      <th>sepallength</th>\n",
       "      <th>sepalwidth</th>\n",
       "      <th>petallength</th>\n",
       "      <th>petalwidth</th>\n",
       "      <th>variety</th>\n",
       "    </tr>\n",
       "  </thead>\n",
       "  <tbody>\n",
       "    <tr>\n",
       "      <th>0</th>\n",
       "      <td>5.1</td>\n",
       "      <td>3.5</td>\n",
       "      <td>1.4</td>\n",
       "      <td>0.2</td>\n",
       "      <td>Setosa</td>\n",
       "    </tr>\n",
       "    <tr>\n",
       "      <th>1</th>\n",
       "      <td>4.9</td>\n",
       "      <td>3.0</td>\n",
       "      <td>1.4</td>\n",
       "      <td>0.2</td>\n",
       "      <td>Setosa</td>\n",
       "    </tr>\n",
       "    <tr>\n",
       "      <th>2</th>\n",
       "      <td>4.7</td>\n",
       "      <td>3.2</td>\n",
       "      <td>1.3</td>\n",
       "      <td>0.2</td>\n",
       "      <td>Setosa</td>\n",
       "    </tr>\n",
       "    <tr>\n",
       "      <th>3</th>\n",
       "      <td>4.6</td>\n",
       "      <td>3.1</td>\n",
       "      <td>1.5</td>\n",
       "      <td>0.2</td>\n",
       "      <td>Setosa</td>\n",
       "    </tr>\n",
       "    <tr>\n",
       "      <th>4</th>\n",
       "      <td>5.0</td>\n",
       "      <td>3.6</td>\n",
       "      <td>1.4</td>\n",
       "      <td>0.2</td>\n",
       "      <td>Setosa</td>\n",
       "    </tr>\n",
       "  </tbody>\n",
       "</table>\n",
       "</div>"
      ],
      "text/plain": [
       "   sepallength  sepalwidth  petallength  petalwidth variety\n",
       "0          5.1         3.5          1.4         0.2  Setosa\n",
       "1          4.9         3.0          1.4         0.2  Setosa\n",
       "2          4.7         3.2          1.3         0.2  Setosa\n",
       "3          4.6         3.1          1.5         0.2  Setosa\n",
       "4          5.0         3.6          1.4         0.2  Setosa"
      ]
     },
     "execution_count": 37,
     "metadata": {},
     "output_type": "execute_result"
    }
   ],
   "source": [
    "df.head()"
   ]
  },
  {
   "cell_type": "code",
   "execution_count": null,
   "id": "cbcc14be-9f14-47b1-bb01-f2816c0fd949",
   "metadata": {},
   "outputs": [],
   "source": []
  },
  {
   "cell_type": "code",
   "execution_count": null,
   "id": "345cfdb2-208d-4cf2-9aac-120b81394af7",
   "metadata": {},
   "outputs": [],
   "source": []
  },
  {
   "cell_type": "code",
   "execution_count": null,
   "id": "92fa3302-f45c-48cf-8a92-1da1dffd0783",
   "metadata": {},
   "outputs": [],
   "source": []
  },
  {
   "cell_type": "code",
   "execution_count": null,
   "id": "e40ccec3-8931-4fe0-b514-db4bca273ae6",
   "metadata": {},
   "outputs": [],
   "source": []
  },
  {
   "cell_type": "markdown",
   "id": "83432aac-37a6-41b9-ab71-c96e32177d1a",
   "metadata": {},
   "source": [
    "## palettes"
   ]
  },
  {
   "cell_type": "code",
   "execution_count": 68,
   "id": "bdb01657-b76a-4e5c-90fb-69e5fbcf5697",
   "metadata": {
    "tags": []
   },
   "outputs": [
    {
     "data": {
      "text/html": [
       "<svg  width=\"165\" height=\"55\"><rect x=\"0\" y=\"0\" width=\"55\" height=\"55\" style=\"fill:#db5f57;stroke-width:2;stroke:rgb(255,255,255)\"/><rect x=\"55\" y=\"0\" width=\"55\" height=\"55\" style=\"fill:#57db5f;stroke-width:2;stroke:rgb(255,255,255)\"/><rect x=\"110\" y=\"0\" width=\"55\" height=\"55\" style=\"fill:#5f57db;stroke-width:2;stroke:rgb(255,255,255)\"/></svg>"
      ],
      "text/plain": [
       "[(0.86, 0.3712, 0.33999999999999997),\n",
       " (0.33999999999999997, 0.86, 0.3712),\n",
       " (0.3712, 0.33999999999999997, 0.86)]"
      ]
     },
     "execution_count": 68,
     "metadata": {},
     "output_type": "execute_result"
    }
   ],
   "source": [
    "sns.color_palette()"
   ]
  },
  {
   "cell_type": "code",
   "execution_count": 70,
   "id": "53b2113d-80d3-4cce-bcbf-18a8e3b8adaf",
   "metadata": {},
   "outputs": [
    {
     "data": {
      "text/html": [
       "<svg  width=\"165\" height=\"55\"><rect x=\"0\" y=\"0\" width=\"55\" height=\"55\" style=\"fill:#0173b2;stroke-width:2;stroke:rgb(255,255,255)\"/><rect x=\"55\" y=\"0\" width=\"55\" height=\"55\" style=\"fill:#de8f05;stroke-width:2;stroke:rgb(255,255,255)\"/><rect x=\"110\" y=\"0\" width=\"55\" height=\"55\" style=\"fill:#029e73;stroke-width:2;stroke:rgb(255,255,255)\"/></svg>"
      ],
      "text/plain": [
       "[(0.00392156862745098, 0.45098039215686275, 0.6980392156862745),\n",
       " (0.8705882352941177, 0.5607843137254902, 0.0196078431372549),\n",
       " (0.00784313725490196, 0.6196078431372549, 0.45098039215686275)]"
      ]
     },
     "execution_count": 70,
     "metadata": {},
     "output_type": "execute_result"
    }
   ],
   "source": [
    "sns.color_palette('colorblind',3)"
   ]
  },
  {
   "cell_type": "code",
   "execution_count": 71,
   "id": "9e09ae64-8b9f-45dd-ae51-1dfb7a8ac498",
   "metadata": {},
   "outputs": [],
   "source": [
    "sns.set_palette(sns.color_palette('colorblind',3))"
   ]
  },
  {
   "cell_type": "code",
   "execution_count": null,
   "id": "668e59a0-34e6-42c5-9b10-5bbf0a16d1ce",
   "metadata": {},
   "outputs": [],
   "source": []
  },
  {
   "cell_type": "markdown",
   "id": "8fe0c1ac-e7ec-4d30-a633-b8aac635ef32",
   "metadata": {},
   "source": [
    "## ipywidgets and interactive plotting"
   ]
  },
  {
   "cell_type": "code",
   "execution_count": 45,
   "id": "c24652ea-9c73-4d13-90cd-ef7ffe92af83",
   "metadata": {
    "collapsed": true,
    "jupyter": {
     "outputs_hidden": true
    },
    "tags": []
   },
   "outputs": [
    {
     "name": "stdout",
     "output_type": "stream",
     "text": [
      "Collecting package metadata (current_repodata.json): done\n",
      "Solving environment: done\n",
      "\n",
      "\n",
      "==> WARNING: A newer version of conda exists. <==\n",
      "  current version: 22.11.1\n",
      "  latest version: 23.5.0\n",
      "\n",
      "Please update conda by running\n",
      "\n",
      "    $ conda update -n base -c defaults conda\n",
      "\n",
      "Or to minimize the number of packages updated during conda update use\n",
      "\n",
      "     conda install conda=23.5.0\n",
      "\n",
      "\n",
      "\n",
      "## Package Plan ##\n",
      "\n",
      "  environment location: /Users/danieljdenman/opt/anaconda3/envs/NRSC7657_2023\n",
      "\n",
      "  added / updated specs:\n",
      "    - nodejs\n",
      "\n",
      "\n",
      "The following packages will be downloaded:\n",
      "\n",
      "    package                    |            build\n",
      "    ---------------------------|-----------------\n",
      "    libuv-1.44.2               |       h6c40b1e_0         388 KB\n",
      "    nodejs-18.16.0             |       he8a3799_0        11.7 MB\n",
      "    ------------------------------------------------------------\n",
      "                                           Total:        12.0 MB\n",
      "\n",
      "The following NEW packages will be INSTALLED:\n",
      "\n",
      "  libuv              pkgs/main/osx-64::libuv-1.44.2-h6c40b1e_0 \n",
      "\n",
      "The following packages will be UPDATED:\n",
      "\n",
      "  nodejs                                 10.13.0-h0a44026_0 --> 18.16.0-he8a3799_0 \n",
      "\n",
      "\n",
      "\n",
      "Downloading and Extracting Packages\n",
      "libuv-1.44.2         | 388 KB    |                                       |   0% \n",
      "libuv-1.44.2         | 388 KB    | ##################################### | 100% \u001b[A\n",
      "nodejs-18.16.0       | 11.7 MB   |                                       |   0% \u001b[A\n",
      "nodejs-18.16.0       | 11.7 MB   | 3                                     |   1% \u001b[A\n",
      "nodejs-18.16.0       | 11.7 MB   | #3                                    |   4% \u001b[A\n",
      "nodejs-18.16.0       | 11.7 MB   | ###5                                  |  10% \u001b[A\n",
      "nodejs-18.16.0       | 11.7 MB   | ####6                                 |  12% \u001b[A\n",
      "nodejs-18.16.0       | 11.7 MB   | ########7                             |  24% \u001b[A\n",
      "nodejs-18.16.0       | 11.7 MB   | ############2                         |  33% \u001b[A\n",
      "nodejs-18.16.0       | 11.7 MB   | ##############7                       |  40% \u001b[A\n",
      "nodejs-18.16.0       | 11.7 MB   | #################3                    |  47% \u001b[A\n",
      "nodejs-18.16.0       | 11.7 MB   | ###################6                  |  53% \u001b[A\n",
      "nodejs-18.16.0       | 11.7 MB   | ######################                |  60% \u001b[A\n",
      "nodejs-18.16.0       | 11.7 MB   | ##########################2           |  71% \u001b[A\n",
      "nodejs-18.16.0       | 11.7 MB   | ############################9         |  78% \u001b[A\n",
      "nodejs-18.16.0       | 11.7 MB   | ###############################1      |  84% \u001b[A\n",
      "nodejs-18.16.0       | 11.7 MB   | #################################2    |  90% \u001b[A\n",
      "nodejs-18.16.0       | 11.7 MB   | ###################################9  |  97% \u001b[A\n",
      "                                                                                \u001b[A\n",
      "                                                                                \u001b[A\n",
      "Preparing transaction: done\n",
      "Verifying transaction: done\n",
      "Executing transaction: done\n",
      "\u001b[33m(Deprecated) Installing extensions with the jupyter labextension install command is now deprecated and will be removed in a future major version of JupyterLab.\n",
      "\n",
      "Users should manage prebuilt extensions with package managers like pip and conda, and extension authors are encouraged to distribute their extensions as prebuilt packages \u001b[0m\n",
      "Building jupyterlab assets (production, minimized)\n",
      "An error occurred.\n",
      "RuntimeError: JupyterLab failed to build\n",
      "See the log file for details:  /var/folders/rp/mf40h6xs39l7_7016j6xg3940000gn/T/jupyterlab-debug-0s07wen3.log\n"
     ]
    }
   ],
   "source": [
    "!conda install nodejs -y\n",
    "!jupyter labextension install @jupyter-widgets/jupyterlab-manager"
   ]
  },
  {
   "cell_type": "code",
   "execution_count": 46,
   "id": "acbfadff-1223-4b67-a550-33906ee49c41",
   "metadata": {},
   "outputs": [],
   "source": [
    "import ipywidgets as widgets"
   ]
  },
  {
   "cell_type": "code",
   "execution_count": 47,
   "id": "49f37311-a9b3-4d63-95a8-b2c905d42d30",
   "metadata": {},
   "outputs": [
    {
     "data": {
      "application/vnd.jupyter.widget-view+json": {
       "model_id": "1c26e67fe428435abbe0ba93effecde2",
       "version_major": 2,
       "version_minor": 0
      },
      "text/plain": [
       "VBox(children=(IntSlider(value=0, description='x max'), IntSlider(value=0, description='y max')))"
      ]
     },
     "execution_count": 47,
     "metadata": {},
     "output_type": "execute_result"
    }
   ],
   "source": [
    "x1 = widgets.IntSlider(description='x max',continuos_update=True)\n",
    "y1 = widgets.IntSlider(description='y max',continuos_update=True)\n",
    "widgets.VBox([x1,y1])"
   ]
  },
  {
   "cell_type": "code",
   "execution_count": null,
   "id": "8de421d0-a79e-4d32-bfda-179e64f3080d",
   "metadata": {},
   "outputs": [],
   "source": [
    "@widgets.interact(x1=7,y1=7)\n",
    "def iris_scatter(x1,y1):\n",
    "    f,ax = plt.subplots(1,1)\n",
    "    ax.plot(df.sepallength,df.sepalwidth,marker='<',markersize=12,color='b')\n",
    "    ax.plot(df.petallength,df.petalwidth,marker='o',markersize=3,color='red',alpha=0.2)\n",
    "    \n",
    "    ax.set_xlim(0,x1)\n",
    "    ax.set_ylim(0,y1)\n",
    "    "
   ]
  },
  {
   "cell_type": "markdown",
   "id": "5dfb1cc4-d8cd-4c7d-999d-fcdac02a76e5",
   "metadata": {},
   "source": [
    "## Bokeh\n",
    "https://demo.bokeh.org/"
   ]
  },
  {
   "cell_type": "code",
   "execution_count": 3,
   "id": "e1bf5d41-aec8-4df1-9184-3cf5d1397ed5",
   "metadata": {},
   "outputs": [],
   "source": [
    "from bokeh.plotting import figure, show\n"
   ]
  },
  {
   "cell_type": "code",
   "execution_count": null,
   "id": "35814cf0-f401-46d0-9a06-9fdd84837ff4",
   "metadata": {},
   "outputs": [],
   "source": [
    "p=figure()"
   ]
  },
  {
   "cell_type": "code",
   "execution_count": null,
   "id": "414e2ee5-5008-4c05-b4a0-694ec79a0956",
   "metadata": {},
   "outputs": [],
   "source": []
  },
  {
   "cell_type": "code",
   "execution_count": null,
   "id": "4aadbeca-9fc5-4a4c-874d-0d353e611aa4",
   "metadata": {},
   "outputs": [],
   "source": []
  },
  {
   "cell_type": "code",
   "execution_count": null,
   "id": "f025bea3-eba3-4b14-9006-8b64e995add8",
   "metadata": {},
   "outputs": [],
   "source": []
  },
  {
   "cell_type": "code",
   "execution_count": null,
   "id": "a91b55ff-f051-46c8-ad6e-6777d35dc9ea",
   "metadata": {},
   "outputs": [],
   "source": []
  },
  {
   "cell_type": "code",
   "execution_count": null,
   "id": "b0a1aacf-9051-49fd-9d72-d15b5a84308c",
   "metadata": {},
   "outputs": [],
   "source": []
  },
  {
   "cell_type": "code",
   "execution_count": null,
   "id": "0905a2f8-b337-4000-9a97-b96f6316634b",
   "metadata": {},
   "outputs": [],
   "source": []
  }
 ],
 "metadata": {
  "kernelspec": {
   "display_name": "Python 3 (ipykernel)",
   "language": "python",
   "name": "python3"
  },
  "language_info": {
   "codemirror_mode": {
    "name": "ipython",
    "version": 3
   },
   "file_extension": ".py",
   "mimetype": "text/x-python",
   "name": "python",
   "nbconvert_exporter": "python",
   "pygments_lexer": "ipython3",
   "version": "3.11.3"
  }
 },
 "nbformat": 4,
 "nbformat_minor": 5
}
