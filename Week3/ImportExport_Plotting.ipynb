{
 "cells": [
  {
   "cell_type": "code",
   "execution_count": null,
   "id": "d20ba510-bce2-4398-aa0a-7cf7e35f1205",
   "metadata": {},
   "outputs": [],
   "source": []
  },
  {
   "cell_type": "markdown",
   "id": "82171f8d-a4b5-4560-b5eb-284b7fdba526",
   "metadata": {},
   "source": [
    "# Plotting\n",
    "### some neuroscience data\n",
    "25 June 2021<br>\n",
    "NRSC 7657<br>\n",
    "Daniel J Denman and John Thompson<br>\n",
    "University of Colorado Anschutz<br>\n",
    "<br>"
   ]
  },
  {
   "cell_type": "markdown",
   "id": "9b66e022-5bc6-4a1c-b9d9-3d3d264a17e8",
   "metadata": {},
   "source": [
    "We'll start with the workhorse of plotting, matplotlib. It has flexibility and deep functionality, and many other packages rely on it in some way. If they don't they are going to end up doing the drawing, managing what your graphics card does directly, often then relying on `PyQt`. All of these have to eventually converge there, as all things that have a graphical component do.[This is mostly trivia, but may come in handdy] "
   ]
  },
  {
   "cell_type": "markdown",
   "id": "3cba4928-2b99-4f46-8dd9-05f3e4b57cae",
   "metadata": {},
   "source": [
    "import syntax:"
   ]
  },
  {
   "cell_type": "code",
   "execution_count": 3,
   "id": "befc1f81-f3b0-402d-ab68-c5356d246580",
   "metadata": {},
   "outputs": [],
   "source": [
    "import matplotlib.pyplot as plt"
   ]
  },
  {
   "cell_type": "code",
   "execution_count": null,
   "id": "742ad97a-4e0e-4e1c-a101-0d31fccec1a7",
   "metadata": {},
   "outputs": [],
   "source": []
  },
  {
   "cell_type": "markdown",
   "id": "7150cd1b-f68c-48ed-8c31-4fa7e0bbe882",
   "metadata": {},
   "source": [
    "The terminology:"
   ]
  },
  {
   "cell_type": "markdown",
   "id": "92b82db8-d8a8-4661-ba67-c0ab48c6e319",
   "metadata": {},
   "source": [
    "![matplotlib anatomy](https://matplotlib.org/stable/_images/anatomy.png)\n",
    "<br>\n",
    "https://matplotlib.org/stable/tutorials/introductory/usage.html#sphx-glr-tutorials-introductory-usage-py"
   ]
  },
  {
   "cell_type": "code",
   "execution_count": null,
   "id": "2af7dc25-6f0d-433e-b6fc-6137cfa97e77",
   "metadata": {},
   "outputs": [],
   "source": []
  },
  {
   "cell_type": "markdown",
   "id": "6d7c56ea-d8d9-446c-84a8-d3156db27dd7",
   "metadata": {},
   "source": [
    "https://matplotlib.org/stable/gallery/index.html"
   ]
  },
  {
   "cell_type": "markdown",
   "id": "f31708d2-adca-4b76-80a6-113e909fa093",
   "metadata": {},
   "source": [
    "## Figures and Axes\n"
   ]
  },
  {
   "cell_type": "markdown",
   "id": "d15b2bbb-a144-4365-b954-c16ac37b55b0",
   "metadata": {},
   "source": []
  },
  {
   "cell_type": "markdown",
   "id": "cf1ee39a-e5d4-46a4-b536-a3fee625839b",
   "metadata": {},
   "source": [
    "## Axis"
   ]
  },
  {
   "cell_type": "code",
   "execution_count": null,
   "id": "fce3fcc5-e229-4ca0-ae50-eb609f434737",
   "metadata": {},
   "outputs": [],
   "source": []
  },
  {
   "cell_type": "markdown",
   "id": "d79d4754-61a8-4723-b024-bf9dd2ff29ca",
   "metadata": {},
   "source": [
    "## Artist"
   ]
  },
  {
   "cell_type": "code",
   "execution_count": null,
   "id": "1e158f75-6df9-44ba-b258-c44bbfeb339e",
   "metadata": {},
   "outputs": [],
   "source": []
  },
  {
   "cell_type": "markdown",
   "id": "d2cc9258-0a62-4d5c-9af4-7bfb82cef783",
   "metadata": {},
   "source": [
    "### The plot object"
   ]
  },
  {
   "cell_type": "code",
   "execution_count": null,
   "id": "2a52cdba-7754-49eb-ba74-8aef86f66300",
   "metadata": {},
   "outputs": [],
   "source": [
    "fig, ax = plt.subplots(1,1)"
   ]
  },
  {
   "cell_type": "code",
   "execution_count": null,
   "id": "c3560f42-f3da-41ca-808d-810644d10ff2",
   "metadata": {},
   "outputs": [],
   "source": []
  },
  {
   "cell_type": "code",
   "execution_count": null,
   "id": "d3e6e1ae-c4ac-417a-8c52-9bb353f6ece7",
   "metadata": {},
   "outputs": [],
   "source": []
  },
  {
   "cell_type": "markdown",
   "id": "28ea2528-9117-477b-8ce1-d962b23cf55e",
   "metadata": {},
   "source": [
    "## Seaborn\n",
    "built on top of matplotib, makes nice plots and works natively with `pandas` `DataFrame`s"
   ]
  },
  {
   "cell_type": "code",
   "execution_count": null,
   "id": "97c29f04-70b8-4473-a0df-d5a3551ec0cc",
   "metadata": {},
   "outputs": [],
   "source": []
  },
  {
   "cell_type": "markdown",
   "id": "8fe0c1ac-e7ec-4d30-a633-b8aac635ef32",
   "metadata": {},
   "source": [
    "## ipywidgets and interactive plotting"
   ]
  },
  {
   "cell_type": "code",
   "execution_count": null,
   "id": "acbfadff-1223-4b67-a550-33906ee49c41",
   "metadata": {},
   "outputs": [],
   "source": []
  },
  {
   "cell_type": "markdown",
   "id": "5dfb1cc4-d8cd-4c7d-999d-fcdac02a76e5",
   "metadata": {},
   "source": [
    "## Bokeh\n",
    "https://demo.bokeh.org/"
   ]
  },
  {
   "cell_type": "code",
   "execution_count": null,
   "id": "0c639b1d-a27c-4d20-a7be-8e1c417f8c41",
   "metadata": {},
   "outputs": [],
   "source": []
  }
 ],
 "metadata": {
  "kernelspec": {
   "display_name": "Python 3",
   "language": "python",
   "name": "python3"
  },
  "language_info": {
   "codemirror_mode": {
    "name": "ipython",
    "version": 3
   },
   "file_extension": ".py",
   "mimetype": "text/x-python",
   "name": "python",
   "nbconvert_exporter": "python",
   "pygments_lexer": "ipython3",
   "version": "3.8.10"
  }
 },
 "nbformat": 4,
 "nbformat_minor": 5
}
