{
 "cells": [
  {
   "cell_type": "markdown",
   "id": "82171f8d-a4b5-4560-b5eb-284b7fdba526",
   "metadata": {},
   "source": [
    "# import / export\n",
    "### as commonly used in neuroscience\n",
    "25 June 2021<br>\n",
    "NRSC 7657<br>\n",
    "Daniel J Denman and John Thompson<br>\n",
    "University of Colorado Anschutz<br>\n",
    "<br>"
   ]
  },
  {
   "cell_type": "code",
   "execution_count": 2,
   "id": "b478e71e-5262-423a-ba02-01d05eaff385",
   "metadata": {},
   "outputs": [
    {
     "data": {
      "text/plain": [
       "4"
      ]
     },
     "execution_count": 2,
     "metadata": {},
     "output_type": "execute_result"
    }
   ],
   "source": [
    "2 + 2"
   ]
  },
  {
   "cell_type": "code",
   "execution_count": null,
   "id": "befc1f81-f3b0-402d-ab68-c5356d246580",
   "metadata": {},
   "outputs": [],
   "source": [
    "import pynwb"
   ]
  },
  {
   "cell_type": "code",
   "execution_count": null,
   "id": "742ad97a-4e0e-4e1c-a101-0d31fccec1a7",
   "metadata": {},
   "outputs": [],
   "source": []
  },
  {
   "cell_type": "markdown",
   "id": "efa81a79-ca7b-4102-85f9-52f7e861194d",
   "metadata": {},
   "source": [
    "autoreload:"
   ]
  },
  {
   "cell_type": "code",
   "execution_count": null,
   "id": "01349b15-e711-469d-8104-2436e5196348",
   "metadata": {},
   "outputs": [],
   "source": []
  },
  {
   "cell_type": "code",
   "execution_count": null,
   "id": "2af7dc25-6f0d-433e-b6fc-6137cfa97e77",
   "metadata": {},
   "outputs": [],
   "source": []
  },
  {
   "cell_type": "code",
   "execution_count": 1,
   "id": "9b65f198-5650-4b12-b56c-db4329ee45a1",
   "metadata": {},
   "outputs": [],
   "source": [
    "%load_ext autoreload\n",
    "%autoreload 2"
   ]
  },
  {
   "cell_type": "markdown",
   "id": "f31708d2-adca-4b76-80a6-113e909fa093",
   "metadata": {},
   "source": [
    "## export from a python script\n",
    "the concept here is the same, but you should be sure to export anything you want before the script is gone, otherwise that variable you wanted to export will disappear with the kernel. "
   ]
  },
  {
   "cell_type": "code",
   "execution_count": null,
   "id": "354a68b3-6e5c-40f8-8e58-37b9d81e0cc9",
   "metadata": {},
   "outputs": [],
   "source": []
  }
 ],
 "metadata": {
  "kernelspec": {
   "display_name": "Python 3",
   "language": "python",
   "name": "python3"
  },
  "language_info": {
   "codemirror_mode": {
    "name": "ipython",
    "version": 3
   },
   "file_extension": ".py",
   "mimetype": "text/x-python",
   "name": "python",
   "nbconvert_exporter": "python",
   "pygments_lexer": "ipython3",
   "version": "3.8.10"
  }
 },
 "nbformat": 4,
 "nbformat_minor": 5
}
