{
 "cells": [
  {
   "cell_type": "markdown",
   "id": "6c7992a1",
   "metadata": {},
   "source": [
    "# import / export\n",
    "### as commonly used in neuroscience\n",
    "26 June 2023<br>\n",
    "NRSC 7657<br>\n",
    "Daniel J Denman and John Thompson<br>\n",
    "University of Colorado Anschutz<br>\n",
    "<br>"
   ]
  },
  {
   "cell_type": "markdown",
   "id": "3106a3cd",
   "metadata": {},
   "source": [
    "importing a module (a single .py file)\n",
    "\n",
    "<br><br>\n",
    "first, let's look at a .py in the python path"
   ]
  },
  {
   "cell_type": "code",
   "execution_count": 1,
   "id": "07e7326f",
   "metadata": {},
   "outputs": [],
   "source": [
    "import warnings"
   ]
  },
  {
   "cell_type": "code",
   "execution_count": 2,
   "id": "066b4892",
   "metadata": {},
   "outputs": [
    {
     "ename": "TypeError",
     "evalue": "showwarning() missing 4 required positional arguments: 'message', 'category', 'filename', and 'lineno'",
     "output_type": "error",
     "traceback": [
      "\u001b[0;31m---------------------------------------------------------------------------\u001b[0m",
      "\u001b[0;31mTypeError\u001b[0m                                 Traceback (most recent call last)",
      "Cell \u001b[0;32mIn[2], line 1\u001b[0m\n\u001b[0;32m----> 1\u001b[0m warnings\u001b[39m.\u001b[39;49mshowwarning()\n",
      "\u001b[0;31mTypeError\u001b[0m: showwarning() missing 4 required positional arguments: 'message', 'category', 'filename', and 'lineno'"
     ]
    }
   ],
   "source": [
    "warnings.showwarning()"
   ]
  },
  {
   "cell_type": "markdown",
   "id": "38b5b21b",
   "metadata": {},
   "source": [
    "importing packages (a module with sub packages or sub parts)"
   ]
  },
  {
   "cell_type": "code",
   "execution_count": null,
   "id": "7deec096",
   "metadata": {},
   "outputs": [],
   "source": [
    "import numpy"
   ]
  },
  {
   "cell_type": "code",
   "execution_count": null,
   "id": "c3e18b3f",
   "metadata": {},
   "outputs": [],
   "source": []
  },
  {
   "cell_type": "code",
   "execution_count": null,
   "id": "df7044eb",
   "metadata": {},
   "outputs": [],
   "source": [
    "import numpy as np"
   ]
  },
  {
   "cell_type": "code",
   "execution_count": null,
   "id": "dbbd7494",
   "metadata": {},
   "outputs": [],
   "source": []
  },
  {
   "cell_type": "markdown",
   "id": "cfa11e5d",
   "metadata": {},
   "source": [
    "importing from a path\n",
    "<br> <br>\n",
    "this is *not* pythonic, but let's do it anyway "
   ]
  },
  {
   "cell_type": "code",
   "execution_count": 3,
   "id": "eacd3c7d",
   "metadata": {},
   "outputs": [],
   "source": [
    "import importlib.util, sys\n",
    "modname='nsrc'\n",
    "spec = importlib.util.spec_from_file_location(modname, '/Users/danieljdenman/github/NRSC7657/Week2/nrsc7657.py')\n",
    "module = importlib.util.module_from_spec(spec)\n",
    "sys.modules[modname] = module\n",
    "spec.loader.exec_module(module)"
   ]
  },
  {
   "cell_type": "code",
   "execution_count": null,
   "id": "b090b333",
   "metadata": {},
   "outputs": [],
   "source": []
  },
  {
   "cell_type": "markdown",
   "id": "c518eca3",
   "metadata": {},
   "source": [
    "autoreload:"
   ]
  },
  {
   "cell_type": "code",
   "execution_count": 1,
   "id": "6ec046c7",
   "metadata": {},
   "outputs": [],
   "source": [
    "%load_ext autoreload\n",
    "%autoreload 2"
   ]
  },
  {
   "cell_type": "code",
   "execution_count": null,
   "id": "9bf05e61",
   "metadata": {},
   "outputs": [],
   "source": []
  },
  {
   "cell_type": "markdown",
   "id": "089dacb1",
   "metadata": {},
   "source": [
    "## loading data"
   ]
  },
  {
   "cell_type": "code",
   "execution_count": null,
   "id": "f61f5726",
   "metadata": {},
   "outputs": [],
   "source": [
    "iris = open('/Users/danieljdenman/github/NRSC7657/Week2/iris.csv',mode='rb')"
   ]
  },
  {
   "cell_type": "markdown",
   "id": "0853b837",
   "metadata": {},
   "source": [
    "### pickle"
   ]
  },
  {
   "cell_type": "markdown",
   "id": "f82c4c46",
   "metadata": {},
   "source": [
    "iris_pickle"
   ]
  },
  {
   "cell_type": "markdown",
   "id": "e2b8859b",
   "metadata": {},
   "source": [
    "# json, hdf\n",
    "these are file formats, that have packages for use in python"
   ]
  },
  {
   "cell_type": "code",
   "execution_count": null,
   "id": "fe0e57f2",
   "metadata": {},
   "outputs": [],
   "source": []
  },
  {
   "cell_type": "markdown",
   "id": "7f377ff3",
   "metadata": {},
   "source": [
    "# numpy, pandas\n",
    "these aare packages, that have built in ways to read/write things"
   ]
  },
  {
   "cell_type": "code",
   "execution_count": null,
   "id": "3af48d44",
   "metadata": {},
   "outputs": [],
   "source": []
  },
  {
   "cell_type": "markdown",
   "id": "7f0de636",
   "metadata": {},
   "source": [
    "## export from a python script\n",
    "the concept here is the same, but you should be sure to export anything you want before the script is gone, otherwise that variable you wanted to export will disappear with the kernel. "
   ]
  },
  {
   "cell_type": "code",
   "execution_count": null,
   "id": "b3e62728",
   "metadata": {},
   "outputs": [],
   "source": []
  }
 ],
 "metadata": {
  "kernelspec": {
   "display_name": "Python 3 (ipykernel)",
   "language": "python",
   "name": "python3"
  },
  "language_info": {
   "codemirror_mode": {
    "name": "ipython",
    "version": 3
   },
   "file_extension": ".py",
   "mimetype": "text/x-python",
   "name": "python",
   "nbconvert_exporter": "python",
   "pygments_lexer": "ipython3",
   "version": "3.11.3"
  }
 },
 "nbformat": 4,
 "nbformat_minor": 5
}
