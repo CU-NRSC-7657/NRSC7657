{
 "cells": [
  {
   "cell_type": "markdown",
   "id": "f67ce523-232b-4e10-ab50-d912a611acbc",
   "metadata": {},
   "source": [
    "# Tips and tricks\n",
    "### for improving your code quality of life\n",
    "17 July 2023<br>\n",
    "NRSC 7657<br>\n",
    "Daniel J Denman and John Thompson<br>\n",
    "University of Colorado Anschutz<br>\n",
    "<br>"
   ]
  },
  {
   "cell_type": "markdown",
   "id": "eebef19a-640b-4649-8bf2-a361ce284cfe",
   "metadata": {},
   "source": [
    "We have used almost all of these before over the course of the previous five weeks, but we'll collect a few here and talk about them. They may be useful just as we have used them, or in another context of your coding. There are always other useful things being developed, this is not exhaustive."
   ]
  },
  {
   "cell_type": "markdown",
   "id": "dc7a6973-1caa-4fb8-8b70-d6db3099644b",
   "metadata": {},
   "source": [
    "### `os` , `sys` and `glob`\n",
    "managing paths and system variables independent of OS\n",
    "https://docs.python.org/3/library/os.html"
   ]
  },
  {
   "cell_type": "code",
   "execution_count": 13,
   "id": "eaa625c1",
   "metadata": {},
   "outputs": [],
   "source": [
    "import os"
   ]
  },
  {
   "cell_type": "code",
   "execution_count": 14,
   "id": "11b4971c",
   "metadata": {},
   "outputs": [
    {
     "data": {
      "text/plain": [
       "'/Users/danieljdenman/github/NRSC7657/Week4'"
      ]
     },
     "execution_count": 14,
     "metadata": {},
     "output_type": "execute_result"
    }
   ],
   "source": [
    "os.path.join('/Users/danieljdenman/github/NRSC7657','Week4')"
   ]
  },
  {
   "cell_type": "markdown",
   "id": "f642e39c",
   "metadata": {},
   "source": [
    "windows vs. unix (mac osx and linux) paths<br>\n",
    "Windows: drive letters, "
   ]
  },
  {
   "cell_type": "code",
   "execution_count": 15,
   "id": "120055b4",
   "metadata": {},
   "outputs": [
    {
     "data": {
      "text/plain": [
       "'/Users/danieljdenman/github/NRSC7657'"
      ]
     },
     "execution_count": 15,
     "metadata": {},
     "output_type": "execute_result"
    }
   ],
   "source": [
    "r'/Users/danieljdenman/github/NRSC7657'"
   ]
  },
  {
   "cell_type": "code",
   "execution_count": 16,
   "id": "718d16fd",
   "metadata": {},
   "outputs": [
    {
     "data": {
      "text/plain": [
       "'C:\\\\Users\\\\danieljdenman\\\\github\\\\NRSC7657'"
      ]
     },
     "execution_count": 16,
     "metadata": {},
     "output_type": "execute_result"
    }
   ],
   "source": [
    "r'C:\\Users\\danieljdenman\\github\\NRSC7657'"
   ]
  },
  {
   "cell_type": "code",
   "execution_count": 17,
   "id": "30e156de",
   "metadata": {},
   "outputs": [
    {
     "data": {
      "text/plain": [
       "'C:\\\\Users\\\\danieljdenman\\\\github\\\\NRSC7657\\\\\\\\'"
      ]
     },
     "execution_count": 17,
     "metadata": {},
     "output_type": "execute_result"
    }
   ],
   "source": [
    "r'C:\\Users\\danieljdenman\\github\\NRSC7657\\\\'"
   ]
  },
  {
   "cell_type": "markdown",
   "id": "a33c3f9c-7100-43d0-b89e-dcc9955329a7",
   "metadata": {},
   "source": [
    "### `tqdm`\n",
    "progress bars"
   ]
  },
  {
   "cell_type": "code",
   "execution_count": 18,
   "id": "a6425fb9",
   "metadata": {},
   "outputs": [
    {
     "name": "stdout",
     "output_type": "stream",
     "text": [
      "Requirement already satisfied: tqdm in /Users/danieljdenman/opt/anaconda3/envs/NRSC7657_2023/lib/python3.11/site-packages (4.65.0)\n"
     ]
    }
   ],
   "source": [
    "!pip install tqdm"
   ]
  },
  {
   "cell_type": "code",
   "execution_count": 19,
   "id": "ff565e4d-2178-4112-872e-1eb834449276",
   "metadata": {},
   "outputs": [],
   "source": [
    "from tqdm.notebook import tqdm\n",
    "import time"
   ]
  },
  {
   "cell_type": "code",
   "execution_count": 25,
   "id": "3deaebf9",
   "metadata": {},
   "outputs": [
    {
     "data": {
      "application/vnd.jupyter.widget-view+json": {
       "model_id": "8667c2ec9a2145f38817c3eb1bfa5770",
       "version_major": 2,
       "version_minor": 0
      },
      "text/plain": [
       "  0%|          | 0/100 [00:00<?, ?it/s]"
      ]
     },
     "metadata": {},
     "output_type": "display_data"
    }
   ],
   "source": [
    "really_long_or_complicated_thing = range(100)\n",
    "for i in tqdm(really_long_or_complicated_thing, position=0,leave=True):\n",
    "    time.sleep(0.1)\n"
   ]
  },
  {
   "cell_type": "code",
   "execution_count": 28,
   "id": "c13d71e0",
   "metadata": {},
   "outputs": [
    {
     "data": {
      "application/vnd.jupyter.widget-view+json": {
       "model_id": "88a971ba90cf4a8d90f0de7ba05b18d2",
       "version_major": 2,
       "version_minor": 0
      },
      "text/plain": [
       "  0%|          | 0/100 [00:00<?, ?it/s]"
      ]
     },
     "metadata": {},
     "output_type": "display_data"
    },
    {
     "data": {
      "application/vnd.jupyter.widget-view+json": {
       "model_id": "a4439674d3344b10a6358161cfa473e5",
       "version_major": 2,
       "version_minor": 0
      },
      "text/plain": [
       "  0%|          | 0/100 [00:00<?, ?it/s]"
      ]
     },
     "metadata": {},
     "output_type": "display_data"
    },
    {
     "ename": "KeyboardInterrupt",
     "evalue": "",
     "output_type": "error",
     "traceback": [
      "\u001b[0;31m---------------------------------------------------------------------------\u001b[0m",
      "\u001b[0;31mKeyboardInterrupt\u001b[0m                         Traceback (most recent call last)",
      "Cell \u001b[0;32mIn[28], line 6\u001b[0m\n\u001b[1;32m      4\u001b[0m time\u001b[39m.\u001b[39msleep(\u001b[39m0.1\u001b[39m)\n\u001b[1;32m      5\u001b[0m \u001b[39mfor\u001b[39;00m j \u001b[39min\u001b[39;00m really_long_or_complicated_thing:\n\u001b[0;32m----> 6\u001b[0m     time\u001b[39m.\u001b[39msleep(\u001b[39m0.1\u001b[39m)\n\u001b[1;32m      7\u001b[0m     pbar\u001b[39m.\u001b[39mupdate()\n",
      "\u001b[0;31mKeyboardInterrupt\u001b[0m: "
     ]
    }
   ],
   "source": [
    "really_long_or_complicated_thing = range(100)\n",
    "with tqdm(total=len(really_long_or_complicated_thing), position=1,leave=True) as pbar:\n",
    "    for i in tqdm(really_long_or_complicated_thing, position=0,leave=True):\n",
    "        time.sleep(0.1)\n",
    "        for j in really_long_or_complicated_thing:\n",
    "            time.sleep(0.1)\n",
    "            pbar.update()"
   ]
  },
  {
   "cell_type": "markdown",
   "id": "4d8507e6-f352-4fdb-a3d6-143456038814",
   "metadata": {},
   "source": [
    "### `pprint`\n",
    "pretty printing"
   ]
  },
  {
   "cell_type": "code",
   "execution_count": 29,
   "id": "772d5c1e-466a-48af-950b-79d815e2b3f7",
   "metadata": {},
   "outputs": [],
   "source": [
    "import pprint"
   ]
  },
  {
   "cell_type": "code",
   "execution_count": 36,
   "id": "b770110f-af74-4e79-9de0-bdd765fc4e15",
   "metadata": {},
   "outputs": [],
   "source": [
    "stuff = ['spam', 'eggs', 'lumberjack', 'knights', 'ni']\n",
    "pp = pprint.PrettyPrinter(indent=4)"
   ]
  },
  {
   "cell_type": "code",
   "execution_count": 37,
   "id": "bd43dcc4",
   "metadata": {},
   "outputs": [
    {
     "name": "stdout",
     "output_type": "stream",
     "text": [
      "['spam', 'eggs', 'lumberjack', 'knights', 'ni']\n"
     ]
    }
   ],
   "source": [
    "print(stuff)"
   ]
  },
  {
   "cell_type": "code",
   "execution_count": 38,
   "id": "434f10bb-45f8-4c50-9d7d-281548e3bda2",
   "metadata": {},
   "outputs": [
    {
     "name": "stdout",
     "output_type": "stream",
     "text": [
      "['spam', 'eggs', 'lumberjack', 'knights', 'ni']\n"
     ]
    }
   ],
   "source": [
    "pp.pprint(stuff)"
   ]
  },
  {
   "cell_type": "code",
   "execution_count": 32,
   "id": "8cd0e255-d397-402e-9135-6cb115a7f65b",
   "metadata": {},
   "outputs": [],
   "source": [
    "stuff.insert(0, stuff[:])"
   ]
  },
  {
   "cell_type": "code",
   "execution_count": 34,
   "id": "c73b379a-8d41-4424-98d9-b746ae9eec60",
   "metadata": {},
   "outputs": [
    {
     "name": "stdout",
     "output_type": "stream",
     "text": [
      "[['spam', 'eggs', 'lumberjack', 'knights', 'ni'], 'spam', 'eggs', 'lumberjack', 'knights', 'ni']\n"
     ]
    }
   ],
   "source": [
    "print(stuff)"
   ]
  },
  {
   "cell_type": "code",
   "execution_count": 33,
   "id": "741c188c-36ad-4119-ac9c-44f341b1bfb3",
   "metadata": {},
   "outputs": [
    {
     "name": "stdout",
     "output_type": "stream",
     "text": [
      "[   ['spam', 'eggs', 'lumberjack', 'knights', 'ni'],\n",
      "    'spam',\n",
      "    'eggs',\n",
      "    'lumberjack',\n",
      "    'knights',\n",
      "    'ni']\n"
     ]
    }
   ],
   "source": [
    "pp.pprint(stuff)"
   ]
  },
  {
   "cell_type": "code",
   "execution_count": null,
   "id": "3f2ef783",
   "metadata": {},
   "outputs": [],
   "source": []
  }
 ],
 "metadata": {
  "kernelspec": {
   "display_name": "Python 3",
   "language": "python",
   "name": "python3"
  },
  "language_info": {
   "codemirror_mode": {
    "name": "ipython",
    "version": 3
   },
   "file_extension": ".py",
   "mimetype": "text/x-python",
   "name": "python",
   "nbconvert_exporter": "python",
   "pygments_lexer": "ipython3",
   "version": "3.11.3"
  }
 },
 "nbformat": 4,
 "nbformat_minor": 5
}
