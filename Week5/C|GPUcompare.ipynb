{
 "cells": [
  {
   "cell_type": "markdown",
   "id": "69fe8d37-e5ee-43eb-a760-3577d8af1d65",
   "metadata": {},
   "source": [
    "### Parallel computing: using a GPU\n",
    "There are many *types* of computation that benefit from using a GPU over even parallel CPUs. GPUs were made for graphics first, where each part of a display needs some ability to do some computation, but what happen in one corner of the screen doesn't depend on what happens in the other. \n",
    "<br><br>\n",
    "On other hand, some computations don't benefit from parallelization of GPUs, such as anything that relies on earlier steps of the computation in order to operate. That means data or intermediate data produced by steps, or decisions that are made based on the results of steps\n",
    "<br><br>\n",
    "So, if you have a set of computations that don't need to use the outputs of intermediate computations, implementing them on a GPU could help. **But**, you have to use specific tools that help your code put your data on the memory (RAM) of a GPU, and the best of the tools uses nVidia GPUs. these are CUDA (API) and cuDNN (primitives for use with CUDA). many packages use these - `tensorflow`, `keras`, etc"
   ]
  },
  {
   "cell_type": "code",
   "execution_count": 1,
   "id": "2fa516e2-535c-4138-832a-741a1c501ad9",
   "metadata": {},
   "outputs": [],
   "source": [
    "import tensorflow"
   ]
  },
  {
   "cell_type": "markdown",
   "id": "2742ad92-71fa-43c9-a270-6fb667a0db64",
   "metadata": {},
   "source": [
    "One reason you may have heard about this is that \"AI\" and deep learning are well suited to this kind of thing. The operating philosophy of these approaches is to have an network of connected nodes which operate on some inputs to generate a prediction. The network learns by testing many predictions against known inputs - getting some right and some wrong. Doing this in parallel and collecting the results is wayyyy more efficient than testing one input-prediction pair at a time. An example, from the Denman Lab:"
   ]
  },
  {
   "cell_type": "code",
   "execution_count": 8,
   "id": "1eebe401-3be5-4ca4-8cfd-c7ebdb8fd1de",
   "metadata": {
    "collapsed": true,
    "jupyter": {
     "outputs_hidden": true
    },
    "tags": []
   },
   "outputs": [
    {
     "name": "stdout",
     "output_type": "stream",
     "text": [
      "Collecting deeplabcut[gui]==2.2rc3\n",
      "  Using cached deeplabcut-2.2rc3-py3-none-any.whl (694 kB)\n",
      "Requirement already satisfied: ruamel.yaml>=0.15.0 in /Users/danieljdenman/opt/anaconda3/envs/NRSC7657/lib/python3.8/site-packages (from deeplabcut[gui]==2.2rc3) (0.16.12)\n",
      "Requirement already satisfied: numba in /Users/danieljdenman/opt/anaconda3/envs/NRSC7657/lib/python3.8/site-packages (from deeplabcut[gui]==2.2rc3) (0.51.1)\n",
      "Requirement already satisfied: opencv-python-headless in /Users/danieljdenman/opt/anaconda3/envs/NRSC7657/lib/python3.8/site-packages (from deeplabcut[gui]==2.2rc3) (3.4.9.33)\n",
      "Requirement already satisfied: tensorflow>=2.5 in /Users/danieljdenman/opt/anaconda3/envs/NRSC7657/lib/python3.8/site-packages (from deeplabcut[gui]==2.2rc3) (2.5.0)\n",
      "Requirement already satisfied: moviepy in /Users/danieljdenman/opt/anaconda3/envs/NRSC7657/lib/python3.8/site-packages (from deeplabcut[gui]==2.2rc3) (1.0.1)\n",
      "Requirement already satisfied: tables in /Users/danieljdenman/opt/anaconda3/envs/NRSC7657/lib/python3.8/site-packages (from deeplabcut[gui]==2.2rc3) (3.6.1)\n",
      "Requirement already satisfied: Pillow>=7.1 in /Users/danieljdenman/opt/anaconda3/envs/NRSC7657/lib/python3.8/site-packages (from deeplabcut[gui]==2.2rc3) (8.2.0)\n",
      "Requirement already satisfied: ipython in /Users/danieljdenman/opt/anaconda3/envs/NRSC7657/lib/python3.8/site-packages (from deeplabcut[gui]==2.2rc3) (7.22.0)\n",
      "Requirement already satisfied: tensorpack in /Users/danieljdenman/opt/anaconda3/envs/NRSC7657/lib/python3.8/site-packages (from deeplabcut[gui]==2.2rc3) (0.9.8)\n",
      "Requirement already satisfied: pandas>=1.0.1 in /Users/danieljdenman/opt/anaconda3/envs/NRSC7657/lib/python3.8/site-packages (from deeplabcut[gui]==2.2rc3) (1.2.4)\n",
      "Collecting tf-slim\n",
      "  Using cached tf_slim-1.1.0-py2.py3-none-any.whl (352 kB)\n",
      "Requirement already satisfied: tqdm in /Users/danieljdenman/.local/lib/python3.8/site-packages (from deeplabcut[gui]==2.2rc3) (4.46.0)\n",
      "Requirement already satisfied: matplotlib==3.1.3 in /Users/danieljdenman/opt/anaconda3/envs/NRSC7657/lib/python3.8/site-packages (from deeplabcut[gui]==2.2rc3) (3.1.3)\n",
      "Requirement already satisfied: imgaug in /Users/danieljdenman/opt/anaconda3/envs/NRSC7657/lib/python3.8/site-packages (from deeplabcut[gui]==2.2rc3) (0.4.0)\n",
      "Requirement already satisfied: pyyaml in /Users/danieljdenman/opt/anaconda3/envs/NRSC7657/lib/python3.8/site-packages (from deeplabcut[gui]==2.2rc3) (5.4.1)\n",
      "Requirement already satisfied: filterpy in /Users/danieljdenman/opt/anaconda3/envs/NRSC7657/lib/python3.8/site-packages (from deeplabcut[gui]==2.2rc3) (1.4.5)\n",
      "Requirement already satisfied: numpy in /Users/danieljdenman/opt/anaconda3/envs/NRSC7657/lib/python3.8/site-packages (from deeplabcut[gui]==2.2rc3) (1.19.5)\n",
      "Requirement already satisfied: scikit-image in /Users/danieljdenman/opt/anaconda3/envs/NRSC7657/lib/python3.8/site-packages (from deeplabcut[gui]==2.2rc3) (0.18.2)\n",
      "Requirement already satisfied: networkx in /Users/danieljdenman/opt/anaconda3/envs/NRSC7657/lib/python3.8/site-packages (from deeplabcut[gui]==2.2rc3) (2.5.1)\n",
      "Requirement already satisfied: statsmodels>=0.11 in /Users/danieljdenman/opt/anaconda3/envs/NRSC7657/lib/python3.8/site-packages (from deeplabcut[gui]==2.2rc3) (0.12.2)\n",
      "Requirement already satisfied: scipy>=1.4 in /Users/danieljdenman/opt/anaconda3/envs/NRSC7657/lib/python3.8/site-packages (from deeplabcut[gui]==2.2rc3) (1.6.2)\n",
      "Requirement already satisfied: scikit-learn in /Users/danieljdenman/opt/anaconda3/envs/NRSC7657/lib/python3.8/site-packages (from deeplabcut[gui]==2.2rc3) (0.24.2)\n",
      "Collecting wxpython<4.1\n",
      "  Using cached wxPython-4.0.7.post2-cp38-cp38-macosx_10_9_x86_64.whl (16.9 MB)\n",
      "Requirement already satisfied: kiwisolver>=1.0.1 in /Users/danieljdenman/opt/anaconda3/envs/NRSC7657/lib/python3.8/site-packages (from matplotlib==3.1.3->deeplabcut[gui]==2.2rc3) (1.3.1)\n",
      "Requirement already satisfied: cycler>=0.10 in /Users/danieljdenman/opt/anaconda3/envs/NRSC7657/lib/python3.8/site-packages (from matplotlib==3.1.3->deeplabcut[gui]==2.2rc3) (0.10.0)\n",
      "Requirement already satisfied: pyparsing!=2.0.4,!=2.1.2,!=2.1.6,>=2.0.1 in /Users/danieljdenman/.local/lib/python3.8/site-packages (from matplotlib==3.1.3->deeplabcut[gui]==2.2rc3) (2.4.7)\n",
      "Requirement already satisfied: python-dateutil>=2.1 in /Users/danieljdenman/opt/anaconda3/envs/NRSC7657/lib/python3.8/site-packages (from matplotlib==3.1.3->deeplabcut[gui]==2.2rc3) (2.8.1)\n",
      "Requirement already satisfied: six in /Users/danieljdenman/opt/anaconda3/envs/NRSC7657/lib/python3.8/site-packages (from cycler>=0.10->matplotlib==3.1.3->deeplabcut[gui]==2.2rc3) (1.15.0)\n",
      "Requirement already satisfied: pytz>=2017.3 in /Users/danieljdenman/opt/anaconda3/envs/NRSC7657/lib/python3.8/site-packages (from pandas>=1.0.1->deeplabcut[gui]==2.2rc3) (2021.1)\n",
      "Requirement already satisfied: ruamel.yaml.clib>=0.1.2 in /Users/danieljdenman/opt/anaconda3/envs/NRSC7657/lib/python3.8/site-packages (from ruamel.yaml>=0.15.0->deeplabcut[gui]==2.2rc3) (0.2.2)\n",
      "Requirement already satisfied: patsy>=0.5 in /Users/danieljdenman/opt/anaconda3/envs/NRSC7657/lib/python3.8/site-packages (from statsmodels>=0.11->deeplabcut[gui]==2.2rc3) (0.5.1)\n",
      "Requirement already satisfied: protobuf>=3.9.2 in /Users/danieljdenman/opt/anaconda3/envs/NRSC7657/lib/python3.8/site-packages (from tensorflow>=2.5->deeplabcut[gui]==2.2rc3) (3.17.3)\n",
      "Requirement already satisfied: wrapt~=1.12.1 in /Users/danieljdenman/opt/anaconda3/envs/NRSC7657/lib/python3.8/site-packages (from tensorflow>=2.5->deeplabcut[gui]==2.2rc3) (1.12.1)\n",
      "Requirement already satisfied: termcolor~=1.1.0 in /Users/danieljdenman/opt/anaconda3/envs/NRSC7657/lib/python3.8/site-packages (from tensorflow>=2.5->deeplabcut[gui]==2.2rc3) (1.1.0)\n",
      "Requirement already satisfied: gast==0.4.0 in /Users/danieljdenman/opt/anaconda3/envs/NRSC7657/lib/python3.8/site-packages (from tensorflow>=2.5->deeplabcut[gui]==2.2rc3) (0.4.0)\n",
      "Requirement already satisfied: astunparse~=1.6.3 in /Users/danieljdenman/opt/anaconda3/envs/NRSC7657/lib/python3.8/site-packages (from tensorflow>=2.5->deeplabcut[gui]==2.2rc3) (1.6.3)\n",
      "Requirement already satisfied: flatbuffers~=1.12.0 in /Users/danieljdenman/opt/anaconda3/envs/NRSC7657/lib/python3.8/site-packages (from tensorflow>=2.5->deeplabcut[gui]==2.2rc3) (1.12)\n",
      "Requirement already satisfied: tensorboard~=2.5 in /Users/danieljdenman/opt/anaconda3/envs/NRSC7657/lib/python3.8/site-packages (from tensorflow>=2.5->deeplabcut[gui]==2.2rc3) (2.5.0)\n",
      "Requirement already satisfied: google-pasta~=0.2 in /Users/danieljdenman/opt/anaconda3/envs/NRSC7657/lib/python3.8/site-packages (from tensorflow>=2.5->deeplabcut[gui]==2.2rc3) (0.2.0)\n",
      "Requirement already satisfied: h5py~=3.1.0 in /Users/danieljdenman/opt/anaconda3/envs/NRSC7657/lib/python3.8/site-packages (from tensorflow>=2.5->deeplabcut[gui]==2.2rc3) (3.1.0)\n",
      "Requirement already satisfied: keras-nightly~=2.5.0.dev in /Users/danieljdenman/opt/anaconda3/envs/NRSC7657/lib/python3.8/site-packages (from tensorflow>=2.5->deeplabcut[gui]==2.2rc3) (2.5.0.dev2021032900)\n",
      "Requirement already satisfied: absl-py~=0.10 in /Users/danieljdenman/opt/anaconda3/envs/NRSC7657/lib/python3.8/site-packages (from tensorflow>=2.5->deeplabcut[gui]==2.2rc3) (0.13.0)\n",
      "Requirement already satisfied: typing-extensions~=3.7.4 in /Users/danieljdenman/opt/anaconda3/envs/NRSC7657/lib/python3.8/site-packages (from tensorflow>=2.5->deeplabcut[gui]==2.2rc3) (3.7.4.3)\n",
      "Requirement already satisfied: grpcio~=1.34.0 in /Users/danieljdenman/opt/anaconda3/envs/NRSC7657/lib/python3.8/site-packages (from tensorflow>=2.5->deeplabcut[gui]==2.2rc3) (1.34.1)\n",
      "Requirement already satisfied: opt-einsum~=3.3.0 in /Users/danieljdenman/opt/anaconda3/envs/NRSC7657/lib/python3.8/site-packages (from tensorflow>=2.5->deeplabcut[gui]==2.2rc3) (3.3.0)\n",
      "Requirement already satisfied: wheel~=0.35 in /Users/danieljdenman/opt/anaconda3/envs/NRSC7657/lib/python3.8/site-packages (from tensorflow>=2.5->deeplabcut[gui]==2.2rc3) (0.36.2)\n",
      "Requirement already satisfied: keras-preprocessing~=1.1.2 in /Users/danieljdenman/opt/anaconda3/envs/NRSC7657/lib/python3.8/site-packages (from tensorflow>=2.5->deeplabcut[gui]==2.2rc3) (1.1.2)\n",
      "Requirement already satisfied: tensorflow-estimator<2.6.0,>=2.5.0rc0 in /Users/danieljdenman/opt/anaconda3/envs/NRSC7657/lib/python3.8/site-packages (from tensorflow>=2.5->deeplabcut[gui]==2.2rc3) (2.5.0)\n",
      "Requirement already satisfied: setuptools>=41.0.0 in /Users/danieljdenman/.local/lib/python3.8/site-packages (from tensorboard~=2.5->tensorflow>=2.5->deeplabcut[gui]==2.2rc3) (46.1.3)\n",
      "Requirement already satisfied: tensorboard-plugin-wit>=1.6.0 in /Users/danieljdenman/opt/anaconda3/envs/NRSC7657/lib/python3.8/site-packages (from tensorboard~=2.5->tensorflow>=2.5->deeplabcut[gui]==2.2rc3) (1.8.0)\n",
      "Requirement already satisfied: tensorboard-data-server<0.7.0,>=0.6.0 in /Users/danieljdenman/opt/anaconda3/envs/NRSC7657/lib/python3.8/site-packages (from tensorboard~=2.5->tensorflow>=2.5->deeplabcut[gui]==2.2rc3) (0.6.1)\n",
      "Requirement already satisfied: markdown>=2.6.8 in /Users/danieljdenman/opt/anaconda3/envs/NRSC7657/lib/python3.8/site-packages (from tensorboard~=2.5->tensorflow>=2.5->deeplabcut[gui]==2.2rc3) (3.3.4)\n",
      "Requirement already satisfied: werkzeug>=0.11.15 in /Users/danieljdenman/opt/anaconda3/envs/NRSC7657/lib/python3.8/site-packages (from tensorboard~=2.5->tensorflow>=2.5->deeplabcut[gui]==2.2rc3) (2.0.1)\n",
      "Requirement already satisfied: requests<3,>=2.21.0 in /Users/danieljdenman/opt/anaconda3/envs/NRSC7657/lib/python3.8/site-packages (from tensorboard~=2.5->tensorflow>=2.5->deeplabcut[gui]==2.2rc3) (2.25.1)\n",
      "Requirement already satisfied: google-auth<2,>=1.6.3 in /Users/danieljdenman/opt/anaconda3/envs/NRSC7657/lib/python3.8/site-packages (from tensorboard~=2.5->tensorflow>=2.5->deeplabcut[gui]==2.2rc3) (1.32.1)\n",
      "Requirement already satisfied: google-auth-oauthlib<0.5,>=0.4.1 in /Users/danieljdenman/opt/anaconda3/envs/NRSC7657/lib/python3.8/site-packages (from tensorboard~=2.5->tensorflow>=2.5->deeplabcut[gui]==2.2rc3) (0.4.4)\n",
      "Requirement already satisfied: rsa<5,>=3.1.4 in /Users/danieljdenman/opt/anaconda3/envs/NRSC7657/lib/python3.8/site-packages (from google-auth<2,>=1.6.3->tensorboard~=2.5->tensorflow>=2.5->deeplabcut[gui]==2.2rc3) (4.7.2)\n",
      "Requirement already satisfied: pyasn1-modules>=0.2.1 in /Users/danieljdenman/opt/anaconda3/envs/NRSC7657/lib/python3.8/site-packages (from google-auth<2,>=1.6.3->tensorboard~=2.5->tensorflow>=2.5->deeplabcut[gui]==2.2rc3) (0.2.8)\n",
      "Requirement already satisfied: cachetools<5.0,>=2.0.0 in /Users/danieljdenman/opt/anaconda3/envs/NRSC7657/lib/python3.8/site-packages (from google-auth<2,>=1.6.3->tensorboard~=2.5->tensorflow>=2.5->deeplabcut[gui]==2.2rc3) (4.2.2)\n",
      "Requirement already satisfied: requests-oauthlib>=0.7.0 in /Users/danieljdenman/opt/anaconda3/envs/NRSC7657/lib/python3.8/site-packages (from google-auth-oauthlib<0.5,>=0.4.1->tensorboard~=2.5->tensorflow>=2.5->deeplabcut[gui]==2.2rc3) (1.3.0)\n",
      "Requirement already satisfied: pyasn1<0.5.0,>=0.4.6 in /Users/danieljdenman/opt/anaconda3/envs/NRSC7657/lib/python3.8/site-packages (from pyasn1-modules>=0.2.1->google-auth<2,>=1.6.3->tensorboard~=2.5->tensorflow>=2.5->deeplabcut[gui]==2.2rc3) (0.4.8)\n",
      "Requirement already satisfied: certifi>=2017.4.17 in /Users/danieljdenman/opt/anaconda3/envs/NRSC7657/lib/python3.8/site-packages (from requests<3,>=2.21.0->tensorboard~=2.5->tensorflow>=2.5->deeplabcut[gui]==2.2rc3) (2021.5.30)\n",
      "Requirement already satisfied: urllib3<1.27,>=1.21.1 in /Users/danieljdenman/opt/anaconda3/envs/NRSC7657/lib/python3.8/site-packages (from requests<3,>=2.21.0->tensorboard~=2.5->tensorflow>=2.5->deeplabcut[gui]==2.2rc3) (1.26.4)\n",
      "Requirement already satisfied: chardet<5,>=3.0.2 in /Users/danieljdenman/opt/anaconda3/envs/NRSC7657/lib/python3.8/site-packages (from requests<3,>=2.21.0->tensorboard~=2.5->tensorflow>=2.5->deeplabcut[gui]==2.2rc3) (3.0.4)\n",
      "Requirement already satisfied: idna<3,>=2.5 in /Users/danieljdenman/opt/anaconda3/envs/NRSC7657/lib/python3.8/site-packages (from requests<3,>=2.21.0->tensorboard~=2.5->tensorflow>=2.5->deeplabcut[gui]==2.2rc3) (2.10)\n",
      "Requirement already satisfied: oauthlib>=3.0.0 in /Users/danieljdenman/opt/anaconda3/envs/NRSC7657/lib/python3.8/site-packages (from requests-oauthlib>=0.7.0->google-auth-oauthlib<0.5,>=0.4.1->tensorboard~=2.5->tensorflow>=2.5->deeplabcut[gui]==2.2rc3) (3.1.1)\n",
      "Requirement already satisfied: Shapely in /Users/danieljdenman/opt/anaconda3/envs/NRSC7657/lib/python3.8/site-packages (from imgaug->deeplabcut[gui]==2.2rc3) (1.7.1)\n",
      "Requirement already satisfied: opencv-python in /Users/danieljdenman/opt/anaconda3/envs/NRSC7657/lib/python3.8/site-packages (from imgaug->deeplabcut[gui]==2.2rc3) (4.5.2.54)\n",
      "Requirement already satisfied: imageio in /Users/danieljdenman/opt/anaconda3/envs/NRSC7657/lib/python3.8/site-packages (from imgaug->deeplabcut[gui]==2.2rc3) (2.9.0)\n",
      "Requirement already satisfied: tifffile>=2019.7.26 in /Users/danieljdenman/opt/anaconda3/envs/NRSC7657/lib/python3.8/site-packages (from scikit-image->deeplabcut[gui]==2.2rc3) (2021.7.2)\n",
      "Requirement already satisfied: PyWavelets>=1.1.1 in /Users/danieljdenman/opt/anaconda3/envs/NRSC7657/lib/python3.8/site-packages (from scikit-image->deeplabcut[gui]==2.2rc3) (1.1.1)\n",
      "Requirement already satisfied: decorator<5,>=4.3 in /Users/danieljdenman/opt/anaconda3/envs/NRSC7657/lib/python3.8/site-packages (from networkx->deeplabcut[gui]==2.2rc3) (4.4.2)\n",
      "Requirement already satisfied: appnope in /Users/danieljdenman/opt/anaconda3/envs/NRSC7657/lib/python3.8/site-packages (from ipython->deeplabcut[gui]==2.2rc3) (0.1.2)\n",
      "Requirement already satisfied: pickleshare in /Users/danieljdenman/opt/anaconda3/envs/NRSC7657/lib/python3.8/site-packages (from ipython->deeplabcut[gui]==2.2rc3) (0.7.5)\n",
      "Requirement already satisfied: jedi>=0.16 in /Users/danieljdenman/opt/anaconda3/envs/NRSC7657/lib/python3.8/site-packages (from ipython->deeplabcut[gui]==2.2rc3) (0.17.0)\n",
      "Requirement already satisfied: backcall in /Users/danieljdenman/opt/anaconda3/envs/NRSC7657/lib/python3.8/site-packages (from ipython->deeplabcut[gui]==2.2rc3) (0.2.0)\n",
      "Requirement already satisfied: prompt-toolkit!=3.0.0,!=3.0.1,<3.1.0,>=2.0.0 in /Users/danieljdenman/opt/anaconda3/envs/NRSC7657/lib/python3.8/site-packages (from ipython->deeplabcut[gui]==2.2rc3) (3.0.17)\n",
      "Requirement already satisfied: traitlets>=4.2 in /Users/danieljdenman/opt/anaconda3/envs/NRSC7657/lib/python3.8/site-packages (from ipython->deeplabcut[gui]==2.2rc3) (5.0.5)\n",
      "Requirement already satisfied: pygments in /Users/danieljdenman/.local/lib/python3.8/site-packages (from ipython->deeplabcut[gui]==2.2rc3) (2.6.1)\n",
      "Requirement already satisfied: pexpect>4.3 in /Users/danieljdenman/opt/anaconda3/envs/NRSC7657/lib/python3.8/site-packages (from ipython->deeplabcut[gui]==2.2rc3) (4.8.0)\n",
      "Requirement already satisfied: parso>=0.7.0 in /Users/danieljdenman/opt/anaconda3/envs/NRSC7657/lib/python3.8/site-packages (from jedi>=0.16->ipython->deeplabcut[gui]==2.2rc3) (0.8.2)\n",
      "Requirement already satisfied: ptyprocess>=0.5 in /Users/danieljdenman/opt/anaconda3/envs/NRSC7657/lib/python3.8/site-packages (from pexpect>4.3->ipython->deeplabcut[gui]==2.2rc3) (0.7.0)\n",
      "Requirement already satisfied: wcwidth in /Users/danieljdenman/opt/anaconda3/envs/NRSC7657/lib/python3.8/site-packages (from prompt-toolkit!=3.0.0,!=3.0.1,<3.1.0,>=2.0.0->ipython->deeplabcut[gui]==2.2rc3) (0.2.5)\n",
      "Requirement already satisfied: ipython-genutils in /Users/danieljdenman/opt/anaconda3/envs/NRSC7657/lib/python3.8/site-packages (from traitlets>=4.2->ipython->deeplabcut[gui]==2.2rc3) (0.2.0)\n",
      "Requirement already satisfied: proglog<=1.0.0 in /Users/danieljdenman/opt/anaconda3/envs/NRSC7657/lib/python3.8/site-packages (from moviepy->deeplabcut[gui]==2.2rc3) (0.1.9)\n",
      "Requirement already satisfied: imageio-ffmpeg>=0.2.0 in /Users/danieljdenman/opt/anaconda3/envs/NRSC7657/lib/python3.8/site-packages (from moviepy->deeplabcut[gui]==2.2rc3) (0.4.4)\n",
      "Requirement already satisfied: llvmlite<0.35,>=0.34.0.dev0 in /Users/danieljdenman/opt/anaconda3/envs/NRSC7657/lib/python3.8/site-packages (from numba->deeplabcut[gui]==2.2rc3) (0.34.0)\n",
      "Requirement already satisfied: threadpoolctl>=2.0.0 in /Users/danieljdenman/opt/anaconda3/envs/NRSC7657/lib/python3.8/site-packages (from scikit-learn->deeplabcut[gui]==2.2rc3) (2.1.0)\n",
      "Requirement already satisfied: joblib>=0.11 in /Users/danieljdenman/opt/anaconda3/envs/NRSC7657/lib/python3.8/site-packages (from scikit-learn->deeplabcut[gui]==2.2rc3) (1.0.1)\n",
      "Requirement already satisfied: numexpr>=2.6.2 in /Users/danieljdenman/opt/anaconda3/envs/NRSC7657/lib/python3.8/site-packages (from tables->deeplabcut[gui]==2.2rc3) (2.7.3)\n",
      "Requirement already satisfied: pyzmq>=16 in /Users/danieljdenman/opt/anaconda3/envs/NRSC7657/lib/python3.8/site-packages (from tensorpack->deeplabcut[gui]==2.2rc3) (20.0.0)\n",
      "Requirement already satisfied: tabulate>=0.7.7 in /Users/danieljdenman/opt/anaconda3/envs/NRSC7657/lib/python3.8/site-packages (from tensorpack->deeplabcut[gui]==2.2rc3) (0.8.9)\n",
      "Requirement already satisfied: msgpack>=0.5.2 in /Users/danieljdenman/opt/anaconda3/envs/NRSC7657/lib/python3.8/site-packages (from tensorpack->deeplabcut[gui]==2.2rc3) (1.0.2)\n",
      "Requirement already satisfied: psutil>=5 in /Users/danieljdenman/opt/anaconda3/envs/NRSC7657/lib/python3.8/site-packages (from tensorpack->deeplabcut[gui]==2.2rc3) (5.8.0)\n",
      "Requirement already satisfied: msgpack-numpy>=0.4.4.2 in /Users/danieljdenman/opt/anaconda3/envs/NRSC7657/lib/python3.8/site-packages (from tensorpack->deeplabcut[gui]==2.2rc3) (0.4.7.1)\n",
      "Installing collected packages: tf-slim, wxpython, deeplabcut\n",
      "  Attempting uninstall: deeplabcut\n",
      "    Found existing installation: deeplabcut 2.1.10.4\n",
      "    Uninstalling deeplabcut-2.1.10.4:\n",
      "      Successfully uninstalled deeplabcut-2.1.10.4\n",
      "Successfully installed deeplabcut-2.2rc3 tf-slim-1.1.0 wxpython-4.0.7.post2\n",
      "Requirement already satisfied: tensorflow in /Users/danieljdenman/opt/anaconda3/envs/NRSC7657/lib/python3.8/site-packages (2.5.0)\n",
      "Requirement already satisfied: six~=1.15.0 in /Users/danieljdenman/opt/anaconda3/envs/NRSC7657/lib/python3.8/site-packages (from tensorflow) (1.15.0)\n",
      "Requirement already satisfied: protobuf>=3.9.2 in /Users/danieljdenman/opt/anaconda3/envs/NRSC7657/lib/python3.8/site-packages (from tensorflow) (3.17.3)\n",
      "Requirement already satisfied: opt-einsum~=3.3.0 in /Users/danieljdenman/opt/anaconda3/envs/NRSC7657/lib/python3.8/site-packages (from tensorflow) (3.3.0)\n",
      "Requirement already satisfied: tensorboard~=2.5 in /Users/danieljdenman/opt/anaconda3/envs/NRSC7657/lib/python3.8/site-packages (from tensorflow) (2.5.0)\n",
      "Requirement already satisfied: wrapt~=1.12.1 in /Users/danieljdenman/opt/anaconda3/envs/NRSC7657/lib/python3.8/site-packages (from tensorflow) (1.12.1)\n",
      "Requirement already satisfied: h5py~=3.1.0 in /Users/danieljdenman/opt/anaconda3/envs/NRSC7657/lib/python3.8/site-packages (from tensorflow) (3.1.0)\n",
      "Requirement already satisfied: google-pasta~=0.2 in /Users/danieljdenman/opt/anaconda3/envs/NRSC7657/lib/python3.8/site-packages (from tensorflow) (0.2.0)\n",
      "Requirement already satisfied: keras-nightly~=2.5.0.dev in /Users/danieljdenman/opt/anaconda3/envs/NRSC7657/lib/python3.8/site-packages (from tensorflow) (2.5.0.dev2021032900)\n",
      "Requirement already satisfied: keras-preprocessing~=1.1.2 in /Users/danieljdenman/opt/anaconda3/envs/NRSC7657/lib/python3.8/site-packages (from tensorflow) (1.1.2)\n",
      "Requirement already satisfied: astunparse~=1.6.3 in /Users/danieljdenman/opt/anaconda3/envs/NRSC7657/lib/python3.8/site-packages (from tensorflow) (1.6.3)\n",
      "Requirement already satisfied: wheel~=0.35 in /Users/danieljdenman/opt/anaconda3/envs/NRSC7657/lib/python3.8/site-packages (from tensorflow) (0.36.2)\n",
      "Requirement already satisfied: tensorflow-estimator<2.6.0,>=2.5.0rc0 in /Users/danieljdenman/opt/anaconda3/envs/NRSC7657/lib/python3.8/site-packages (from tensorflow) (2.5.0)\n",
      "Requirement already satisfied: gast==0.4.0 in /Users/danieljdenman/opt/anaconda3/envs/NRSC7657/lib/python3.8/site-packages (from tensorflow) (0.4.0)\n",
      "Requirement already satisfied: numpy~=1.19.2 in /Users/danieljdenman/opt/anaconda3/envs/NRSC7657/lib/python3.8/site-packages (from tensorflow) (1.19.5)\n",
      "Requirement already satisfied: termcolor~=1.1.0 in /Users/danieljdenman/opt/anaconda3/envs/NRSC7657/lib/python3.8/site-packages (from tensorflow) (1.1.0)\n",
      "Requirement already satisfied: absl-py~=0.10 in /Users/danieljdenman/opt/anaconda3/envs/NRSC7657/lib/python3.8/site-packages (from tensorflow) (0.13.0)\n",
      "Requirement already satisfied: grpcio~=1.34.0 in /Users/danieljdenman/opt/anaconda3/envs/NRSC7657/lib/python3.8/site-packages (from tensorflow) (1.34.1)\n",
      "Requirement already satisfied: typing-extensions~=3.7.4 in /Users/danieljdenman/opt/anaconda3/envs/NRSC7657/lib/python3.8/site-packages (from tensorflow) (3.7.4.3)\n",
      "Requirement already satisfied: flatbuffers~=1.12.0 in /Users/danieljdenman/opt/anaconda3/envs/NRSC7657/lib/python3.8/site-packages (from tensorflow) (1.12)\n",
      "Requirement already satisfied: google-auth<2,>=1.6.3 in /Users/danieljdenman/opt/anaconda3/envs/NRSC7657/lib/python3.8/site-packages (from tensorboard~=2.5->tensorflow) (1.32.1)\n",
      "Requirement already satisfied: google-auth-oauthlib<0.5,>=0.4.1 in /Users/danieljdenman/opt/anaconda3/envs/NRSC7657/lib/python3.8/site-packages (from tensorboard~=2.5->tensorflow) (0.4.4)\n",
      "Requirement already satisfied: werkzeug>=0.11.15 in /Users/danieljdenman/opt/anaconda3/envs/NRSC7657/lib/python3.8/site-packages (from tensorboard~=2.5->tensorflow) (2.0.1)\n",
      "Requirement already satisfied: markdown>=2.6.8 in /Users/danieljdenman/opt/anaconda3/envs/NRSC7657/lib/python3.8/site-packages (from tensorboard~=2.5->tensorflow) (3.3.4)\n",
      "Requirement already satisfied: setuptools>=41.0.0 in /Users/danieljdenman/.local/lib/python3.8/site-packages (from tensorboard~=2.5->tensorflow) (46.1.3)\n",
      "Requirement already satisfied: requests<3,>=2.21.0 in /Users/danieljdenman/opt/anaconda3/envs/NRSC7657/lib/python3.8/site-packages (from tensorboard~=2.5->tensorflow) (2.25.1)\n",
      "Requirement already satisfied: tensorboard-data-server<0.7.0,>=0.6.0 in /Users/danieljdenman/opt/anaconda3/envs/NRSC7657/lib/python3.8/site-packages (from tensorboard~=2.5->tensorflow) (0.6.1)\n",
      "Requirement already satisfied: tensorboard-plugin-wit>=1.6.0 in /Users/danieljdenman/opt/anaconda3/envs/NRSC7657/lib/python3.8/site-packages (from tensorboard~=2.5->tensorflow) (1.8.0)\n",
      "Requirement already satisfied: pyasn1-modules>=0.2.1 in /Users/danieljdenman/opt/anaconda3/envs/NRSC7657/lib/python3.8/site-packages (from google-auth<2,>=1.6.3->tensorboard~=2.5->tensorflow) (0.2.8)\n",
      "Requirement already satisfied: cachetools<5.0,>=2.0.0 in /Users/danieljdenman/opt/anaconda3/envs/NRSC7657/lib/python3.8/site-packages (from google-auth<2,>=1.6.3->tensorboard~=2.5->tensorflow) (4.2.2)\n",
      "Requirement already satisfied: rsa<5,>=3.1.4 in /Users/danieljdenman/opt/anaconda3/envs/NRSC7657/lib/python3.8/site-packages (from google-auth<2,>=1.6.3->tensorboard~=2.5->tensorflow) (4.7.2)\n",
      "Requirement already satisfied: requests-oauthlib>=0.7.0 in /Users/danieljdenman/opt/anaconda3/envs/NRSC7657/lib/python3.8/site-packages (from google-auth-oauthlib<0.5,>=0.4.1->tensorboard~=2.5->tensorflow) (1.3.0)\n",
      "Requirement already satisfied: pyasn1<0.5.0,>=0.4.6 in /Users/danieljdenman/opt/anaconda3/envs/NRSC7657/lib/python3.8/site-packages (from pyasn1-modules>=0.2.1->google-auth<2,>=1.6.3->tensorboard~=2.5->tensorflow) (0.4.8)\n",
      "Requirement already satisfied: urllib3<1.27,>=1.21.1 in /Users/danieljdenman/opt/anaconda3/envs/NRSC7657/lib/python3.8/site-packages (from requests<3,>=2.21.0->tensorboard~=2.5->tensorflow) (1.26.4)\n",
      "Requirement already satisfied: certifi>=2017.4.17 in /Users/danieljdenman/opt/anaconda3/envs/NRSC7657/lib/python3.8/site-packages (from requests<3,>=2.21.0->tensorboard~=2.5->tensorflow) (2021.5.30)\n",
      "Requirement already satisfied: idna<3,>=2.5 in /Users/danieljdenman/opt/anaconda3/envs/NRSC7657/lib/python3.8/site-packages (from requests<3,>=2.21.0->tensorboard~=2.5->tensorflow) (2.10)\n",
      "Requirement already satisfied: chardet<5,>=3.0.2 in /Users/danieljdenman/opt/anaconda3/envs/NRSC7657/lib/python3.8/site-packages (from requests<3,>=2.21.0->tensorboard~=2.5->tensorflow) (3.0.4)\n",
      "Requirement already satisfied: oauthlib>=3.0.0 in /Users/danieljdenman/opt/anaconda3/envs/NRSC7657/lib/python3.8/site-packages (from requests-oauthlib>=0.7.0->google-auth-oauthlib<0.5,>=0.4.1->tensorboard~=2.5->tensorflow) (3.1.1)\n"
     ]
    }
   ],
   "source": [
    "!pip install -U deeplabcut[gui]==2.2rc3\n",
    "!pip install tensorflow"
   ]
  },
  {
   "cell_type": "code",
   "execution_count": 2,
   "id": "4578b228-79e9-4875-bccd-d530d8e8302a",
   "metadata": {},
   "outputs": [],
   "source": [
    "#GUIs don't work on the cloud, so we supress them:\n",
    "import os\n",
    "os.environ[\"DLClight\"]=\"True\"\n",
    "\n",
    "# stifle tensorflow warnings, like we get it already.\n",
    "os.environ['TF_CPP_MIN_LOG_LEVEL'] = '2'\n",
    "\n",
    "import deeplabcut"
   ]
  },
  {
   "cell_type": "code",
   "execution_count": 1,
   "id": "608b46e8-6665-4131-8969-9f6bd2cf9d14",
   "metadata": {},
   "outputs": [],
   "source": [
    "config_path = r'/Users/danieljdenman/OKR_eye-johana-2021-07-02/config.yaml'"
   ]
  },
  {
   "cell_type": "code",
   "execution_count": null,
   "id": "bad15a13-1332-4f98-8935-22e1b7affb10",
   "metadata": {},
   "outputs": [],
   "source": [
    "deeplabcut.create_training_dataset(config_path)"
   ]
  },
  {
   "cell_type": "code",
   "execution_count": null,
   "id": "79709342-a6c0-4f6e-a6d1-002e54482434",
   "metadata": {},
   "outputs": [],
   "source": [
    "deeplabcut.train_network(config_path)"
   ]
  },
  {
   "cell_type": "code",
   "execution_count": null,
   "id": "9dc3f67f-5e4d-4535-9d33-c4b0fac1a87b",
   "metadata": {},
   "outputs": [],
   "source": []
  }
 ],
 "metadata": {
  "kernelspec": {
   "display_name": "Python 3",
   "language": "python",
   "name": "python3"
  },
  "language_info": {
   "codemirror_mode": {
    "name": "ipython",
    "version": 3
   },
   "file_extension": ".py",
   "mimetype": "text/x-python",
   "name": "python",
   "nbconvert_exporter": "python",
   "pygments_lexer": "ipython3",
   "version": "3.8.10"
  }
 },
 "nbformat": 4,
 "nbformat_minor": 5
}
