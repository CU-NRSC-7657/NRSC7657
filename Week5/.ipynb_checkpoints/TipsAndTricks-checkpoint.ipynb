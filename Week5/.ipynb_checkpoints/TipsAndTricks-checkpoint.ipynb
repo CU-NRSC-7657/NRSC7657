{
 "cells": [
  {
   "cell_type": "markdown",
   "id": "f67ce523-232b-4e10-ab50-d912a611acbc",
   "metadata": {},
   "source": [
    "# Tips and tricks\n",
    "### for improving your code quality of life\n",
    "9 July 2021<br>\n",
    "NRSC 7657<br>\n",
    "Daniel J Denman and John Thompson<br>\n",
    "University of Colorado Anschutz<br>\n",
    "<br>"
   ]
  },
  {
   "cell_type": "markdown",
   "id": "eebef19a-640b-4649-8bf2-a361ce284cfe",
   "metadata": {},
   "source": [
    "We have used almost all of these before over the course of the previous five weeks, but we'll collect a few here and talk about them. They may be useful just as we have used them, or in another context of your coding. "
   ]
  },
  {
   "cell_type": "markdown",
   "id": "dc7a6973-1caa-4fb8-8b70-d6db3099644b",
   "metadata": {},
   "source": [
    "### `os` , `sys` and `glob`\n",
    "managing paths and system variables"
   ]
  },
  {
   "cell_type": "code",
   "execution_count": null,
   "id": "f9aae540-a6cb-460e-9a23-d461b11098df",
   "metadata": {},
   "outputs": [],
   "source": []
  },
  {
   "cell_type": "markdown",
   "id": "a33c3f9c-7100-43d0-b89e-dcc9955329a7",
   "metadata": {},
   "source": [
    "### `tqdm`\n",
    "progress bars"
   ]
  },
  {
   "cell_type": "code",
   "execution_count": null,
   "id": "ff565e4d-2178-4112-872e-1eb834449276",
   "metadata": {},
   "outputs": [],
   "source": []
  },
  {
   "cell_type": "markdown",
   "id": "4d8507e6-f352-4fdb-a3d6-143456038814",
   "metadata": {},
   "source": [
    "### `pprint`\n",
    "pretty printing"
   ]
  },
  {
   "cell_type": "code",
   "execution_count": 1,
   "id": "772d5c1e-466a-48af-950b-79d815e2b3f7",
   "metadata": {},
   "outputs": [],
   "source": [
    "import pprint"
   ]
  },
  {
   "cell_type": "code",
   "execution_count": 4,
   "id": "b770110f-af74-4e79-9de0-bdd765fc4e15",
   "metadata": {},
   "outputs": [],
   "source": [
    "stuff = ['spam', 'eggs', 'lumberjack', 'knights', 'ni']\n",
    "pp = pprint.PrettyPrinter(indent=4)"
   ]
  },
  {
   "cell_type": "code",
   "execution_count": 7,
   "id": "434f10bb-45f8-4c50-9d7d-281548e3bda2",
   "metadata": {},
   "outputs": [
    {
     "name": "stdout",
     "output_type": "stream",
     "text": [
      "['spam', 'eggs', 'lumberjack', 'knights', 'ni']\n"
     ]
    }
   ],
   "source": [
    "pp.pprint(stuff)"
   ]
  },
  {
   "cell_type": "code",
   "execution_count": 8,
   "id": "8cd0e255-d397-402e-9135-6cb115a7f65b",
   "metadata": {},
   "outputs": [],
   "source": [
    "stuff.insert(0, stuff[:])"
   ]
  },
  {
   "cell_type": "code",
   "execution_count": 9,
   "id": "741c188c-36ad-4119-ac9c-44f341b1bfb3",
   "metadata": {},
   "outputs": [
    {
     "name": "stdout",
     "output_type": "stream",
     "text": [
      "[   ['spam', 'eggs', 'lumberjack', 'knights', 'ni'],\n",
      "    'spam',\n",
      "    'eggs',\n",
      "    'lumberjack',\n",
      "    'knights',\n",
      "    'ni']\n"
     ]
    }
   ],
   "source": [
    "pp.pprint(stuff)"
   ]
  },
  {
   "cell_type": "code",
   "execution_count": 10,
   "id": "c73b379a-8d41-4424-98d9-b746ae9eec60",
   "metadata": {},
   "outputs": [
    {
     "name": "stdout",
     "output_type": "stream",
     "text": [
      "[['spam', 'eggs', 'lumberjack', 'knights', 'ni'], 'spam', 'eggs', 'lumberjack', 'knights', 'ni']\n"
     ]
    }
   ],
   "source": [
    "print(stuff)"
   ]
  }
 ],
 "metadata": {
  "kernelspec": {
   "display_name": "Python 3",
   "language": "python",
   "name": "python3"
  },
  "language_info": {
   "codemirror_mode": {
    "name": "ipython",
    "version": 3
   },
   "file_extension": ".py",
   "mimetype": "text/x-python",
   "name": "python",
   "nbconvert_exporter": "python",
   "pygments_lexer": "ipython3",
   "version": "3.8.10"
  }
 },
 "nbformat": 4,
 "nbformat_minor": 5
}
