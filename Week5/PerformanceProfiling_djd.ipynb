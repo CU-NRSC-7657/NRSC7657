{
 "cells": [
  {
   "cell_type": "markdown",
   "id": "69d472cd-9f6e-4e39-87c6-b37ddced6b8e",
   "metadata": {},
   "source": [
    "# Performance, profiling\n",
    "### iteration and parallelization\n",
    "9 July 2021<br>\n",
    "NRSC 7657<br>\n",
    "Daniel J Denman and John Thompson<br>\n",
    "University of Colorado Anschutz<br>\n",
    "<br>"
   ]
  },
  {
   "cell_type": "code",
   "execution_count": 1,
   "id": "0cf43caf-1043-428f-afb4-7dd649803f53",
   "metadata": {},
   "outputs": [],
   "source": [
    "import numpy as np\n",
    "import matplotlib.pyplot as plt\n",
    "import pandas as pd\n",
    "import os,sys,glob"
   ]
  },
  {
   "cell_type": "markdown",
   "id": "3bbc97a8-9188-4495-936a-6fa3d3e538f7",
   "metadata": {},
   "source": [
    "### iteration"
   ]
  },
  {
   "cell_type": "markdown",
   "id": "2a4bda3c-e67e-4373-a196-e4257cd14e62",
   "metadata": {},
   "source": [
    "Load some data to iterate over:"
   ]
  },
  {
   "cell_type": "markdown",
   "id": "fdea386d-e9de-4f90-9776-818f93214fb0",
   "metadata": {},
   "source": [
    "Serial exectution of cells "
   ]
  },
  {
   "cell_type": "code",
   "execution_count": 2,
   "id": "9d7d8f15-1ff9-45bc-bd32-ccb1dce6231f",
   "metadata": {},
   "outputs": [],
   "source": [
    "a = 2"
   ]
  },
  {
   "cell_type": "code",
   "execution_count": 3,
   "id": "bb504fe6-7e7f-4278-8206-9908240de8dd",
   "metadata": {},
   "outputs": [],
   "source": [
    "b= 2"
   ]
  },
  {
   "cell_type": "code",
   "execution_count": 4,
   "id": "cb145af2-25a9-49aa-9aa3-646eca4ab883",
   "metadata": {},
   "outputs": [],
   "source": [
    "c = a + b"
   ]
  },
  {
   "cell_type": "markdown",
   "id": "bc39e180-ec82-43da-83d5-989707ce1086",
   "metadata": {},
   "source": [
    "Serial execution of some lines, through iteration     "
   ]
  },
  {
   "cell_type": "code",
   "execution_count": 5,
   "id": "f2af6c48-72b5-419e-a8fb-9cef2298b33c",
   "metadata": {},
   "outputs": [
    {
     "name": "stdout",
     "output_type": "stream",
     "text": [
      "0\n",
      "1\n",
      "2\n",
      "3\n",
      "4\n",
      "5\n",
      "6\n",
      "7\n",
      "8\n",
      "9\n"
     ]
    }
   ],
   "source": [
    "for i in range(10):\n",
    "#     c=a+b + i\n",
    "    print(i)\n",
    "#     print(c)"
   ]
  },
  {
   "cell_type": "markdown",
   "id": "0efb66f1-3ae0-4b00-a7ea-98d585960bce",
   "metadata": {},
   "source": [
    "Serial execution of the same lines in the iteration, done in cells"
   ]
  },
  {
   "cell_type": "code",
   "execution_count": 6,
   "id": "3ec6ed06-ddaf-46c7-becd-44f1dd755783",
   "metadata": {},
   "outputs": [
    {
     "name": "stdout",
     "output_type": "stream",
     "text": [
      "0\n"
     ]
    }
   ],
   "source": [
    "print(0)"
   ]
  },
  {
   "cell_type": "code",
   "execution_count": 7,
   "id": "ac99693e-e60e-4b68-836b-70b629aa0d01",
   "metadata": {},
   "outputs": [
    {
     "name": "stdout",
     "output_type": "stream",
     "text": [
      "1\n"
     ]
    }
   ],
   "source": [
    "print(1)"
   ]
  },
  {
   "cell_type": "code",
   "execution_count": 8,
   "id": "82e27164-931e-4f37-bf3a-70e892a124ea",
   "metadata": {},
   "outputs": [
    {
     "name": "stdout",
     "output_type": "stream",
     "text": [
      "2\n"
     ]
    }
   ],
   "source": [
    "print(2)"
   ]
  },
  {
   "cell_type": "code",
   "execution_count": 9,
   "id": "92292e80-bd2a-4bb0-b564-e4ed00cb4bc8",
   "metadata": {},
   "outputs": [
    {
     "name": "stdout",
     "output_type": "stream",
     "text": [
      "3\n"
     ]
    }
   ],
   "source": [
    "print(3)"
   ]
  },
  {
   "cell_type": "code",
   "execution_count": 10,
   "id": "cbdbff5b-e670-48ca-847f-034bcf2b41c4",
   "metadata": {},
   "outputs": [
    {
     "name": "stdout",
     "output_type": "stream",
     "text": [
      "4\n"
     ]
    }
   ],
   "source": [
    "print(4)"
   ]
  },
  {
   "cell_type": "code",
   "execution_count": 11,
   "id": "0a90b57c-f478-4d58-becc-2a96d8be3a9f",
   "metadata": {},
   "outputs": [
    {
     "name": "stdout",
     "output_type": "stream",
     "text": [
      "5\n"
     ]
    }
   ],
   "source": [
    "print(5)"
   ]
  },
  {
   "cell_type": "code",
   "execution_count": 12,
   "id": "39a1d453-004b-4590-bbb1-515e65b4b83a",
   "metadata": {},
   "outputs": [
    {
     "name": "stdout",
     "output_type": "stream",
     "text": [
      "6\n"
     ]
    }
   ],
   "source": [
    "print(6)"
   ]
  },
  {
   "cell_type": "code",
   "execution_count": 13,
   "id": "14f219b0-0072-4a01-bc89-1e56b76430c6",
   "metadata": {},
   "outputs": [
    {
     "name": "stdout",
     "output_type": "stream",
     "text": [
      "7\n"
     ]
    }
   ],
   "source": [
    "print(7)"
   ]
  },
  {
   "cell_type": "code",
   "execution_count": 14,
   "id": "d485823a-6c16-4fe8-b465-3c49bdeac6b6",
   "metadata": {},
   "outputs": [
    {
     "name": "stdout",
     "output_type": "stream",
     "text": [
      "8\n"
     ]
    }
   ],
   "source": [
    "print(8)"
   ]
  },
  {
   "cell_type": "code",
   "execution_count": 15,
   "id": "d4875ae1-ad77-4b40-a669-f38b92ff4ac7",
   "metadata": {},
   "outputs": [
    {
     "name": "stdout",
     "output_type": "stream",
     "text": [
      "9\n"
     ]
    }
   ],
   "source": [
    "print(9)"
   ]
  },
  {
   "cell_type": "markdown",
   "id": "1085f23f-eb23-43a8-9d84-b87ab27e89a7",
   "metadata": {},
   "source": [
    "# Performance\n",
    "you will likely notice that some code is slow. for example:"
   ]
  },
  {
   "cell_type": "code",
   "execution_count": 16,
   "id": "7178d057-cb12-426d-8a91-c7c1e10cff92",
   "metadata": {},
   "outputs": [],
   "source": [
    "from time import sleep"
   ]
  },
  {
   "cell_type": "code",
   "execution_count": 17,
   "id": "366ca4c4-4c7b-4ae0-8105-733b98c5e79c",
   "metadata": {},
   "outputs": [],
   "source": [
    "for i in range(100):\n",
    "    for j in range(100):\n",
    "        a= 4\n",
    "        sleep(0.002)"
   ]
  },
  {
   "cell_type": "markdown",
   "id": "b560a46b-d5f8-492a-85a9-30ff6d3b8a38",
   "metadata": {},
   "source": [
    "This is slow because we made it slow, with a `sleep()` call that pauses the execution of code for 2 msec every iteration. <br><br>\n",
    "I am sure you all know and maybe have code of your own that is also slow. That is especially the nature of the beast if you are serially iterating over large amount of data (which can be ephys traces, images, or large matrices such as Seq data). Here we'll try to do some stuff with some ephys data, but many of the same principles apply"
   ]
  },
  {
   "cell_type": "code",
   "execution_count": 46,
   "id": "bca3c595-10c6-40df-92fe-593310363a91",
   "metadata": {},
   "outputs": [],
   "source": [
    "df = pd.read_csv('/Volumes/DATA5/20210525_c41_ABC_g0/dansort/cluster_info.tsv',sep='\\t')"
   ]
  },
  {
   "cell_type": "code",
   "execution_count": 47,
   "id": "f2724cae-eecd-42f6-b5de-a64bc216a55a",
   "metadata": {},
   "outputs": [],
   "source": [
    "#make it huge so it takes time, for demonstration\n",
    "df = pd.concat([df]*100,ignore_index=True)"
   ]
  },
  {
   "cell_type": "code",
   "execution_count": 21,
   "id": "5398ba90-0a52-46c9-98b3-f3ecfd5c43a7",
   "metadata": {},
   "outputs": [
    {
     "data": {
      "text/html": [
       "<div>\n",
       "<style scoped>\n",
       "    .dataframe tbody tr th:only-of-type {\n",
       "        vertical-align: middle;\n",
       "    }\n",
       "\n",
       "    .dataframe tbody tr th {\n",
       "        vertical-align: top;\n",
       "    }\n",
       "\n",
       "    .dataframe thead th {\n",
       "        text-align: right;\n",
       "    }\n",
       "</style>\n",
       "<table border=\"1\" class=\"dataframe\">\n",
       "  <thead>\n",
       "    <tr style=\"text-align: right;\">\n",
       "      <th></th>\n",
       "      <th>id</th>\n",
       "      <th>Amplitude</th>\n",
       "      <th>ContamPct</th>\n",
       "      <th>KSLabel</th>\n",
       "      <th>amplitude</th>\n",
       "      <th>channel</th>\n",
       "      <th>depth</th>\n",
       "      <th>firing_rate</th>\n",
       "      <th>group</th>\n",
       "      <th>n_spikes</th>\n",
       "      <th>shank</th>\n",
       "    </tr>\n",
       "  </thead>\n",
       "  <tbody>\n",
       "    <tr>\n",
       "      <th>0</th>\n",
       "      <td>0</td>\n",
       "      <td>31.8</td>\n",
       "      <td>100.0</td>\n",
       "      <td>mua</td>\n",
       "      <td>1.845319</td>\n",
       "      <td>0</td>\n",
       "      <td>20.0</td>\n",
       "      <td>0.3 spk/s</td>\n",
       "      <td>NaN</td>\n",
       "      <td>1833</td>\n",
       "      <td>0</td>\n",
       "    </tr>\n",
       "    <tr>\n",
       "      <th>1</th>\n",
       "      <td>1</td>\n",
       "      <td>50.5</td>\n",
       "      <td>100.0</td>\n",
       "      <td>mua</td>\n",
       "      <td>2.312337</td>\n",
       "      <td>1</td>\n",
       "      <td>20.0</td>\n",
       "      <td>3.4 spk/s</td>\n",
       "      <td>noise</td>\n",
       "      <td>20244</td>\n",
       "      <td>0</td>\n",
       "    </tr>\n",
       "    <tr>\n",
       "      <th>2</th>\n",
       "      <td>2</td>\n",
       "      <td>32.2</td>\n",
       "      <td>100.0</td>\n",
       "      <td>mua</td>\n",
       "      <td>2.041949</td>\n",
       "      <td>3</td>\n",
       "      <td>40.0</td>\n",
       "      <td>2.6 spk/s</td>\n",
       "      <td>NaN</td>\n",
       "      <td>15763</td>\n",
       "      <td>0</td>\n",
       "    </tr>\n",
       "    <tr>\n",
       "      <th>3</th>\n",
       "      <td>3</td>\n",
       "      <td>40.9</td>\n",
       "      <td>0.8</td>\n",
       "      <td>good</td>\n",
       "      <td>3.062917</td>\n",
       "      <td>1</td>\n",
       "      <td>20.0</td>\n",
       "      <td>8.2 spk/s</td>\n",
       "      <td>good</td>\n",
       "      <td>49401</td>\n",
       "      <td>0</td>\n",
       "    </tr>\n",
       "    <tr>\n",
       "      <th>4</th>\n",
       "      <td>4</td>\n",
       "      <td>28.7</td>\n",
       "      <td>100.0</td>\n",
       "      <td>mua</td>\n",
       "      <td>1.955942</td>\n",
       "      <td>5</td>\n",
       "      <td>60.0</td>\n",
       "      <td>3.5 spk/s</td>\n",
       "      <td>NaN</td>\n",
       "      <td>21074</td>\n",
       "      <td>0</td>\n",
       "    </tr>\n",
       "  </tbody>\n",
       "</table>\n",
       "</div>"
      ],
      "text/plain": [
       "   id  Amplitude  ContamPct KSLabel  amplitude  channel  depth firing_rate  \\\n",
       "0   0       31.8      100.0     mua   1.845319        0   20.0   0.3 spk/s   \n",
       "1   1       50.5      100.0     mua   2.312337        1   20.0   3.4 spk/s   \n",
       "2   2       32.2      100.0     mua   2.041949        3   40.0   2.6 spk/s   \n",
       "3   3       40.9        0.8    good   3.062917        1   20.0   8.2 spk/s   \n",
       "4   4       28.7      100.0     mua   1.955942        5   60.0   3.5 spk/s   \n",
       "\n",
       "   group  n_spikes  shank  \n",
       "0    NaN      1833      0  \n",
       "1  noise     20244      0  \n",
       "2    NaN     15763      0  \n",
       "3   good     49401      0  \n",
       "4    NaN     21074      0  "
      ]
     },
     "execution_count": 21,
     "metadata": {},
     "output_type": "execute_result"
    }
   ],
   "source": [
    "df.head()"
   ]
  },
  {
   "cell_type": "markdown",
   "id": "cd864cbf-f6ab-4262-9718-bc132fbe882c",
   "metadata": {},
   "source": [
    "how many \"cells\" have an amplitude > 100 µV? let's iterate over the `df` serially:"
   ]
  },
  {
   "cell_type": "code",
   "execution_count": 22,
   "id": "9eecbb5d-abdd-4137-b8db-82826478dc3a",
   "metadata": {},
   "outputs": [],
   "source": [
    "# %%timeit\n",
    "cell_ids=[]\n",
    "for i in range(df.shape[0]):\n",
    "    if df.Amplitude[i] > 100.:\n",
    "        cell_ids.extend([df.id[i]])"
   ]
  },
  {
   "cell_type": "code",
   "execution_count": 23,
   "id": "c4d55074-d3fc-4d15-9096-b72f79af76b9",
   "metadata": {},
   "outputs": [
    {
     "data": {
      "text/plain": [
       "3500"
      ]
     },
     "execution_count": 23,
     "metadata": {},
     "output_type": "execute_result"
    }
   ],
   "source": [
    "len(cell_ids)"
   ]
  },
  {
   "cell_type": "markdown",
   "id": "9df22552-5a14-4942-be10-f50507729810",
   "metadata": {},
   "source": [
    "how do we speed this iteration up? out list of strategies:\n",
    "- Sorting tuples\n",
    "- filtering\n",
    "- Built-in methods\n",
    "- List comprehension\n",
    "- Avoiding it (but don’t try too hard unless you need to)"
   ]
  },
  {
   "cell_type": "markdown",
   "id": "969eb4ef-91bb-4ab2-b9a2-39c2a7ab1c53",
   "metadata": {},
   "source": [
    "list comprehension"
   ]
  },
  {
   "cell_type": "code",
   "execution_count": 24,
   "id": "8c5ac1d6-d159-4640-a605-6ffe888f8e17",
   "metadata": {},
   "outputs": [],
   "source": [
    "# %%timeit\n",
    "cell_ids_listcomp = [df.id[i] for i in range(df.shape[0]) if df.Amplitude[i] > 100.]"
   ]
  },
  {
   "cell_type": "code",
   "execution_count": 25,
   "id": "8c2bc3c4-153c-4aea-8803-55c082ea2b10",
   "metadata": {},
   "outputs": [
    {
     "data": {
      "text/plain": [
       "3500"
      ]
     },
     "execution_count": 25,
     "metadata": {},
     "output_type": "execute_result"
    }
   ],
   "source": [
    "len(cell_ids_listcomp)"
   ]
  },
  {
   "cell_type": "markdown",
   "id": "841cf900-bd81-490f-8a3b-1cbe0e1fd17f",
   "metadata": {},
   "source": [
    "sorting"
   ]
  },
  {
   "cell_type": "code",
   "execution_count": 26,
   "id": "b31f5f3b-020b-4ed2-bf2e-3891536b470a",
   "metadata": {},
   "outputs": [],
   "source": [
    "df.sort_values(by='Amplitude',inplace=True,ascending=False,ignore_index=True)"
   ]
  },
  {
   "cell_type": "code",
   "execution_count": 27,
   "id": "1f65bb61-2098-49de-a57f-669dfbee1deb",
   "metadata": {},
   "outputs": [
    {
     "data": {
      "text/html": [
       "<div>\n",
       "<style scoped>\n",
       "    .dataframe tbody tr th:only-of-type {\n",
       "        vertical-align: middle;\n",
       "    }\n",
       "\n",
       "    .dataframe tbody tr th {\n",
       "        vertical-align: top;\n",
       "    }\n",
       "\n",
       "    .dataframe thead th {\n",
       "        text-align: right;\n",
       "    }\n",
       "</style>\n",
       "<table border=\"1\" class=\"dataframe\">\n",
       "  <thead>\n",
       "    <tr style=\"text-align: right;\">\n",
       "      <th></th>\n",
       "      <th>id</th>\n",
       "      <th>Amplitude</th>\n",
       "      <th>ContamPct</th>\n",
       "      <th>KSLabel</th>\n",
       "      <th>amplitude</th>\n",
       "      <th>channel</th>\n",
       "      <th>depth</th>\n",
       "      <th>firing_rate</th>\n",
       "      <th>group</th>\n",
       "      <th>n_spikes</th>\n",
       "      <th>shank</th>\n",
       "    </tr>\n",
       "  </thead>\n",
       "  <tbody>\n",
       "    <tr>\n",
       "      <th>0</th>\n",
       "      <td>142</td>\n",
       "      <td>294.1</td>\n",
       "      <td>0.0</td>\n",
       "      <td>good</td>\n",
       "      <td>6.455642</td>\n",
       "      <td>77</td>\n",
       "      <td>780.0</td>\n",
       "      <td>17.3 spk/s</td>\n",
       "      <td>NaN</td>\n",
       "      <td>104315</td>\n",
       "      <td>0</td>\n",
       "    </tr>\n",
       "    <tr>\n",
       "      <th>1</th>\n",
       "      <td>142</td>\n",
       "      <td>294.1</td>\n",
       "      <td>0.0</td>\n",
       "      <td>good</td>\n",
       "      <td>6.455642</td>\n",
       "      <td>77</td>\n",
       "      <td>780.0</td>\n",
       "      <td>17.3 spk/s</td>\n",
       "      <td>NaN</td>\n",
       "      <td>104315</td>\n",
       "      <td>0</td>\n",
       "    </tr>\n",
       "    <tr>\n",
       "      <th>2</th>\n",
       "      <td>142</td>\n",
       "      <td>294.1</td>\n",
       "      <td>0.0</td>\n",
       "      <td>good</td>\n",
       "      <td>6.455642</td>\n",
       "      <td>77</td>\n",
       "      <td>780.0</td>\n",
       "      <td>17.3 spk/s</td>\n",
       "      <td>NaN</td>\n",
       "      <td>104315</td>\n",
       "      <td>0</td>\n",
       "    </tr>\n",
       "    <tr>\n",
       "      <th>3</th>\n",
       "      <td>142</td>\n",
       "      <td>294.1</td>\n",
       "      <td>0.0</td>\n",
       "      <td>good</td>\n",
       "      <td>6.455642</td>\n",
       "      <td>77</td>\n",
       "      <td>780.0</td>\n",
       "      <td>17.3 spk/s</td>\n",
       "      <td>NaN</td>\n",
       "      <td>104315</td>\n",
       "      <td>0</td>\n",
       "    </tr>\n",
       "    <tr>\n",
       "      <th>4</th>\n",
       "      <td>142</td>\n",
       "      <td>294.1</td>\n",
       "      <td>0.0</td>\n",
       "      <td>good</td>\n",
       "      <td>6.455642</td>\n",
       "      <td>77</td>\n",
       "      <td>780.0</td>\n",
       "      <td>17.3 spk/s</td>\n",
       "      <td>NaN</td>\n",
       "      <td>104315</td>\n",
       "      <td>0</td>\n",
       "    </tr>\n",
       "  </tbody>\n",
       "</table>\n",
       "</div>"
      ],
      "text/plain": [
       "    id  Amplitude  ContamPct KSLabel  amplitude  channel  depth firing_rate  \\\n",
       "0  142      294.1        0.0    good   6.455642       77  780.0  17.3 spk/s   \n",
       "1  142      294.1        0.0    good   6.455642       77  780.0  17.3 spk/s   \n",
       "2  142      294.1        0.0    good   6.455642       77  780.0  17.3 spk/s   \n",
       "3  142      294.1        0.0    good   6.455642       77  780.0  17.3 spk/s   \n",
       "4  142      294.1        0.0    good   6.455642       77  780.0  17.3 spk/s   \n",
       "\n",
       "  group  n_spikes  shank  \n",
       "0   NaN    104315      0  \n",
       "1   NaN    104315      0  \n",
       "2   NaN    104315      0  \n",
       "3   NaN    104315      0  \n",
       "4   NaN    104315      0  "
      ]
     },
     "execution_count": 27,
     "metadata": {},
     "output_type": "execute_result"
    }
   ],
   "source": [
    "df.head()"
   ]
  },
  {
   "cell_type": "code",
   "execution_count": 28,
   "id": "1303cfc5-e549-42a2-89fd-a14661737496",
   "metadata": {},
   "outputs": [],
   "source": [
    "# %%timeit\n",
    "cell_ids_sort=[]\n",
    "for i in range(df.shape[0]):\n",
    "    if df.Amplitude[i] > 100.:\n",
    "        cell_ids_sort.extend([df.id[i]])\n",
    "    else: break"
   ]
  },
  {
   "cell_type": "code",
   "execution_count": 29,
   "id": "ca6cbd8b-4b4e-438b-8440-b1a835fdffed",
   "metadata": {},
   "outputs": [
    {
     "data": {
      "text/plain": [
       "3500"
      ]
     },
     "execution_count": 29,
     "metadata": {},
     "output_type": "execute_result"
    }
   ],
   "source": [
    "len(cell_ids_sort)"
   ]
  },
  {
   "cell_type": "markdown",
   "id": "6ea8976c-b6e9-4062-b885-0d6ed6af8d13",
   "metadata": {},
   "source": [
    "filtering (and built-ins)"
   ]
  },
  {
   "cell_type": "code",
   "execution_count": 30,
   "id": "52d1a855-8178-4050-beaa-93ac64d194e3",
   "metadata": {},
   "outputs": [],
   "source": [
    "# %%timeit\n",
    "df_cell_ids_filter = df[df.Amplitude > 100.].Amplitude"
   ]
  },
  {
   "cell_type": "code",
   "execution_count": 31,
   "id": "85d47edc-eced-4a12-bde8-7728cea148bb",
   "metadata": {},
   "outputs": [
    {
     "data": {
      "text/plain": [
       "3500"
      ]
     },
     "execution_count": 31,
     "metadata": {},
     "output_type": "execute_result"
    }
   ],
   "source": [
    "len(df_cell_ids_filter)"
   ]
  },
  {
   "cell_type": "markdown",
   "id": "eac80ed1-7456-40ed-9456-78df18ca760f",
   "metadata": {},
   "source": [
    "## all of those approaches do the job\n",
    "and all produce the same resullt, but some seem to do it faster. how much faster?\n",
    "<br>"
   ]
  },
  {
   "cell_type": "markdown",
   "id": "098c88be-a4b7-4a0f-93ba-88b8210c2fcc",
   "metadata": {},
   "source": [
    "# Profiling \n",
    "To figure out what is taking a long time, we do what is called \"profiling\". This is a like debugging, but instead of _\"is this bit of code broken?\"_ the question is _\"how long does this bit of code take?\"_\n",
    "<br><br>\n",
    "This is something that jupyter is designed to naturally highlight. we already have a feeling for this. instead of a script that did the above, which might look something like this:"
   ]
  },
  {
   "cell_type": "code",
   "execution_count": null,
   "id": "e56396bd-4181-488a-b163-3cfe81ac89a0",
   "metadata": {},
   "outputs": [],
   "source": [
    "#serial\n",
    "cell_ids=[]\n",
    "for i in range(df.shape[0]):\n",
    "    if df.Amplitude[i] > 100.:\n",
    "        cell_ids.extend([df.id[i]])\n",
    "        \n",
    "#list comprehension\n",
    "cell_ids_listcomp = [df.id[i] for i in range(df.shape[0]) if df.Amplitude[i] > 100.]\n",
    "\n",
    "#sort\n",
    "df.sort_values(by='Amplitude',inplace=True,ascending=False,ignore_index=True)\n",
    "cell_ids_sort=[]\n",
    "for i in range(df.shape[0]):\n",
    "    if df.Amplitude[i] > 100.:\n",
    "        cell_ids_sort.extend([df.id[i]])\n",
    "    else: break\n",
    "\n",
    "#built-in / filtering\n",
    "df_cell_ids_filter = df[df.Amplitude > 100.].Amplitude"
   ]
  },
  {
   "cell_type": "markdown",
   "id": "f211e24c-8c78-4a94-85bf-f5514399988d",
   "metadata": {},
   "source": [
    "this cell, or a script that was executing the lines in this cell, would just silently take a long time. <br><br>\n",
    "With a cell, you naturally break your code into small enough chunks that you can see what is happening as you go. This will also give you a _sense_ of what is slow code, but maybe not exactly how slow it is. "
   ]
  },
  {
   "cell_type": "markdown",
   "id": "331ad8b9-9292-4534-9be9-5c7b7732592b",
   "metadata": {},
   "source": [
    "To time things, there are several options, including the `time` module which has several counters and `timeit`. in jupyter the `%%time` and `%%timeit` magics do this"
   ]
  },
  {
   "cell_type": "markdown",
   "id": "dcdc1438-0c11-415f-a5f7-e07deb323192",
   "metadata": {},
   "source": [
    "# Another example\n",
    "### and on to parallel computing"
   ]
  },
  {
   "cell_type": "code",
   "execution_count": 33,
   "id": "0fe14fde-1457-49ab-ab1e-8434f8de3738",
   "metadata": {},
   "outputs": [
    {
     "ename": "KeyboardInterrupt",
     "evalue": "",
     "output_type": "error",
     "traceback": [
      "\u001b[0;31m---------------------------------------------------------------------------\u001b[0m",
      "\u001b[0;31mKeyboardInterrupt\u001b[0m                         Traceback (most recent call last)",
      "\u001b[0;32m<ipython-input-33-0faaafea976d>\u001b[0m in \u001b[0;36m<module>\u001b[0;34m\u001b[0m\n\u001b[1;32m      1\u001b[0m \u001b[0;31m# load some data\u001b[0m\u001b[0;34m\u001b[0m\u001b[0;34m\u001b[0m\u001b[0;34m\u001b[0m\u001b[0m\n\u001b[0;32m----> 2\u001b[0;31m \u001b[0mlfp_data\u001b[0m \u001b[0;34m=\u001b[0m \u001b[0mnp\u001b[0m\u001b[0;34m.\u001b[0m\u001b[0mfromfile\u001b[0m\u001b[0;34m(\u001b[0m\u001b[0;34m'/Volumes/DATA5/20210525_c41_ABC_g0/20210525_c41_ABC_g0_t0.imec0.lf.bin'\u001b[0m\u001b[0;34m,\u001b[0m\u001b[0mdtype\u001b[0m\u001b[0;34m=\u001b[0m\u001b[0mnp\u001b[0m\u001b[0;34m.\u001b[0m\u001b[0mint16\u001b[0m\u001b[0;34m)\u001b[0m\u001b[0;34m\u001b[0m\u001b[0;34m\u001b[0m\u001b[0m\n\u001b[0m",
      "\u001b[0;31mKeyboardInterrupt\u001b[0m: "
     ]
    }
   ],
   "source": [
    "# load some data\n",
    "lfp_data = np.fromfile('/Volumes/DATA5/20210525_c41_ABC_g0/20210525_c41_ABC_g0_t0.imec0.lf.bin',dtype=np.int16)"
   ]
  },
  {
   "cell_type": "code",
   "execution_count": 2,
   "id": "d6dad4ae-6443-4cf1-ae29-0b6d8470e03b",
   "metadata": {},
   "outputs": [],
   "source": [
    "# load some data\n",
    "lfp_data = np.memmap('/Volumes/DATA5/20210525_c41_ABC_g0/20210525_c41_ABC_g0_t0.imec0.lf.bin',\n",
    "                    dtype=np.int16, mode='r')"
   ]
  },
  {
   "cell_type": "code",
   "execution_count": 3,
   "id": "27ebe771-a0d8-4411-a6d3-ad0fc317b710",
   "metadata": {},
   "outputs": [
    {
     "data": {
      "text/plain": [
       "15066994.0"
      ]
     },
     "execution_count": 3,
     "metadata": {},
     "output_type": "execute_result"
    }
   ],
   "source": [
    "lfp_data.shape[0]/385"
   ]
  },
  {
   "cell_type": "code",
   "execution_count": 4,
   "id": "7a3a5c52-dcf6-49d4-af00-2d25d155059c",
   "metadata": {},
   "outputs": [
    {
     "data": {
      "text/plain": [
       "memmap([[  52,   -1,    7, ...,  -49,  -56,  -58],\n",
       "        [ -40,  -13,  -44, ...,  -96,  -68,  -66],\n",
       "        [ -51,  -73,  -62, ...,    1,  -20,  -20],\n",
       "        ...,\n",
       "        [   0,   -5,   23, ..., -128, -120, -127],\n",
       "        [ -98, -103,  -98, ...,  131,  169,  171],\n",
       "        [ 171,  153,  138, ...,   18,    1,   64]], dtype=int16)"
      ]
     },
     "execution_count": 4,
     "metadata": {},
     "output_type": "execute_result"
    }
   ],
   "source": [
    "lfp_data.reshape(385,int(lfp_data.shape[0]/385))"
   ]
  },
  {
   "cell_type": "code",
   "execution_count": 5,
   "id": "a9241131-e9c7-4211-b0f0-75034b38b32a",
   "metadata": {},
   "outputs": [],
   "source": [
    "lfp_data = lfp_data.reshape(385,int(lfp_data.shape[0]/385))[:384]"
   ]
  },
  {
   "cell_type": "code",
   "execution_count": 6,
   "id": "b90367d9-7f89-4985-ba50-4c1ef28c40ab",
   "metadata": {},
   "outputs": [
    {
     "data": {
      "text/plain": [
       "(384, 15066994)"
      ]
     },
     "execution_count": 6,
     "metadata": {},
     "output_type": "execute_result"
    }
   ],
   "source": [
    "lfp_data.shape"
   ]
  },
  {
   "cell_type": "code",
   "execution_count": 7,
   "id": "2737e0aa-3cea-466d-a1b5-e6539d241f45",
   "metadata": {},
   "outputs": [
    {
     "data": {
      "text/plain": [
       "[<matplotlib.lines.Line2D at 0x7fe471ab12b0>]"
      ]
     },
     "execution_count": 7,
     "metadata": {},
     "output_type": "execute_result"
    },
    {
     "data": {
      "image/png": "[encoded data removed]",
      "text/plain": [
       "<Figure size 432x288 with 1 Axes>"
      ]
     },
     "metadata": {
      "needs_background": "light"
     },
     "output_type": "display_data"
    }
   ],
   "source": [
    "plt.plot(lfp_data[101,:500],'k')\n",
    "# plt.plot(lfp_data[110,:500],'k',alpha=0.5)"
   ]
  },
  {
   "cell_type": "code",
   "execution_count": 8,
   "id": "a2399104-7492-4b32-ae44-a7ac05bddb6e",
   "metadata": {},
   "outputs": [],
   "source": [
    "chunk_of_lfp = lfp_data[:384,5000:10000]"
   ]
  },
  {
   "cell_type": "code",
   "execution_count": 45,
   "id": "562737d5-7532-4f24-a5fd-7ee05f9c43e8",
   "metadata": {},
   "outputs": [
    {
     "data": {
      "image/png": "[encoded data removed]",
      "text/plain": [
       "<Figure size 720x288 with 1 Axes>"
      ]
     },
     "metadata": {
      "needs_background": "light"
     },
     "output_type": "display_data"
    }
   ],
   "source": [
    "plt.figure(figsize=(10,4))\n",
    "plt.imshow(chunk_of_lfp)\n",
    "plt.gca().set_aspect(10)"
   ]
  },
  {
   "cell_type": "code",
   "execution_count": 46,
   "id": "fe1b23fb-df58-4008-b85a-25ec2d2f68a9",
   "metadata": {},
   "outputs": [],
   "source": [
    "mean_corrected = np.mean(chunk_of_lfp,1)\n",
    "chunk_of_lfp = np.transpose(np.subtract(chunk_of_lfp.T, mean_corrected))"
   ]
  },
  {
   "cell_type": "code",
   "execution_count": 54,
   "id": "e9a751e3-56bf-499a-a407-857253d7e10e",
   "metadata": {},
   "outputs": [
    {
     "data": {
      "text/plain": [
       "<matplotlib.colorbar.Colorbar at 0x7fd280c57d60>"
      ]
     },
     "execution_count": 54,
     "metadata": {},
     "output_type": "execute_result"
    },
    {
     "data": {
      "image/png": "[encoded data removed]",
      "text/plain": [
       "<Figure size 720x288 with 2 Axes>"
      ]
     },
     "metadata": {
      "needs_background": "light"
     },
     "output_type": "display_data"
    }
   ],
   "source": [
    "plt.figure(figsize=(10,4))\n",
    "plt.imshow(chunk_of_lfp,clim=(-100,100))\n",
    "plt.gca().set_aspect(10)\n",
    "plt.ylabel('time')\n",
    "plt.xlabel('channel')\n",
    "plt.colorbar(label='uV')"
   ]
  },
  {
   "cell_type": "code",
   "execution_count": 48,
   "id": "19648e79-7177-4d3d-b471-247157852e92",
   "metadata": {},
   "outputs": [
    {
     "data": {
      "text/plain": [
       "(384, 5000)"
      ]
     },
     "execution_count": 48,
     "metadata": {},
     "output_type": "execute_result"
    }
   ],
   "source": [
    "np.shape(chunk_of_lfp)"
   ]
  },
  {
   "cell_type": "markdown",
   "id": "ca04eb19-935f-42c7-9008-60b48f83f6f4",
   "metadata": {},
   "source": [
    "can we find all the places where the deflection is greater than 100 µV in one time step, since these are likely to be outliers. "
   ]
  },
  {
   "cell_type": "code",
   "execution_count": 90,
   "id": "6a81ff86-2c6c-478d-b6c7-1ddd4f6e9184",
   "metadata": {},
   "outputs": [
    {
     "name": "stdout",
     "output_type": "stream",
     "text": [
      "4.85 s ± 246 ms per loop (mean ± std. dev. of 7 runs, 1 loop each)\n"
     ]
    }
   ],
   "source": [
    "%%timeit\n",
    "indexes = []\n",
    "#one way to do this would be to iterate over the rows and columns:\n",
    "for i in np.arange(0,np.shape(chunk_of_lfp)[0]):\n",
    "    for j in np.arange(1,np.shape(chunk_of_lfp)[1]):\n",
    "        if np.abs(chunk_of_lfp[i][j] - chunk_of_lfp[i][j-1]) > 100:\n",
    "            indexes.append((i,j))"
   ]
  },
  {
   "cell_type": "markdown",
   "id": "26c3b0bd-0571-43a3-9478-b8077c3efbbc",
   "metadata": {},
   "source": [
    "### Informative progress printing\n",
    "a way to build some intuition for what is taking so long is making sure you beefy iterations are always telling you what is going on. If you have your telling where it is and what the status is at some regularity, you might be able to check why things are taking so long. \n",
    "<br><br>\n",
    "This is especially useful if you have a messy nested for loop (...which is fine, as long as it is not actually causing too much slow down for your _scientific_ progress)"
   ]
  },
  {
   "cell_type": "code",
   "execution_count": 112,
   "id": "0dbe8cb2-cb51-44e9-be48-bf659b2b38f5",
   "metadata": {},
   "outputs": [
    {
     "data": {
      "text/plain": [
       "(384, 5000)"
      ]
     },
     "execution_count": 112,
     "metadata": {},
     "output_type": "execute_result"
    }
   ],
   "source": [
    "np.shape(chunk_of_lfp)"
   ]
  },
  {
   "cell_type": "code",
   "execution_count": 113,
   "id": "cd602b48-2589-451b-961a-2ef498df794b",
   "metadata": {},
   "outputs": [
    {
     "name": "stdout",
     "output_type": "stream",
     "text": [
      "we are on row 383 and column 4663\r"
     ]
    }
   ],
   "source": [
    "for i in np.arange(0,np.shape(chunk_of_lfp)[0]):\n",
    "    for j in np.arange(1,np.shape(chunk_of_lfp)[1]):\n",
    "        if np.abs(chunk_of_lfp[i][j] - chunk_of_lfp[i][j-1]) > 100:\n",
    "            print('we are on row '+str(i)+' and column '+str(j),end=\"\\r\")\n",
    "            indexes.append((i,j))"
   ]
  },
  {
   "cell_type": "markdown",
   "id": "54d29252-a391-4a20-a052-a7197172ec8b",
   "metadata": {},
   "source": [
    "`tqdm` - for making nice progress bars"
   ]
  },
  {
   "cell_type": "code",
   "execution_count": 6,
   "id": "05ddbe03-3a08-4a7d-ae63-be615d964a89",
   "metadata": {},
   "outputs": [],
   "source": [
    "import tqdm, time"
   ]
  },
  {
   "cell_type": "code",
   "execution_count": 117,
   "id": "d9624e60-0dfa-4319-8a2f-b7bed4122ec2",
   "metadata": {
    "tags": []
   },
   "outputs": [
    {
     "name": "stderr",
     "output_type": "stream",
     "text": [
      "100%|██████████| 100/100 [00:24<00:00,  4.11it/s]\n"
     ]
    }
   ],
   "source": [
    "for i in tqdm.tqdm(range(100)):\n",
    "    for j in range(100):\n",
    "        a= 4\n",
    "        time.sleep(0.002)"
   ]
  },
  {
   "cell_type": "code",
   "execution_count": 21,
   "id": "9b515724-59de-45ba-bff3-f56f59064afd",
   "metadata": {},
   "outputs": [],
   "source": [
    "#tqdm messages"
   ]
  },
  {
   "cell_type": "markdown",
   "id": "089d64e6-2864-4b3d-b7e4-bf943959c2ee",
   "metadata": {},
   "source": [
    "can also do this nested:"
   ]
  },
  {
   "cell_type": "code",
   "execution_count": 120,
   "id": "5548a5b7-8294-454b-b336-eddde2ce2193",
   "metadata": {
    "collapsed": true,
    "jupyter": {
     "outputs_hidden": true
    },
    "tags": []
   },
   "outputs": [
    {
     "name": "stderr",
     "output_type": "stream",
     "text": [
      "  0%|          | 0/100 [00:00<?, ?it/s]\n",
      "  0%|          | 0/100 [00:00<?, ?it/s]\u001b[A\n",
      "100%|██████████| 100/100 [00:00<00:00, 813.62it/s][A\n",
      "  1%|          | 1/100 [00:00<00:12,  7.95it/s]\n",
      "  0%|          | 0/100 [00:00<?, ?it/s]\u001b[A\n",
      "100%|██████████| 100/100 [00:00<00:00, 784.14it/s][A\n",
      "  2%|▏         | 2/100 [00:00<00:12,  7.85it/s]\n",
      "  0%|          | 0/100 [00:00<?, ?it/s]\u001b[A\n",
      "100%|██████████| 100/100 [00:00<00:00, 789.38it/s][A\n",
      "  3%|▎         | 3/100 [00:00<00:12,  7.79it/s]\n",
      "  0%|          | 0/100 [00:00<?, ?it/s]\u001b[A\n",
      "100%|██████████| 100/100 [00:00<00:00, 794.74it/s][A\n",
      "  4%|▍         | 4/100 [00:00<00:12,  7.79it/s]\n",
      "  0%|          | 0/100 [00:00<?, ?it/s]\u001b[A\n",
      "100%|██████████| 100/100 [00:00<00:00, 777.10it/s][A\n",
      "  5%|▌         | 5/100 [00:00<00:12,  7.72it/s]\n",
      "  0%|          | 0/100 [00:00<?, ?it/s]\u001b[A\n",
      "100%|██████████| 100/100 [00:00<00:00, 773.10it/s][A\n",
      "  6%|▌         | 6/100 [00:00<00:12,  7.64it/s]\n",
      "  0%|          | 0/100 [00:00<?, ?it/s]\u001b[A\n",
      "100%|██████████| 100/100 [00:00<00:00, 777.69it/s][A\n",
      "  7%|▋         | 7/100 [00:00<00:12,  7.60it/s]\n",
      "  0%|          | 0/100 [00:00<?, ?it/s]\u001b[A\n",
      "100%|██████████| 100/100 [00:00<00:00, 807.68it/s][A\n",
      "  8%|▊         | 8/100 [00:01<00:11,  7.67it/s]\n",
      "  0%|          | 0/100 [00:00<?, ?it/s]\u001b[A\n",
      "100%|██████████| 100/100 [00:00<00:00, 801.17it/s][A\n",
      "  9%|▉         | 9/100 [00:01<00:11,  7.72it/s]\n",
      "  0%|          | 0/100 [00:00<?, ?it/s]\u001b[A\n",
      "100%|██████████| 100/100 [00:00<00:00, 802.96it/s][A\n",
      " 10%|█         | 10/100 [00:01<00:11,  7.76it/s]\n",
      "  0%|          | 0/100 [00:00<?, ?it/s]\u001b[A\n",
      "100%|██████████| 100/100 [00:00<00:00, 782.45it/s][A\n",
      " 11%|█         | 11/100 [00:01<00:11,  7.70it/s]\n",
      "  0%|          | 0/100 [00:00<?, ?it/s]\u001b[A\n",
      "100%|██████████| 100/100 [00:00<00:00, 806.02it/s][A\n",
      " 12%|█▏        | 12/100 [00:01<00:11,  7.73it/s]\n",
      "  0%|          | 0/100 [00:00<?, ?it/s]\u001b[A\n",
      "100%|██████████| 100/100 [00:00<00:00, 807.06it/s][A\n",
      " 13%|█▎        | 13/100 [00:01<00:11,  7.77it/s]\n",
      "  0%|          | 0/100 [00:00<?, ?it/s]\u001b[A\n",
      "100%|██████████| 100/100 [00:00<00:00, 806.65it/s][A\n",
      " 14%|█▍        | 14/100 [00:01<00:11,  7.81it/s]\n",
      "  0%|          | 0/100 [00:00<?, ?it/s]\u001b[A\n",
      "100%|██████████| 100/100 [00:00<00:00, 803.63it/s][A\n",
      " 15%|█▌        | 15/100 [00:01<00:10,  7.80it/s]\n",
      "  0%|          | 0/100 [00:00<?, ?it/s]\u001b[A\n",
      "100%|██████████| 100/100 [00:00<00:00, 799.95it/s][A\n",
      " 16%|█▌        | 16/100 [00:02<00:10,  7.80it/s]\n",
      "  0%|          | 0/100 [00:00<?, ?it/s]\u001b[A\n",
      "100%|██████████| 100/100 [00:00<00:00, 784.70it/s][A\n",
      " 17%|█▋        | 17/100 [00:02<00:10,  7.76it/s]\n",
      "  0%|          | 0/100 [00:00<?, ?it/s]\u001b[A\n",
      "100%|██████████| 100/100 [00:00<00:00, 799.57it/s][A\n",
      " 18%|█▊        | 18/100 [00:02<00:10,  7.78it/s]\n",
      "  0%|          | 0/100 [00:00<?, ?it/s]\u001b[A\n",
      "100%|██████████| 100/100 [00:00<00:00, 796.84it/s][A\n",
      " 19%|█▉        | 19/100 [00:02<00:10,  7.78it/s]\n",
      "  0%|          | 0/100 [00:00<?, ?it/s]\u001b[A\n",
      "100%|██████████| 100/100 [00:00<00:00, 799.67it/s][A\n",
      " 20%|██        | 20/100 [00:02<00:10,  7.79it/s]\n",
      "  0%|          | 0/100 [00:00<?, ?it/s]\u001b[A\n",
      "100%|██████████| 100/100 [00:00<00:00, 796.74it/s][A\n",
      " 21%|██        | 21/100 [00:02<00:10,  7.77it/s]\n",
      "  0%|          | 0/100 [00:00<?, ?it/s]\u001b[A\n",
      "100%|██████████| 100/100 [00:00<00:00, 844.64it/s][A\n",
      " 22%|██▏       | 22/100 [00:02<00:09,  7.90it/s]\n",
      "  0%|          | 0/100 [00:00<?, ?it/s]\u001b[A\n",
      "100%|██████████| 100/100 [00:00<00:00, 867.11it/s][A\n",
      " 23%|██▎       | 23/100 [00:02<00:09,  8.06it/s]\n",
      "  0%|          | 0/100 [00:00<?, ?it/s]\u001b[A\n",
      "100%|██████████| 100/100 [00:00<00:00, 860.25it/s][A\n",
      " 24%|██▍       | 24/100 [00:03<00:09,  8.15it/s]\n",
      "  0%|          | 0/100 [00:00<?, ?it/s]\u001b[A\n",
      "100%|██████████| 100/100 [00:00<00:00, 808.85it/s][A\n",
      " 25%|██▌       | 25/100 [00:03<00:09,  8.08it/s]\n",
      "  0%|          | 0/100 [00:00<?, ?it/s]\u001b[A\n",
      "100%|██████████| 100/100 [00:00<00:00, 801.44it/s][A\n",
      " 26%|██▌       | 26/100 [00:03<00:09,  7.99it/s]\n",
      "  0%|          | 0/100 [00:00<?, ?it/s]\u001b[A\n",
      "100%|██████████| 100/100 [00:00<00:00, 794.81it/s][A\n",
      " 27%|██▋       | 27/100 [00:03<00:09,  7.92it/s]\n",
      "  0%|          | 0/100 [00:00<?, ?it/s]\u001b[A\n",
      "100%|██████████| 100/100 [00:00<00:00, 805.18it/s][A\n",
      " 28%|██▊       | 28/100 [00:03<00:09,  7.90it/s]\n",
      "  0%|          | 0/100 [00:00<?, ?it/s]\u001b[A\n",
      "100%|██████████| 100/100 [00:00<00:00, 797.16it/s][A\n",
      " 29%|██▉       | 29/100 [00:03<00:09,  7.84it/s]\n",
      "  0%|          | 0/100 [00:00<?, ?it/s]\u001b[A\n",
      "100%|██████████| 100/100 [00:00<00:00, 821.31it/s][A\n",
      " 30%|███       | 30/100 [00:03<00:08,  7.87it/s]\n",
      "  0%|          | 0/100 [00:00<?, ?it/s]\u001b[A\n",
      "100%|██████████| 100/100 [00:00<00:00, 817.67it/s][A\n",
      " 31%|███       | 31/100 [00:03<00:08,  7.89it/s]\n",
      "  0%|          | 0/100 [00:00<?, ?it/s]\u001b[A\n",
      "100%|██████████| 100/100 [00:00<00:00, 825.24it/s][A\n",
      " 32%|███▏      | 32/100 [00:04<00:08,  7.92it/s]\n",
      "  0%|          | 0/100 [00:00<?, ?it/s]\u001b[A\n",
      "100%|██████████| 100/100 [00:00<00:00, 817.63it/s][A\n",
      " 33%|███▎      | 33/100 [00:04<00:08,  7.92it/s]\n",
      "  0%|          | 0/100 [00:00<?, ?it/s]\u001b[A\n",
      "100%|██████████| 100/100 [00:00<00:00, 807.28it/s][A\n",
      " 34%|███▍      | 34/100 [00:04<00:08,  7.91it/s]\n",
      "  0%|          | 0/100 [00:00<?, ?it/s]\u001b[A\n",
      "100%|██████████| 100/100 [00:00<00:00, 821.87it/s][A\n",
      " 35%|███▌      | 35/100 [00:04<00:08,  7.95it/s]\n",
      "  0%|          | 0/100 [00:00<?, ?it/s]\u001b[A\n",
      "100%|██████████| 100/100 [00:00<00:00, 801.79it/s][A\n",
      " 36%|███▌      | 36/100 [00:04<00:08,  7.90it/s]\n",
      "  0%|          | 0/100 [00:00<?, ?it/s]\u001b[A\n",
      "100%|██████████| 100/100 [00:00<00:00, 799.41it/s][A\n",
      " 37%|███▋      | 37/100 [00:04<00:07,  7.88it/s]\n",
      "  0%|          | 0/100 [00:00<?, ?it/s]\u001b[A\n",
      "100%|██████████| 100/100 [00:00<00:00, 807.94it/s][A\n",
      " 38%|███▊      | 38/100 [00:04<00:07,  7.88it/s]\n",
      "  0%|          | 0/100 [00:00<?, ?it/s]\u001b[A\n",
      "100%|██████████| 100/100 [00:00<00:00, 816.33it/s][A\n",
      " 39%|███▉      | 39/100 [00:04<00:07,  7.88it/s]\n",
      "  0%|          | 0/100 [00:00<?, ?it/s]\u001b[A\n",
      "100%|██████████| 100/100 [00:00<00:00, 821.45it/s][A\n",
      " 40%|████      | 40/100 [00:05<00:07,  7.93it/s]\n",
      "  0%|          | 0/100 [00:00<?, ?it/s]\u001b[A\n",
      "100%|██████████| 100/100 [00:00<00:00, 789.69it/s][A\n",
      " 41%|████      | 41/100 [00:05<00:07,  7.85it/s]\n",
      "  0%|          | 0/100 [00:00<?, ?it/s]\u001b[A\n",
      "100%|██████████| 100/100 [00:00<00:00, 790.13it/s][A\n",
      " 42%|████▏     | 42/100 [00:05<00:07,  7.78it/s]\n",
      "  0%|          | 0/100 [00:00<?, ?it/s]\u001b[A\n",
      "100%|██████████| 100/100 [00:00<00:00, 769.33it/s][A\n",
      " 43%|████▎     | 43/100 [00:05<00:07,  7.66it/s]\n",
      "  0%|          | 0/100 [00:00<?, ?it/s]\u001b[A\n",
      "100%|██████████| 100/100 [00:00<00:00, 789.83it/s][A\n",
      " 44%|████▍     | 44/100 [00:05<00:07,  7.64it/s]\n",
      "  0%|          | 0/100 [00:00<?, ?it/s]\u001b[A\n",
      "100%|██████████| 100/100 [00:00<00:00, 794.75it/s][A\n",
      " 45%|████▌     | 45/100 [00:05<00:07,  7.68it/s]\n",
      "  0%|          | 0/100 [00:00<?, ?it/s]\u001b[A\n",
      "100%|██████████| 100/100 [00:00<00:00, 788.76it/s][A\n",
      " 46%|████▌     | 46/100 [00:05<00:07,  7.69it/s]\n",
      "  0%|          | 0/100 [00:00<?, ?it/s]\u001b[A\n",
      "100%|██████████| 100/100 [00:00<00:00, 795.11it/s][A\n",
      " 47%|████▋     | 47/100 [00:06<00:06,  7.71it/s]\n",
      "  0%|          | 0/100 [00:00<?, ?it/s]\u001b[A\n",
      "100%|██████████| 100/100 [00:00<00:00, 825.76it/s][A\n",
      " 48%|████▊     | 48/100 [00:06<00:06,  7.78it/s]\n",
      "  0%|          | 0/100 [00:00<?, ?it/s]\u001b[A\n",
      "100%|██████████| 100/100 [00:00<00:00, 782.93it/s][A\n",
      " 49%|████▉     | 49/100 [00:06<00:06,  7.74it/s]\n",
      "  0%|          | 0/100 [00:00<?, ?it/s]\u001b[A\n",
      "100%|██████████| 100/100 [00:00<00:00, 809.43it/s][A\n",
      " 50%|█████     | 50/100 [00:06<00:06,  7.78it/s]\n",
      "  0%|          | 0/100 [00:00<?, ?it/s]\u001b[A\n",
      "100%|██████████| 100/100 [00:00<00:00, 799.33it/s][A\n",
      " 51%|█████     | 51/100 [00:06<00:06,  7.78it/s]\n",
      "  0%|          | 0/100 [00:00<?, ?it/s]\u001b[A\n",
      "100%|██████████| 100/100 [00:00<00:00, 777.17it/s][A\n",
      " 52%|█████▏    | 52/100 [00:06<00:06,  7.72it/s]\n",
      "  0%|          | 0/100 [00:00<?, ?it/s]\u001b[A\n",
      "100%|██████████| 100/100 [00:00<00:00, 783.67it/s][A\n",
      " 53%|█████▎    | 53/100 [00:06<00:06,  7.69it/s]\n",
      "  0%|          | 0/100 [00:00<?, ?it/s]\u001b[A\n",
      "100%|██████████| 100/100 [00:00<00:00, 769.71it/s][A\n",
      " 54%|█████▍    | 54/100 [00:06<00:06,  7.63it/s]\n",
      "  0%|          | 0/100 [00:00<?, ?it/s]\u001b[A\n",
      "100%|██████████| 100/100 [00:00<00:00, 779.64it/s][A\n",
      " 55%|█████▌    | 55/100 [00:07<00:05,  7.62it/s]\n",
      "  0%|          | 0/100 [00:00<?, ?it/s]\u001b[A\n",
      "100%|██████████| 100/100 [00:00<00:00, 766.36it/s][A\n",
      " 56%|█████▌    | 56/100 [00:07<00:05,  7.56it/s]\n",
      "  0%|          | 0/100 [00:00<?, ?it/s]\u001b[A\n",
      "100%|██████████| 100/100 [00:00<00:00, 763.48it/s][A\n",
      " 57%|█████▋    | 57/100 [00:07<00:05,  7.51it/s]\n",
      "  0%|          | 0/100 [00:00<?, ?it/s]\u001b[A\n",
      "100%|██████████| 100/100 [00:00<00:00, 761.64it/s][A\n",
      " 58%|█████▊    | 58/100 [00:07<00:05,  7.45it/s]\n",
      "  0%|          | 0/100 [00:00<?, ?it/s]\u001b[A\n",
      "100%|██████████| 100/100 [00:00<00:00, 771.46it/s][A\n",
      " 59%|█████▉    | 59/100 [00:07<00:05,  7.46it/s]\n",
      "  0%|          | 0/100 [00:00<?, ?it/s]\u001b[A\n",
      "100%|██████████| 100/100 [00:00<00:00, 765.32it/s][A\n",
      " 60%|██████    | 60/100 [00:07<00:05,  7.46it/s]\n",
      "  0%|          | 0/100 [00:00<?, ?it/s]\u001b[A\n",
      "100%|██████████| 100/100 [00:00<00:00, 800.24it/s][A\n",
      " 61%|██████    | 61/100 [00:07<00:05,  7.54it/s]\n",
      "  0%|          | 0/100 [00:00<?, ?it/s]\u001b[A\n",
      "100%|██████████| 100/100 [00:00<00:00, 780.34it/s][A\n",
      " 62%|██████▏   | 62/100 [00:07<00:05,  7.56it/s]\n",
      "  0%|          | 0/100 [00:00<?, ?it/s]\u001b[A\n",
      "100%|██████████| 100/100 [00:00<00:00, 763.74it/s][A\n",
      " 63%|██████▎   | 63/100 [00:08<00:04,  7.52it/s]\n",
      "  0%|          | 0/100 [00:00<?, ?it/s]\u001b[A\n",
      "100%|██████████| 100/100 [00:00<00:00, 769.95it/s][A\n",
      " 64%|██████▍   | 64/100 [00:08<00:04,  7.49it/s]\n",
      "  0%|          | 0/100 [00:00<?, ?it/s]\u001b[A\n",
      "100%|██████████| 100/100 [00:00<00:00, 761.08it/s][A\n",
      " 65%|██████▌   | 65/100 [00:08<00:04,  7.44it/s]\n",
      "  0%|          | 0/100 [00:00<?, ?it/s]\u001b[A\n",
      "100%|██████████| 100/100 [00:00<00:00, 762.82it/s][A\n",
      " 66%|██████▌   | 66/100 [00:08<00:04,  7.41it/s]\n",
      "  0%|          | 0/100 [00:00<?, ?it/s]\u001b[A\n",
      "100%|██████████| 100/100 [00:00<00:00, 769.88it/s][A\n",
      " 67%|██████▋   | 67/100 [00:08<00:04,  7.43it/s]\n",
      "  0%|          | 0/100 [00:00<?, ?it/s]\u001b[A\n",
      "100%|██████████| 100/100 [00:00<00:00, 763.11it/s][A\n",
      " 68%|██████▊   | 68/100 [00:08<00:04,  7.42it/s]\n",
      "  0%|          | 0/100 [00:00<?, ?it/s]\u001b[A\n",
      "100%|██████████| 100/100 [00:00<00:00, 767.40it/s][A\n",
      " 69%|██████▉   | 69/100 [00:08<00:04,  7.42it/s]\n",
      "  0%|          | 0/100 [00:00<?, ?it/s]\u001b[A\n",
      "100%|██████████| 100/100 [00:00<00:00, 766.26it/s][A\n",
      " 70%|███████   | 70/100 [00:09<00:04,  7.42it/s]\n",
      "  0%|          | 0/100 [00:00<?, ?it/s]\u001b[A\n",
      "100%|██████████| 100/100 [00:00<00:00, 766.21it/s][A\n",
      " 71%|███████   | 71/100 [00:09<00:03,  7.42it/s]\n",
      "  0%|          | 0/100 [00:00<?, ?it/s]\u001b[A\n",
      "100%|██████████| 100/100 [00:00<00:00, 760.39it/s][A\n",
      " 72%|███████▏  | 72/100 [00:09<00:03,  7.39it/s]\n",
      "  0%|          | 0/100 [00:00<?, ?it/s]\u001b[A\n",
      "100%|██████████| 100/100 [00:00<00:00, 766.21it/s][A\n",
      " 73%|███████▎  | 73/100 [00:09<00:03,  7.37it/s]\n",
      "  0%|          | 0/100 [00:00<?, ?it/s]\u001b[A\n",
      "100%|██████████| 100/100 [00:00<00:00, 778.53it/s][A\n",
      " 74%|███████▍  | 74/100 [00:09<00:03,  7.41it/s]\n",
      "  0%|          | 0/100 [00:00<?, ?it/s]\u001b[A\n",
      "100%|██████████| 100/100 [00:00<00:00, 768.22it/s][A\n",
      " 75%|███████▌  | 75/100 [00:09<00:03,  7.41it/s]\n",
      "  0%|          | 0/100 [00:00<?, ?it/s]\u001b[A\n",
      "100%|██████████| 100/100 [00:00<00:00, 765.44it/s][A\n",
      " 76%|███████▌  | 76/100 [00:09<00:03,  7.41it/s]\n",
      "  0%|          | 0/100 [00:00<?, ?it/s]\u001b[A\n",
      "100%|██████████| 100/100 [00:00<00:00, 771.51it/s][A\n",
      " 77%|███████▋  | 77/100 [00:10<00:03,  7.42it/s]\n",
      "  0%|          | 0/100 [00:00<?, ?it/s]\u001b[A\n",
      "100%|██████████| 100/100 [00:00<00:00, 767.02it/s][A\n",
      " 78%|███████▊  | 78/100 [00:10<00:02,  7.43it/s]\n",
      "  0%|          | 0/100 [00:00<?, ?it/s]\u001b[A\n",
      "100%|██████████| 100/100 [00:00<00:00, 761.46it/s][A\n",
      " 79%|███████▉  | 79/100 [00:10<00:02,  7.41it/s]\n",
      "  0%|          | 0/100 [00:00<?, ?it/s]\u001b[A\n",
      "100%|██████████| 100/100 [00:00<00:00, 771.90it/s][A\n",
      " 80%|████████  | 80/100 [00:10<00:02,  7.43it/s]\n",
      "  0%|          | 0/100 [00:00<?, ?it/s]\u001b[A\n",
      "100%|██████████| 100/100 [00:00<00:00, 764.12it/s][A\n",
      " 81%|████████  | 81/100 [00:10<00:02,  7.43it/s]\n",
      "  0%|          | 0/100 [00:00<?, ?it/s]\u001b[A\n",
      "100%|██████████| 100/100 [00:00<00:00, 764.59it/s][A\n",
      " 82%|████████▏ | 82/100 [00:10<00:02,  7.43it/s]\n",
      "  0%|          | 0/100 [00:00<?, ?it/s]\u001b[A\n",
      "100%|██████████| 100/100 [00:00<00:00, 773.74it/s][A\n",
      " 83%|████████▎ | 83/100 [00:10<00:02,  7.46it/s]\n",
      "  0%|          | 0/100 [00:00<?, ?it/s]\u001b[A\n",
      "100%|██████████| 100/100 [00:00<00:00, 770.23it/s][A\n",
      " 84%|████████▍ | 84/100 [00:10<00:02,  7.47it/s]\n",
      "  0%|          | 0/100 [00:00<?, ?it/s]\u001b[A\n",
      "100%|██████████| 100/100 [00:00<00:00, 815.71it/s][A\n",
      " 85%|████████▌ | 85/100 [00:11<00:01,  7.59it/s]\n",
      "  0%|          | 0/100 [00:00<?, ?it/s]\u001b[A\n",
      "100%|██████████| 100/100 [00:00<00:00, 790.55it/s][A\n",
      " 86%|████████▌ | 86/100 [00:11<00:01,  7.63it/s]\n",
      "  0%|          | 0/100 [00:00<?, ?it/s]\u001b[A\n",
      "100%|██████████| 100/100 [00:00<00:00, 794.94it/s][A\n",
      " 87%|████████▋ | 87/100 [00:11<00:01,  7.64it/s]\n",
      "  0%|          | 0/100 [00:00<?, ?it/s]\u001b[A\n",
      "100%|██████████| 100/100 [00:00<00:00, 784.20it/s][A\n",
      " 88%|████████▊ | 88/100 [00:11<00:01,  7.65it/s]\n",
      "  0%|          | 0/100 [00:00<?, ?it/s]\u001b[A\n",
      "100%|██████████| 100/100 [00:00<00:00, 771.27it/s][A\n",
      " 89%|████████▉ | 89/100 [00:11<00:01,  7.62it/s]\n",
      "  0%|          | 0/100 [00:00<?, ?it/s]\u001b[A\n",
      "100%|██████████| 100/100 [00:00<00:00, 778.16it/s][A\n",
      " 90%|█████████ | 90/100 [00:11<00:01,  7.59it/s]\n",
      "  0%|          | 0/100 [00:00<?, ?it/s]\u001b[A\n",
      "100%|██████████| 100/100 [00:00<00:00, 760.47it/s][A\n",
      " 91%|█████████ | 91/100 [00:11<00:01,  7.52it/s]\n",
      "  0%|          | 0/100 [00:00<?, ?it/s]\u001b[A\n",
      "100%|██████████| 100/100 [00:00<00:00, 764.72it/s][A\n",
      " 92%|█████████▏| 92/100 [00:12<00:01,  7.48it/s]\n",
      "  0%|          | 0/100 [00:00<?, ?it/s]\u001b[A\n",
      "100%|██████████| 100/100 [00:00<00:00, 770.36it/s][A\n",
      " 93%|█████████▎| 93/100 [00:12<00:00,  7.46it/s]\n",
      "  0%|          | 0/100 [00:00<?, ?it/s]\u001b[A\n",
      "100%|██████████| 100/100 [00:00<00:00, 761.32it/s][A\n",
      " 94%|█████████▍| 94/100 [00:12<00:00,  7.42it/s]\n",
      "  0%|          | 0/100 [00:00<?, ?it/s]\u001b[A\n",
      "100%|██████████| 100/100 [00:00<00:00, 763.01it/s][A\n",
      " 95%|█████████▌| 95/100 [00:12<00:00,  7.41it/s]\n",
      "  0%|          | 0/100 [00:00<?, ?it/s]\u001b[A\n",
      "100%|██████████| 100/100 [00:00<00:00, 770.39it/s][A\n",
      " 96%|█████████▌| 96/100 [00:12<00:00,  7.42it/s]\n",
      "  0%|          | 0/100 [00:00<?, ?it/s]\u001b[A\n",
      "100%|██████████| 100/100 [00:00<00:00, 766.87it/s][A\n",
      " 97%|█████████▋| 97/100 [00:12<00:00,  7.41it/s]\n",
      "  0%|          | 0/100 [00:00<?, ?it/s]\u001b[A\n",
      "100%|██████████| 100/100 [00:00<00:00, 795.23it/s][A\n",
      " 98%|█████████▊| 98/100 [00:12<00:00,  7.49it/s]\n",
      "  0%|          | 0/100 [00:00<?, ?it/s]\u001b[A\n",
      "100%|██████████| 100/100 [00:00<00:00, 763.73it/s][A\n",
      " 99%|█████████▉| 99/100 [00:12<00:00,  7.46it/s]\n",
      "  0%|          | 0/100 [00:00<?, ?it/s]\u001b[A\n",
      "100%|██████████| 100/100 [00:00<00:00, 781.18it/s][A\n",
      "100%|██████████| 100/100 [00:13<00:00,  7.64it/s]\n"
     ]
    }
   ],
   "source": [
    "for i in tqdm.tqdm(range(100)):\n",
    "    for j in tqdm.tqdm(range(100)):\n",
    "        a= 4\n",
    "        time.sleep(0.001)"
   ]
  },
  {
   "cell_type": "markdown",
   "id": "b82d6d3b-4072-4e48-b6d4-eaace51f819a",
   "metadata": {},
   "source": [
    "but this is ugly and cumbersome. `tqdm` has jupyter specific versions that work _much_ better in the notebook:"
   ]
  },
  {
   "cell_type": "code",
   "execution_count": 123,
   "id": "b3b0c1b4-4974-475e-8f1e-a8a2d958b175",
   "metadata": {
    "collapsed": true,
    "jupyter": {
     "outputs_hidden": true
    },
    "tags": []
   },
   "outputs": [
    {
     "data": {
      "application/vnd.jupyter.widget-view+json": {
       "model_id": "da719d1b0ba742668edd419fa38ba067",
       "version_major": 2,
       "version_minor": 0
      },
      "text/plain": [
       "HBox(children=(FloatProgress(value=0.0), HTML(value='')))"
      ]
     },
     "metadata": {},
     "output_type": "display_data"
    },
    {
     "data": {
      "application/vnd.jupyter.widget-view+json": {
       "model_id": "0fcf555344c546109550f3e543c2a461",
       "version_major": 2,
       "version_minor": 0
      },
      "text/plain": [
       "HBox(children=(FloatProgress(value=0.0), HTML(value='')))"
      ]
     },
     "metadata": {},
     "output_type": "display_data"
    },
    {
     "name": "stdout",
     "output_type": "stream",
     "text": [
      "\n"
     ]
    },
    {
     "data": {
      "application/vnd.jupyter.widget-view+json": {
       "model_id": "23054347471e4bf486d5902a0c0baa76",
       "version_major": 2,
       "version_minor": 0
      },
      "text/plain": [
       "HBox(children=(FloatProgress(value=0.0), HTML(value='')))"
      ]
     },
     "metadata": {},
     "output_type": "display_data"
    },
    {
     "name": "stdout",
     "output_type": "stream",
     "text": [
      "\n"
     ]
    },
    {
     "data": {
      "application/vnd.jupyter.widget-view+json": {
       "model_id": "bb42a005433a454da64987f0fdb06803",
       "version_major": 2,
       "version_minor": 0
      },
      "text/plain": [
       "HBox(children=(FloatProgress(value=0.0), HTML(value='')))"
      ]
     },
     "metadata": {},
     "output_type": "display_data"
    },
    {
     "name": "stdout",
     "output_type": "stream",
     "text": [
      "\n"
     ]
    },
    {
     "data": {
      "application/vnd.jupyter.widget-view+json": {
       "model_id": "bd00170453d44d0ab5233b97844295ec",
       "version_major": 2,
       "version_minor": 0
      },
      "text/plain": [
       "HBox(children=(FloatProgress(value=0.0), HTML(value='')))"
      ]
     },
     "metadata": {},
     "output_type": "display_data"
    },
    {
     "name": "stdout",
     "output_type": "stream",
     "text": [
      "\n"
     ]
    },
    {
     "data": {
      "application/vnd.jupyter.widget-view+json": {
       "model_id": "b2b1f3f381874cdca84d710c64b3faef",
       "version_major": 2,
       "version_minor": 0
      },
      "text/plain": [
       "HBox(children=(FloatProgress(value=0.0), HTML(value='')))"
      ]
     },
     "metadata": {},
     "output_type": "display_data"
    },
    {
     "name": "stdout",
     "output_type": "stream",
     "text": [
      "\n"
     ]
    },
    {
     "data": {
      "application/vnd.jupyter.widget-view+json": {
       "model_id": "75d9d3fd06a24f62ac2f56b1dc5e62e0",
       "version_major": 2,
       "version_minor": 0
      },
      "text/plain": [
       "HBox(children=(FloatProgress(value=0.0), HTML(value='')))"
      ]
     },
     "metadata": {},
     "output_type": "display_data"
    },
    {
     "name": "stdout",
     "output_type": "stream",
     "text": [
      "\n"
     ]
    },
    {
     "data": {
      "application/vnd.jupyter.widget-view+json": {
       "model_id": "552e7f9f0cfe4b349e8fc5aba048497d",
       "version_major": 2,
       "version_minor": 0
      },
      "text/plain": [
       "HBox(children=(FloatProgress(value=0.0), HTML(value='')))"
      ]
     },
     "metadata": {},
     "output_type": "display_data"
    },
    {
     "name": "stdout",
     "output_type": "stream",
     "text": [
      "\n"
     ]
    },
    {
     "data": {
      "application/vnd.jupyter.widget-view+json": {
       "model_id": "5c7f936f2ceb42e486c85eae22ea0c14",
       "version_major": 2,
       "version_minor": 0
      },
      "text/plain": [
       "HBox(children=(FloatProgress(value=0.0), HTML(value='')))"
      ]
     },
     "metadata": {},
     "output_type": "display_data"
    },
    {
     "name": "stdout",
     "output_type": "stream",
     "text": [
      "\n"
     ]
    },
    {
     "data": {
      "application/vnd.jupyter.widget-view+json": {
       "model_id": "0d971ca2c59e49fca742b203ea82c8a7",
       "version_major": 2,
       "version_minor": 0
      },
      "text/plain": [
       "HBox(children=(FloatProgress(value=0.0), HTML(value='')))"
      ]
     },
     "metadata": {},
     "output_type": "display_data"
    },
    {
     "name": "stdout",
     "output_type": "stream",
     "text": [
      "\n"
     ]
    },
    {
     "data": {
      "application/vnd.jupyter.widget-view+json": {
       "model_id": "e142c053ac594b29b9024cee20aabea5",
       "version_major": 2,
       "version_minor": 0
      },
      "text/plain": [
       "HBox(children=(FloatProgress(value=0.0), HTML(value='')))"
      ]
     },
     "metadata": {},
     "output_type": "display_data"
    },
    {
     "name": "stdout",
     "output_type": "stream",
     "text": [
      "\n"
     ]
    },
    {
     "data": {
      "application/vnd.jupyter.widget-view+json": {
       "model_id": "bd54718872a04a909b978cfe0ecb2ef9",
       "version_major": 2,
       "version_minor": 0
      },
      "text/plain": [
       "HBox(children=(FloatProgress(value=0.0), HTML(value='')))"
      ]
     },
     "metadata": {},
     "output_type": "display_data"
    },
    {
     "name": "stdout",
     "output_type": "stream",
     "text": [
      "\n"
     ]
    },
    {
     "data": {
      "application/vnd.jupyter.widget-view+json": {
       "model_id": "2623754f609e463e8fe68ba640af6cf3",
       "version_major": 2,
       "version_minor": 0
      },
      "text/plain": [
       "HBox(children=(FloatProgress(value=0.0), HTML(value='')))"
      ]
     },
     "metadata": {},
     "output_type": "display_data"
    },
    {
     "name": "stdout",
     "output_type": "stream",
     "text": [
      "\n"
     ]
    },
    {
     "data": {
      "application/vnd.jupyter.widget-view+json": {
       "model_id": "53e84a844d1a4149a3587fe47079a71c",
       "version_major": 2,
       "version_minor": 0
      },
      "text/plain": [
       "HBox(children=(FloatProgress(value=0.0), HTML(value='')))"
      ]
     },
     "metadata": {},
     "output_type": "display_data"
    },
    {
     "name": "stdout",
     "output_type": "stream",
     "text": [
      "\n"
     ]
    },
    {
     "data": {
      "application/vnd.jupyter.widget-view+json": {
       "model_id": "cefffcdf2a4544a7a36580bfc15e056d",
       "version_major": 2,
       "version_minor": 0
      },
      "text/plain": [
       "HBox(children=(FloatProgress(value=0.0), HTML(value='')))"
      ]
     },
     "metadata": {},
     "output_type": "display_data"
    },
    {
     "name": "stdout",
     "output_type": "stream",
     "text": [
      "\n"
     ]
    },
    {
     "data": {
      "application/vnd.jupyter.widget-view+json": {
       "model_id": "83baa1106c96412bbdc22b73708509dc",
       "version_major": 2,
       "version_minor": 0
      },
      "text/plain": [
       "HBox(children=(FloatProgress(value=0.0), HTML(value='')))"
      ]
     },
     "metadata": {},
     "output_type": "display_data"
    },
    {
     "name": "stdout",
     "output_type": "stream",
     "text": [
      "\n"
     ]
    },
    {
     "data": {
      "application/vnd.jupyter.widget-view+json": {
       "model_id": "a91d821d08eb4f8dbfdd13eec1978c09",
       "version_major": 2,
       "version_minor": 0
      },
      "text/plain": [
       "HBox(children=(FloatProgress(value=0.0), HTML(value='')))"
      ]
     },
     "metadata": {},
     "output_type": "display_data"
    },
    {
     "name": "stdout",
     "output_type": "stream",
     "text": [
      "\n"
     ]
    },
    {
     "data": {
      "application/vnd.jupyter.widget-view+json": {
       "model_id": "d9b4ac2ce097416c96359d68c9b7d310",
       "version_major": 2,
       "version_minor": 0
      },
      "text/plain": [
       "HBox(children=(FloatProgress(value=0.0), HTML(value='')))"
      ]
     },
     "metadata": {},
     "output_type": "display_data"
    },
    {
     "name": "stdout",
     "output_type": "stream",
     "text": [
      "\n"
     ]
    },
    {
     "data": {
      "application/vnd.jupyter.widget-view+json": {
       "model_id": "cb71c6530f7e42b79a6cdff66fb73ecb",
       "version_major": 2,
       "version_minor": 0
      },
      "text/plain": [
       "HBox(children=(FloatProgress(value=0.0), HTML(value='')))"
      ]
     },
     "metadata": {},
     "output_type": "display_data"
    },
    {
     "name": "stdout",
     "output_type": "stream",
     "text": [
      "\n"
     ]
    },
    {
     "data": {
      "application/vnd.jupyter.widget-view+json": {
       "model_id": "99f8241106124d63b2c732cbcce37ade",
       "version_major": 2,
       "version_minor": 0
      },
      "text/plain": [
       "HBox(children=(FloatProgress(value=0.0), HTML(value='')))"
      ]
     },
     "metadata": {},
     "output_type": "display_data"
    },
    {
     "name": "stdout",
     "output_type": "stream",
     "text": [
      "\n"
     ]
    },
    {
     "data": {
      "application/vnd.jupyter.widget-view+json": {
       "model_id": "2f86a3a5915f4bd483d94d14be4f26f9",
       "version_major": 2,
       "version_minor": 0
      },
      "text/plain": [
       "HBox(children=(FloatProgress(value=0.0), HTML(value='')))"
      ]
     },
     "metadata": {},
     "output_type": "display_data"
    },
    {
     "name": "stdout",
     "output_type": "stream",
     "text": [
      "\n"
     ]
    },
    {
     "data": {
      "application/vnd.jupyter.widget-view+json": {
       "model_id": "f3a0ab0973d14905b926887ccea0614f",
       "version_major": 2,
       "version_minor": 0
      },
      "text/plain": [
       "HBox(children=(FloatProgress(value=0.0), HTML(value='')))"
      ]
     },
     "metadata": {},
     "output_type": "display_data"
    },
    {
     "name": "stdout",
     "output_type": "stream",
     "text": [
      "\n"
     ]
    },
    {
     "data": {
      "application/vnd.jupyter.widget-view+json": {
       "model_id": "d64a49af68e34aaa883c814fa029f8d7",
       "version_major": 2,
       "version_minor": 0
      },
      "text/plain": [
       "HBox(children=(FloatProgress(value=0.0), HTML(value='')))"
      ]
     },
     "metadata": {},
     "output_type": "display_data"
    },
    {
     "name": "stdout",
     "output_type": "stream",
     "text": [
      "\n"
     ]
    },
    {
     "data": {
      "application/vnd.jupyter.widget-view+json": {
       "model_id": "f2bc2e31f0e743f5a521c6e97abd5c4a",
       "version_major": 2,
       "version_minor": 0
      },
      "text/plain": [
       "HBox(children=(FloatProgress(value=0.0), HTML(value='')))"
      ]
     },
     "metadata": {},
     "output_type": "display_data"
    },
    {
     "name": "stdout",
     "output_type": "stream",
     "text": [
      "\n"
     ]
    },
    {
     "data": {
      "application/vnd.jupyter.widget-view+json": {
       "model_id": "4c366742cf9c4936b030ef8c6ffc6785",
       "version_major": 2,
       "version_minor": 0
      },
      "text/plain": [
       "HBox(children=(FloatProgress(value=0.0), HTML(value='')))"
      ]
     },
     "metadata": {},
     "output_type": "display_data"
    },
    {
     "name": "stdout",
     "output_type": "stream",
     "text": [
      "\n"
     ]
    },
    {
     "data": {
      "application/vnd.jupyter.widget-view+json": {
       "model_id": "644f79e0e7424720b98ae0599e71d666",
       "version_major": 2,
       "version_minor": 0
      },
      "text/plain": [
       "HBox(children=(FloatProgress(value=0.0), HTML(value='')))"
      ]
     },
     "metadata": {},
     "output_type": "display_data"
    },
    {
     "name": "stdout",
     "output_type": "stream",
     "text": [
      "\n"
     ]
    },
    {
     "data": {
      "application/vnd.jupyter.widget-view+json": {
       "model_id": "a595a6b587c44ea09e21272be44a5d5f",
       "version_major": 2,
       "version_minor": 0
      },
      "text/plain": [
       "HBox(children=(FloatProgress(value=0.0), HTML(value='')))"
      ]
     },
     "metadata": {},
     "output_type": "display_data"
    },
    {
     "name": "stdout",
     "output_type": "stream",
     "text": [
      "\n"
     ]
    },
    {
     "data": {
      "application/vnd.jupyter.widget-view+json": {
       "model_id": "72a74a17ebcd4ab98d1493ffb4b4dc85",
       "version_major": 2,
       "version_minor": 0
      },
      "text/plain": [
       "HBox(children=(FloatProgress(value=0.0), HTML(value='')))"
      ]
     },
     "metadata": {},
     "output_type": "display_data"
    },
    {
     "name": "stdout",
     "output_type": "stream",
     "text": [
      "\n"
     ]
    },
    {
     "data": {
      "application/vnd.jupyter.widget-view+json": {
       "model_id": "88086a5a6dbb4f35b3980584286daa8e",
       "version_major": 2,
       "version_minor": 0
      },
      "text/plain": [
       "HBox(children=(FloatProgress(value=0.0), HTML(value='')))"
      ]
     },
     "metadata": {},
     "output_type": "display_data"
    },
    {
     "name": "stdout",
     "output_type": "stream",
     "text": [
      "\n"
     ]
    },
    {
     "data": {
      "application/vnd.jupyter.widget-view+json": {
       "model_id": "219625deade64d18b0d7e81fe9317c41",
       "version_major": 2,
       "version_minor": 0
      },
      "text/plain": [
       "HBox(children=(FloatProgress(value=0.0), HTML(value='')))"
      ]
     },
     "metadata": {},
     "output_type": "display_data"
    },
    {
     "name": "stdout",
     "output_type": "stream",
     "text": [
      "\n"
     ]
    },
    {
     "data": {
      "application/vnd.jupyter.widget-view+json": {
       "model_id": "0749a76d338146e58c9418055c6bd3e2",
       "version_major": 2,
       "version_minor": 0
      },
      "text/plain": [
       "HBox(children=(FloatProgress(value=0.0), HTML(value='')))"
      ]
     },
     "metadata": {},
     "output_type": "display_data"
    },
    {
     "name": "stdout",
     "output_type": "stream",
     "text": [
      "\n"
     ]
    },
    {
     "data": {
      "application/vnd.jupyter.widget-view+json": {
       "model_id": "0eddc3a80d4346e28f9f509523dfea36",
       "version_major": 2,
       "version_minor": 0
      },
      "text/plain": [
       "HBox(children=(FloatProgress(value=0.0), HTML(value='')))"
      ]
     },
     "metadata": {},
     "output_type": "display_data"
    },
    {
     "name": "stdout",
     "output_type": "stream",
     "text": [
      "\n"
     ]
    },
    {
     "data": {
      "application/vnd.jupyter.widget-view+json": {
       "model_id": "baf8484d6b104c1cbf999e60c375b5dd",
       "version_major": 2,
       "version_minor": 0
      },
      "text/plain": [
       "HBox(children=(FloatProgress(value=0.0), HTML(value='')))"
      ]
     },
     "metadata": {},
     "output_type": "display_data"
    },
    {
     "name": "stdout",
     "output_type": "stream",
     "text": [
      "\n"
     ]
    },
    {
     "data": {
      "application/vnd.jupyter.widget-view+json": {
       "model_id": "9459724cded445be9b07dc42ea9fc038",
       "version_major": 2,
       "version_minor": 0
      },
      "text/plain": [
       "HBox(children=(FloatProgress(value=0.0), HTML(value='')))"
      ]
     },
     "metadata": {},
     "output_type": "display_data"
    },
    {
     "name": "stdout",
     "output_type": "stream",
     "text": [
      "\n"
     ]
    },
    {
     "data": {
      "application/vnd.jupyter.widget-view+json": {
       "model_id": "21ecc39d2cb84102a169e939f88fed9b",
       "version_major": 2,
       "version_minor": 0
      },
      "text/plain": [
       "HBox(children=(FloatProgress(value=0.0), HTML(value='')))"
      ]
     },
     "metadata": {},
     "output_type": "display_data"
    },
    {
     "name": "stdout",
     "output_type": "stream",
     "text": [
      "\n"
     ]
    },
    {
     "data": {
      "application/vnd.jupyter.widget-view+json": {
       "model_id": "c708d7d9ade641d2a96cab490ac4f546",
       "version_major": 2,
       "version_minor": 0
      },
      "text/plain": [
       "HBox(children=(FloatProgress(value=0.0), HTML(value='')))"
      ]
     },
     "metadata": {},
     "output_type": "display_data"
    },
    {
     "name": "stdout",
     "output_type": "stream",
     "text": [
      "\n"
     ]
    },
    {
     "data": {
      "application/vnd.jupyter.widget-view+json": {
       "model_id": "15f271ea5bf54db2bb893b7043e770ab",
       "version_major": 2,
       "version_minor": 0
      },
      "text/plain": [
       "HBox(children=(FloatProgress(value=0.0), HTML(value='')))"
      ]
     },
     "metadata": {},
     "output_type": "display_data"
    },
    {
     "name": "stdout",
     "output_type": "stream",
     "text": [
      "\n"
     ]
    },
    {
     "data": {
      "application/vnd.jupyter.widget-view+json": {
       "model_id": "5a385e1be4f94ee5a6107569ff3b3ae2",
       "version_major": 2,
       "version_minor": 0
      },
      "text/plain": [
       "HBox(children=(FloatProgress(value=0.0), HTML(value='')))"
      ]
     },
     "metadata": {},
     "output_type": "display_data"
    },
    {
     "name": "stdout",
     "output_type": "stream",
     "text": [
      "\n"
     ]
    },
    {
     "data": {
      "application/vnd.jupyter.widget-view+json": {
       "model_id": "6dd5cae4a63c49d4af9922f5d8519775",
       "version_major": 2,
       "version_minor": 0
      },
      "text/plain": [
       "HBox(children=(FloatProgress(value=0.0), HTML(value='')))"
      ]
     },
     "metadata": {},
     "output_type": "display_data"
    },
    {
     "name": "stdout",
     "output_type": "stream",
     "text": [
      "\n"
     ]
    },
    {
     "data": {
      "application/vnd.jupyter.widget-view+json": {
       "model_id": "309cfb0778f34eeea480c38f0c0a8bf3",
       "version_major": 2,
       "version_minor": 0
      },
      "text/plain": [
       "HBox(children=(FloatProgress(value=0.0), HTML(value='')))"
      ]
     },
     "metadata": {},
     "output_type": "display_data"
    },
    {
     "name": "stdout",
     "output_type": "stream",
     "text": [
      "\n"
     ]
    },
    {
     "data": {
      "application/vnd.jupyter.widget-view+json": {
       "model_id": "1141a08ec942484ab735e314f0f8886d",
       "version_major": 2,
       "version_minor": 0
      },
      "text/plain": [
       "HBox(children=(FloatProgress(value=0.0), HTML(value='')))"
      ]
     },
     "metadata": {},
     "output_type": "display_data"
    },
    {
     "name": "stdout",
     "output_type": "stream",
     "text": [
      "\n"
     ]
    },
    {
     "data": {
      "application/vnd.jupyter.widget-view+json": {
       "model_id": "3faf6fb6004e4b328887180eca48d6a6",
       "version_major": 2,
       "version_minor": 0
      },
      "text/plain": [
       "HBox(children=(FloatProgress(value=0.0), HTML(value='')))"
      ]
     },
     "metadata": {},
     "output_type": "display_data"
    },
    {
     "name": "stdout",
     "output_type": "stream",
     "text": [
      "\n"
     ]
    },
    {
     "data": {
      "application/vnd.jupyter.widget-view+json": {
       "model_id": "2954d73f964149b4bb2a07d801a72cfc",
       "version_major": 2,
       "version_minor": 0
      },
      "text/plain": [
       "HBox(children=(FloatProgress(value=0.0), HTML(value='')))"
      ]
     },
     "metadata": {},
     "output_type": "display_data"
    },
    {
     "name": "stdout",
     "output_type": "stream",
     "text": [
      "\n"
     ]
    },
    {
     "data": {
      "application/vnd.jupyter.widget-view+json": {
       "model_id": "9c6e15186ab54672849d32f601b02be0",
       "version_major": 2,
       "version_minor": 0
      },
      "text/plain": [
       "HBox(children=(FloatProgress(value=0.0), HTML(value='')))"
      ]
     },
     "metadata": {},
     "output_type": "display_data"
    },
    {
     "name": "stdout",
     "output_type": "stream",
     "text": [
      "\n"
     ]
    },
    {
     "data": {
      "application/vnd.jupyter.widget-view+json": {
       "model_id": "c7cc15515ff44f5aaec2c8b5d56cfcbd",
       "version_major": 2,
       "version_minor": 0
      },
      "text/plain": [
       "HBox(children=(FloatProgress(value=0.0), HTML(value='')))"
      ]
     },
     "metadata": {},
     "output_type": "display_data"
    },
    {
     "name": "stdout",
     "output_type": "stream",
     "text": [
      "\n"
     ]
    },
    {
     "data": {
      "application/vnd.jupyter.widget-view+json": {
       "model_id": "e694ddc5d98b413092b361afda92d2f5",
       "version_major": 2,
       "version_minor": 0
      },
      "text/plain": [
       "HBox(children=(FloatProgress(value=0.0), HTML(value='')))"
      ]
     },
     "metadata": {},
     "output_type": "display_data"
    },
    {
     "name": "stdout",
     "output_type": "stream",
     "text": [
      "\n"
     ]
    },
    {
     "data": {
      "application/vnd.jupyter.widget-view+json": {
       "model_id": "b9c0316f24954cd0b04bd8dceb8d1396",
       "version_major": 2,
       "version_minor": 0
      },
      "text/plain": [
       "HBox(children=(FloatProgress(value=0.0), HTML(value='')))"
      ]
     },
     "metadata": {},
     "output_type": "display_data"
    },
    {
     "name": "stdout",
     "output_type": "stream",
     "text": [
      "\n"
     ]
    },
    {
     "data": {
      "application/vnd.jupyter.widget-view+json": {
       "model_id": "79ef5a48acc94b5a9a41eed1b81bb62f",
       "version_major": 2,
       "version_minor": 0
      },
      "text/plain": [
       "HBox(children=(FloatProgress(value=0.0), HTML(value='')))"
      ]
     },
     "metadata": {},
     "output_type": "display_data"
    },
    {
     "name": "stdout",
     "output_type": "stream",
     "text": [
      "\n"
     ]
    },
    {
     "data": {
      "application/vnd.jupyter.widget-view+json": {
       "model_id": "b6aedb538b2c468997d624cafa99f4d7",
       "version_major": 2,
       "version_minor": 0
      },
      "text/plain": [
       "HBox(children=(FloatProgress(value=0.0), HTML(value='')))"
      ]
     },
     "metadata": {},
     "output_type": "display_data"
    },
    {
     "name": "stdout",
     "output_type": "stream",
     "text": [
      "\n"
     ]
    },
    {
     "data": {
      "application/vnd.jupyter.widget-view+json": {
       "model_id": "74b7867f9b734b6c86f75a8b7647fd68",
       "version_major": 2,
       "version_minor": 0
      },
      "text/plain": [
       "HBox(children=(FloatProgress(value=0.0), HTML(value='')))"
      ]
     },
     "metadata": {},
     "output_type": "display_data"
    },
    {
     "name": "stdout",
     "output_type": "stream",
     "text": [
      "\n"
     ]
    },
    {
     "data": {
      "application/vnd.jupyter.widget-view+json": {
       "model_id": "32258105d6c9425b9857e8651bed9a6a",
       "version_major": 2,
       "version_minor": 0
      },
      "text/plain": [
       "HBox(children=(FloatProgress(value=0.0), HTML(value='')))"
      ]
     },
     "metadata": {},
     "output_type": "display_data"
    },
    {
     "name": "stdout",
     "output_type": "stream",
     "text": [
      "\n"
     ]
    },
    {
     "data": {
      "application/vnd.jupyter.widget-view+json": {
       "model_id": "10609f0315ad412b92e24c2629bcb9bb",
       "version_major": 2,
       "version_minor": 0
      },
      "text/plain": [
       "HBox(children=(FloatProgress(value=0.0), HTML(value='')))"
      ]
     },
     "metadata": {},
     "output_type": "display_data"
    },
    {
     "name": "stdout",
     "output_type": "stream",
     "text": [
      "\n"
     ]
    },
    {
     "data": {
      "application/vnd.jupyter.widget-view+json": {
       "model_id": "bb12866cadc74ded80c1051ecd3cc679",
       "version_major": 2,
       "version_minor": 0
      },
      "text/plain": [
       "HBox(children=(FloatProgress(value=0.0), HTML(value='')))"
      ]
     },
     "metadata": {},
     "output_type": "display_data"
    },
    {
     "name": "stdout",
     "output_type": "stream",
     "text": [
      "\n"
     ]
    },
    {
     "data": {
      "application/vnd.jupyter.widget-view+json": {
       "model_id": "4bd55a0df24a4e23ae913ea56ea15bec",
       "version_major": 2,
       "version_minor": 0
      },
      "text/plain": [
       "HBox(children=(FloatProgress(value=0.0), HTML(value='')))"
      ]
     },
     "metadata": {},
     "output_type": "display_data"
    },
    {
     "name": "stdout",
     "output_type": "stream",
     "text": [
      "\n"
     ]
    },
    {
     "data": {
      "application/vnd.jupyter.widget-view+json": {
       "model_id": "e7f49cee448045f7b6f2ba9209763a05",
       "version_major": 2,
       "version_minor": 0
      },
      "text/plain": [
       "HBox(children=(FloatProgress(value=0.0), HTML(value='')))"
      ]
     },
     "metadata": {},
     "output_type": "display_data"
    },
    {
     "name": "stdout",
     "output_type": "stream",
     "text": [
      "\n"
     ]
    },
    {
     "data": {
      "application/vnd.jupyter.widget-view+json": {
       "model_id": "50d0b85835ba4e278276f9b93ce95de0",
       "version_major": 2,
       "version_minor": 0
      },
      "text/plain": [
       "HBox(children=(FloatProgress(value=0.0), HTML(value='')))"
      ]
     },
     "metadata": {},
     "output_type": "display_data"
    },
    {
     "name": "stdout",
     "output_type": "stream",
     "text": [
      "\n"
     ]
    },
    {
     "data": {
      "application/vnd.jupyter.widget-view+json": {
       "model_id": "a0a8826245c843c5aca42ee7c4481cd6",
       "version_major": 2,
       "version_minor": 0
      },
      "text/plain": [
       "HBox(children=(FloatProgress(value=0.0), HTML(value='')))"
      ]
     },
     "metadata": {},
     "output_type": "display_data"
    },
    {
     "name": "stdout",
     "output_type": "stream",
     "text": [
      "\n"
     ]
    },
    {
     "data": {
      "application/vnd.jupyter.widget-view+json": {
       "model_id": "43710c708b9d4b03acadf0f14bead1a6",
       "version_major": 2,
       "version_minor": 0
      },
      "text/plain": [
       "HBox(children=(FloatProgress(value=0.0), HTML(value='')))"
      ]
     },
     "metadata": {},
     "output_type": "display_data"
    },
    {
     "name": "stdout",
     "output_type": "stream",
     "text": [
      "\n"
     ]
    },
    {
     "data": {
      "application/vnd.jupyter.widget-view+json": {
       "model_id": "d659558601a24a359b31a04185f50bf5",
       "version_major": 2,
       "version_minor": 0
      },
      "text/plain": [
       "HBox(children=(FloatProgress(value=0.0), HTML(value='')))"
      ]
     },
     "metadata": {},
     "output_type": "display_data"
    },
    {
     "name": "stdout",
     "output_type": "stream",
     "text": [
      "\n"
     ]
    },
    {
     "data": {
      "application/vnd.jupyter.widget-view+json": {
       "model_id": "2e3b0268e77248cda3b0946d2019bb0d",
       "version_major": 2,
       "version_minor": 0
      },
      "text/plain": [
       "HBox(children=(FloatProgress(value=0.0), HTML(value='')))"
      ]
     },
     "metadata": {},
     "output_type": "display_data"
    },
    {
     "name": "stdout",
     "output_type": "stream",
     "text": [
      "\n"
     ]
    },
    {
     "data": {
      "application/vnd.jupyter.widget-view+json": {
       "model_id": "e3fc362181ca4f2d8116fd1a6b501b8c",
       "version_major": 2,
       "version_minor": 0
      },
      "text/plain": [
       "HBox(children=(FloatProgress(value=0.0), HTML(value='')))"
      ]
     },
     "metadata": {},
     "output_type": "display_data"
    },
    {
     "name": "stdout",
     "output_type": "stream",
     "text": [
      "\n"
     ]
    },
    {
     "data": {
      "application/vnd.jupyter.widget-view+json": {
       "model_id": "7c575666b3b04a0c9d24d212b836ffbd",
       "version_major": 2,
       "version_minor": 0
      },
      "text/plain": [
       "HBox(children=(FloatProgress(value=0.0), HTML(value='')))"
      ]
     },
     "metadata": {},
     "output_type": "display_data"
    },
    {
     "name": "stdout",
     "output_type": "stream",
     "text": [
      "\n"
     ]
    },
    {
     "data": {
      "application/vnd.jupyter.widget-view+json": {
       "model_id": "8635dd6b697f49b88e4c430d22359817",
       "version_major": 2,
       "version_minor": 0
      },
      "text/plain": [
       "HBox(children=(FloatProgress(value=0.0), HTML(value='')))"
      ]
     },
     "metadata": {},
     "output_type": "display_data"
    },
    {
     "name": "stdout",
     "output_type": "stream",
     "text": [
      "\n"
     ]
    },
    {
     "data": {
      "application/vnd.jupyter.widget-view+json": {
       "model_id": "9b9e1c00084b43bc80b4792f6ee9c3c3",
       "version_major": 2,
       "version_minor": 0
      },
      "text/plain": [
       "HBox(children=(FloatProgress(value=0.0), HTML(value='')))"
      ]
     },
     "metadata": {},
     "output_type": "display_data"
    },
    {
     "name": "stdout",
     "output_type": "stream",
     "text": [
      "\n"
     ]
    },
    {
     "data": {
      "application/vnd.jupyter.widget-view+json": {
       "model_id": "7614589da1d246cfaf3a4d6af73f2b0b",
       "version_major": 2,
       "version_minor": 0
      },
      "text/plain": [
       "HBox(children=(FloatProgress(value=0.0), HTML(value='')))"
      ]
     },
     "metadata": {},
     "output_type": "display_data"
    },
    {
     "name": "stdout",
     "output_type": "stream",
     "text": [
      "\n"
     ]
    },
    {
     "data": {
      "application/vnd.jupyter.widget-view+json": {
       "model_id": "b5868ca8411a4cfc8ecea6d879f3195d",
       "version_major": 2,
       "version_minor": 0
      },
      "text/plain": [
       "HBox(children=(FloatProgress(value=0.0), HTML(value='')))"
      ]
     },
     "metadata": {},
     "output_type": "display_data"
    },
    {
     "name": "stdout",
     "output_type": "stream",
     "text": [
      "\n"
     ]
    },
    {
     "data": {
      "application/vnd.jupyter.widget-view+json": {
       "model_id": "21107eb361bb4ee7b75220b1cf06fe66",
       "version_major": 2,
       "version_minor": 0
      },
      "text/plain": [
       "HBox(children=(FloatProgress(value=0.0), HTML(value='')))"
      ]
     },
     "metadata": {},
     "output_type": "display_data"
    },
    {
     "name": "stdout",
     "output_type": "stream",
     "text": [
      "\n"
     ]
    },
    {
     "data": {
      "application/vnd.jupyter.widget-view+json": {
       "model_id": "fa261af7dac94e22a9494465a34031c9",
       "version_major": 2,
       "version_minor": 0
      },
      "text/plain": [
       "HBox(children=(FloatProgress(value=0.0), HTML(value='')))"
      ]
     },
     "metadata": {},
     "output_type": "display_data"
    },
    {
     "name": "stdout",
     "output_type": "stream",
     "text": [
      "\n"
     ]
    },
    {
     "data": {
      "application/vnd.jupyter.widget-view+json": {
       "model_id": "26c9791c1eef41268405b077752553cb",
       "version_major": 2,
       "version_minor": 0
      },
      "text/plain": [
       "HBox(children=(FloatProgress(value=0.0), HTML(value='')))"
      ]
     },
     "metadata": {},
     "output_type": "display_data"
    },
    {
     "name": "stdout",
     "output_type": "stream",
     "text": [
      "\n"
     ]
    },
    {
     "data": {
      "application/vnd.jupyter.widget-view+json": {
       "model_id": "3511757f8cb34f1aa466d7894b2ab46b",
       "version_major": 2,
       "version_minor": 0
      },
      "text/plain": [
       "HBox(children=(FloatProgress(value=0.0), HTML(value='')))"
      ]
     },
     "metadata": {},
     "output_type": "display_data"
    },
    {
     "name": "stdout",
     "output_type": "stream",
     "text": [
      "\n"
     ]
    },
    {
     "data": {
      "application/vnd.jupyter.widget-view+json": {
       "model_id": "ef12e7102dc34149a26afb08d215bc7d",
       "version_major": 2,
       "version_minor": 0
      },
      "text/plain": [
       "HBox(children=(FloatProgress(value=0.0), HTML(value='')))"
      ]
     },
     "metadata": {},
     "output_type": "display_data"
    },
    {
     "name": "stdout",
     "output_type": "stream",
     "text": [
      "\n"
     ]
    },
    {
     "data": {
      "application/vnd.jupyter.widget-view+json": {
       "model_id": "f22f62ead13d4e24a262356767864f33",
       "version_major": 2,
       "version_minor": 0
      },
      "text/plain": [
       "HBox(children=(FloatProgress(value=0.0), HTML(value='')))"
      ]
     },
     "metadata": {},
     "output_type": "display_data"
    },
    {
     "name": "stdout",
     "output_type": "stream",
     "text": [
      "\n"
     ]
    },
    {
     "data": {
      "application/vnd.jupyter.widget-view+json": {
       "model_id": "6acaf00a5c4c430fbe23b27f5cbfd4d1",
       "version_major": 2,
       "version_minor": 0
      },
      "text/plain": [
       "HBox(children=(FloatProgress(value=0.0), HTML(value='')))"
      ]
     },
     "metadata": {},
     "output_type": "display_data"
    },
    {
     "name": "stdout",
     "output_type": "stream",
     "text": [
      "\n"
     ]
    },
    {
     "data": {
      "application/vnd.jupyter.widget-view+json": {
       "model_id": "6235a8db05b047fa87ce82f454da952f",
       "version_major": 2,
       "version_minor": 0
      },
      "text/plain": [
       "HBox(children=(FloatProgress(value=0.0), HTML(value='')))"
      ]
     },
     "metadata": {},
     "output_type": "display_data"
    },
    {
     "name": "stdout",
     "output_type": "stream",
     "text": [
      "\n"
     ]
    },
    {
     "data": {
      "application/vnd.jupyter.widget-view+json": {
       "model_id": "00d8cd73960c4b4c8c7e745a738816f1",
       "version_major": 2,
       "version_minor": 0
      },
      "text/plain": [
       "HBox(children=(FloatProgress(value=0.0), HTML(value='')))"
      ]
     },
     "metadata": {},
     "output_type": "display_data"
    },
    {
     "name": "stdout",
     "output_type": "stream",
     "text": [
      "\n"
     ]
    },
    {
     "data": {
      "application/vnd.jupyter.widget-view+json": {
       "model_id": "87c445e6dff44c61b3ee08570330346b",
       "version_major": 2,
       "version_minor": 0
      },
      "text/plain": [
       "HBox(children=(FloatProgress(value=0.0), HTML(value='')))"
      ]
     },
     "metadata": {},
     "output_type": "display_data"
    },
    {
     "name": "stdout",
     "output_type": "stream",
     "text": [
      "\n"
     ]
    },
    {
     "data": {
      "application/vnd.jupyter.widget-view+json": {
       "model_id": "8b7818a7b0de4ed58b74afdca61f8711",
       "version_major": 2,
       "version_minor": 0
      },
      "text/plain": [
       "HBox(children=(FloatProgress(value=0.0), HTML(value='')))"
      ]
     },
     "metadata": {},
     "output_type": "display_data"
    },
    {
     "name": "stdout",
     "output_type": "stream",
     "text": [
      "\n"
     ]
    },
    {
     "data": {
      "application/vnd.jupyter.widget-view+json": {
       "model_id": "5d9b4a40bb034696ba4b23ce86e0c0ee",
       "version_major": 2,
       "version_minor": 0
      },
      "text/plain": [
       "HBox(children=(FloatProgress(value=0.0), HTML(value='')))"
      ]
     },
     "metadata": {},
     "output_type": "display_data"
    },
    {
     "name": "stdout",
     "output_type": "stream",
     "text": [
      "\n"
     ]
    },
    {
     "data": {
      "application/vnd.jupyter.widget-view+json": {
       "model_id": "cd43054e6c7e4c6da8e0b74e263de29d",
       "version_major": 2,
       "version_minor": 0
      },
      "text/plain": [
       "HBox(children=(FloatProgress(value=0.0), HTML(value='')))"
      ]
     },
     "metadata": {},
     "output_type": "display_data"
    },
    {
     "name": "stdout",
     "output_type": "stream",
     "text": [
      "\n"
     ]
    },
    {
     "data": {
      "application/vnd.jupyter.widget-view+json": {
       "model_id": "8ce2f5a5e2f7427db019daa0fbc87e7a",
       "version_major": 2,
       "version_minor": 0
      },
      "text/plain": [
       "HBox(children=(FloatProgress(value=0.0), HTML(value='')))"
      ]
     },
     "metadata": {},
     "output_type": "display_data"
    },
    {
     "name": "stdout",
     "output_type": "stream",
     "text": [
      "\n"
     ]
    },
    {
     "data": {
      "application/vnd.jupyter.widget-view+json": {
       "model_id": "66e63e20eb924333a51c5aad4c0a709e",
       "version_major": 2,
       "version_minor": 0
      },
      "text/plain": [
       "HBox(children=(FloatProgress(value=0.0), HTML(value='')))"
      ]
     },
     "metadata": {},
     "output_type": "display_data"
    },
    {
     "name": "stdout",
     "output_type": "stream",
     "text": [
      "\n"
     ]
    },
    {
     "data": {
      "application/vnd.jupyter.widget-view+json": {
       "model_id": "b98aa06d1acd4e5f855e0ceb95019740",
       "version_major": 2,
       "version_minor": 0
      },
      "text/plain": [
       "HBox(children=(FloatProgress(value=0.0), HTML(value='')))"
      ]
     },
     "metadata": {},
     "output_type": "display_data"
    },
    {
     "name": "stdout",
     "output_type": "stream",
     "text": [
      "\n"
     ]
    },
    {
     "data": {
      "application/vnd.jupyter.widget-view+json": {
       "model_id": "38c7fc0553924756a2beba076986e0e7",
       "version_major": 2,
       "version_minor": 0
      },
      "text/plain": [
       "HBox(children=(FloatProgress(value=0.0), HTML(value='')))"
      ]
     },
     "metadata": {},
     "output_type": "display_data"
    },
    {
     "name": "stdout",
     "output_type": "stream",
     "text": [
      "\n"
     ]
    },
    {
     "data": {
      "application/vnd.jupyter.widget-view+json": {
       "model_id": "c121b5bcc64a4934a57f45ab6a479b6d",
       "version_major": 2,
       "version_minor": 0
      },
      "text/plain": [
       "HBox(children=(FloatProgress(value=0.0), HTML(value='')))"
      ]
     },
     "metadata": {},
     "output_type": "display_data"
    },
    {
     "name": "stdout",
     "output_type": "stream",
     "text": [
      "\n"
     ]
    },
    {
     "data": {
      "application/vnd.jupyter.widget-view+json": {
       "model_id": "59f89180c964419ea907df7a6f209408",
       "version_major": 2,
       "version_minor": 0
      },
      "text/plain": [
       "HBox(children=(FloatProgress(value=0.0), HTML(value='')))"
      ]
     },
     "metadata": {},
     "output_type": "display_data"
    },
    {
     "name": "stdout",
     "output_type": "stream",
     "text": [
      "\n"
     ]
    },
    {
     "data": {
      "application/vnd.jupyter.widget-view+json": {
       "model_id": "c7e31cb039b84aefb6a8a7de1aaa948b",
       "version_major": 2,
       "version_minor": 0
      },
      "text/plain": [
       "HBox(children=(FloatProgress(value=0.0), HTML(value='')))"
      ]
     },
     "metadata": {},
     "output_type": "display_data"
    },
    {
     "name": "stdout",
     "output_type": "stream",
     "text": [
      "\n"
     ]
    },
    {
     "data": {
      "application/vnd.jupyter.widget-view+json": {
       "model_id": "37ec843f95c148c5bf18bb5ec35dd205",
       "version_major": 2,
       "version_minor": 0
      },
      "text/plain": [
       "HBox(children=(FloatProgress(value=0.0), HTML(value='')))"
      ]
     },
     "metadata": {},
     "output_type": "display_data"
    },
    {
     "name": "stdout",
     "output_type": "stream",
     "text": [
      "\n"
     ]
    },
    {
     "data": {
      "application/vnd.jupyter.widget-view+json": {
       "model_id": "3b7d2ed12a5b40b28d070b5dcb4d6114",
       "version_major": 2,
       "version_minor": 0
      },
      "text/plain": [
       "HBox(children=(FloatProgress(value=0.0), HTML(value='')))"
      ]
     },
     "metadata": {},
     "output_type": "display_data"
    },
    {
     "name": "stdout",
     "output_type": "stream",
     "text": [
      "\n"
     ]
    },
    {
     "data": {
      "application/vnd.jupyter.widget-view+json": {
       "model_id": "03cbeb8f7cb14dc2b4d7581f170b6f08",
       "version_major": 2,
       "version_minor": 0
      },
      "text/plain": [
       "HBox(children=(FloatProgress(value=0.0), HTML(value='')))"
      ]
     },
     "metadata": {},
     "output_type": "display_data"
    },
    {
     "name": "stdout",
     "output_type": "stream",
     "text": [
      "\n"
     ]
    },
    {
     "data": {
      "application/vnd.jupyter.widget-view+json": {
       "model_id": "7ec3eb505bd64afc8a3e11b95fcb1e51",
       "version_major": 2,
       "version_minor": 0
      },
      "text/plain": [
       "HBox(children=(FloatProgress(value=0.0), HTML(value='')))"
      ]
     },
     "metadata": {},
     "output_type": "display_data"
    },
    {
     "name": "stdout",
     "output_type": "stream",
     "text": [
      "\n"
     ]
    },
    {
     "data": {
      "application/vnd.jupyter.widget-view+json": {
       "model_id": "92af90bb0729403e839c7be3a2b55e11",
       "version_major": 2,
       "version_minor": 0
      },
      "text/plain": [
       "HBox(children=(FloatProgress(value=0.0), HTML(value='')))"
      ]
     },
     "metadata": {},
     "output_type": "display_data"
    },
    {
     "name": "stdout",
     "output_type": "stream",
     "text": [
      "\n"
     ]
    },
    {
     "data": {
      "application/vnd.jupyter.widget-view+json": {
       "model_id": "c68ebb219f2b43439848c3c81c586435",
       "version_major": 2,
       "version_minor": 0
      },
      "text/plain": [
       "HBox(children=(FloatProgress(value=0.0), HTML(value='')))"
      ]
     },
     "metadata": {},
     "output_type": "display_data"
    },
    {
     "name": "stdout",
     "output_type": "stream",
     "text": [
      "\n"
     ]
    },
    {
     "data": {
      "application/vnd.jupyter.widget-view+json": {
       "model_id": "1c84398414974f21aade655c7d1de020",
       "version_major": 2,
       "version_minor": 0
      },
      "text/plain": [
       "HBox(children=(FloatProgress(value=0.0), HTML(value='')))"
      ]
     },
     "metadata": {},
     "output_type": "display_data"
    },
    {
     "name": "stdout",
     "output_type": "stream",
     "text": [
      "\n"
     ]
    },
    {
     "data": {
      "application/vnd.jupyter.widget-view+json": {
       "model_id": "e1fc644f5e0246239413df0ad4ea0384",
       "version_major": 2,
       "version_minor": 0
      },
      "text/plain": [
       "HBox(children=(FloatProgress(value=0.0), HTML(value='')))"
      ]
     },
     "metadata": {},
     "output_type": "display_data"
    },
    {
     "name": "stdout",
     "output_type": "stream",
     "text": [
      "\n"
     ]
    },
    {
     "data": {
      "application/vnd.jupyter.widget-view+json": {
       "model_id": "02480df2c30d40cd9ee4552964b664d4",
       "version_major": 2,
       "version_minor": 0
      },
      "text/plain": [
       "HBox(children=(FloatProgress(value=0.0), HTML(value='')))"
      ]
     },
     "metadata": {},
     "output_type": "display_data"
    },
    {
     "name": "stdout",
     "output_type": "stream",
     "text": [
      "\n"
     ]
    },
    {
     "data": {
      "application/vnd.jupyter.widget-view+json": {
       "model_id": "ea3b4dd0905746aeb30e75b6f86e7439",
       "version_major": 2,
       "version_minor": 0
      },
      "text/plain": [
       "HBox(children=(FloatProgress(value=0.0), HTML(value='')))"
      ]
     },
     "metadata": {},
     "output_type": "display_data"
    },
    {
     "name": "stdout",
     "output_type": "stream",
     "text": [
      "\n"
     ]
    },
    {
     "data": {
      "application/vnd.jupyter.widget-view+json": {
       "model_id": "dbbebc33243449cc8f3fd8b13f46abdf",
       "version_major": 2,
       "version_minor": 0
      },
      "text/plain": [
       "HBox(children=(FloatProgress(value=0.0), HTML(value='')))"
      ]
     },
     "metadata": {},
     "output_type": "display_data"
    },
    {
     "name": "stdout",
     "output_type": "stream",
     "text": [
      "\n"
     ]
    },
    {
     "data": {
      "application/vnd.jupyter.widget-view+json": {
       "model_id": "54014ba6704944b9bc0776a29359dacc",
       "version_major": 2,
       "version_minor": 0
      },
      "text/plain": [
       "HBox(children=(FloatProgress(value=0.0), HTML(value='')))"
      ]
     },
     "metadata": {},
     "output_type": "display_data"
    },
    {
     "name": "stdout",
     "output_type": "stream",
     "text": [
      "\n"
     ]
    },
    {
     "data": {
      "application/vnd.jupyter.widget-view+json": {
       "model_id": "e0da233e5b2b4224bacb7fd30d04a870",
       "version_major": 2,
       "version_minor": 0
      },
      "text/plain": [
       "HBox(children=(FloatProgress(value=0.0), HTML(value='')))"
      ]
     },
     "metadata": {},
     "output_type": "display_data"
    },
    {
     "name": "stdout",
     "output_type": "stream",
     "text": [
      "\n"
     ]
    },
    {
     "data": {
      "application/vnd.jupyter.widget-view+json": {
       "model_id": "67d0371dd98943d88b04e2e8d232adc8",
       "version_major": 2,
       "version_minor": 0
      },
      "text/plain": [
       "HBox(children=(FloatProgress(value=0.0), HTML(value='')))"
      ]
     },
     "metadata": {},
     "output_type": "display_data"
    },
    {
     "name": "stdout",
     "output_type": "stream",
     "text": [
      "\n"
     ]
    },
    {
     "data": {
      "application/vnd.jupyter.widget-view+json": {
       "model_id": "fe468e12b9e14cddb8a65400dd756900",
       "version_major": 2,
       "version_minor": 0
      },
      "text/plain": [
       "HBox(children=(FloatProgress(value=0.0), HTML(value='')))"
      ]
     },
     "metadata": {},
     "output_type": "display_data"
    },
    {
     "name": "stdout",
     "output_type": "stream",
     "text": [
      "\n",
      "\n"
     ]
    }
   ],
   "source": [
    "for i in tqdm.tqdm_notebook(range(100)):\n",
    "    for j in tqdm.notebook.tqdm(range(100)):\n",
    "        a= 4\n",
    "        time.sleep(0.002)\n",
    "        "
   ]
  },
  {
   "cell_type": "code",
   "execution_count": 124,
   "id": "bd303467-daf0-4169-a6ba-5651186775eb",
   "metadata": {},
   "outputs": [
    {
     "data": {
      "application/vnd.jupyter.widget-view+json": {
       "model_id": "703955df031e414ea3b44e23fe09be6f",
       "version_major": 2,
       "version_minor": 0
      },
      "text/plain": [
       "HBox(children=(FloatProgress(value=0.0, max=384.0), HTML(value='')))"
      ]
     },
     "metadata": {},
     "output_type": "display_data"
    },
    {
     "name": "stdout",
     "output_type": "stream",
     "text": [
      "we are on row 383 and column 4663\n"
     ]
    }
   ],
   "source": [
    "for i in tqdm.notebook.tqdm(np.arange(0,np.shape(chunk_of_lfp)[0])):\n",
    "    for j in np.arange(1,np.shape(chunk_of_lfp)[1]):\n",
    "        if np.abs(chunk_of_lfp[i][j] - chunk_of_lfp[i][j-1]) > 100:\n",
    "            print('we are on row '+str(i)+' and column '+str(j),end=\"\\r\")\n",
    "            indexes.append((i,j))"
   ]
  },
  {
   "cell_type": "code",
   "execution_count": 126,
   "id": "ae4ce5cf-5a10-4565-ad04-1d9128ec7ead",
   "metadata": {},
   "outputs": [
    {
     "data": {
      "application/vnd.jupyter.widget-view+json": {
       "model_id": "6169ae68fd53486381e6d8c9dc7c9e4e",
       "version_major": 2,
       "version_minor": 0
      },
      "text/plain": [
       "HBox(children=(FloatProgress(value=0.0, description='Channel Iteration', max=384.0, style=ProgressStyle(descri…"
      ]
     },
     "metadata": {},
     "output_type": "display_data"
    },
    {
     "name": "stdout",
     "output_type": "stream",
     "text": [
      "we are on row 383 and column 4663\n"
     ]
    }
   ],
   "source": [
    "for i in tqdm.notebook.tqdm(np.arange(0,np.shape(chunk_of_lfp)[0]),desc=\"Channel Iteration\"):\n",
    "    for j in np.arange(1,np.shape(chunk_of_lfp)[1]):\n",
    "        if np.abs(chunk_of_lfp[i][j] - chunk_of_lfp[i][j-1]) > 100:\n",
    "            indexes.append((i,j))\n"
   ]
  },
  {
   "cell_type": "markdown",
   "id": "29b3f026-9707-49e6-b628-c4575e707c1c",
   "metadata": {},
   "source": [
    "use a built in:"
   ]
  },
  {
   "cell_type": "code",
   "execution_count": 136,
   "id": "d1a90896-98f7-4485-a07d-7f7a5a644fd5",
   "metadata": {},
   "outputs": [
    {
     "data": {
      "text/plain": [
       "(12657,)"
      ]
     },
     "execution_count": 136,
     "metadata": {},
     "output_type": "execute_result"
    }
   ],
   "source": [
    "np.where(chunk_of_lfp>100)[1].shape"
   ]
  },
  {
   "cell_type": "code",
   "execution_count": 150,
   "id": "2c2f9f56-95af-44e7-af5d-c9cb3509cf5c",
   "metadata": {
    "tags": []
   },
   "outputs": [
    {
     "data": {
      "text/plain": [
       "(140936, 2)"
      ]
     },
     "execution_count": 150,
     "metadata": {},
     "output_type": "execute_result"
    }
   ],
   "source": [
    "np.shape(indexes)"
   ]
  },
  {
   "cell_type": "code",
   "execution_count": 151,
   "id": "44ba6cea-5b03-4ed2-89e6-ace7f57bb05c",
   "metadata": {},
   "outputs": [
    {
     "name": "stdout",
     "output_type": "stream",
     "text": [
      "14.2 ms ± 195 µs per loop (mean ± std. dev. of 7 runs, 100 loops each)\n"
     ]
    }
   ],
   "source": [
    "%%timeit\n",
    "np.where(np.abs(np.diff(chunk_of_lfp,axis=1))>100)[1].shape"
   ]
  },
  {
   "cell_type": "markdown",
   "id": "7bd59099-0fb9-44a9-9f29-12d863aff78c",
   "metadata": {},
   "source": [
    "# Parallel computing\n",
    "`multiprocessing`, `joblib`, `asyncio`  and `dask`"
   ]
  },
  {
   "cell_type": "code",
   "execution_count": 55,
   "id": "62e9f86e-6be1-4d5d-8ec2-7ad3b2dc5c94",
   "metadata": {},
   "outputs": [],
   "source": [
    "#come with standard python\n",
    "import multiprocessing, asyncio"
   ]
  },
  {
   "cell_type": "code",
   "execution_count": 42,
   "id": "f05bcac0-6be0-46b5-9e68-d108ddb51c90",
   "metadata": {
    "collapsed": true,
    "jupyter": {
     "outputs_hidden": true
    },
    "tags": []
   },
   "outputs": [
    {
     "name": "stdout",
     "output_type": "stream",
     "text": [
      "Collecting package metadata (current_repodata.json): done\n",
      "Solving environment: done\n",
      "\n",
      "## Package Plan ##\n",
      "\n",
      "  environment location: /Users/danieljdenman/opt/anaconda3/envs/NRSC7657\n",
      "\n",
      "  added / updated specs:\n",
      "    - dask\n",
      "    - joblib\n",
      "\n",
      "\n",
      "The following packages will be downloaded:\n",
      "\n",
      "    package                    |            build\n",
      "    ---------------------------|-----------------\n",
      "    bokeh-2.3.3                |   py38hecd8cb5_0         5.9 MB\n",
      "    ca-certificates-2021.7.5   |       hecd8cb5_1         113 KB\n",
      "    click-8.0.1                |     pyhd3eb1b0_0          79 KB\n",
      "    cloudpickle-1.6.0          |             py_0          30 KB\n",
      "    cytoolz-0.11.0             |   py38haf1e3a3_0         294 KB\n",
      "    dask-2021.6.2              |     pyhd3eb1b0_0           5 KB\n",
      "    dask-core-2021.6.2         |     pyhd3eb1b0_0         692 KB\n",
      "    distributed-2021.6.2       |   py38hecd8cb5_0         1.1 MB\n",
      "    fsspec-2021.6.0            |     pyhd3eb1b0_0          88 KB\n",
      "    joblib-1.0.1               |     pyhd3eb1b0_0         208 KB\n",
      "    locket-0.2.1               |   py38hecd8cb5_1          10 KB\n",
      "    msgpack-python-1.0.2       |   py38hf7b0b51_1          75 KB\n",
      "    partd-1.2.0                |     pyhd3eb1b0_0          19 KB\n",
      "    psutil-5.8.0               |   py38h9ed2024_1         334 KB\n",
      "    pyyaml-5.4.1               |   py38h9ed2024_1         165 KB\n",
      "    sortedcontainers-2.4.0     |     pyhd3eb1b0_0          26 KB\n",
      "    tblib-1.7.0                |             py_0          16 KB\n",
      "    toolz-0.11.1               |     pyhd3eb1b0_0          46 KB\n",
      "    typing_extensions-3.10.0.0 |     pyh06a4308_0          27 KB\n",
      "    zict-2.0.0                 |     pyhd3eb1b0_0          10 KB\n",
      "    ------------------------------------------------------------\n",
      "                                           Total:         9.1 MB\n",
      "\n",
      "The following NEW packages will be INSTALLED:\n",
      "\n",
      "  bokeh              pkgs/main/osx-64::bokeh-2.3.3-py38hecd8cb5_0\n",
      "  click              pkgs/main/noarch::click-8.0.1-pyhd3eb1b0_0\n",
      "  cloudpickle        pkgs/main/noarch::cloudpickle-1.6.0-py_0\n",
      "  cytoolz            pkgs/main/osx-64::cytoolz-0.11.0-py38haf1e3a3_0\n",
      "  dask               pkgs/main/noarch::dask-2021.6.2-pyhd3eb1b0_0\n",
      "  dask-core          pkgs/main/noarch::dask-core-2021.6.2-pyhd3eb1b0_0\n",
      "  distributed        pkgs/main/osx-64::distributed-2021.6.2-py38hecd8cb5_0\n",
      "  fsspec             pkgs/main/noarch::fsspec-2021.6.0-pyhd3eb1b0_0\n",
      "  heapdict           pkgs/main/noarch::heapdict-1.0.1-py_0\n",
      "  joblib             pkgs/main/noarch::joblib-1.0.1-pyhd3eb1b0_0\n",
      "  locket             pkgs/main/osx-64::locket-0.2.1-py38hecd8cb5_1\n",
      "  msgpack-python     pkgs/main/osx-64::msgpack-python-1.0.2-py38hf7b0b51_1\n",
      "  partd              pkgs/main/noarch::partd-1.2.0-pyhd3eb1b0_0\n",
      "  psutil             pkgs/main/osx-64::psutil-5.8.0-py38h9ed2024_1\n",
      "  pyyaml             pkgs/main/osx-64::pyyaml-5.4.1-py38h9ed2024_1\n",
      "  sortedcontainers   pkgs/main/noarch::sortedcontainers-2.4.0-pyhd3eb1b0_0\n",
      "  tblib              pkgs/main/noarch::tblib-1.7.0-py_0\n",
      "  toolz              pkgs/main/noarch::toolz-0.11.1-pyhd3eb1b0_0\n",
      "  typing_extensions  pkgs/main/noarch::typing_extensions-3.10.0.0-pyh06a4308_0\n",
      "  yaml               pkgs/main/osx-64::yaml-0.2.5-haf1e3a3_0\n",
      "  zict               pkgs/main/noarch::zict-2.0.0-pyhd3eb1b0_0\n",
      "\n",
      "The following packages will be UPDATED:\n",
      "\n",
      "  ca-certificates    conda-forge::ca-certificates-2021.5.3~ --> pkgs/main::ca-certificates-2021.7.5-hecd8cb5_1\n",
      "\n",
      "The following packages will be SUPERSEDED by a higher-priority channel:\n",
      "\n",
      "  certifi            conda-forge::certifi-2021.5.30-py38h5~ --> pkgs/main::certifi-2021.5.30-py38hecd8cb5_0\n",
      "  openssl            conda-forge::openssl-1.1.1k-h0d85af4_0 --> pkgs/main::openssl-1.1.1k-h9ed2024_0\n",
      "\n",
      "\n",
      "\n",
      "Downloading and Extracting Packages\n",
      "dask-2021.6.2        | 5 KB      | ##################################### | 100% \n",
      "bokeh-2.3.3          | 5.9 MB    | ##################################### | 100% \n",
      "click-8.0.1          | 79 KB     | ##################################### | 100% \n",
      "toolz-0.11.1         | 46 KB     | ##################################### | 100% \n",
      "pyyaml-5.4.1         | 165 KB    | ##################################### | 100% \n",
      "psutil-5.8.0         | 334 KB    | ##################################### | 100% \n",
      "locket-0.2.1         | 10 KB     | ##################################### | 100% \n",
      "fsspec-2021.6.0      | 88 KB     | ##################################### | 100% \n",
      "msgpack-python-1.0.2 | 75 KB     | ##################################### | 100% \n",
      "tblib-1.7.0          | 16 KB     | ##################################### | 100% \n",
      "zict-2.0.0           | 10 KB     | ##################################### | 100% \n",
      "cytoolz-0.11.0       | 294 KB    | ##################################### | 100% \n",
      "dask-core-2021.6.2   | 692 KB    | ##################################### | 100% \n",
      "typing_extensions-3. | 27 KB     | ##################################### | 100% \n",
      "joblib-1.0.1         | 208 KB    | ##################################### | 100% \n",
      "cloudpickle-1.6.0    | 30 KB     | ##################################### | 100% \n",
      "ca-certificates-2021 | 113 KB    | ##################################### | 100% \n",
      "partd-1.2.0          | 19 KB     | ##################################### | 100% \n",
      "sortedcontainers-2.4 | 26 KB     | ##################################### | 100% \n",
      "distributed-2021.6.2 | 1.1 MB    | ##################################### | 100% \n",
      "Preparing transaction: done\n",
      "Verifying transaction: done\n",
      "Executing transaction: done\n"
     ]
    }
   ],
   "source": [
    "#need to install\n",
    "!conda install joblib dask -y"
   ]
  },
  {
   "cell_type": "code",
   "execution_count": 56,
   "id": "3c4a99ba-26fc-46fd-8f9b-a5291886bac3",
   "metadata": {},
   "outputs": [],
   "source": [
    "import joblib, dask"
   ]
  },
  {
   "cell_type": "markdown",
   "id": "95c2bcf2-d052-45a9-b1e9-d227af93f3b0",
   "metadata": {},
   "source": [
    "Why so many? <br>\n",
    "In most cases, any one of these packages could be used, and in many cases any one of them would speed up your code. As covered in the slides, each has it's own strengths: \n",
    "- `multiprocessing` and `joblib` are good for embarassingly parallel tasks, which are CPU-limited\n",
    "- `asyncio` is most appropriate for I/O-limited, things that are slowed down by reading or writing from disk \n",
    "- `dask` is also good for CPU-limited; it is a little more tricky to implement than joblib, but has good integration with the packages you would use (`numpy`, `pandas`, `xarray`)\n",
    "<br><br>\n",
    "We go through an example with each one here, to compare them and build some intuition for when they might be useful. \n",
    "**note:** these are note the easiest packages to use; this is largely because of a design choice in python (the GIL) which tries to force things to run one at a time"
   ]
  },
  {
   "cell_type": "markdown",
   "id": "3795b665-ebc5-4c9b-9e58-48c60a51a516",
   "metadata": {},
   "source": [
    "<br>"
   ]
  },
  {
   "cell_type": "markdown",
   "id": "07040da3-1206-4d45-a6b7-e9be9cc81529",
   "metadata": {},
   "source": [
    "`joblib`"
   ]
  },
  {
   "cell_type": "code",
   "execution_count": 71,
   "id": "f81de277-0236-4995-9f50-9d2b0c809571",
   "metadata": {},
   "outputs": [],
   "source": [
    "from joblib import Parallel, delayed"
   ]
  },
  {
   "cell_type": "code",
   "execution_count": 72,
   "id": "c12dc596-203f-4691-a6dc-bdd2738da772",
   "metadata": {},
   "outputs": [],
   "source": [
    "from math import sqrt"
   ]
  },
  {
   "cell_type": "code",
   "execution_count": 102,
   "id": "3fc5d0da-e14b-4865-bda0-ec1742ae7b40",
   "metadata": {},
   "outputs": [
    {
     "name": "stdout",
     "output_type": "stream",
     "text": [
      "3.44 µs ± 182 ns per loop (mean ± std. dev. of 7 runs, 100000 loops each)\n"
     ]
    }
   ],
   "source": [
    "%%timeit\n",
    "[sqrt(i ** 2) for i in range(10)]"
   ]
  },
  {
   "cell_type": "code",
   "execution_count": 103,
   "id": "da5631cf-dbe0-489c-a7b1-0d7b3550b02b",
   "metadata": {},
   "outputs": [
    {
     "name": "stdout",
     "output_type": "stream",
     "text": [
      "5.65 ms ± 167 µs per loop (mean ± std. dev. of 7 runs, 100 loops each)\n"
     ]
    }
   ],
   "source": [
    "%%timeit\n",
    "Parallel(n_jobs=12)(delayed(sqrt)(i ** 2) for i in range(10))"
   ]
  },
  {
   "cell_type": "markdown",
   "id": "594679bb-f4cd-4c10-8bc4-e49128e733ec",
   "metadata": {},
   "source": [
    "Let's try to speed up our finding of peaks in the ephys data<br>\n",
    "as a reminder, we got a chunk of LFP data and it takes this long to do it with a nested loop (we're going to make it a little bigger chunk)"
   ]
  },
  {
   "cell_type": "code",
   "execution_count": 93,
   "id": "36f2452e-62f3-4fe3-ba3f-8549dd92cebd",
   "metadata": {},
   "outputs": [],
   "source": [
    "chunk_of_lfp = lfp_data[:384,5000:15000]"
   ]
  },
  {
   "cell_type": "code",
   "execution_count": 94,
   "id": "3d48e01d-0a38-470c-b786-2f74873a7421",
   "metadata": {},
   "outputs": [
    {
     "name": "stdout",
     "output_type": "stream",
     "text": [
      "CPU times: user 32.3 s, sys: 322 ms, total: 32.7 s\n",
      "Wall time: 32.5 s\n"
     ]
    }
   ],
   "source": [
    "%%time\n",
    "indexes = []\n",
    "#one way to do this would be to iterate over the rows and columns:\n",
    "for i in np.arange(0,np.shape(chunk_of_lfp)[0]):\n",
    "    for j in np.arange(1,np.shape(chunk_of_lfp)[1]):\n",
    "        if np.abs(chunk_of_lfp[i][j] - chunk_of_lfp[i][j-1]) > 100:\n",
    "            indexes.append((i,j))"
   ]
  },
  {
   "cell_type": "markdown",
   "id": "2bddf528-0210-4f77-a5d0-b4bf455e0689",
   "metadata": {},
   "source": [
    "We need to make our own function to pass to any parallel package, and an iterable to iterate over. it will dive the iterable over the \"workers\", have each worker use the function on its bit of the iterable, and collect the results:"
   ]
  },
  {
   "cell_type": "code",
   "execution_count": 95,
   "id": "bf3e07b9-84ca-423d-8946-5dd0d173c846",
   "metadata": {},
   "outputs": [],
   "source": [
    "def find_peaks(channel):\n",
    "#     print(channel)\n",
    "    indexes = []\n",
    "    i=int(channel)\n",
    "#     for i in tqdm.tqdm_notebook(np.arange(0,np.shape(chunk_of_lfp)[0]),desc=\"Channel Iteration\"):\n",
    "    for j in np.arange(1,np.shape(chunk_of_lfp)[1]):\n",
    "        if np.abs(chunk_of_lfp[i][j] - chunk_of_lfp[i][j-1]) > 100:\n",
    "            indexes.append((i,j))\n",
    "#     print(i)\n",
    "    return indexes"
   ]
  },
  {
   "cell_type": "code",
   "execution_count": 98,
   "id": "ee07bd26-d8d2-47e4-9f49-de4c6ea9532e",
   "metadata": {},
   "outputs": [
    {
     "name": "stdout",
     "output_type": "stream",
     "text": [
      "CPU times: user 254 ms, sys: 19.2 ms, total: 273 ms\n",
      "Wall time: 2.53 s\n"
     ]
    }
   ],
   "source": [
    "%%time\n",
    "indexes_p = Parallel(n_jobs=10)(delayed(find_peaks)(channel) for channel in np.arange(0,383))"
   ]
  },
  {
   "cell_type": "markdown",
   "id": "99b28338-f5e4-4319-9855-5ce131793cdc",
   "metadata": {},
   "source": [
    "<br>"
   ]
  },
  {
   "cell_type": "markdown",
   "id": "0c2dbad8-31a4-469b-a8a9-87894cf7875e",
   "metadata": {},
   "source": [
    "<br>"
   ]
  },
  {
   "cell_type": "markdown",
   "id": "44ecae24-675d-4a2f-a7a1-b1290d33c522",
   "metadata": {
    "tags": []
   },
   "source": [
    "\n",
    "`asyncio`"
   ]
  },
  {
   "cell_type": "code",
   "execution_count": 1,
   "id": "75b7e6f7-c35b-48ec-bd9e-e3d285384304",
   "metadata": {
    "jupyter": {
     "source_hidden": true
    },
    "tags": []
   },
   "outputs": [],
   "source": [
    "import asyncio"
   ]
  },
  {
   "cell_type": "code",
   "execution_count": 10,
   "id": "b717d849-6664-4607-a58b-a5b0c71146d2",
   "metadata": {
    "jupyter": {
     "source_hidden": true
    },
    "tags": []
   },
   "outputs": [],
   "source": [
    "def load():\n",
    "    lfp_data = np.fromfile('/Volumes/DATA5/20210525_c41_ABC_g0/20210525_c41_ABC_g0_t0.imec0.lf.bin',dtype=np.int16)\n",
    "    return lfp_data"
   ]
  },
  {
   "cell_type": "code",
   "execution_count": null,
   "id": "5fc19013-7117-4c78-aefb-6d62db819ce2",
   "metadata": {
    "jupyter": {
     "source_hidden": true
    },
    "tags": []
   },
   "outputs": [],
   "source": [
    "d=asyncio.run(load())"
   ]
  },
  {
   "cell_type": "markdown",
   "id": "60620d35-eacd-4e67-be97-c5eadaab070b",
   "metadata": {},
   "source": [
    "<br>"
   ]
  },
  {
   "cell_type": "markdown",
   "id": "a06fb5c1-ec1f-4ff0-8020-715bdda7361b",
   "metadata": {},
   "source": [
    "<br>"
   ]
  },
  {
   "cell_type": "markdown",
   "id": "e6a6f0e5-6126-4ac7-95d5-0b0e12155d56",
   "metadata": {},
   "source": [
    "`dask`"
   ]
  },
  {
   "cell_type": "code",
   "execution_count": 9,
   "id": "a2c728aa-8016-4398-962c-c5c9b4d5ca3e",
   "metadata": {},
   "outputs": [
    {
     "data": {
      "text/html": [
       "\n",
       "            <div>\n",
       "                <div style=\"\n",
       "                    width: 24px;\n",
       "                    height: 24px;\n",
       "                    background-color: #e1e1e1;\n",
       "                    border: 3px solid #9D9D9D;\n",
       "                    border-radius: 5px;\n",
       "                    position: absolute;\"> </div>\n",
       "                <div style=\"margin-left: 48px;\">\n",
       "                    <h3 style=\"margin-bottom: 0px;\">Client</h3>\n",
       "                    <p style=\"color: #9D9D9D; margin-bottom: 0px;\">Client-b3488566-e0d6-11eb-8436-acde48001122</p>\n",
       "                    <table style=\"width: 100%; text-align: left;\">\n",
       "                    \n",
       "                <tr>\n",
       "                    <td style=\"text-align: left;\"><strong>Connection method:</strong> Cluster object</td>\n",
       "                    <td style=\"text-align: left;\"><strong>Cluster type:</strong> LocalCluster</td>\n",
       "                </tr>\n",
       "                \n",
       "                <tr>\n",
       "                    <td style=\"text-align: left;\">\n",
       "                        <strong>Dashboard: </strong>\n",
       "                        <a href=\"http://10.33.237.12:8787/status\">http://10.33.237.12:8787/status</a>\n",
       "                    </td>\n",
       "                    <td style=\"text-align: left;\"></td>\n",
       "                </tr>\n",
       "                \n",
       "                    </table>\n",
       "                    \n",
       "                <details>\n",
       "                <summary style=\"margin-bottom: 20px;\"><h3 style=\"display: inline;\">Cluster Info</h3></summary>\n",
       "                \n",
       "            <div class=\"jp-RenderedHTMLCommon jp-RenderedHTML jp-mod-trusted jp-OutputArea-output\">\n",
       "                <div style=\"\n",
       "                    width: 24px;\n",
       "                    height: 24px;\n",
       "                    background-color: #e1e1e1;\n",
       "                    border: 3px solid #9D9D9D;\n",
       "                    border-radius: 5px;\n",
       "                    position: absolute;\"> </div>\n",
       "                <div style=\"margin-left: 48px;\">\n",
       "                    <h3 style=\"margin-bottom: 0px; margin-top: 0px;\">LocalCluster</h3>\n",
       "                    <p style=\"color: #9D9D9D; margin-bottom: 0px;\">f70eb57b</p>\n",
       "                    <table style=\"width: 100%; text-align: left;\">\n",
       "                    \n",
       "            <tr>\n",
       "                <td style=\"text-align: left;\"><strong>Status:</strong> running</td>\n",
       "                <td style=\"text-align: left;\"><strong>Using processes:</strong> False</td>\n",
       "            </tr>\n",
       "        \n",
       "            <tr>\n",
       "                <td style=\"text-align: left;\">\n",
       "                    <strong>Dashboard:</strong> <a href=\"http://10.33.237.12:8787/status\">http://10.33.237.12:8787/status</a>\n",
       "                </td>\n",
       "                <td style=\"text-align: left;\"><strong>Workers:</strong> 10</td>\n",
       "            </tr>\n",
       "            <tr>\n",
       "                <td style=\"text-align: left;\">\n",
       "                    <strong>Total threads:</strong>\n",
       "                    40\n",
       "                </td>\n",
       "                <td style=\"text-align: left;\">\n",
       "                    <strong>Total memory:</strong>\n",
       "                    18.63 GiB\n",
       "                </td>\n",
       "            </tr>\n",
       "        \n",
       "                    </table>\n",
       "                    <details>\n",
       "                    <summary style=\"margin-bottom: 20px;\"><h3 style=\"display: inline;\">Scheduler Info</h3></summary>\n",
       "                    \n",
       "        <div style=\"\">\n",
       "            \n",
       "            <div>\n",
       "                <div style=\"\n",
       "                    width: 24px;\n",
       "                    height: 24px;\n",
       "                    background-color: #FFF7E5;\n",
       "                    border: 3px solid #FF6132;\n",
       "                    border-radius: 5px;\n",
       "                    position: absolute;\"> </div>\n",
       "                <div style=\"margin-left: 48px;\">\n",
       "                    <h3 style=\"margin-bottom: 0px;\">Scheduler</h3>\n",
       "                    <p style=\"color: #9D9D9D; margin-bottom: 0px;\">Scheduler-a80cfe15-0571-4a13-bfc4-9df1501c4ecf</p>\n",
       "                    <table style=\"width: 100%; text-align: left;\">\n",
       "                        <tr>\n",
       "                            <td style=\"text-align: left;\"><strong>Comm:</strong> inproc://10.33.237.12/33846/1</td>\n",
       "                            <td style=\"text-align: left;\"><strong>Workers:</strong> 10</td>\n",
       "                        </tr>\n",
       "                        <tr>\n",
       "                            <td style=\"text-align: left;\">\n",
       "                                <strong>Dashboard:</strong> <a href=\"http://10.33.237.12:8787/status\">http://10.33.237.12:8787/status</a>\n",
       "                            </td>\n",
       "                            <td style=\"text-align: left;\">\n",
       "                                <strong>Total threads:</strong>\n",
       "                                40\n",
       "                            </td>\n",
       "                        </tr>\n",
       "                        <tr>\n",
       "                            <td style=\"text-align: left;\">\n",
       "                                <strong>Started:</strong>\n",
       "                                Just now\n",
       "                            </td>\n",
       "                            <td style=\"text-align: left;\">\n",
       "                                <strong>Total memory:</strong>\n",
       "                                18.63 GiB\n",
       "                            </td>\n",
       "                        </tr>\n",
       "                    </table>\n",
       "                </div>\n",
       "            </div>\n",
       "        \n",
       "            <details style=\"margin-left: 48px;\">\n",
       "            <summary style=\"margin-bottom: 20px;\"><h3 style=\"display: inline;\">Workers</h3></summary>\n",
       "            \n",
       "            <div style=\"margin-bottom: 20px;\">\n",
       "                <div style=\"width: 24px;\n",
       "                            height: 24px;\n",
       "                            background-color: #DBF5FF;\n",
       "                            border: 3px solid #4CC9FF;\n",
       "                            border-radius: 5px;\n",
       "                            position: absolute;\"> </div>\n",
       "                <div style=\"margin-left: 48px;\">\n",
       "                <details>\n",
       "                    <summary>\n",
       "                        <h4 style=\"margin-bottom: 0px; display: inline;\">Worker: 0</h4>\n",
       "                    </summary>\n",
       "                    <table style=\"width: 100%; text-align: left;\">\n",
       "                        <tr>\n",
       "                            <td style=\"text-align: left;\"><strong>Comm: </strong> inproc://10.33.237.12/33846/6</td>\n",
       "                            <td style=\"text-align: left;\"><strong>Total threads: </strong> 4</td>\n",
       "                        </tr>\n",
       "                        <tr>\n",
       "                            <td style=\"text-align: left;\">\n",
       "                                <strong>Dashboard: </strong>\n",
       "                                <a href=\"http://10.33.237.12:60332/status\">http://10.33.237.12:60332/status</a>\n",
       "                            </td>\n",
       "                            <td style=\"text-align: left;\">\n",
       "                                <strong>Memory: </strong>\n",
       "                                1.86 GiB\n",
       "                            </td>\n",
       "                        </tr>\n",
       "                        <tr>\n",
       "                            <td style=\"text-align: left;\"><strong>Nanny: </strong> None</td>\n",
       "                            <td style=\"text-align: left;\"></td>\n",
       "                        </tr>\n",
       "                        <tr>\n",
       "                            <td colspan=\"2\" style=\"text-align: left;\">\n",
       "                                <strong>Local directory: </strong>\n",
       "                                /Users/danieljdenman/github/NRSC7657/Week5/dask-worker-space/worker-xt5d3w87\n",
       "                            </td>\n",
       "                        </tr>\n",
       "                        \n",
       "                        \n",
       "                    </table>\n",
       "                </details>\n",
       "                </div>\n",
       "            </div>\n",
       "            \n",
       "            <div style=\"margin-bottom: 20px;\">\n",
       "                <div style=\"width: 24px;\n",
       "                            height: 24px;\n",
       "                            background-color: #DBF5FF;\n",
       "                            border: 3px solid #4CC9FF;\n",
       "                            border-radius: 5px;\n",
       "                            position: absolute;\"> </div>\n",
       "                <div style=\"margin-left: 48px;\">\n",
       "                <details>\n",
       "                    <summary>\n",
       "                        <h4 style=\"margin-bottom: 0px; display: inline;\">Worker: 1</h4>\n",
       "                    </summary>\n",
       "                    <table style=\"width: 100%; text-align: left;\">\n",
       "                        <tr>\n",
       "                            <td style=\"text-align: left;\"><strong>Comm: </strong> inproc://10.33.237.12/33846/12</td>\n",
       "                            <td style=\"text-align: left;\"><strong>Total threads: </strong> 4</td>\n",
       "                        </tr>\n",
       "                        <tr>\n",
       "                            <td style=\"text-align: left;\">\n",
       "                                <strong>Dashboard: </strong>\n",
       "                                <a href=\"http://10.33.237.12:60338/status\">http://10.33.237.12:60338/status</a>\n",
       "                            </td>\n",
       "                            <td style=\"text-align: left;\">\n",
       "                                <strong>Memory: </strong>\n",
       "                                1.86 GiB\n",
       "                            </td>\n",
       "                        </tr>\n",
       "                        <tr>\n",
       "                            <td style=\"text-align: left;\"><strong>Nanny: </strong> None</td>\n",
       "                            <td style=\"text-align: left;\"></td>\n",
       "                        </tr>\n",
       "                        <tr>\n",
       "                            <td colspan=\"2\" style=\"text-align: left;\">\n",
       "                                <strong>Local directory: </strong>\n",
       "                                /Users/danieljdenman/github/NRSC7657/Week5/dask-worker-space/worker-p7jdq8vq\n",
       "                            </td>\n",
       "                        </tr>\n",
       "                        \n",
       "                        \n",
       "                    </table>\n",
       "                </details>\n",
       "                </div>\n",
       "            </div>\n",
       "            \n",
       "            <div style=\"margin-bottom: 20px;\">\n",
       "                <div style=\"width: 24px;\n",
       "                            height: 24px;\n",
       "                            background-color: #DBF5FF;\n",
       "                            border: 3px solid #4CC9FF;\n",
       "                            border-radius: 5px;\n",
       "                            position: absolute;\"> </div>\n",
       "                <div style=\"margin-left: 48px;\">\n",
       "                <details>\n",
       "                    <summary>\n",
       "                        <h4 style=\"margin-bottom: 0px; display: inline;\">Worker: 2</h4>\n",
       "                    </summary>\n",
       "                    <table style=\"width: 100%; text-align: left;\">\n",
       "                        <tr>\n",
       "                            <td style=\"text-align: left;\"><strong>Comm: </strong> inproc://10.33.237.12/33846/5</td>\n",
       "                            <td style=\"text-align: left;\"><strong>Total threads: </strong> 4</td>\n",
       "                        </tr>\n",
       "                        <tr>\n",
       "                            <td style=\"text-align: left;\">\n",
       "                                <strong>Dashboard: </strong>\n",
       "                                <a href=\"http://10.33.237.12:60331/status\">http://10.33.237.12:60331/status</a>\n",
       "                            </td>\n",
       "                            <td style=\"text-align: left;\">\n",
       "                                <strong>Memory: </strong>\n",
       "                                1.86 GiB\n",
       "                            </td>\n",
       "                        </tr>\n",
       "                        <tr>\n",
       "                            <td style=\"text-align: left;\"><strong>Nanny: </strong> None</td>\n",
       "                            <td style=\"text-align: left;\"></td>\n",
       "                        </tr>\n",
       "                        <tr>\n",
       "                            <td colspan=\"2\" style=\"text-align: left;\">\n",
       "                                <strong>Local directory: </strong>\n",
       "                                /Users/danieljdenman/github/NRSC7657/Week5/dask-worker-space/worker-dyyya59r\n",
       "                            </td>\n",
       "                        </tr>\n",
       "                        \n",
       "                        \n",
       "                    </table>\n",
       "                </details>\n",
       "                </div>\n",
       "            </div>\n",
       "            \n",
       "            <div style=\"margin-bottom: 20px;\">\n",
       "                <div style=\"width: 24px;\n",
       "                            height: 24px;\n",
       "                            background-color: #DBF5FF;\n",
       "                            border: 3px solid #4CC9FF;\n",
       "                            border-radius: 5px;\n",
       "                            position: absolute;\"> </div>\n",
       "                <div style=\"margin-left: 48px;\">\n",
       "                <details>\n",
       "                    <summary>\n",
       "                        <h4 style=\"margin-bottom: 0px; display: inline;\">Worker: 3</h4>\n",
       "                    </summary>\n",
       "                    <table style=\"width: 100%; text-align: left;\">\n",
       "                        <tr>\n",
       "                            <td style=\"text-align: left;\"><strong>Comm: </strong> inproc://10.33.237.12/33846/11</td>\n",
       "                            <td style=\"text-align: left;\"><strong>Total threads: </strong> 4</td>\n",
       "                        </tr>\n",
       "                        <tr>\n",
       "                            <td style=\"text-align: left;\">\n",
       "                                <strong>Dashboard: </strong>\n",
       "                                <a href=\"http://10.33.237.12:60337/status\">http://10.33.237.12:60337/status</a>\n",
       "                            </td>\n",
       "                            <td style=\"text-align: left;\">\n",
       "                                <strong>Memory: </strong>\n",
       "                                1.86 GiB\n",
       "                            </td>\n",
       "                        </tr>\n",
       "                        <tr>\n",
       "                            <td style=\"text-align: left;\"><strong>Nanny: </strong> None</td>\n",
       "                            <td style=\"text-align: left;\"></td>\n",
       "                        </tr>\n",
       "                        <tr>\n",
       "                            <td colspan=\"2\" style=\"text-align: left;\">\n",
       "                                <strong>Local directory: </strong>\n",
       "                                /Users/danieljdenman/github/NRSC7657/Week5/dask-worker-space/worker-poqz209j\n",
       "                            </td>\n",
       "                        </tr>\n",
       "                        \n",
       "                        \n",
       "                    </table>\n",
       "                </details>\n",
       "                </div>\n",
       "            </div>\n",
       "            \n",
       "            <div style=\"margin-bottom: 20px;\">\n",
       "                <div style=\"width: 24px;\n",
       "                            height: 24px;\n",
       "                            background-color: #DBF5FF;\n",
       "                            border: 3px solid #4CC9FF;\n",
       "                            border-radius: 5px;\n",
       "                            position: absolute;\"> </div>\n",
       "                <div style=\"margin-left: 48px;\">\n",
       "                <details>\n",
       "                    <summary>\n",
       "                        <h4 style=\"margin-bottom: 0px; display: inline;\">Worker: 4</h4>\n",
       "                    </summary>\n",
       "                    <table style=\"width: 100%; text-align: left;\">\n",
       "                        <tr>\n",
       "                            <td style=\"text-align: left;\"><strong>Comm: </strong> inproc://10.33.237.12/33846/8</td>\n",
       "                            <td style=\"text-align: left;\"><strong>Total threads: </strong> 4</td>\n",
       "                        </tr>\n",
       "                        <tr>\n",
       "                            <td style=\"text-align: left;\">\n",
       "                                <strong>Dashboard: </strong>\n",
       "                                <a href=\"http://10.33.237.12:60334/status\">http://10.33.237.12:60334/status</a>\n",
       "                            </td>\n",
       "                            <td style=\"text-align: left;\">\n",
       "                                <strong>Memory: </strong>\n",
       "                                1.86 GiB\n",
       "                            </td>\n",
       "                        </tr>\n",
       "                        <tr>\n",
       "                            <td style=\"text-align: left;\"><strong>Nanny: </strong> None</td>\n",
       "                            <td style=\"text-align: left;\"></td>\n",
       "                        </tr>\n",
       "                        <tr>\n",
       "                            <td colspan=\"2\" style=\"text-align: left;\">\n",
       "                                <strong>Local directory: </strong>\n",
       "                                /Users/danieljdenman/github/NRSC7657/Week5/dask-worker-space/worker-yaoqc6qi\n",
       "                            </td>\n",
       "                        </tr>\n",
       "                        \n",
       "                        \n",
       "                    </table>\n",
       "                </details>\n",
       "                </div>\n",
       "            </div>\n",
       "            \n",
       "            <div style=\"margin-bottom: 20px;\">\n",
       "                <div style=\"width: 24px;\n",
       "                            height: 24px;\n",
       "                            background-color: #DBF5FF;\n",
       "                            border: 3px solid #4CC9FF;\n",
       "                            border-radius: 5px;\n",
       "                            position: absolute;\"> </div>\n",
       "                <div style=\"margin-left: 48px;\">\n",
       "                <details>\n",
       "                    <summary>\n",
       "                        <h4 style=\"margin-bottom: 0px; display: inline;\">Worker: 5</h4>\n",
       "                    </summary>\n",
       "                    <table style=\"width: 100%; text-align: left;\">\n",
       "                        <tr>\n",
       "                            <td style=\"text-align: left;\"><strong>Comm: </strong> inproc://10.33.237.12/33846/7</td>\n",
       "                            <td style=\"text-align: left;\"><strong>Total threads: </strong> 4</td>\n",
       "                        </tr>\n",
       "                        <tr>\n",
       "                            <td style=\"text-align: left;\">\n",
       "                                <strong>Dashboard: </strong>\n",
       "                                <a href=\"http://10.33.237.12:60333/status\">http://10.33.237.12:60333/status</a>\n",
       "                            </td>\n",
       "                            <td style=\"text-align: left;\">\n",
       "                                <strong>Memory: </strong>\n",
       "                                1.86 GiB\n",
       "                            </td>\n",
       "                        </tr>\n",
       "                        <tr>\n",
       "                            <td style=\"text-align: left;\"><strong>Nanny: </strong> None</td>\n",
       "                            <td style=\"text-align: left;\"></td>\n",
       "                        </tr>\n",
       "                        <tr>\n",
       "                            <td colspan=\"2\" style=\"text-align: left;\">\n",
       "                                <strong>Local directory: </strong>\n",
       "                                /Users/danieljdenman/github/NRSC7657/Week5/dask-worker-space/worker-27jawp8c\n",
       "                            </td>\n",
       "                        </tr>\n",
       "                        \n",
       "                        \n",
       "                    </table>\n",
       "                </details>\n",
       "                </div>\n",
       "            </div>\n",
       "            \n",
       "            <div style=\"margin-bottom: 20px;\">\n",
       "                <div style=\"width: 24px;\n",
       "                            height: 24px;\n",
       "                            background-color: #DBF5FF;\n",
       "                            border: 3px solid #4CC9FF;\n",
       "                            border-radius: 5px;\n",
       "                            position: absolute;\"> </div>\n",
       "                <div style=\"margin-left: 48px;\">\n",
       "                <details>\n",
       "                    <summary>\n",
       "                        <h4 style=\"margin-bottom: 0px; display: inline;\">Worker: 6</h4>\n",
       "                    </summary>\n",
       "                    <table style=\"width: 100%; text-align: left;\">\n",
       "                        <tr>\n",
       "                            <td style=\"text-align: left;\"><strong>Comm: </strong> inproc://10.33.237.12/33846/3</td>\n",
       "                            <td style=\"text-align: left;\"><strong>Total threads: </strong> 4</td>\n",
       "                        </tr>\n",
       "                        <tr>\n",
       "                            <td style=\"text-align: left;\">\n",
       "                                <strong>Dashboard: </strong>\n",
       "                                <a href=\"http://10.33.237.12:60329/status\">http://10.33.237.12:60329/status</a>\n",
       "                            </td>\n",
       "                            <td style=\"text-align: left;\">\n",
       "                                <strong>Memory: </strong>\n",
       "                                1.86 GiB\n",
       "                            </td>\n",
       "                        </tr>\n",
       "                        <tr>\n",
       "                            <td style=\"text-align: left;\"><strong>Nanny: </strong> None</td>\n",
       "                            <td style=\"text-align: left;\"></td>\n",
       "                        </tr>\n",
       "                        <tr>\n",
       "                            <td colspan=\"2\" style=\"text-align: left;\">\n",
       "                                <strong>Local directory: </strong>\n",
       "                                /Users/danieljdenman/github/NRSC7657/Week5/dask-worker-space/worker-d5jcfqdk\n",
       "                            </td>\n",
       "                        </tr>\n",
       "                        \n",
       "                        \n",
       "                    </table>\n",
       "                </details>\n",
       "                </div>\n",
       "            </div>\n",
       "            \n",
       "            <div style=\"margin-bottom: 20px;\">\n",
       "                <div style=\"width: 24px;\n",
       "                            height: 24px;\n",
       "                            background-color: #DBF5FF;\n",
       "                            border: 3px solid #4CC9FF;\n",
       "                            border-radius: 5px;\n",
       "                            position: absolute;\"> </div>\n",
       "                <div style=\"margin-left: 48px;\">\n",
       "                <details>\n",
       "                    <summary>\n",
       "                        <h4 style=\"margin-bottom: 0px; display: inline;\">Worker: 7</h4>\n",
       "                    </summary>\n",
       "                    <table style=\"width: 100%; text-align: left;\">\n",
       "                        <tr>\n",
       "                            <td style=\"text-align: left;\"><strong>Comm: </strong> inproc://10.33.237.12/33846/9</td>\n",
       "                            <td style=\"text-align: left;\"><strong>Total threads: </strong> 4</td>\n",
       "                        </tr>\n",
       "                        <tr>\n",
       "                            <td style=\"text-align: left;\">\n",
       "                                <strong>Dashboard: </strong>\n",
       "                                <a href=\"http://10.33.237.12:60335/status\">http://10.33.237.12:60335/status</a>\n",
       "                            </td>\n",
       "                            <td style=\"text-align: left;\">\n",
       "                                <strong>Memory: </strong>\n",
       "                                1.86 GiB\n",
       "                            </td>\n",
       "                        </tr>\n",
       "                        <tr>\n",
       "                            <td style=\"text-align: left;\"><strong>Nanny: </strong> None</td>\n",
       "                            <td style=\"text-align: left;\"></td>\n",
       "                        </tr>\n",
       "                        <tr>\n",
       "                            <td colspan=\"2\" style=\"text-align: left;\">\n",
       "                                <strong>Local directory: </strong>\n",
       "                                /Users/danieljdenman/github/NRSC7657/Week5/dask-worker-space/worker-8nx8he8j\n",
       "                            </td>\n",
       "                        </tr>\n",
       "                        \n",
       "                        \n",
       "                    </table>\n",
       "                </details>\n",
       "                </div>\n",
       "            </div>\n",
       "            \n",
       "            <div style=\"margin-bottom: 20px;\">\n",
       "                <div style=\"width: 24px;\n",
       "                            height: 24px;\n",
       "                            background-color: #DBF5FF;\n",
       "                            border: 3px solid #4CC9FF;\n",
       "                            border-radius: 5px;\n",
       "                            position: absolute;\"> </div>\n",
       "                <div style=\"margin-left: 48px;\">\n",
       "                <details>\n",
       "                    <summary>\n",
       "                        <h4 style=\"margin-bottom: 0px; display: inline;\">Worker: 8</h4>\n",
       "                    </summary>\n",
       "                    <table style=\"width: 100%; text-align: left;\">\n",
       "                        <tr>\n",
       "                            <td style=\"text-align: left;\"><strong>Comm: </strong> inproc://10.33.237.12/33846/4</td>\n",
       "                            <td style=\"text-align: left;\"><strong>Total threads: </strong> 4</td>\n",
       "                        </tr>\n",
       "                        <tr>\n",
       "                            <td style=\"text-align: left;\">\n",
       "                                <strong>Dashboard: </strong>\n",
       "                                <a href=\"http://10.33.237.12:60330/status\">http://10.33.237.12:60330/status</a>\n",
       "                            </td>\n",
       "                            <td style=\"text-align: left;\">\n",
       "                                <strong>Memory: </strong>\n",
       "                                1.86 GiB\n",
       "                            </td>\n",
       "                        </tr>\n",
       "                        <tr>\n",
       "                            <td style=\"text-align: left;\"><strong>Nanny: </strong> None</td>\n",
       "                            <td style=\"text-align: left;\"></td>\n",
       "                        </tr>\n",
       "                        <tr>\n",
       "                            <td colspan=\"2\" style=\"text-align: left;\">\n",
       "                                <strong>Local directory: </strong>\n",
       "                                /Users/danieljdenman/github/NRSC7657/Week5/dask-worker-space/worker-nt0mehuf\n",
       "                            </td>\n",
       "                        </tr>\n",
       "                        \n",
       "                        \n",
       "                    </table>\n",
       "                </details>\n",
       "                </div>\n",
       "            </div>\n",
       "            \n",
       "            <div style=\"margin-bottom: 20px;\">\n",
       "                <div style=\"width: 24px;\n",
       "                            height: 24px;\n",
       "                            background-color: #DBF5FF;\n",
       "                            border: 3px solid #4CC9FF;\n",
       "                            border-radius: 5px;\n",
       "                            position: absolute;\"> </div>\n",
       "                <div style=\"margin-left: 48px;\">\n",
       "                <details>\n",
       "                    <summary>\n",
       "                        <h4 style=\"margin-bottom: 0px; display: inline;\">Worker: 9</h4>\n",
       "                    </summary>\n",
       "                    <table style=\"width: 100%; text-align: left;\">\n",
       "                        <tr>\n",
       "                            <td style=\"text-align: left;\"><strong>Comm: </strong> inproc://10.33.237.12/33846/10</td>\n",
       "                            <td style=\"text-align: left;\"><strong>Total threads: </strong> 4</td>\n",
       "                        </tr>\n",
       "                        <tr>\n",
       "                            <td style=\"text-align: left;\">\n",
       "                                <strong>Dashboard: </strong>\n",
       "                                <a href=\"http://10.33.237.12:60336/status\">http://10.33.237.12:60336/status</a>\n",
       "                            </td>\n",
       "                            <td style=\"text-align: left;\">\n",
       "                                <strong>Memory: </strong>\n",
       "                                1.86 GiB\n",
       "                            </td>\n",
       "                        </tr>\n",
       "                        <tr>\n",
       "                            <td style=\"text-align: left;\"><strong>Nanny: </strong> None</td>\n",
       "                            <td style=\"text-align: left;\"></td>\n",
       "                        </tr>\n",
       "                        <tr>\n",
       "                            <td colspan=\"2\" style=\"text-align: left;\">\n",
       "                                <strong>Local directory: </strong>\n",
       "                                /Users/danieljdenman/github/NRSC7657/Week5/dask-worker-space/worker-_y7jhnwg\n",
       "                            </td>\n",
       "                        </tr>\n",
       "                        \n",
       "                        \n",
       "                    </table>\n",
       "                </details>\n",
       "                </div>\n",
       "            </div>\n",
       "            \n",
       "            </details>\n",
       "        </div>\n",
       "        \n",
       "                    </details>\n",
       "                </div>\n",
       "            </div>\n",
       "        \n",
       "                </details>\n",
       "                \n",
       "                </div>\n",
       "            </div>\n",
       "        "
      ],
      "text/plain": [
       "<Client: 'inproc://10.33.237.12/33846/1' processes=10 threads=40, memory=18.63 GiB>"
      ]
     },
     "execution_count": 9,
     "metadata": {},
     "output_type": "execute_result"
    }
   ],
   "source": [
    "from dask.distributed import Client, progress\n",
    "client = Client(processes=False, threads_per_worker=4,\n",
    "                n_workers=10, memory_limit='2GB')\n",
    "client"
   ]
  },
  {
   "cell_type": "code",
   "execution_count": 10,
   "id": "bb4c4975-6751-41ab-8fc6-dd43702d9ed4",
   "metadata": {},
   "outputs": [],
   "source": [
    "import dask.array as da"
   ]
  },
  {
   "cell_type": "code",
   "execution_count": 11,
   "id": "3de50140-4fac-48da-933d-9aaf4cf37004",
   "metadata": {},
   "outputs": [],
   "source": [
    "x = da.from_array(chunk_of_lfp,chunks=100)"
   ]
  },
  {
   "cell_type": "code",
   "execution_count": 12,
   "id": "b9ed9dbb-1e20-45ef-b91e-cd0536a7a73b",
   "metadata": {},
   "outputs": [
    {
     "data": {
      "text/html": [
       "<table>\n",
       "<tr>\n",
       "<td>\n",
       "<table>\n",
       "  <thead>\n",
       "    <tr><td> </td><th> Array </th><th> Chunk </th></tr>\n",
       "  </thead>\n",
       "  <tbody>\n",
       "    <tr><th> Bytes </th><td> 3.66 MiB </td> <td> 19.53 kiB </td></tr>\n",
       "    <tr><th> Shape </th><td> (384, 5000) </td> <td> (100, 100) </td></tr>\n",
       "    <tr><th> Count </th><td> 201 Tasks </td><td> 200 Chunks </td></tr>\n",
       "    <tr><th> Type </th><td> int16 </td><td> numpy.ndarray </td></tr>\n",
       "  </tbody>\n",
       "</table>\n",
       "</td>\n",
       "<td>\n",
       "<svg width=\"170\" height=\"87\" style=\"stroke:rgb(0,0,0);stroke-width:1\" >\n",
       "\n",
       "  <!-- Horizontal lines -->\n",
       "  <line x1=\"0\" y1=\"0\" x2=\"120\" y2=\"0\" style=\"stroke-width:2\" />\n",
       "  <line x1=\"0\" y1=\"9\" x2=\"120\" y2=\"9\" />\n",
       "  <line x1=\"0\" y1=\"19\" x2=\"120\" y2=\"19\" />\n",
       "  <line x1=\"0\" y1=\"28\" x2=\"120\" y2=\"28\" />\n",
       "  <line x1=\"0\" y1=\"37\" x2=\"120\" y2=\"37\" style=\"stroke-width:2\" />\n",
       "\n",
       "  <!-- Vertical lines -->\n",
       "  <line x1=\"0\" y1=\"0\" x2=\"0\" y2=\"37\" style=\"stroke-width:2\" />\n",
       "  <line x1=\"4\" y1=\"0\" x2=\"4\" y2=\"37\" />\n",
       "  <line x1=\"12\" y1=\"0\" x2=\"12\" y2=\"37\" />\n",
       "  <line x1=\"16\" y1=\"0\" x2=\"16\" y2=\"37\" />\n",
       "  <line x1=\"24\" y1=\"0\" x2=\"24\" y2=\"37\" />\n",
       "  <line x1=\"31\" y1=\"0\" x2=\"31\" y2=\"37\" />\n",
       "  <line x1=\"36\" y1=\"0\" x2=\"36\" y2=\"37\" />\n",
       "  <line x1=\"43\" y1=\"0\" x2=\"43\" y2=\"37\" />\n",
       "  <line x1=\"50\" y1=\"0\" x2=\"50\" y2=\"37\" />\n",
       "  <line x1=\"55\" y1=\"0\" x2=\"55\" y2=\"37\" />\n",
       "  <line x1=\"62\" y1=\"0\" x2=\"62\" y2=\"37\" />\n",
       "  <line x1=\"67\" y1=\"0\" x2=\"67\" y2=\"37\" />\n",
       "  <line x1=\"74\" y1=\"0\" x2=\"74\" y2=\"37\" />\n",
       "  <line x1=\"81\" y1=\"0\" x2=\"81\" y2=\"37\" />\n",
       "  <line x1=\"86\" y1=\"0\" x2=\"86\" y2=\"37\" />\n",
       "  <line x1=\"93\" y1=\"0\" x2=\"93\" y2=\"37\" />\n",
       "  <line x1=\"100\" y1=\"0\" x2=\"100\" y2=\"37\" />\n",
       "  <line x1=\"105\" y1=\"0\" x2=\"105\" y2=\"37\" />\n",
       "  <line x1=\"112\" y1=\"0\" x2=\"112\" y2=\"37\" />\n",
       "  <line x1=\"120\" y1=\"0\" x2=\"120\" y2=\"37\" style=\"stroke-width:2\" />\n",
       "\n",
       "  <!-- Colored Rectangle -->\n",
       "  <polygon points=\"0.0,0.0 120.0,0.0 120.0,37.087757432105285 0.0,37.087757432105285\" style=\"fill:#8B4903A0;stroke-width:0\"/>\n",
       "\n",
       "  <!-- Text -->\n",
       "  <text x=\"60.000000\" y=\"57.087757\" font-size=\"1.0rem\" font-weight=\"100\" text-anchor=\"middle\" >5000</text>\n",
       "  <text x=\"140.000000\" y=\"18.543879\" font-size=\"1.0rem\" font-weight=\"100\" text-anchor=\"middle\" transform=\"rotate(-90,140.000000,18.543879)\">384</text>\n",
       "</svg>\n",
       "</td>\n",
       "</tr>\n",
       "</table>"
      ],
      "text/plain": [
       "dask.array<array, shape=(384, 5000), dtype=int16, chunksize=(100, 100), chunktype=numpy.ndarray>"
      ]
     },
     "execution_count": 12,
     "metadata": {},
     "output_type": "execute_result"
    }
   ],
   "source": [
    "x"
   ]
  },
  {
   "cell_type": "code",
   "execution_count": 13,
   "id": "d39598ce-d345-4fd3-bea0-47bf42c031b7",
   "metadata": {},
   "outputs": [
    {
     "data": {
      "text/html": [
       "<table>\n",
       "<tr>\n",
       "<td>\n",
       "<table>\n",
       "  <thead>\n",
       "    <tr><td> </td><th> Array </th><th> Chunk </th></tr>\n",
       "  </thead>\n",
       "  <tbody>\n",
       "    <tr><th> Bytes </th><td> unknown </td> <td> unknown </td></tr>\n",
       "    <tr><th> Shape </th><td> (nan,) </td> <td> (nan,) </td></tr>\n",
       "    <tr><th> Count </th><td> 11293 Tasks </td><td> 381 Chunks </td></tr>\n",
       "    <tr><th> Type </th><td> int64 </td><td> numpy.ndarray </td></tr>\n",
       "  </tbody>\n",
       "</table>\n",
       "</td>\n",
       "<td>\n",
       "\n",
       "</td>\n",
       "</tr>\n",
       "</table>"
      ],
      "text/plain": [
       "dask.array<getitem, shape=(nan,), dtype=int64, chunksize=(nan,), chunktype=numpy.ndarray>"
      ]
     },
     "execution_count": 13,
     "metadata": {},
     "output_type": "execute_result"
    }
   ],
   "source": [
    "z = np.where(np.abs(np.diff(x,axis=1))>100)[1]\n",
    "z"
   ]
  },
  {
   "cell_type": "code",
   "execution_count": 17,
   "id": "6e06e42d-8485-4f7c-bc13-6df4d12a511e",
   "metadata": {},
   "outputs": [
    {
     "name": "stdout",
     "output_type": "stream",
     "text": [
      "CPU times: user 3.57 s, sys: 230 ms, total: 3.8 s\n",
      "Wall time: 3.68 s\n"
     ]
    }
   ],
   "source": [
    "%%time\n",
    "indexes_dask = z.compute()"
   ]
  },
  {
   "cell_type": "code",
   "execution_count": 18,
   "id": "0e1c5927-0df8-4ba6-8589-93862a693073",
   "metadata": {},
   "outputs": [
    {
     "data": {
      "text/plain": [
       "(15586,)"
      ]
     },
     "execution_count": 18,
     "metadata": {},
     "output_type": "execute_result"
    }
   ],
   "source": [
    "np.shape(indexes_dask)"
   ]
  },
  {
   "cell_type": "markdown",
   "id": "a580f06e-5fb9-468e-b7e4-e3acbc97db0d",
   "metadata": {},
   "source": [
    "dask with pandas - mostly for really big Seq datasets, in the neuroscience context. would use dask.array for image or ephys data"
   ]
  },
  {
   "cell_type": "code",
   "execution_count": 2,
   "id": "9bf2b09a-8042-4166-b1d2-a73f0dea41d9",
   "metadata": {},
   "outputs": [],
   "source": [
    "df = pd.read_csv('/Volumes/DATA5/20210525_c41_ABC_g0/dansort/cluster_info.tsv',sep='\\t')\n",
    "df = pd.concat([df]*100,ignore_index=True)\n",
    "df = pd.concat([df]*100,ignore_index=True) #make it even bigger\n",
    "df.to_csv('/Users/danieljdenman/github/NRSC7657/Week5/bigdf.csv')"
   ]
  },
  {
   "cell_type": "markdown",
   "id": "ea7fa7cf-0a65-4ee7-bc9f-3e823b05b99d",
   "metadata": {},
   "source": [
    "serially with `pandas` takes a while"
   ]
  },
  {
   "cell_type": "code",
   "execution_count": 3,
   "id": "031d73f1-a9db-4a35-a39a-da31913d2581",
   "metadata": {
    "tags": []
   },
   "outputs": [
    {
     "name": "stdout",
     "output_type": "stream",
     "text": [
      "CPU times: user 274 ms, sys: 155 ms, total: 428 ms\n",
      "Wall time: 423 ms\n"
     ]
    }
   ],
   "source": [
    "%%time\n",
    "df_cell_ids_filter = df[df.Amplitude > 100.].Amplitude"
   ]
  },
  {
   "cell_type": "code",
   "execution_count": 49,
   "id": "e24816bf-508b-402b-a626-a830fe47e4d3",
   "metadata": {},
   "outputs": [],
   "source": [
    "import dask.dataframe as dd"
   ]
  },
  {
   "cell_type": "code",
   "execution_count": 60,
   "id": "90da1af8-30ca-4437-b9e6-8f7fa6a27717",
   "metadata": {},
   "outputs": [
    {
     "data": {
      "text/plain": [
       "(3370000, 11)"
      ]
     },
     "execution_count": 60,
     "metadata": {},
     "output_type": "execute_result"
    }
   ],
   "source": [
    "df.shape"
   ]
  },
  {
   "cell_type": "code",
   "execution_count": 66,
   "id": "7a36d7c4-7a70-4ec8-8cbc-8cd6453893b6",
   "metadata": {},
   "outputs": [],
   "source": [
    "df_d = dd.from_pandas(df,npartitions = 500)"
   ]
  },
  {
   "cell_type": "code",
   "execution_count": 67,
   "id": "aaa76b9e-ab47-4243-96af-16f3f45b1efb",
   "metadata": {},
   "outputs": [],
   "source": [
    "a = df_d[df_d.Amplitude > 100.].Amplitude"
   ]
  },
  {
   "cell_type": "code",
   "execution_count": 68,
   "id": "f2ed7d06-5bc7-4b4b-bdee-9c779d6b3b19",
   "metadata": {},
   "outputs": [
    {
     "name": "stdout",
     "output_type": "stream",
     "text": [
      "CPU times: user 2.86 s, sys: 359 ms, total: 3.22 s\n",
      "Wall time: 2.86 s\n"
     ]
    }
   ],
   "source": [
    "%%time\n",
    "df_cell_ids_filter=a.compute()"
   ]
  },
  {
   "cell_type": "code",
   "execution_count": 71,
   "id": "2ba0a5d0-3203-4a70-9daf-29009c350366",
   "metadata": {},
   "outputs": [
    {
     "data": {
      "text/plain": [
       "(350000,)"
      ]
     },
     "execution_count": 71,
     "metadata": {},
     "output_type": "execute_result"
    }
   ],
   "source": [
    "df_cell_ids_filter.shape"
   ]
  },
  {
   "cell_type": "markdown",
   "id": "8121c4b0-96cd-49c5-91a6-2dd2f8494a52",
   "metadata": {},
   "source": [
    "`multiprocessing`"
   ]
  },
  {
   "cell_type": "code",
   "execution_count": 84,
   "id": "7c27fb44-5f2d-42a9-944c-2cf71d92eef5",
   "metadata": {},
   "outputs": [],
   "source": [
    "def find_peaks(channel):\n",
    "#     print(channel)\n",
    "    indexes = []\n",
    "    i=int(channel)\n",
    "#     for i in tqdm.tqdm_notebook(np.arange(0,np.shape(chunk_of_lfp)[0]),desc=\"Channel Iteration\"):\n",
    "    for j in np.arange(1,np.shape(chunk_of_lfp)[1]):\n",
    "        if np.abs(chunk_of_lfp[i][j] - chunk_of_lfp[i][j-1]) > 100:\n",
    "            indexes.append((i,j))\n",
    "#     print(i)\n",
    "    return indexes"
   ]
  },
  {
   "cell_type": "code",
   "execution_count": 58,
   "id": "2ad04ccd-39ec-4818-ac31-81ba24056cb6",
   "metadata": {},
   "outputs": [
    {
     "name": "stdout",
     "output_type": "stream",
     "text": [
      "Number of cpu :  12\n"
     ]
    }
   ],
   "source": [
    "import multiprocessing as mp\n",
    "num_processes = mp.cpu_count()\n",
    "print(\"Number of cpu : \", num_processes)"
   ]
  },
  {
   "cell_type": "code",
   "execution_count": 59,
   "id": "5568f48a-57d7-4d1c-8864-78e6f5a57ba2",
   "metadata": {},
   "outputs": [],
   "source": [
    "pool = mp.Pool(num_processes)"
   ]
  },
  {
   "cell_type": "code",
   "execution_count": 67,
   "id": "6c73bd00-72bd-415a-b066-4669932b4713",
   "metadata": {},
   "outputs": [
    {
     "name": "stderr",
     "output_type": "stream",
     "text": [
      "\n",
      "KeyboardInterrupt\n",
      "\n"
     ]
    }
   ],
   "source": [
    "a = pool.map(find_peaks,np.arange(0,383))"
   ]
  },
  {
   "cell_type": "code",
   "execution_count": 80,
   "id": "905fef06-832c-40b8-87e4-86e41ffeb1f3",
   "metadata": {
    "tags": []
   },
   "outputs": [
    {
     "ename": "KeyboardInterrupt",
     "evalue": "",
     "output_type": "error",
     "traceback": [
      "\u001b[0;31m---------------------------------------------------------------------------\u001b[0m",
      "\u001b[0;31mKeyboardInterrupt\u001b[0m                         Traceback (most recent call last)",
      "\u001b[0;32m<ipython-input-80-a78cefbf8414>\u001b[0m in \u001b[0;36m<module>\u001b[0;34m\u001b[0m\n\u001b[1;32m      1\u001b[0m \u001b[0;32mif\u001b[0m \u001b[0m__name__\u001b[0m \u001b[0;34m==\u001b[0m  \u001b[0;34m'__main__'\u001b[0m\u001b[0;34m:\u001b[0m\u001b[0;34m\u001b[0m\u001b[0;34m\u001b[0m\u001b[0m\n\u001b[1;32m      2\u001b[0m     \u001b[0mpool\u001b[0m \u001b[0;34m=\u001b[0m \u001b[0mmultiprocessing\u001b[0m\u001b[0;34m.\u001b[0m\u001b[0mPool\u001b[0m\u001b[0;34m(\u001b[0m\u001b[0;34m)\u001b[0m\u001b[0;34m\u001b[0m\u001b[0;34m\u001b[0m\u001b[0m\n\u001b[0;32m----> 3\u001b[0;31m     \u001b[0mresults\u001b[0m \u001b[0;34m=\u001b[0m \u001b[0mpool\u001b[0m\u001b[0;34m.\u001b[0m\u001b[0mmap\u001b[0m\u001b[0;34m(\u001b[0m\u001b[0mfind_peaks\u001b[0m\u001b[0;34m,\u001b[0m \u001b[0mnp\u001b[0m\u001b[0;34m.\u001b[0m\u001b[0marange\u001b[0m\u001b[0;34m(\u001b[0m\u001b[0;36m0\u001b[0m\u001b[0;34m,\u001b[0m\u001b[0;36m383\u001b[0m\u001b[0;34m)\u001b[0m\u001b[0;34m)\u001b[0m\u001b[0;34m\u001b[0m\u001b[0;34m\u001b[0m\u001b[0m\n\u001b[0m\u001b[1;32m      4\u001b[0m     \u001b[0mpool\u001b[0m\u001b[0;34m.\u001b[0m\u001b[0mclose\u001b[0m\u001b[0;34m(\u001b[0m\u001b[0;34m)\u001b[0m\u001b[0;34m\u001b[0m\u001b[0;34m\u001b[0m\u001b[0m\n\u001b[1;32m      5\u001b[0m     \u001b[0mpool\u001b[0m\u001b[0;34m.\u001b[0m\u001b[0mjoin\u001b[0m\u001b[0;34m(\u001b[0m\u001b[0;34m)\u001b[0m\u001b[0;34m\u001b[0m\u001b[0;34m\u001b[0m\u001b[0m\n",
      "\u001b[0;32m~/opt/anaconda3/envs/NRSC7657/lib/python3.8/multiprocessing/pool.py\u001b[0m in \u001b[0;36mmap\u001b[0;34m(self, func, iterable, chunksize)\u001b[0m\n\u001b[1;32m    362\u001b[0m         \u001b[0;32min\u001b[0m \u001b[0ma\u001b[0m \u001b[0mlist\u001b[0m \u001b[0mthat\u001b[0m \u001b[0;32mis\u001b[0m \u001b[0mreturned\u001b[0m\u001b[0;34m.\u001b[0m\u001b[0;34m\u001b[0m\u001b[0;34m\u001b[0m\u001b[0m\n\u001b[1;32m    363\u001b[0m         '''\n\u001b[0;32m--> 364\u001b[0;31m         \u001b[0;32mreturn\u001b[0m \u001b[0mself\u001b[0m\u001b[0;34m.\u001b[0m\u001b[0m_map_async\u001b[0m\u001b[0;34m(\u001b[0m\u001b[0mfunc\u001b[0m\u001b[0;34m,\u001b[0m \u001b[0miterable\u001b[0m\u001b[0;34m,\u001b[0m \u001b[0mmapstar\u001b[0m\u001b[0;34m,\u001b[0m \u001b[0mchunksize\u001b[0m\u001b[0;34m)\u001b[0m\u001b[0;34m.\u001b[0m\u001b[0mget\u001b[0m\u001b[0;34m(\u001b[0m\u001b[0;34m)\u001b[0m\u001b[0;34m\u001b[0m\u001b[0;34m\u001b[0m\u001b[0m\n\u001b[0m\u001b[1;32m    365\u001b[0m \u001b[0;34m\u001b[0m\u001b[0m\n\u001b[1;32m    366\u001b[0m     \u001b[0;32mdef\u001b[0m \u001b[0mstarmap\u001b[0m\u001b[0;34m(\u001b[0m\u001b[0mself\u001b[0m\u001b[0;34m,\u001b[0m \u001b[0mfunc\u001b[0m\u001b[0;34m,\u001b[0m \u001b[0miterable\u001b[0m\u001b[0;34m,\u001b[0m \u001b[0mchunksize\u001b[0m\u001b[0;34m=\u001b[0m\u001b[0;32mNone\u001b[0m\u001b[0;34m)\u001b[0m\u001b[0;34m:\u001b[0m\u001b[0;34m\u001b[0m\u001b[0;34m\u001b[0m\u001b[0m\n",
      "\u001b[0;32m~/opt/anaconda3/envs/NRSC7657/lib/python3.8/multiprocessing/pool.py\u001b[0m in \u001b[0;36mget\u001b[0;34m(self, timeout)\u001b[0m\n\u001b[1;32m    763\u001b[0m \u001b[0;34m\u001b[0m\u001b[0m\n\u001b[1;32m    764\u001b[0m     \u001b[0;32mdef\u001b[0m \u001b[0mget\u001b[0m\u001b[0;34m(\u001b[0m\u001b[0mself\u001b[0m\u001b[0;34m,\u001b[0m \u001b[0mtimeout\u001b[0m\u001b[0;34m=\u001b[0m\u001b[0;32mNone\u001b[0m\u001b[0;34m)\u001b[0m\u001b[0;34m:\u001b[0m\u001b[0;34m\u001b[0m\u001b[0;34m\u001b[0m\u001b[0m\n\u001b[0;32m--> 765\u001b[0;31m         \u001b[0mself\u001b[0m\u001b[0;34m.\u001b[0m\u001b[0mwait\u001b[0m\u001b[0;34m(\u001b[0m\u001b[0mtimeout\u001b[0m\u001b[0;34m)\u001b[0m\u001b[0;34m\u001b[0m\u001b[0;34m\u001b[0m\u001b[0m\n\u001b[0m\u001b[1;32m    766\u001b[0m         \u001b[0;32mif\u001b[0m \u001b[0;32mnot\u001b[0m \u001b[0mself\u001b[0m\u001b[0;34m.\u001b[0m\u001b[0mready\u001b[0m\u001b[0;34m(\u001b[0m\u001b[0;34m)\u001b[0m\u001b[0;34m:\u001b[0m\u001b[0;34m\u001b[0m\u001b[0;34m\u001b[0m\u001b[0m\n\u001b[1;32m    767\u001b[0m             \u001b[0;32mraise\u001b[0m \u001b[0mTimeoutError\u001b[0m\u001b[0;34m\u001b[0m\u001b[0;34m\u001b[0m\u001b[0m\n",
      "\u001b[0;32m~/opt/anaconda3/envs/NRSC7657/lib/python3.8/multiprocessing/pool.py\u001b[0m in \u001b[0;36mwait\u001b[0;34m(self, timeout)\u001b[0m\n\u001b[1;32m    760\u001b[0m \u001b[0;34m\u001b[0m\u001b[0m\n\u001b[1;32m    761\u001b[0m     \u001b[0;32mdef\u001b[0m \u001b[0mwait\u001b[0m\u001b[0;34m(\u001b[0m\u001b[0mself\u001b[0m\u001b[0;34m,\u001b[0m \u001b[0mtimeout\u001b[0m\u001b[0;34m=\u001b[0m\u001b[0;32mNone\u001b[0m\u001b[0;34m)\u001b[0m\u001b[0;34m:\u001b[0m\u001b[0;34m\u001b[0m\u001b[0;34m\u001b[0m\u001b[0m\n\u001b[0;32m--> 762\u001b[0;31m         \u001b[0mself\u001b[0m\u001b[0;34m.\u001b[0m\u001b[0m_event\u001b[0m\u001b[0;34m.\u001b[0m\u001b[0mwait\u001b[0m\u001b[0;34m(\u001b[0m\u001b[0mtimeout\u001b[0m\u001b[0;34m)\u001b[0m\u001b[0;34m\u001b[0m\u001b[0;34m\u001b[0m\u001b[0m\n\u001b[0m\u001b[1;32m    763\u001b[0m \u001b[0;34m\u001b[0m\u001b[0m\n\u001b[1;32m    764\u001b[0m     \u001b[0;32mdef\u001b[0m \u001b[0mget\u001b[0m\u001b[0;34m(\u001b[0m\u001b[0mself\u001b[0m\u001b[0;34m,\u001b[0m \u001b[0mtimeout\u001b[0m\u001b[0;34m=\u001b[0m\u001b[0;32mNone\u001b[0m\u001b[0;34m)\u001b[0m\u001b[0;34m:\u001b[0m\u001b[0;34m\u001b[0m\u001b[0;34m\u001b[0m\u001b[0m\n",
      "\u001b[0;32m~/opt/anaconda3/envs/NRSC7657/lib/python3.8/threading.py\u001b[0m in \u001b[0;36mwait\u001b[0;34m(self, timeout)\u001b[0m\n\u001b[1;32m    556\u001b[0m             \u001b[0msignaled\u001b[0m \u001b[0;34m=\u001b[0m \u001b[0mself\u001b[0m\u001b[0;34m.\u001b[0m\u001b[0m_flag\u001b[0m\u001b[0;34m\u001b[0m\u001b[0;34m\u001b[0m\u001b[0m\n\u001b[1;32m    557\u001b[0m             \u001b[0;32mif\u001b[0m \u001b[0;32mnot\u001b[0m \u001b[0msignaled\u001b[0m\u001b[0;34m:\u001b[0m\u001b[0;34m\u001b[0m\u001b[0;34m\u001b[0m\u001b[0m\n\u001b[0;32m--> 558\u001b[0;31m                 \u001b[0msignaled\u001b[0m \u001b[0;34m=\u001b[0m \u001b[0mself\u001b[0m\u001b[0;34m.\u001b[0m\u001b[0m_cond\u001b[0m\u001b[0;34m.\u001b[0m\u001b[0mwait\u001b[0m\u001b[0;34m(\u001b[0m\u001b[0mtimeout\u001b[0m\u001b[0;34m)\u001b[0m\u001b[0;34m\u001b[0m\u001b[0;34m\u001b[0m\u001b[0m\n\u001b[0m\u001b[1;32m    559\u001b[0m             \u001b[0;32mreturn\u001b[0m \u001b[0msignaled\u001b[0m\u001b[0;34m\u001b[0m\u001b[0;34m\u001b[0m\u001b[0m\n\u001b[1;32m    560\u001b[0m \u001b[0;34m\u001b[0m\u001b[0m\n",
      "\u001b[0;32m~/opt/anaconda3/envs/NRSC7657/lib/python3.8/threading.py\u001b[0m in \u001b[0;36mwait\u001b[0;34m(self, timeout)\u001b[0m\n\u001b[1;32m    300\u001b[0m         \u001b[0;32mtry\u001b[0m\u001b[0;34m:\u001b[0m    \u001b[0;31m# restore state no matter what (e.g., KeyboardInterrupt)\u001b[0m\u001b[0;34m\u001b[0m\u001b[0;34m\u001b[0m\u001b[0m\n\u001b[1;32m    301\u001b[0m             \u001b[0;32mif\u001b[0m \u001b[0mtimeout\u001b[0m \u001b[0;32mis\u001b[0m \u001b[0;32mNone\u001b[0m\u001b[0;34m:\u001b[0m\u001b[0;34m\u001b[0m\u001b[0;34m\u001b[0m\u001b[0m\n\u001b[0;32m--> 302\u001b[0;31m                 \u001b[0mwaiter\u001b[0m\u001b[0;34m.\u001b[0m\u001b[0macquire\u001b[0m\u001b[0;34m(\u001b[0m\u001b[0;34m)\u001b[0m\u001b[0;34m\u001b[0m\u001b[0;34m\u001b[0m\u001b[0m\n\u001b[0m\u001b[1;32m    303\u001b[0m                 \u001b[0mgotit\u001b[0m \u001b[0;34m=\u001b[0m \u001b[0;32mTrue\u001b[0m\u001b[0;34m\u001b[0m\u001b[0;34m\u001b[0m\u001b[0m\n\u001b[1;32m    304\u001b[0m             \u001b[0;32melse\u001b[0m\u001b[0;34m:\u001b[0m\u001b[0;34m\u001b[0m\u001b[0;34m\u001b[0m\u001b[0m\n",
      "\u001b[0;31mKeyboardInterrupt\u001b[0m: "
     ]
    }
   ],
   "source": [
    "if __name__ ==  '__main__': \n",
    "    pool = multiprocessing.Pool()\n",
    "    results = pool.map(find_peaks, np.arange(0,383))\n",
    "    pool.close()\n",
    "    pool.join()\n",
    "    print(results)"
   ]
  },
  {
   "cell_type": "code",
   "execution_count": 65,
   "id": "aacc2536-c8ff-4086-813b-db434906eb9f",
   "metadata": {},
   "outputs": [],
   "source": [
    "import tqdm"
   ]
  }
 ],
 "metadata": {
  "kernelspec": {
   "display_name": "Python 3",
   "language": "python",
   "name": "python3"
  },
  "language_info": {
   "codemirror_mode": {
    "name": "ipython",
    "version": 3
   },
   "file_extension": ".py",
   "mimetype": "text/x-python",
   "name": "python",
   "nbconvert_exporter": "python",
   "pygments_lexer": "ipython3",
   "version": "3.8.10"
  }
 },
 "nbformat": 4,
 "nbformat_minor": 5
}
